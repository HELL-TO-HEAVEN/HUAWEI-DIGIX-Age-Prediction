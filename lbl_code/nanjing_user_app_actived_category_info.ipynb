{
 "cells": [
  {
   "cell_type": "code",
   "execution_count": 1,
   "metadata": {
    "ExecuteTime": {
     "end_time": "2019-08-21T09:43:45.496457Z",
     "start_time": "2019-08-21T09:43:45.486784Z"
    }
   },
   "outputs": [],
   "source": [
    "import numpy as np\n",
    "import pandas as pd\n",
    "import os\n",
    "import lightgbm as lgb\n",
    "from sklearn.model_selection import train_test_split\n",
    "from sklearn.metrics import accuracy_score\n",
    "from multiprocessing import Pool as ThreadPool\n",
    "from datetime import datetime\n",
    "import time\n",
    "from sklearn.preprocessing import LabelEncoder, StandardScaler\n",
    "from sklearn.feature_selection import chi2,SelectKBest\n",
    "from sklearn.utils import shuffle\n",
    "from tqdm import tqdm"
   ]
  },
  {
   "cell_type": "code",
   "execution_count": 2,
   "metadata": {
    "ExecuteTime": {
     "end_time": "2019-08-21T09:43:45.623533Z",
     "start_time": "2019-08-21T09:43:45.617602Z"
    }
   },
   "outputs": [],
   "source": [
    "data_dir='/home/uniml/work/hw/dataset/'\n",
    "temp_save_dir='./temp_data/'\n",
    "age_train_file_path=data_dir+'age_train.csv'\n",
    "age_test_file_path=data_dir+'age_test.csv'\n",
    "app_info_file_path=data_dir+'app_info.csv'\n",
    "user_app_actived_file_path=data_dir+'user_app_actived.csv'\n",
    "user_basic_info_file_path=data_dir+'user_basic_info.csv'\n",
    "user_behavior_info_file_path=data_dir+'user_behavior_info.csv'\n",
    "user_app_usage_file_path=data_dir+'user_app_usage.csv'"
   ]
  },
  {
   "cell_type": "code",
   "execution_count": 3,
   "metadata": {
    "ExecuteTime": {
     "end_time": "2019-08-21T09:43:47.780568Z",
     "start_time": "2019-08-21T09:43:45.796239Z"
    }
   },
   "outputs": [],
   "source": [
    "#用户label数据\n",
    "#在此将对应的label减去1以方便模型操作,后面预测的时候会加回来\n",
    "age_train=pd.read_csv(age_train_file_path,header=None,names=['uId','age_group'])\n",
    "age_train.age_group=age_train.age_group.apply(lambda x:x-1)\n",
    "age_train.age_group=age_train.age_group.astype('category')\n",
    "age_test=pd.read_csv(age_test_file_path,header=None,names=['id'])"
   ]
  },
  {
   "cell_type": "code",
   "execution_count": 4,
   "metadata": {
    "ExecuteTime": {
     "end_time": "2019-08-21T09:43:47.972221Z",
     "start_time": "2019-08-21T09:43:47.785228Z"
    }
   },
   "outputs": [],
   "source": [
    "#App分类数据\n",
    "app_info=pd.read_csv(app_info_file_path,header=None,names=['appId','category'])\n",
    "app_info.category=app_info.category.astype('category')\n",
    "app_category_list=list(app_info.category.unique())"
   ]
  },
  {
   "cell_type": "code",
   "execution_count": 12,
   "metadata": {
    "ExecuteTime": {
     "end_time": "2019-08-21T09:44:09.058654Z",
     "start_time": "2019-08-21T09:43:47.974860Z"
    }
   },
   "outputs": [],
   "source": [
    "#用户app激活文件\n",
    "user_app_actived=pd.read_csv(user_app_actived_file_path,header=None,names=['uId','appId'])"
   ]
  },
  {
   "cell_type": "code",
   "execution_count": 9,
   "metadata": {
    "ExecuteTime": {
     "end_time": "2019-08-21T09:44:09.072040Z",
     "start_time": "2019-08-21T09:44:09.063158Z"
    }
   },
   "outputs": [],
   "source": [
    "#获得热门app的list,根据激活数量进行排序\n",
    "def get_top_app(data):\n",
    "    app_use_count_map=dict()\n",
    "    for index,row in tqdm(data.iterrows()):\n",
    "        app_list=row['appId'].split('#')\n",
    "        for app in app_list:\n",
    "            if app_use_count_map.get(app) is None:\n",
    "                app_use_count_map[app]=0\n",
    "            app_use_count_map[app]+=1\n",
    "    app_use_count_result={\n",
    "        'appId':[],\n",
    "        'count':[]\n",
    "    }\n",
    "    for k,v in  app_use_count_map.items():\n",
    "        app_use_count_result['appId'].append(k)\n",
    "        app_use_count_result['count'].append(v)\n",
    "    pd_app_use_count=pd.DataFrame(app_use_count_result)\n",
    "    pd_app_use_count.to_csv(temp_save_dir+'app_use_count.csv',index=False)\n",
    "    return pd_app_use_count"
   ]
  },
  {
   "cell_type": "code",
   "execution_count": 10,
   "metadata": {
    "ExecuteTime": {
     "end_time": "2019-08-21T09:50:52.341170Z",
     "start_time": "2019-08-21T09:44:09.075037Z"
    }
   },
   "outputs": [
    {
     "name": "stderr",
     "output_type": "stream",
     "text": [
      "4999341it [08:04, 10308.64it/s]\n"
     ]
    }
   ],
   "source": [
    "pd_app_use_count=get_top_app(user_app_actived)"
   ]
  },
  {
   "cell_type": "code",
   "execution_count": 11,
   "metadata": {
    "ExecuteTime": {
     "end_time": "2019-08-20T08:12:11.964300Z",
     "start_time": "2019-08-20T08:12:11.953385Z"
    }
   },
   "outputs": [],
   "source": [
    "#获得热门app的list,根据激活数量进行排序\n",
    "def get_top_app(data):\n",
    "    index,row=data\n",
    "    user_app_category_actived_map=dict()\n",
    "    for app_category_name in app_category_list:\n",
    "        user_app_category_actived_map[app_category_name]=0\n",
    "    app_list=row['appId'].split('#')\n",
    "    user_app_category_list=list(app_info.loc[app_info['appId'].isin(app_list),'category'])\n",
    "    for user_app_category_name in user_app_category_list:\n",
    "        user_app_category_actived_map[user_app_category_name]+=1\n",
    "    \n",
    "    #app数量\n",
    "    user_app_category_actived_map['app_count']=len(app_list)\n",
    "    #app的list\n",
    "#     user_app_category_actived_map['app_list']=app_list\n",
    "    \n",
    "    return user_app_category_actived_map"
   ]
  },
  {
   "cell_type": "code",
   "execution_count": 12,
   "metadata": {
    "ExecuteTime": {
     "end_time": "2019-08-20T08:12:12.870719Z",
     "start_time": "2019-08-20T08:12:12.864441Z"
    }
   },
   "outputs": [],
   "source": [
    "def multiprocess_handle_user_app_category_actived(data):\n",
    "    pool = ThreadPool(18) \n",
    "    result = pool.map(get_top_app, data.iterrows())\n",
    "    pool.close()\n",
    "    pool.join()\n",
    "    return result"
   ]
  },
  {
   "cell_type": "code",
   "execution_count": 13,
   "metadata": {
    "ExecuteTime": {
     "end_time": "2019-08-20T10:17:53.014276Z",
     "start_time": "2019-08-20T08:12:15.054044Z"
    }
   },
   "outputs": [],
   "source": [
    "user_app_actived_to_category_count=multiprocess_handle_user_app_category_actived(user_app_actived)"
   ]
  },
  {
   "cell_type": "code",
   "execution_count": 15,
   "metadata": {
    "ExecuteTime": {
     "end_time": "2019-08-20T10:54:36.021911Z",
     "start_time": "2019-08-20T10:52:32.674697Z"
    }
   },
   "outputs": [],
   "source": [
    "user_app_actived_map={}\n",
    "for app_category in app_category_list:\n",
    "    user_app_actived_map[app_category]=[]\n",
    "user_app_actived_map['app_count']=[]\n",
    "for single_user_app_actived in user_app_actived_to_category_count:\n",
    "    for k,v in single_user_app_actived.items():\n",
    "        user_app_actived_map[k].append(v)"
   ]
  },
  {
   "cell_type": "code",
   "execution_count": 16,
   "metadata": {
    "ExecuteTime": {
     "end_time": "2019-08-20T10:57:38.703819Z",
     "start_time": "2019-08-20T10:57:26.070835Z"
    }
   },
   "outputs": [],
   "source": [
    "pd_user_app_actived=pd.DataFrame(user_app_actived_map,dtype=np.int32)"
   ]
  },
  {
   "cell_type": "code",
   "execution_count": 17,
   "metadata": {
    "ExecuteTime": {
     "end_time": "2019-08-20T10:58:04.511295Z",
     "start_time": "2019-08-20T10:58:03.347538Z"
    }
   },
   "outputs": [],
   "source": [
    "for app_category in app_category_list:\n",
    "    pd_user_app_actived[app_category+'_rate']=pd_user_app_actived[app_category]/pd_user_app_actived['app_count']"
   ]
  },
  {
   "cell_type": "code",
   "execution_count": 18,
   "metadata": {
    "ExecuteTime": {
     "end_time": "2019-08-20T10:58:06.319968Z",
     "start_time": "2019-08-20T10:58:06.301149Z"
    }
   },
   "outputs": [],
   "source": [
    "pd_user_app_actived['uId']=user_app_actived['uId']"
   ]
  },
  {
   "cell_type": "code",
   "execution_count": 19,
   "metadata": {
    "ExecuteTime": {
     "end_time": "2019-08-20T10:58:27.952196Z",
     "start_time": "2019-08-20T10:58:15.135210Z"
    }
   },
   "outputs": [],
   "source": [
    "h5 = pd.HDFStore(temp_save_dir+'final_user_app_actived.h5','w',complevel=4,complib='blosc')\n",
    "h5['data'] = pd_user_app_actived\n",
    "h5.close()"
   ]
  },
  {
   "cell_type": "code",
   "execution_count": 5,
   "metadata": {
    "ExecuteTime": {
     "end_time": "2019-08-21T10:33:55.646708Z",
     "start_time": "2019-08-21T10:33:55.631281Z"
    }
   },
   "outputs": [],
   "source": [
    "pd_user_app_actived=pd.read_hdf(temp_save_dir+'final_user_app_actived.h5',key='data')"
   ]
  },
  {
   "cell_type": "code",
   "execution_count": null,
   "metadata": {},
   "outputs": [],
   "source": []
  }
 ],
 "metadata": {
  "kernelspec": {
   "display_name": "Python 3",
   "language": "python",
   "name": "python3"
  },
  "language_info": {
   "codemirror_mode": {
    "name": "ipython",
    "version": 3
   },
   "file_extension": ".py",
   "mimetype": "text/x-python",
   "name": "python",
   "nbconvert_exporter": "python",
   "pygments_lexer": "ipython3",
   "version": "3.6.7"
  }
 },
 "nbformat": 4,
 "nbformat_minor": 4
}
