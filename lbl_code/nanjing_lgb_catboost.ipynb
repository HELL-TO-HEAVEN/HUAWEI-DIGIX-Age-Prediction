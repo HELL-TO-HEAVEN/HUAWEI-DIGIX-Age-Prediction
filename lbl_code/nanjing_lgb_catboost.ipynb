{
 "cells": [
  {
   "cell_type": "code",
   "execution_count": 1,
   "metadata": {
    "ExecuteTime": {
     "end_time": "2019-08-22T08:53:44.119546Z",
     "start_time": "2019-08-22T08:53:43.207481Z"
    }
   },
   "outputs": [],
   "source": [
    "import numpy as np\n",
    "import pandas as pd\n",
    "import os\n",
    "import lightgbm as lgb\n",
    "import xgboost as xgb\n",
    "from sklearn.model_selection import train_test_split\n",
    "from sklearn.metrics import accuracy_score\n",
    "from multiprocessing import Pool as ThreadPool\n",
    "from datetime import datetime\n",
    "import time\n",
    "from sklearn.preprocessing import LabelEncoder, StandardScaler\n",
    "import catboost as cat\n",
    "from sklearn.feature_selection import chi2,SelectKBest\n",
    "from sklearn.utils import shuffle"
   ]
  },
  {
   "cell_type": "code",
   "execution_count": 2,
   "metadata": {
    "ExecuteTime": {
     "end_time": "2019-08-22T09:05:44.614416Z",
     "start_time": "2019-08-22T09:05:44.606836Z"
    }
   },
   "outputs": [],
   "source": [
    "data_dir='/home/uniml/work/hw/dataset/'\n",
    "temp_save_dir='./temp_data/'\n",
    "age_train_file_path=data_dir+'age_train.csv'\n",
    "age_test_file_path=data_dir+'age_test.csv'\n",
    "app_info_file_path=data_dir+'app_info.csv'\n",
    "user_app_actived_file_path=data_dir+'user_app_actived.csv'\n",
    "user_basic_info_file_path=data_dir+'user_basic_info.csv'\n",
    "user_behavior_info_file_path=data_dir+'user_behavior_info.csv'\n",
    "user_app_usage_file_path=data_dir+'user_app_usage.csv'"
   ]
  },
  {
   "cell_type": "code",
   "execution_count": 3,
   "metadata": {
    "ExecuteTime": {
     "end_time": "2019-08-22T08:54:10.907412Z",
     "start_time": "2019-08-22T08:54:10.903679Z"
    }
   },
   "outputs": [],
   "source": [
    "#############用户label数据################"
   ]
  },
  {
   "cell_type": "code",
   "execution_count": 4,
   "metadata": {
    "ExecuteTime": {
     "end_time": "2019-08-22T08:54:13.198978Z",
     "start_time": "2019-08-22T08:54:11.054738Z"
    }
   },
   "outputs": [],
   "source": [
    "age_train=pd.read_csv(age_train_file_path,header=None,names=['uId','age_group'])\n",
    "age_train.age_group=age_train.age_group.apply(lambda x:x-1)\n",
    "age_train.age_group=age_train.age_group.astype('category')\n",
    "age_test=pd.read_csv(age_test_file_path,header=None,names=['id'])"
   ]
  },
  {
   "cell_type": "code",
   "execution_count": 5,
   "metadata": {
    "ExecuteTime": {
     "end_time": "2019-08-22T08:54:13.207277Z",
     "start_time": "2019-08-22T08:54:13.203375Z"
    }
   },
   "outputs": [],
   "source": [
    "###########用户基本数据#################"
   ]
  },
  {
   "cell_type": "code",
   "execution_count": 6,
   "metadata": {
    "ExecuteTime": {
     "end_time": "2019-08-22T08:54:19.187668Z",
     "start_time": "2019-08-22T08:54:13.210459Z"
    }
   },
   "outputs": [],
   "source": [
    "user_basic_info=pd.read_csv(user_basic_info_file_path,header=None,names=['uId',\n",
    "                                                                         'gender',\n",
    "                                                                         'city',\n",
    "                                                                         'prodName',#手机型号\n",
    "                                                                         'ramCapacity',#手机ram容量\n",
    "                                                                         'ramLeftRation',#ram剩余容量占比\n",
    "                                                                         'romCapacity',#ROM容量\n",
    "                                                                         'romLeftRation',#rom剩余容量占比\n",
    "                                                                         'color',#手机颜色\n",
    "                                                                         'fontSize',#字体大小\n",
    "                                                                         'ct',#上网类型\n",
    "                                                                         'carrier',#移动运营商\n",
    "                                                                         'os',#手机系统版本\n",
    "                                                                        ])"
   ]
  },
  {
   "cell_type": "code",
   "execution_count": 7,
   "metadata": {
    "ExecuteTime": {
     "end_time": "2019-08-22T08:54:47.873108Z",
     "start_time": "2019-08-22T08:54:34.086949Z"
    }
   },
   "outputs": [],
   "source": [
    "user_basic_info['gender']=user_basic_info['gender'].astype('int')\n",
    "big_city=list(user_basic_info['city'].value_counts().iloc[:15].index)\n",
    "user_basic_info['is_in_big_city']=user_basic_info['city'].apply(lambda x:x in big_city).astype('int')\n",
    "user_basic_info.loc[pd.isna(user_basic_info['fontSize']),'fontSize']=1\n",
    "user_basic_info['is_bigger']=user_basic_info['fontSize'].apply(lambda x:x>1.0).astype('int')\n",
    "user_basic_info['is_smaller']=user_basic_info['fontSize'].apply(lambda x:x<1.0).astype('int')\n",
    "user_basic_info['is_old_system']=user_basic_info['os'].apply(lambda x:x<=6.0).astype('int')\n",
    "user_basic_info.loc[user_basic_info['romLeftRation']>1,'romLeftRation']=user_basic_info.loc[user_basic_info['romLeftRation']>1,:].apply(lambda x:x.romLeftRation/x.romCapacity,axis=1)\n",
    "\n",
    "_=user_basic_info.pop('ct')\n",
    "user_basic_info.loc[user_basic_info['romCapacity']==137,'romCapacity']=128\n",
    "user_basic_info.loc[user_basic_info['romCapacity']==68,'romCapacity']=64\n",
    "user_basic_info.loc[user_basic_info['romCapacity']==34,'romCapacity']=32\n",
    "user_basic_info.loc[user_basic_info['romCapacity']==275,'romCapacity']=256\n",
    "user_basic_info.loc[user_basic_info['romCapacity']==550,'romCapacity']=512\n",
    "user_basic_info.loc[user_basic_info['romCapacity']==17,'romCapacity']=16\n",
    "user_basic_info.loc[user_basic_info['romCapacity']==3,'romCapacity']=4\n",
    "user_basic_info.loc[user_basic_info['os']==12.1,'os']=8\n",
    "\n",
    "for column_name in ['gender','city','prodName','color','carrier']:\n",
    "    user_basic_info[column_name]=user_basic_info[column_name].astype('category')\n",
    "    \n",
    "user_phone_info_map={}\n",
    "for name,group in user_basic_info.groupby('prodName'):\n",
    "    user_phone_info_map[name]={}\n",
    "    user_phone_info_map[name]['ramCapacity']=group['ramCapacity'].mean()\n",
    "    user_phone_info_map[name]['romCapacity']=group['romCapacity'].mean()\n",
    "    user_phone_info_map[name]['ramLeftRation']=group['ramLeftRation'].mean()\n",
    "    user_phone_info_map[name]['romLeftRation']=group['romLeftRation'].mean()\n",
    "    user_phone_info_map[name]['ramMax']=group['ramCapacity'].max()\n",
    "    user_phone_info_map[name]['ramMin']=group['ramCapacity'].min()\n",
    "    user_phone_info_map[name]['romMax']=group['romCapacity'].max()\n",
    "    user_phone_info_map[name]['romMin']=group['romCapacity'].min()\n",
    "    \n",
    "def fill_na(y,column_name):\n",
    "    return user_phone_info_map[y][column_name]\n",
    "for column_name in ['ramCapacity','romCapacity','ramLeftRation','romLeftRation']:\n",
    "    user_basic_info.loc[pd.isna(user_basic_info[column_name]),column_name]=user_basic_info.loc[pd.isna(user_basic_info[column_name]),'prodName'].apply(lambda x:fill_na(x,column_name))\n",
    "for column_name in ['ramMax','ramMin','romMax','romMin']:\n",
    "    user_basic_info[column_name]=user_basic_info['prodName'].apply(lambda x:fill_na(x,column_name))\n",
    "for column_name in ['ramCapacity','romCapacity','ramLeftRation','romLeftRation','ramMax','ramMin','romMax','romMin','city','os']:\n",
    "    user_basic_info[column_name] = user_basic_info[column_name].fillna(user_basic_info[column_name].mode()[0])\n",
    "user_basic_info.loc[user_basic_info['ramLeftRation']>1,'ramLeftRation']=user_basic_info.loc[user_basic_info['ramLeftRation']>1,:].apply(lambda x:x['ramLeftRation']/x['ramCapacity'],axis=1)\n",
    "user_basic_info['ramLeft']=(1-user_basic_info['ramLeftRation'])*user_basic_info['ramCapacity']\n",
    "user_basic_info['romLeft']=(1-user_basic_info['romLeftRation'])*user_basic_info['romCapacity']\n",
    "for i in ['ramMax','ramMin','romMax','romMin','ramCapacity','romCapacity']:\n",
    "    user_basic_info[i]=user_basic_info[i].astype(np.int32)"
   ]
  },
  {
   "cell_type": "code",
   "execution_count": 8,
   "metadata": {
    "ExecuteTime": {
     "end_time": "2019-08-22T08:54:47.884156Z",
     "start_time": "2019-08-22T08:54:47.879075Z"
    }
   },
   "outputs": [],
   "source": [
    "############用户行为数据################"
   ]
  },
  {
   "cell_type": "code",
   "execution_count": 9,
   "metadata": {
    "ExecuteTime": {
     "end_time": "2019-08-22T08:54:53.041649Z",
     "start_time": "2019-08-22T08:54:49.920727Z"
    }
   },
   "outputs": [],
   "source": [
    "user_behavior_info=pd.read_csv(user_behavior_info_file_path,header=None,names=['uId',\n",
    "                                                                               'bootTimes',\n",
    "                                                                               'AFuncTimes',\n",
    "                                                                               'BFuncTimes',\n",
    "                                                                               'CFuncTimes',\n",
    "                                                                               'DFuncTimes',\n",
    "                                                                               'EFuncTimes',\n",
    "                                                                               'FFuncTimes',\n",
    "                                                                               'GFuncTimes',\n",
    "                                                                              ],dtype={'uId':int,\n",
    "                                                                                      'bootTimes':int,\n",
    "                                                                               'AFuncTimes':np.float32,\n",
    "                                                                               'BFuncTimes':np.float32,\n",
    "                                                                               'CFuncTimes':np.float32,\n",
    "                                                                               'DFuncTimes':np.float32,\n",
    "                                                                               'EFuncTimes':np.float32,\n",
    "                                                                               'FFuncTimes':np.float32,\n",
    "                                                                               'GFuncTimes':np.int32,})"
   ]
  },
  {
   "cell_type": "code",
   "execution_count": 10,
   "metadata": {
    "ExecuteTime": {
     "end_time": "2019-08-22T08:55:18.449556Z",
     "start_time": "2019-08-22T08:54:55.411958Z"
    }
   },
   "outputs": [],
   "source": [
    "user_behavior_info=user_behavior_info.applymap(lambda x:max(0,x))\n",
    "for column_name in user_behavior_info.columns:\n",
    "    if column_name=='uId':\n",
    "        continue\n",
    "    p99= user_behavior_info[column_name].quantile(0.99)\n",
    "    user_behavior_info.loc[user_behavior_info[column_name]>p99,column_name]=p99"
   ]
  },
  {
   "cell_type": "code",
   "execution_count": 11,
   "metadata": {
    "ExecuteTime": {
     "end_time": "2019-08-22T08:55:18.460225Z",
     "start_time": "2019-08-22T08:55:18.455335Z"
    }
   },
   "outputs": [],
   "source": [
    "#####################App分类数据##################"
   ]
  },
  {
   "cell_type": "code",
   "execution_count": 12,
   "metadata": {
    "ExecuteTime": {
     "end_time": "2019-08-22T08:55:18.739306Z",
     "start_time": "2019-08-22T08:55:18.463712Z"
    }
   },
   "outputs": [],
   "source": [
    "app_info=pd.read_csv(app_info_file_path,header=None,names=['appId','category'],dtype={'appId':str,'category':'category'})\n",
    "app_category_list=list(app_info.category.unique())"
   ]
  },
  {
   "cell_type": "code",
   "execution_count": 13,
   "metadata": {
    "ExecuteTime": {
     "end_time": "2019-08-22T08:55:19.068651Z",
     "start_time": "2019-08-22T08:55:18.743049Z"
    }
   },
   "outputs": [],
   "source": [
    "# pd_app_use_count=pd.read_csv('./temp_data/app_use_count.csv')\n",
    "# temp_sorted_app_use_count=pd_app_use_count.sort_values(by='count',ascending=False).iloc[0:2000,:]\n",
    "# temp_sorted_app_use_count=temp_sorted_app_use_count.reset_index()\n",
    "# def get_top_app_id(data):\n",
    "#     app_rank_map={}\n",
    "#     for index,row in data.iterrows():\n",
    "#         app_rank_map[row['appId']]=index\n",
    "#     return app_rank_map\n",
    "# top_500_app=get_top_app_id(temp_sorted_app_use_count)"
   ]
  },
  {
   "cell_type": "code",
   "execution_count": 14,
   "metadata": {},
   "outputs": [],
   "source": [
    "# final_user_app_actived_read_map={}\n",
    "# for name in app_category_list:\n",
    "#     final_user_app_actived_read_map[name]=np.int32\n",
    "#     final_user_app_actived_read_map[name+'_rate']=np.float32\n",
    "# for app_name in top_500_app.keys():\n",
    "#     final_user_app_actived_read_map[app_name]=np.int8\n",
    "# final_user_app_actived_read_map['uId']=np.int32\n",
    "# final_user_app_actived_read_map['app_count']=np.int32\n",
    "# final_user_app_actived=pd.read_csv(temp_save_dir+'final_user_app_actived.csv',dtype=final_user_app_actived_read_map)"
   ]
  },
  {
   "cell_type": "code",
   "execution_count": 15,
   "metadata": {
    "ExecuteTime": {
     "end_time": "2019-08-22T08:56:48.112946Z",
     "start_time": "2019-08-22T08:56:43.399038Z"
    }
   },
   "outputs": [],
   "source": [
    "final_user_app_actived=pd.read_hdf(temp_save_dir+'final_user_app_actived.h5',key='data')"
   ]
  },
  {
   "cell_type": "code",
   "execution_count": 16,
   "metadata": {
    "ExecuteTime": {
     "end_time": "2019-08-22T08:58:09.463242Z",
     "start_time": "2019-08-22T08:58:00.153253Z"
    }
   },
   "outputs": [],
   "source": [
    "pd_user_app_usage=pd.read_hdf(temp_save_dir+'user_app_usage_statistic.h5',key='data')"
   ]
  },
  {
   "cell_type": "code",
   "execution_count": 17,
   "metadata": {
    "ExecuteTime": {
     "end_time": "2019-08-22T09:04:39.676677Z",
     "start_time": "2019-08-22T09:04:39.672156Z"
    }
   },
   "outputs": [],
   "source": [
    "#####embedding"
   ]
  },
  {
   "cell_type": "code",
   "execution_count": 18,
   "metadata": {
    "ExecuteTime": {
     "end_time": "2019-08-22T09:05:34.683200Z",
     "start_time": "2019-08-22T09:05:34.676242Z"
    }
   },
   "outputs": [],
   "source": [
    "embedding_dtype_map={'uId':np.int32}\n",
    "for i in range(32):\n",
    "    embedding_dtype_map[str(i)+'_sum']=np.float32\n",
    "    embedding_dtype_map[str(i)+'_avg']=np.float32"
   ]
  },
  {
   "cell_type": "code",
   "execution_count": 19,
   "metadata": {
    "ExecuteTime": {
     "end_time": "2019-08-22T09:06:06.886052Z",
     "start_time": "2019-08-22T09:05:54.191990Z"
    }
   },
   "outputs": [],
   "source": [
    "app_train_embedding_sum=pd.read_hdf(temp_save_dir+'app_actived_embedding_by_w2v_avg_windows_5_size_128_iter_20_1.h5',key='data')\n",
    "app_usage_embedding_sum=pd.read_hdf(temp_save_dir+'app_usage_embedding_by_w2v_sum_windows_5_size_128_iter_20_1.h5',key='data')"
   ]
  },
  {
   "cell_type": "code",
   "execution_count": 20,
   "metadata": {
    "ExecuteTime": {
     "end_time": "2019-08-22T09:06:38.698244Z",
     "start_time": "2019-08-22T09:06:06.891663Z"
    }
   },
   "outputs": [],
   "source": [
    "# for emb in [app_train_embedding_sum,\n",
    "#             app_usage_embedding_sum,\n",
    "#            ]:\n",
    "#     need_norm=list(emb.columns)\n",
    "#     need_norm.remove('uId')\n",
    "#     norm=np.linalg.norm(emb[need_norm],axis=1,keepdims=True)\n",
    "#     print('start divide norm')\n",
    "#     emb[need_norm]=np.array(emb[need_norm])/norm\n",
    "#     emb['uId']=emb['uId'].astype(np.int32)\n",
    "#     print('finish')\n",
    "    "
   ]
  },
  {
   "cell_type": "code",
   "execution_count": 21,
   "metadata": {},
   "outputs": [],
   "source": [
    "# app_train_embedding_sum.fillna(0,inplace=True)\n",
    "# h5 = pd.HDFStore(temp_save_dir+'app_actived_embedding_by_w2v_avg_windows_5_size_128_iter_20_1_norm.h5','w',complevel=4,complib='blosc')\n",
    "# h5['data'] = app_train_embedding_sum\n",
    "# h5.close()"
   ]
  },
  {
   "cell_type": "code",
   "execution_count": 22,
   "metadata": {},
   "outputs": [],
   "source": [
    "# app_usage_embedding_sum.fillna(0,inplace=True)\n",
    "# h5 = pd.HDFStore(temp_save_dir+'app_usage_embedding_by_w2v_sum_windows_5_size_128_iter_20_1_norm.h5','w',complevel=4,complib='blosc')\n",
    "# h5['data'] = app_usage_embedding_sum\n",
    "# h5.close()"
   ]
  },
  {
   "cell_type": "code",
   "execution_count": 23,
   "metadata": {},
   "outputs": [
    {
     "name": "stdout",
     "output_type": "stream",
     "text": [
      "test\n"
     ]
    }
   ],
   "source": [
    "print('test')"
   ]
  },
  {
   "cell_type": "code",
   "execution_count": 24,
   "metadata": {
    "ExecuteTime": {
     "end_time": "2019-08-22T09:06:38.706035Z",
     "start_time": "2019-08-22T09:06:38.701817Z"
    }
   },
   "outputs": [],
   "source": [
    "#######卡方+tfidf"
   ]
  },
  {
   "cell_type": "code",
   "execution_count": 25,
   "metadata": {
    "ExecuteTime": {
     "end_time": "2019-08-22T09:06:58.807738Z",
     "start_time": "2019-08-22T09:06:38.711821Z"
    }
   },
   "outputs": [],
   "source": [
    "train_actived_tfidf = pd.read_hdf(temp_save_dir+'train_app_actived_tfidf_input_csr.h5',key='data')\n",
    "test_actived_tfidf = pd.read_hdf(temp_save_dir+'test_app_actived_tfidf_input_csr.h5',key='data')"
   ]
  },
  {
   "cell_type": "code",
   "execution_count": 26,
   "metadata": {},
   "outputs": [],
   "source": [
    "train_actived_tfidf.rename(columns=lambda x:'tfidf'+str(x),inplace=True)\n",
    "test_actived_tfidf.rename(columns=lambda x:'tfidf'+str(x),inplace=True)"
   ]
  },
  {
   "cell_type": "code",
   "execution_count": 27,
   "metadata": {
    "ExecuteTime": {
     "end_time": "2019-08-22T09:07:00.818395Z",
     "start_time": "2019-08-22T09:06:58.813759Z"
    }
   },
   "outputs": [],
   "source": [
    "#####yc_static\n",
    "train_yc_static=pd.read_hdf(data_dir+'train_app_usage_stat_df.h5',key='data')\n",
    "test_yc_static=pd.read_hdf(data_dir+'test_app_usage_stat_df.h5',key='data')"
   ]
  },
  {
   "cell_type": "code",
   "execution_count": 28,
   "metadata": {
    "ExecuteTime": {
     "end_time": "2019-08-22T09:07:00.825022Z",
     "start_time": "2019-08-22T09:07:00.821457Z"
    }
   },
   "outputs": [],
   "source": [
    "#######usgae分类及转化率"
   ]
  },
  {
   "cell_type": "code",
   "execution_count": 29,
   "metadata": {
    "ExecuteTime": {
     "end_time": "2019-08-22T09:07:05.202650Z",
     "start_time": "2019-08-22T09:07:00.828939Z"
    }
   },
   "outputs": [],
   "source": [
    "train_app_trans_rate_with_usage=pd.read_hdf(data_dir+'train_app_trans_rate_with_usage.h5',key='data')\n",
    "test_app_trans_rate_with_usage=pd.read_hdf(data_dir+'test_app_trans_rate_with_usage.h5',key='data')"
   ]
  },
  {
   "cell_type": "code",
   "execution_count": 30,
   "metadata": {},
   "outputs": [],
   "source": [
    "train_app_trans_rate_with_usage.rename(columns=lambda x:'trans_rate'+str(x),inplace=True)\n",
    "test_app_trans_rate_with_usage.rename(columns=lambda x:'trans_rate'+str(x),inplace=True)"
   ]
  },
  {
   "cell_type": "code",
   "execution_count": 31,
   "metadata": {
    "ExecuteTime": {
     "end_time": "2019-08-22T09:10:53.328122Z",
     "start_time": "2019-08-22T09:07:51.459168Z"
    }
   },
   "outputs": [
    {
     "name": "stdout",
     "output_type": "stream",
     "text": [
      "start concat\n",
      "finish concat\n",
      "finish merge,start concat\n"
     ]
    }
   ],
   "source": [
    "temp=pd.merge(age_train,user_basic_info,on='uId',how='left')\n",
    "temp=pd.merge(temp,app_train_embedding_sum,on='uId',how='left')\n",
    "temp=pd.merge(temp,app_usage_embedding_sum,on='uId',how='left')\n",
    "temp=pd.merge(temp,train_yc_static,on='uId',how='left')\n",
    "print('start concat')\n",
    "temp=pd.concat([temp,train_actived_tfidf,train_app_trans_rate_with_usage],axis=1)\n",
    "print('finish concat')\n",
    "temp_with_behavior=pd.merge(temp,user_behavior_info,on='uId',how='left')\n",
    "temp_with_behavior_with_actived=pd.merge(temp_with_behavior,final_user_app_actived,on='uId',how='left')\n",
    "temp_with_behavior_with_actived=pd.merge(temp_with_behavior_with_actived,pd_user_app_usage,on='uId',how='left')\n",
    "print('finish merge,start concat')\n",
    "temp_with_behavior_with_actived['app_use_rate']=(temp_with_behavior_with_actived['app_usage_count'].fillna(0)/temp_with_behavior_with_actived['app_count'].fillna(0)).fillna(0)"
   ]
  },
  {
   "cell_type": "code",
   "execution_count": 32,
   "metadata": {},
   "outputs": [
    {
     "data": {
      "text/plain": [
       "(4000000, 1044)"
      ]
     },
     "execution_count": 32,
     "metadata": {},
     "output_type": "execute_result"
    }
   ],
   "source": [
    "temp_with_behavior_with_actived.shape"
   ]
  },
  {
   "cell_type": "code",
   "execution_count": 33,
   "metadata": {},
   "outputs": [
    {
     "name": "stdout",
     "output_type": "stream",
     "text": [
      "2520000\n"
     ]
    }
   ],
   "source": [
    "\n",
    "pd_Y=age_train['age_group']\n",
    "index_set=[]\n",
    "from sklearn.utils import shuffle\n",
    "index_set.extend(list(shuffle(pd_Y[pd_Y==0]).index)[:190000])\n",
    "index_set.extend(list(shuffle(pd_Y[pd_Y==1]).index)[:300000])\n",
    "index_set.extend(list(shuffle(pd_Y[pd_Y==2]).index)[:750000])\n",
    "index_set.extend(list(shuffle(pd_Y[pd_Y==3]).index)[:750000])\n",
    "index_set.extend(list(shuffle(pd_Y[pd_Y==4]).index)[:380000])\n",
    "index_set.extend(list(shuffle(pd_Y[pd_Y==5]).index)[:150000])\n",
    "print(len(index_set))\n",
    "index_set=shuffle(index_set)"
   ]
  },
  {
   "cell_type": "code",
   "execution_count": null,
   "metadata": {},
   "outputs": [],
   "source": [
    "temp_with_behavior_with_actived=temp_with_behavior_with_actived"
   ]
  },
  {
   "cell_type": "code",
   "execution_count": 34,
   "metadata": {
    "ExecuteTime": {
     "end_time": "2019-08-22T10:10:53.679564Z",
     "start_time": "2019-08-22T10:10:53.626748Z"
    }
   },
   "outputs": [],
   "source": [
    "params={\n",
    "    'lightgbm':dict(\n",
    "    objective='multiclass',\n",
    "    metric='multi_error',\n",
    "    num_class=6,\n",
    "#     boosting='dart',\n",
    "    learning_rate=0.1,\n",
    "#     num_leaves=395,\n",
    "#     lambda_l1=3,\n",
    "#     lambda_l2=5,\n",
    "    subsample=0.9,\n",
    "    subsample_freq=1,\n",
    "#     min_child_weight=4,\n",
    "#     min_child_samples=5,\n",
    "#     min_split_gain=0,\n",
    "#     min_sum_hessian_in_leaf=4,\n",
    "#     min_data_in_leaf=80,\n",
    "#     max_bin=200,\n",
    "    feature_fraction=0.8,\n",
    "    num_thread=60,\n",
    "        \n",
    "),\n",
    "    'xgboost':dict(learning_rate=0.3,\n",
    "                    objective='multi:softmax',\n",
    "                    eval_metric='merror',\n",
    "                   num_class=6,\n",
    "                   subsample=0.9,\n",
    "                   colsample_bytree=0.9,\n",
    "                   tree_method='approx'\n",
    "#                    max_depth=20,\n",
    "                    #silent=True\n",
    "                  ),\n",
    "    'catboost':dict(loss_function='MultiClass',\n",
    "                   custom_metric='Accuracy:use_weights=false',\n",
    "                   eval_metric='Accuracy:use_weights=false',\n",
    "#                     bagging_temperature=0,\n",
    "                    use_best_model=True,\n",
    "#                     depth=8,\n",
    "                    thread_count=60,\n",
    "                    classes_count=6,\n",
    "                    iterations=500,\n",
    "                    learning_rate=0.5,\n",
    "                   )\n",
    "       \n",
    "       }\n",
    "\n",
    "def test_model(df,cv=5):\n",
    "    scores = []\n",
    "    df=df.sample(frac=1.0)\n",
    "    _=df.pop('uId')\n",
    "    size = (len(df) + cv-1) // cv\n",
    "    for left in range(0,len(df),size):\n",
    "        right = min(left + size,len(df))\n",
    "        df_train = pd.concat([df.iloc[:left, :], df.iloc[right:, :]])\n",
    "        df_test = df.iloc[left:right, :]\n",
    "        df_train_y=df_train.pop('age_group')\n",
    "        df_test_y=df_test.pop('age_group')\n",
    "        \n",
    "        model_train_x,model_valid_x,model_train_y,model_valid_y=train_test_split(df_train,df_train_y,test_size=0.2,stratify=df_train_y)\n",
    "        lgb_train=lgb.Dataset(model_train_x,model_train_y)\n",
    "        lgb_valid=lgb.Dataset(model_valid_x,model_valid_y)\n",
    "        lgb_train.set_weight(calc_sample_weight(model_train_y))\n",
    "        model=lgb.train(params, lgb_train, 500, valid_sets=[lgb_train, lgb_valid],\n",
    "                         valid_names=['train', 'valid'],early_stopping_rounds=100)\n",
    "        y_=np.argmax(model.predict(df_test),axis=1)\n",
    "        score=accuracy_score(df_test_y,y_)\n",
    "        print(score)\n",
    "        scores.append(score)\n",
    "    print(scores)\n",
    "    print(sum(scores)/cv)\n",
    "    \n",
    "def train_model(df,y_index,name='lightgbm'):\n",
    "    if 'uId' in df.columns:    \n",
    "        _=df.pop('uId')\n",
    "    if 'age_group' in df.columns:\n",
    "        _=df.pop('age_group')\n",
    "    y=age_train['age_group'].loc[y_index]\n",
    "    train_x,valid_x,train_y,valid_y=train_test_split(df,y,test_size=0.1,stratify=y)\n",
    "    print('finish split')\n",
    "    if name=='lightgbm':\n",
    "        lgb_train=lgb.Dataset(train_x,train_y)\n",
    "        lgb_valid=lgb.Dataset(valid_x,valid_y)\n",
    "        return lgb.train(params[name], lgb_train, 300, valid_sets=[lgb_train, lgb_valid],\n",
    "                         valid_names=['train', 'valid'],early_stopping_rounds=50)\n",
    "    elif name=='xgboost':\n",
    "        xgb_train=xgb.DMatrix(data=train_x,label=train_y)\n",
    "        xgb_valid=xgb.DMatrix(data=valid_x,label=valid_y)\n",
    "        watchlist = [(xgb_train, 'train'), (xgb_valid, 'valid')]\n",
    "        return xgb.train(params[name], xgb_train, 1000, watchlist, maximize=False, early_stopping_rounds=50)\n",
    "    elif name=='catboost':\n",
    "        category_feature_names=['gender','city','carrier','prodName','color','is_bigger','is_smaller','is_in_big_city','is_old_system','ramCapacity','romCapacity','ramMax','ramMin','romMax','romMin',\n",
    "'是否有教育','是否有儿童','是否有汽车','是否有商务','是否有运动','是否有游戏','','游戏总量and儿童','游戏总量and教育','儿童and金融理财','儿童and教育']\n",
    "        category_feature_index=[]\n",
    "        for index,value in enumerate(list(train_x.columns)):\n",
    "            if value in category_feature_names:\n",
    "                category_feature_index.append(index)\n",
    "        print(len(category_feature_index))\n",
    "        model = cat.CatBoostClassifier(**params[name])\n",
    "        model.fit(train_x,train_y,cat_features=category_feature_index,eval_set=(valid_x, valid_y))\n",
    "        return model\n",
    "    \n",
    "    "
   ]
  },
  {
   "cell_type": "code",
   "execution_count": null,
   "metadata": {
    "ExecuteTime": {
     "end_time": "2019-08-22T10:14:04.453417Z",
     "start_time": "2019-08-22T10:10:54.201301Z"
    }
   },
   "outputs": [
    {
     "name": "stdout",
     "output_type": "stream",
     "text": [
      "finish split\n"
     ]
    },
    {
     "name": "stderr",
     "output_type": "stream",
     "text": [
      "/opt/conda/lib/python3.6/site-packages/lightgbm/basic.py:742: UserWarning: categorical_feature in param dict is overridden.\n",
      "  warnings.warn('categorical_feature in param dict is overridden.')\n"
     ]
    },
    {
     "name": "stdout",
     "output_type": "stream",
     "text": [
      "[1]\ttrain's multi_error: 0.506484\tvalid's multi_error: 0.509563\n",
      "Training until validation scores don't improve for 50 rounds.\n",
      "[2]\ttrain's multi_error: 0.496295\tvalid's multi_error: 0.498726\n",
      "[3]\ttrain's multi_error: 0.491362\tvalid's multi_error: 0.493679\n",
      "[4]\ttrain's multi_error: 0.48801\tvalid's multi_error: 0.490492\n",
      "[5]\ttrain's multi_error: 0.48616\tvalid's multi_error: 0.488996\n",
      "[6]\ttrain's multi_error: 0.483981\tvalid's multi_error: 0.486258\n",
      "[7]\ttrain's multi_error: 0.481836\tvalid's multi_error: 0.484274\n",
      "[8]\ttrain's multi_error: 0.479608\tvalid's multi_error: 0.482107\n",
      "[9]\ttrain's multi_error: 0.477728\tvalid's multi_error: 0.479877\n",
      "[10]\ttrain's multi_error: 0.476214\tvalid's multi_error: 0.478373\n",
      "[11]\ttrain's multi_error: 0.474957\tvalid's multi_error: 0.477079\n",
      "[12]\ttrain's multi_error: 0.473645\tvalid's multi_error: 0.475913\n",
      "[13]\ttrain's multi_error: 0.472398\tvalid's multi_error: 0.47454\n",
      "[14]\ttrain's multi_error: 0.471015\tvalid's multi_error: 0.47296\n",
      "[15]\ttrain's multi_error: 0.469745\tvalid's multi_error: 0.472123\n",
      "[16]\ttrain's multi_error: 0.468496\tvalid's multi_error: 0.470833\n",
      "[17]\ttrain's multi_error: 0.467299\tvalid's multi_error: 0.469536\n",
      "[18]\ttrain's multi_error: 0.466069\tvalid's multi_error: 0.468476\n",
      "[19]\ttrain's multi_error: 0.464804\tvalid's multi_error: 0.467425\n",
      "[20]\ttrain's multi_error: 0.463646\tvalid's multi_error: 0.466317\n",
      "[21]\ttrain's multi_error: 0.462642\tvalid's multi_error: 0.465008\n",
      "[22]\ttrain's multi_error: 0.461583\tvalid's multi_error: 0.464147\n",
      "[23]\ttrain's multi_error: 0.460731\tvalid's multi_error: 0.463516\n",
      "[24]\ttrain's multi_error: 0.459778\tvalid's multi_error: 0.46252\n",
      "[25]\ttrain's multi_error: 0.458828\tvalid's multi_error: 0.461778\n",
      "[26]\ttrain's multi_error: 0.457915\tvalid's multi_error: 0.461\n",
      "[27]\ttrain's multi_error: 0.45697\tvalid's multi_error: 0.459897\n",
      "[28]\ttrain's multi_error: 0.456033\tvalid's multi_error: 0.458933\n",
      "[29]\ttrain's multi_error: 0.455197\tvalid's multi_error: 0.458282\n",
      "[30]\ttrain's multi_error: 0.454381\tvalid's multi_error: 0.457274\n",
      "[31]\ttrain's multi_error: 0.453473\tvalid's multi_error: 0.456512\n",
      "[32]\ttrain's multi_error: 0.452604\tvalid's multi_error: 0.455964\n",
      "[33]\ttrain's multi_error: 0.451704\tvalid's multi_error: 0.455198\n",
      "[34]\ttrain's multi_error: 0.450951\tvalid's multi_error: 0.454206\n",
      "[35]\ttrain's multi_error: 0.450148\tvalid's multi_error: 0.453698\n",
      "[36]\ttrain's multi_error: 0.449359\tvalid's multi_error: 0.45298\n",
      "[37]\ttrain's multi_error: 0.448493\tvalid's multi_error: 0.452345\n",
      "[38]\ttrain's multi_error: 0.447791\tvalid's multi_error: 0.451476\n",
      "[39]\ttrain's multi_error: 0.447055\tvalid's multi_error: 0.451036\n",
      "[40]\ttrain's multi_error: 0.446467\tvalid's multi_error: 0.450464\n",
      "[41]\ttrain's multi_error: 0.445654\tvalid's multi_error: 0.449643\n",
      "[42]\ttrain's multi_error: 0.445\tvalid's multi_error: 0.448952\n",
      "[43]\ttrain's multi_error: 0.444359\tvalid's multi_error: 0.448206\n",
      "[44]\ttrain's multi_error: 0.443686\tvalid's multi_error: 0.447849\n",
      "[45]\ttrain's multi_error: 0.443041\tvalid's multi_error: 0.447234\n",
      "[46]\ttrain's multi_error: 0.442369\tvalid's multi_error: 0.446492\n",
      "[47]\ttrain's multi_error: 0.441798\tvalid's multi_error: 0.445933\n",
      "[48]\ttrain's multi_error: 0.441182\tvalid's multi_error: 0.445409\n",
      "[49]\ttrain's multi_error: 0.440512\tvalid's multi_error: 0.444893\n",
      "[50]\ttrain's multi_error: 0.439863\tvalid's multi_error: 0.444639\n",
      "[51]\ttrain's multi_error: 0.43923\tvalid's multi_error: 0.443861\n",
      "[52]\ttrain's multi_error: 0.438699\tvalid's multi_error: 0.443369\n",
      "[53]\ttrain's multi_error: 0.438072\tvalid's multi_error: 0.442778\n",
      "[54]\ttrain's multi_error: 0.437482\tvalid's multi_error: 0.442111\n",
      "[55]\ttrain's multi_error: 0.436918\tvalid's multi_error: 0.441567\n",
      "[56]\ttrain's multi_error: 0.43645\tvalid's multi_error: 0.440853\n",
      "[57]\ttrain's multi_error: 0.435904\tvalid's multi_error: 0.440381\n",
      "[58]\ttrain's multi_error: 0.435389\tvalid's multi_error: 0.439897\n",
      "[59]\ttrain's multi_error: 0.434885\tvalid's multi_error: 0.439488\n",
      "[60]\ttrain's multi_error: 0.434414\tvalid's multi_error: 0.439151\n",
      "[61]\ttrain's multi_error: 0.433922\tvalid's multi_error: 0.438643\n",
      "[62]\ttrain's multi_error: 0.433503\tvalid's multi_error: 0.438056\n",
      "[63]\ttrain's multi_error: 0.433037\tvalid's multi_error: 0.437766\n",
      "[64]\ttrain's multi_error: 0.432553\tvalid's multi_error: 0.437274\n",
      "[65]\ttrain's multi_error: 0.432093\tvalid's multi_error: 0.436802\n",
      "[66]\ttrain's multi_error: 0.431661\tvalid's multi_error: 0.436528\n",
      "[67]\ttrain's multi_error: 0.431148\tvalid's multi_error: 0.436032\n",
      "[68]\ttrain's multi_error: 0.430664\tvalid's multi_error: 0.435615\n",
      "[69]\ttrain's multi_error: 0.430181\tvalid's multi_error: 0.43527\n",
      "[70]\ttrain's multi_error: 0.429773\tvalid's multi_error: 0.435\n",
      "[71]\ttrain's multi_error: 0.429384\tvalid's multi_error: 0.434647\n",
      "[72]\ttrain's multi_error: 0.429009\tvalid's multi_error: 0.434298\n",
      "[73]\ttrain's multi_error: 0.428647\tvalid's multi_error: 0.433909\n",
      "[74]\ttrain's multi_error: 0.428232\tvalid's multi_error: 0.43344\n",
      "[75]\ttrain's multi_error: 0.427847\tvalid's multi_error: 0.433139\n",
      "[76]\ttrain's multi_error: 0.427481\tvalid's multi_error: 0.432964\n",
      "[77]\ttrain's multi_error: 0.427071\tvalid's multi_error: 0.432508\n",
      "[78]\ttrain's multi_error: 0.42669\tvalid's multi_error: 0.432282\n",
      "[79]\ttrain's multi_error: 0.426363\tvalid's multi_error: 0.432071\n",
      "[80]\ttrain's multi_error: 0.426\tvalid's multi_error: 0.431952\n",
      "[81]\ttrain's multi_error: 0.425593\tvalid's multi_error: 0.431266\n",
      "[82]\ttrain's multi_error: 0.42521\tvalid's multi_error: 0.430952\n",
      "[83]\ttrain's multi_error: 0.424877\tvalid's multi_error: 0.430623\n",
      "[84]\ttrain's multi_error: 0.424475\tvalid's multi_error: 0.430262\n",
      "[85]\ttrain's multi_error: 0.424117\tvalid's multi_error: 0.430036\n",
      "[86]\ttrain's multi_error: 0.423743\tvalid's multi_error: 0.429782\n",
      "[87]\ttrain's multi_error: 0.423456\tvalid's multi_error: 0.42969\n",
      "[88]\ttrain's multi_error: 0.423111\tvalid's multi_error: 0.429563\n",
      "[89]\ttrain's multi_error: 0.422796\tvalid's multi_error: 0.428988\n",
      "[90]\ttrain's multi_error: 0.422488\tvalid's multi_error: 0.42877\n",
      "[91]\ttrain's multi_error: 0.422158\tvalid's multi_error: 0.42852\n",
      "[92]\ttrain's multi_error: 0.421871\tvalid's multi_error: 0.428242\n",
      "[93]\ttrain's multi_error: 0.421548\tvalid's multi_error: 0.427917\n",
      "[94]\ttrain's multi_error: 0.421268\tvalid's multi_error: 0.427556\n",
      "[95]\ttrain's multi_error: 0.420906\tvalid's multi_error: 0.427488\n",
      "[96]\ttrain's multi_error: 0.420574\tvalid's multi_error: 0.427052\n",
      "[97]\ttrain's multi_error: 0.420269\tvalid's multi_error: 0.42677\n",
      "[98]\ttrain's multi_error: 0.419982\tvalid's multi_error: 0.426556\n",
      "[99]\ttrain's multi_error: 0.41965\tvalid's multi_error: 0.426206\n",
      "[100]\ttrain's multi_error: 0.419398\tvalid's multi_error: 0.426083\n",
      "[101]\ttrain's multi_error: 0.41906\tvalid's multi_error: 0.425917\n",
      "[102]\ttrain's multi_error: 0.418839\tvalid's multi_error: 0.425921\n",
      "[103]\ttrain's multi_error: 0.418478\tvalid's multi_error: 0.425595\n",
      "[104]\ttrain's multi_error: 0.418239\tvalid's multi_error: 0.425444\n",
      "[105]\ttrain's multi_error: 0.417965\tvalid's multi_error: 0.42527\n",
      "[106]\ttrain's multi_error: 0.417689\tvalid's multi_error: 0.424909\n",
      "[107]\ttrain's multi_error: 0.417354\tvalid's multi_error: 0.424667\n",
      "[108]\ttrain's multi_error: 0.41713\tvalid's multi_error: 0.424611\n",
      "[109]\ttrain's multi_error: 0.416774\tvalid's multi_error: 0.424603\n",
      "[110]\ttrain's multi_error: 0.416511\tvalid's multi_error: 0.42431\n",
      "[111]\ttrain's multi_error: 0.416241\tvalid's multi_error: 0.424087\n",
      "[112]\ttrain's multi_error: 0.415985\tvalid's multi_error: 0.42373\n",
      "[113]\ttrain's multi_error: 0.415735\tvalid's multi_error: 0.423615\n",
      "[114]\ttrain's multi_error: 0.415545\tvalid's multi_error: 0.423429\n"
     ]
    }
   ],
   "source": [
    "model=train_model(temp_with_behavior_with_actived.iloc[index_set],index_set)\n",
    "# model=train_model(temp_with_behavior_with_actived.loc[index_set],name='catboost')"
   ]
  },
  {
   "cell_type": "code",
   "execution_count": 43,
   "metadata": {},
   "outputs": [
    {
     "data": {
      "text/plain": [
       "2700000"
      ]
     },
     "execution_count": 43,
     "metadata": {},
     "output_type": "execute_result"
    }
   ],
   "source": [
    "len(index_set)"
   ]
  },
  {
   "cell_type": "code",
   "execution_count": 36,
   "metadata": {},
   "outputs": [],
   "source": [
    "test_sample=pd.merge(age_test,user_basic_info,left_on=['id'],right_on=['uId'],how='left')\n",
    "test_sample=pd.merge(test_sample,app_train_embedding_sum,on='uId',how='left')\n",
    "test_sample=pd.merge(test_sample,app_usage_embedding_sum,on='uId',how='left')\n",
    "test_sample=pd.merge(test_sample,test_yc_static,on='uId',how='left')\n",
    "test_sample=pd.concat([test_sample,test_actived_tfidf,test_app_trans_rate_with_usage],axis=1)\n",
    "\n",
    "test_sample=pd.merge(test_sample,user_behavior_info,on=['uId'],how='left')\n",
    "test_sample=pd.merge(test_sample,final_user_app_actived,on=['uId'],how='left')\n",
    "test_sample=pd.merge(test_sample,pd_user_app_usage,on=['uId'],how='left')\n",
    "\n",
    "test_sample['app_use_rate']=(test_sample['app_usage_count'].fillna(0)/test_sample['app_count'].fillna(0)).fillna(0)\n",
    "_=test_sample.pop('id')\n",
    "_=test_sample.pop('uId')"
   ]
  },
  {
   "cell_type": "code",
   "execution_count": 21,
   "metadata": {},
   "outputs": [
    {
     "data": {
      "text/plain": [
       "(1000000, 1042)"
      ]
     },
     "execution_count": 21,
     "metadata": {},
     "output_type": "execute_result"
    }
   ],
   "source": [
    "test_sample.shape"
   ]
  },
  {
   "cell_type": "code",
   "execution_count": 37,
   "metadata": {
    "ExecuteTime": {
     "end_time": "2019-08-22T10:59:14.583368Z",
     "start_time": "2019-08-22T10:57:38.445354Z"
    }
   },
   "outputs": [],
   "source": [
    "# pred_y=model.predict(test_sample)\n",
    "pred_y=model.predict(test_sample,prediction_type='Probability')"
   ]
  },
  {
   "cell_type": "code",
   "execution_count": 38,
   "metadata": {},
   "outputs": [],
   "source": [
    "pd.DataFrame(pred_y).to_csv('pred_cat_guess.csv',index=False,header=None)"
   ]
  },
  {
   "cell_type": "code",
   "execution_count": 39,
   "metadata": {},
   "outputs": [
    {
     "name": "stdout",
     "output_type": "stream",
     "text": [
      "3    0.275054\n",
      "4    0.272491\n",
      "5    0.161481\n",
      "2    0.117835\n",
      "1    0.097495\n",
      "6    0.075644\n",
      "Name: label, dtype: float64\n"
     ]
    }
   ],
   "source": [
    "result=pred_y\n",
    "result=np.argmax(result,axis=1)+1\n",
    "result=pd.DataFrame(result)\n",
    "submission=pd.concat([age_test,result],axis=1)\n",
    "submission.rename(columns={0:'label'},inplace=True)\n",
    "submission.to_csv('submission_catboost.csv',index=False)\n",
    "print(submission.label.value_counts()/len(submission))"
   ]
  },
  {
   "cell_type": "code",
   "execution_count": 23,
   "metadata": {},
   "outputs": [
    {
     "data": {
      "text/plain": [
       "<lightgbm.basic.Booster at 0x7fc14a838b00>"
      ]
     },
     "execution_count": 23,
     "metadata": {},
     "output_type": "execute_result"
    }
   ],
   "source": [
    "model.save_model('lgb_model.txt')"
   ]
  },
  {
   "cell_type": "code",
   "execution_count": 52,
   "metadata": {
    "ExecuteTime": {
     "end_time": "2019-08-22T11:01:24.824170Z",
     "start_time": "2019-08-22T11:01:24.815814Z"
    }
   },
   "outputs": [
    {
     "data": {
      "text/plain": [
       "(2010000, 6)"
      ]
     },
     "execution_count": 52,
     "metadata": {},
     "output_type": "execute_result"
    }
   ],
   "source": [
    "pred_y.shape"
   ]
  },
  {
   "cell_type": "code",
   "execution_count": null,
   "metadata": {},
   "outputs": [],
   "source": []
  }
 ],
 "metadata": {
  "kernelspec": {
   "display_name": "Environment (conda_conda)",
   "language": "python",
   "name": "conda_conda"
  },
  "language_info": {
   "codemirror_mode": {
    "name": "ipython",
    "version": 3
   },
   "file_extension": ".py",
   "mimetype": "text/x-python",
   "name": "python",
   "nbconvert_exporter": "python",
   "pygments_lexer": "ipython3",
   "version": "3.6.7"
  }
 },
 "nbformat": 4,
 "nbformat_minor": 4
}
