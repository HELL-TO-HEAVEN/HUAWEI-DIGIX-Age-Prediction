{
 "cells": [
  {
   "cell_type": "code",
   "execution_count": 76,
   "metadata": {
    "ExecuteTime": {
     "end_time": "2019-08-22T09:36:59.528523Z",
     "start_time": "2019-08-22T09:36:58.634208Z"
    }
   },
   "outputs": [],
   "source": [
    "import numpy as np\n",
    "import pandas as pd\n",
    "import os\n",
    "import lightgbm as lgb\n",
    "import xgboost as xgb\n",
    "from sklearn.model_selection import train_test_split\n",
    "from sklearn.metrics import accuracy_score\n",
    "from multiprocessing import Pool as ThreadPool\n",
    "from datetime import datetime\n",
    "import time\n",
    "from sklearn.preprocessing import LabelEncoder, StandardScaler,MinMaxScaler\n",
    "from sklearn.utils import shuffle\n",
    "from sklearn.feature_selection import chi2,SelectKBest\n",
    "from sklearn.preprocessing import LabelEncoder, StandardScaler"
   ]
  },
  {
   "cell_type": "code",
   "execution_count": 2,
   "metadata": {
    "ExecuteTime": {
     "end_time": "2019-08-22T09:37:03.228165Z",
     "start_time": "2019-08-22T09:37:00.347193Z"
    }
   },
   "outputs": [
    {
     "name": "stderr",
     "output_type": "stream",
     "text": [
      "Using TensorFlow backend.\n"
     ]
    }
   ],
   "source": [
    "import keras\n",
    "from keras import optimizers\n",
    "from keras.callbacks import EarlyStopping, ModelCheckpoint,ReduceLROnPlateau\n",
    "from keras.models import Model\n",
    "from keras.layers import Input, Dense, Concatenate, Reshape, Dropout, Flatten,Activation,LeakyReLU,PReLU,Lambda,Add,LSTM,Bidirectional,GRU,Conv1D,GlobalAveragePooling1D,GlobalMaxPool1D,GlobalMaxPooling1D,TimeDistributed\n",
    "from keras.layers.embeddings import Embedding\n",
    "import tensorflow as tf\n",
    "import keras.backend.tensorflow_backend as KTF\n",
    "from keras.layers.normalization import BatchNormalization\n",
    "from keras.utils import np_utils\n",
    "from keras.preprocessing.text import one_hot\n",
    "from keras.preprocessing.sequence import pad_sequences\n",
    "from keras import backend as K\n",
    "from keras.models import load_model\n",
    "from keras.utils import multi_gpu_model\n",
    "#进行配置，每个GPU使用60%上限现存\n",
    "config = tf.ConfigProto()\n",
    "os.environ[\"CUDA_VISIBLE_DEVICES\"] = \"0,1,2,3\"\n",
    "# config.gpu_options.per_process_gpu_memory_fraction = 0.5 # 每个GPU现存上届控制在60%以内\n",
    "session = tf.Session(config=config)\n",
    "# 设置session\n",
    "KTF.set_session(session )\n",
    "\n"
   ]
  },
  {
   "cell_type": "code",
   "execution_count": 3,
   "metadata": {
    "ExecuteTime": {
     "end_time": "2019-08-22T13:00:52.153168Z",
     "start_time": "2019-08-22T13:00:52.145671Z"
    }
   },
   "outputs": [],
   "source": [
    "data_dir='/home/uniml/work/hw/dataset/'\n",
    "temp_save_dir='./temp_data/'\n",
    "age_train_file_path=data_dir+'age_train.csv'\n",
    "age_test_file_path=data_dir+'age_test.csv'\n",
    "app_info_file_path=data_dir+'app_info.csv'\n",
    "user_app_actived_file_path=data_dir+'user_app_actived.csv'\n",
    "user_basic_info_file_path=data_dir+'user_basic_info.csv'\n",
    "user_behavior_info_file_path=data_dir+'user_behavior_info.csv'\n",
    "user_app_usage_file_path=data_dir+'user_app_usage.csv'"
   ]
  },
  {
   "cell_type": "code",
   "execution_count": 4,
   "metadata": {
    "ExecuteTime": {
     "end_time": "2019-08-22T09:37:06.903758Z",
     "start_time": "2019-08-22T09:37:06.899774Z"
    }
   },
   "outputs": [],
   "source": [
    "#############用户label数据与测试数据################"
   ]
  },
  {
   "cell_type": "code",
   "execution_count": 4,
   "metadata": {
    "ExecuteTime": {
     "end_time": "2019-08-22T09:37:12.456244Z",
     "start_time": "2019-08-22T09:37:10.379159Z"
    }
   },
   "outputs": [],
   "source": [
    "age_train=pd.read_csv(age_train_file_path,header=None,names=['uId','age_group'])\n",
    "age_train.age_group=age_train.age_group.apply(lambda x:x-1)\n",
    "age_train.age_group=age_train.age_group.astype('category')\n",
    "age_test=pd.read_csv(age_test_file_path,header=None,names=['id'])"
   ]
  },
  {
   "cell_type": "code",
   "execution_count": 5,
   "metadata": {
    "ExecuteTime": {
     "end_time": "2019-08-22T09:37:14.178189Z",
     "start_time": "2019-08-22T09:37:14.174139Z"
    }
   },
   "outputs": [],
   "source": [
    "###########用户基本数据#################"
   ]
  },
  {
   "cell_type": "code",
   "execution_count": 156,
   "metadata": {
    "ExecuteTime": {
     "end_time": "2019-08-22T09:37:22.705534Z",
     "start_time": "2019-08-22T09:37:17.280679Z"
    }
   },
   "outputs": [],
   "source": [
    "user_basic_info=pd.read_csv(user_basic_info_file_path,header=None,names=['uId',\n",
    "                                                                         'gender',\n",
    "                                                                         'city',\n",
    "                                                                         'prodName',#手机型号\n",
    "                                                                         'ramCapacity',#手机ram容量\n",
    "                                                                         'ramLeftRation',#ram剩余容量占比\n",
    "                                                                         'romCapacity',#ROM容量\n",
    "                                                                         'romLeftRation',#rom剩余容量占比\n",
    "                                                                         'color',#手机颜色\n",
    "                                                                         'fontSize',#字体大小\n",
    "                                                                         'ct',#上网类型\n",
    "                                                                         'carrier',#移动运营商\n",
    "                                                                         'os',#手机系统版本\n",
    "                                                                        ])"
   ]
  },
  {
   "cell_type": "code",
   "execution_count": 7,
   "metadata": {
    "ExecuteTime": {
     "end_time": "2019-08-22T09:37:59.323043Z",
     "start_time": "2019-08-22T09:37:30.825693Z"
    }
   },
   "outputs": [],
   "source": [
    "user_basic_info['gender']=user_basic_info['gender'].astype(np.int8)\n",
    "#增加新特征\n",
    "big_city=list(user_basic_info['city'].value_counts().iloc[:15].index)\n",
    "user_basic_info['is_in_big_city']=user_basic_info['city'].apply(lambda x:x in big_city).astype(np.int8)\n",
    "user_basic_info.loc[pd.isna(user_basic_info['fontSize']),'fontSize']=1\n",
    "user_basic_info['is_bigger']=user_basic_info['fontSize'].apply(lambda x:x>1.0).astype(np.int8)\n",
    "user_basic_info['is_smaller']=user_basic_info['fontSize'].apply(lambda x:x<1.0).astype(np.int8)\n",
    "user_basic_info['is_old_system']=user_basic_info['os'].apply(lambda x:x<=6.0).astype(np.int8)\n",
    "#处理异常值\n",
    "user_basic_info.loc[user_basic_info['romCapacity']==137,'romCapacity']=128\n",
    "user_basic_info.loc[user_basic_info['romCapacity']==68,'romCapacity']=64\n",
    "user_basic_info.loc[user_basic_info['romCapacity']==34,'romCapacity']=32\n",
    "user_basic_info.loc[user_basic_info['romCapacity']==275,'romCapacity']=256\n",
    "user_basic_info.loc[user_basic_info['romCapacity']==550,'romCapacity']=512\n",
    "user_basic_info.loc[user_basic_info['romCapacity']==17,'romCapacity']=16\n",
    "user_basic_info.loc[user_basic_info['romCapacity']==3,'romCapacity']=4\n",
    "user_basic_info.loc[user_basic_info['os']==12.1,'os']=8\n",
    "user_basic_info.loc[user_basic_info['romLeftRation']>1,'romLeftRation']=user_basic_info\\\n",
    "                                                                    .loc[user_basic_info['romLeftRation']>1,:]\\\n",
    "                                                            .apply(lambda x:x.romLeftRation/x.romCapacity,axis=1)\n",
    "#去除无用特征\n",
    "_=user_basic_info.pop('ct')\n",
    "\n",
    "#更改类型\n",
    "for column_name in ['gender','city','prodName','color','carrier']:\n",
    "    user_basic_info[column_name]=user_basic_info[column_name].astype('category')\n",
    "\n",
    "#处理空缺值及新增部分特征    \n",
    "user_phone_info_map={}\n",
    "for name,group in user_basic_info.groupby('prodName'):\n",
    "    user_phone_info_map[name]={}\n",
    "    user_phone_info_map[name]['ramCapacity']=group['ramCapacity'].mean()\n",
    "    user_phone_info_map[name]['romCapacity']=group['romCapacity'].mean()\n",
    "    user_phone_info_map[name]['ramLeftRation']=group['ramLeftRation'].mean()\n",
    "    user_phone_info_map[name]['romLeftRation']=group['romLeftRation'].mean()\n",
    "    user_phone_info_map[name]['ramMax']=group['ramCapacity'].max()\n",
    "    user_phone_info_map[name]['ramMin']=group['ramCapacity'].min()\n",
    "    user_phone_info_map[name]['romMax']=group['romCapacity'].max()\n",
    "    user_phone_info_map[name]['romMin']=group['romCapacity'].min()\n",
    "def fill_na(y,column_name):\n",
    "    return user_phone_info_map[y][column_name]\n",
    "for column_name in ['ramCapacity','romCapacity','ramLeftRation','romLeftRation']:\n",
    "    user_basic_info.loc[pd.isna(user_basic_info[column_name]),column_name]=\\\n",
    "            user_basic_info.loc[pd.isna(user_basic_info[column_name]),'prodName'].apply(lambda x:fill_na(x,column_name))\n",
    "for column_name in ['ramMax','ramMin','romMax','romMin']:\n",
    "    user_basic_info[column_name]=user_basic_info['prodName'].apply(lambda x:fill_na(x,column_name))\n",
    "for column_name in ['ramCapacity','romCapacity','ramLeftRation','romLeftRation','ramMax','ramMin','romMax','romMin','city','os']:\n",
    "    user_basic_info[column_name] = user_basic_info[column_name].fillna(user_basic_info[column_name].mode()[0])\n",
    "user_basic_info.loc[user_basic_info['ramLeftRation']>1,'ramLeftRation']=user_basic_info.loc[user_basic_info['ramLeftRation']>1,:].apply(lambda x:x['ramLeftRation']/x['ramCapacity'],axis=1)\n",
    "user_basic_info['ramLeft']=((1-user_basic_info['ramLeftRation'])*user_basic_info['ramCapacity']).astype(np.float32)\n",
    "user_basic_info['romLeft']=((1-user_basic_info['romLeftRation'])*user_basic_info['romCapacity']).astype(np.float32)\n",
    "\n",
    "###转为labelencoder\n",
    "cols = ['city','prodName','color','carrier','gender']\n",
    "for c in cols:\n",
    "    lbl = LabelEncoder()   \n",
    "    lbl.fit(list(user_basic_info[c].values)) \n",
    "    user_basic_info[c] = lbl.transform(list(user_basic_info[c].values))\n"
   ]
  },
  {
   "cell_type": "code",
   "execution_count": 8,
   "metadata": {
    "ExecuteTime": {
     "end_time": "2019-08-22T09:37:59.332977Z",
     "start_time": "2019-08-22T09:37:59.328409Z"
    }
   },
   "outputs": [],
   "source": [
    "############用户行为数据################"
   ]
  },
  {
   "cell_type": "code",
   "execution_count": 158,
   "metadata": {
    "ExecuteTime": {
     "end_time": "2019-08-22T09:38:02.377377Z",
     "start_time": "2019-08-22T09:37:59.336085Z"
    }
   },
   "outputs": [],
   "source": [
    "user_behavior_info=pd.read_csv(user_behavior_info_file_path,header=None,names=['uId',\n",
    "                                                                               'bootTimes',\n",
    "                                                                               'AFuncTimes',\n",
    "                                                                               'BFuncTimes',\n",
    "                                                                               'CFuncTimes',\n",
    "                                                                               'DFuncTimes',\n",
    "                                                                               'EFuncTimes',\n",
    "                                                                               'FFuncTimes',\n",
    "                                                                               'GFuncTimes',\n",
    "                                                                              ],dtype={'uId':np.int32,\n",
    "                                                                                      'bootTimes':np.int32,\n",
    "                                                                               'AFuncTimes':np.float32,\n",
    "                                                                               'BFuncTimes':np.float32,\n",
    "                                                                               'CFuncTimes':np.float32,\n",
    "                                                                               'DFuncTimes':np.float32,\n",
    "                                                                               'EFuncTimes':np.float32,\n",
    "                                                                               'FFuncTimes':np.float32,\n",
    "                                                                               'GFuncTimes':np.int32,})"
   ]
  },
  {
   "cell_type": "code",
   "execution_count": 159,
   "metadata": {},
   "outputs": [
    {
     "data": {
      "text/html": [
       "<div>\n",
       "<style scoped>\n",
       "    .dataframe tbody tr th:only-of-type {\n",
       "        vertical-align: middle;\n",
       "    }\n",
       "\n",
       "    .dataframe tbody tr th {\n",
       "        vertical-align: top;\n",
       "    }\n",
       "\n",
       "    .dataframe thead th {\n",
       "        text-align: right;\n",
       "    }\n",
       "</style>\n",
       "<table border=\"1\" class=\"dataframe\">\n",
       "  <thead>\n",
       "    <tr style=\"text-align: right;\">\n",
       "      <th></th>\n",
       "      <th>uId</th>\n",
       "      <th>bootTimes</th>\n",
       "      <th>AFuncTimes</th>\n",
       "      <th>BFuncTimes</th>\n",
       "      <th>CFuncTimes</th>\n",
       "      <th>DFuncTimes</th>\n",
       "      <th>EFuncTimes</th>\n",
       "      <th>FFuncTimes</th>\n",
       "      <th>GFuncTimes</th>\n",
       "    </tr>\n",
       "  </thead>\n",
       "  <tbody>\n",
       "    <tr>\n",
       "      <th>count</th>\n",
       "      <td>5.000000e+06</td>\n",
       "      <td>5.000000e+06</td>\n",
       "      <td>5.000000e+06</td>\n",
       "      <td>5.000000e+06</td>\n",
       "      <td>5.000000e+06</td>\n",
       "      <td>5.000000e+06</td>\n",
       "      <td>5.000000e+06</td>\n",
       "      <td>5.000000e+06</td>\n",
       "      <td>5.000000e+06</td>\n",
       "    </tr>\n",
       "    <tr>\n",
       "      <th>mean</th>\n",
       "      <td>1.076118e+07</td>\n",
       "      <td>1.919097e+01</td>\n",
       "      <td>5.774751e-01</td>\n",
       "      <td>1.302351e-01</td>\n",
       "      <td>1.557342e+00</td>\n",
       "      <td>2.541633e+00</td>\n",
       "      <td>2.132084e+00</td>\n",
       "      <td>1.520421e-01</td>\n",
       "      <td>8.938465e+03</td>\n",
       "    </tr>\n",
       "    <tr>\n",
       "      <th>std</th>\n",
       "      <td>7.444156e+06</td>\n",
       "      <td>2.844506e+01</td>\n",
       "      <td>1.089338e+00</td>\n",
       "      <td>1.295618e+00</td>\n",
       "      <td>7.601761e+00</td>\n",
       "      <td>1.171342e+01</td>\n",
       "      <td>9.934189e+00</td>\n",
       "      <td>1.110676e+00</td>\n",
       "      <td>8.224821e+04</td>\n",
       "    </tr>\n",
       "    <tr>\n",
       "      <th>min</th>\n",
       "      <td>1.000006e+06</td>\n",
       "      <td>0.000000e+00</td>\n",
       "      <td>0.000000e+00</td>\n",
       "      <td>-1.182000e+03</td>\n",
       "      <td>-1.825500e+03</td>\n",
       "      <td>-1.000000e+03</td>\n",
       "      <td>-1.000000e+03</td>\n",
       "      <td>0.000000e+00</td>\n",
       "      <td>-1.000000e+00</td>\n",
       "    </tr>\n",
       "    <tr>\n",
       "      <th>25%</th>\n",
       "      <td>4.745554e+06</td>\n",
       "      <td>4.000000e+00</td>\n",
       "      <td>0.000000e+00</td>\n",
       "      <td>0.000000e+00</td>\n",
       "      <td>0.000000e+00</td>\n",
       "      <td>0.000000e+00</td>\n",
       "      <td>0.000000e+00</td>\n",
       "      <td>0.000000e+00</td>\n",
       "      <td>0.000000e+00</td>\n",
       "    </tr>\n",
       "    <tr>\n",
       "      <th>50%</th>\n",
       "      <td>9.051819e+06</td>\n",
       "      <td>1.000000e+01</td>\n",
       "      <td>0.000000e+00</td>\n",
       "      <td>0.000000e+00</td>\n",
       "      <td>3.000000e-01</td>\n",
       "      <td>6.700000e-01</td>\n",
       "      <td>3.300000e-01</td>\n",
       "      <td>0.000000e+00</td>\n",
       "      <td>3.390000e+02</td>\n",
       "    </tr>\n",
       "    <tr>\n",
       "      <th>75%</th>\n",
       "      <td>1.540960e+07</td>\n",
       "      <td>2.200000e+01</td>\n",
       "      <td>1.000000e+00</td>\n",
       "      <td>7.000000e-02</td>\n",
       "      <td>1.500000e+00</td>\n",
       "      <td>3.000000e+00</td>\n",
       "      <td>2.600000e+00</td>\n",
       "      <td>0.000000e+00</td>\n",
       "      <td>4.313000e+03</td>\n",
       "    </tr>\n",
       "    <tr>\n",
       "      <th>max</th>\n",
       "      <td>4.455089e+07</td>\n",
       "      <td>4.500000e+02</td>\n",
       "      <td>8.000000e+00</td>\n",
       "      <td>1.500000e+02</td>\n",
       "      <td>1.500000e+02</td>\n",
       "      <td>1.000000e+03</td>\n",
       "      <td>1.000000e+03</td>\n",
       "      <td>2.000000e+01</td>\n",
       "      <td>4.232854e+07</td>\n",
       "    </tr>\n",
       "  </tbody>\n",
       "</table>\n",
       "</div>"
      ],
      "text/plain": [
       "                uId     bootTimes    AFuncTimes    BFuncTimes    CFuncTimes  \\\n",
       "count  5.000000e+06  5.000000e+06  5.000000e+06  5.000000e+06  5.000000e+06   \n",
       "mean   1.076118e+07  1.919097e+01  5.774751e-01  1.302351e-01  1.557342e+00   \n",
       "std    7.444156e+06  2.844506e+01  1.089338e+00  1.295618e+00  7.601761e+00   \n",
       "min    1.000006e+06  0.000000e+00  0.000000e+00 -1.182000e+03 -1.825500e+03   \n",
       "25%    4.745554e+06  4.000000e+00  0.000000e+00  0.000000e+00  0.000000e+00   \n",
       "50%    9.051819e+06  1.000000e+01  0.000000e+00  0.000000e+00  3.000000e-01   \n",
       "75%    1.540960e+07  2.200000e+01  1.000000e+00  7.000000e-02  1.500000e+00   \n",
       "max    4.455089e+07  4.500000e+02  8.000000e+00  1.500000e+02  1.500000e+02   \n",
       "\n",
       "         DFuncTimes    EFuncTimes    FFuncTimes    GFuncTimes  \n",
       "count  5.000000e+06  5.000000e+06  5.000000e+06  5.000000e+06  \n",
       "mean   2.541633e+00  2.132084e+00  1.520421e-01  8.938465e+03  \n",
       "std    1.171342e+01  9.934189e+00  1.110676e+00  8.224821e+04  \n",
       "min   -1.000000e+03 -1.000000e+03  0.000000e+00 -1.000000e+00  \n",
       "25%    0.000000e+00  0.000000e+00  0.000000e+00  0.000000e+00  \n",
       "50%    6.700000e-01  3.300000e-01  0.000000e+00  3.390000e+02  \n",
       "75%    3.000000e+00  2.600000e+00  0.000000e+00  4.313000e+03  \n",
       "max    1.000000e+03  1.000000e+03  2.000000e+01  4.232854e+07  "
      ]
     },
     "execution_count": 159,
     "metadata": {},
     "output_type": "execute_result"
    }
   ],
   "source": [
    "user_behavior_info.describe()"
   ]
  },
  {
   "cell_type": "code",
   "execution_count": 10,
   "metadata": {
    "ExecuteTime": {
     "end_time": "2019-08-22T09:38:25.271478Z",
     "start_time": "2019-08-22T09:38:02.551698Z"
    }
   },
   "outputs": [],
   "source": [
    "user_behavior_info=user_behavior_info.applymap(lambda x:max(0,x))\n",
    "for column_name in user_behavior_info.columns:\n",
    "    if column_name=='uId':\n",
    "        continue\n",
    "    p99= user_behavior_info[column_name].quantile(0.99)\n",
    "    user_behavior_info.loc[user_behavior_info[column_name]>p99,column_name]=p99"
   ]
  },
  {
   "cell_type": "code",
   "execution_count": 11,
   "metadata": {
    "ExecuteTime": {
     "end_time": "2019-08-22T09:38:25.276789Z",
     "start_time": "2019-08-22T09:38:25.273975Z"
    }
   },
   "outputs": [],
   "source": [
    "#####################App分类数据##################"
   ]
  },
  {
   "cell_type": "code",
   "execution_count": 12,
   "metadata": {
    "ExecuteTime": {
     "end_time": "2019-08-22T09:38:25.600297Z",
     "start_time": "2019-08-22T09:38:25.278987Z"
    }
   },
   "outputs": [],
   "source": [
    "app_info=pd.read_csv(app_info_file_path,header=None,names=['appId','category'],dtype={'appId':str,'category':'category'})\n",
    "app_category_list=list(app_info.category.unique())"
   ]
  },
  {
   "cell_type": "code",
   "execution_count": 13,
   "metadata": {
    "ExecuteTime": {
     "end_time": "2019-08-22T09:38:25.605789Z",
     "start_time": "2019-08-22T09:38:25.602973Z"
    }
   },
   "outputs": [],
   "source": [
    "############top安装app###############"
   ]
  },
  {
   "cell_type": "code",
   "execution_count": 14,
   "metadata": {},
   "outputs": [],
   "source": [
    "# pd_app_use_count=pd.read_csv('./temp_data/app_use_count.csv')\n",
    "# temp_sorted_app_use_count=pd_app_use_count.sort_values(by='count',ascending=False).iloc[0:100,:]\n",
    "# temp_sorted_app_use_count=temp_sorted_app_use_count.reset_index()\n",
    "# def get_top_app_id(data):\n",
    "#     app_rank_map={}\n",
    "#     for index,row in data.iterrows():\n",
    "#         app_rank_map[row['appId']]=index\n",
    "#     return app_rank_map\n",
    "# top_500_app=get_top_app_id(temp_sorted_app_use_count)"
   ]
  },
  {
   "cell_type": "code",
   "execution_count": 15,
   "metadata": {
    "ExecuteTime": {
     "end_time": "2019-08-22T09:41:23.964505Z",
     "start_time": "2019-08-22T09:41:23.959940Z"
    }
   },
   "outputs": [],
   "source": [
    "#######用户激活app统计###########"
   ]
  },
  {
   "cell_type": "code",
   "execution_count": 16,
   "metadata": {},
   "outputs": [],
   "source": [
    "# final_user_app_actived_read_map={}\n",
    "# for name in app_category_list:\n",
    "#     final_user_app_actived_read_map[name]=np.int32\n",
    "#     final_user_app_actived_read_map[name+'_rate']=np.float32\n",
    "# for app_name in top_500_app.keys():\n",
    "#     final_user_app_actived_read_map[app_name]=np.int8\n",
    "# final_user_app_actived_read_map['uId']=np.int32\n",
    "# final_user_app_actived_read_map['app_count']=np.int32\n",
    "# final_user_app_actived=pd.read_csv(temp_save_dir+'final_user_app_actived.csv',dtype=final_user_app_actived_read_map)"
   ]
  },
  {
   "cell_type": "code",
   "execution_count": 17,
   "metadata": {},
   "outputs": [],
   "source": [
    "######top使用时长app#########"
   ]
  },
  {
   "cell_type": "code",
   "execution_count": 18,
   "metadata": {},
   "outputs": [],
   "source": [
    "# pd_user_app_usage_appid_count=pd.read_csv(temp_save_dir+'pd_user_app_usage_appid_count.csv')\n",
    "# top_usage_app=pd_user_app_usage_appid_count.sort_values(by='count',ascending=False).iloc[0:500,:]\n",
    "# top_usage_app=get_top_app_id(top_usage_app)"
   ]
  },
  {
   "cell_type": "code",
   "execution_count": 19,
   "metadata": {
    "ExecuteTime": {
     "end_time": "2019-08-22T09:42:00.608532Z",
     "start_time": "2019-08-22T09:42:00.604827Z"
    }
   },
   "outputs": [],
   "source": [
    "####用户使用时长app统计#######"
   ]
  },
  {
   "cell_type": "code",
   "execution_count": 20,
   "metadata": {},
   "outputs": [],
   "source": [
    "# user_app_usage_statistic_dtype_map={}\n",
    "# for app_category_name in app_category_list:\n",
    "#     user_app_usage_statistic_dtype_map[app_category_name+'_times']=np.float32\n",
    "#     user_app_usage_statistic_dtype_map[app_category_name+'_duration']=np.float32\n",
    "#     user_app_usage_statistic_dtype_map[app_category_name+'_avg']=np.float32\n",
    "# user_app_usage_statistic_dtype_map['uId']=np.int32\n",
    "# user_app_usage_statistic_dtype_map['all_times']=np.int32\n",
    "# user_app_usage_statistic_dtype_map['all_duration']=np.int32\n",
    "# user_app_usage_statistic_dtype_map['use_days']=np.int32\n",
    "# user_app_usage_statistic_dtype_map['app_usage_count']=np.int32\n",
    "# pd_user_app_usage=pd.read_csv(temp_save_dir+'user_app_usage_statistic_fifth_version_sum_simply_version.csv',dtype=user_app_usage_statistic_dtype_map)"
   ]
  },
  {
   "cell_type": "code",
   "execution_count": 21,
   "metadata": {
    "ExecuteTime": {
     "end_time": "2019-08-22T09:39:46.662591Z",
     "start_time": "2019-08-22T09:39:41.701004Z"
    }
   },
   "outputs": [],
   "source": [
    "final_user_app_actived=pd.read_hdf(temp_save_dir+'final_user_app_actived.h5',key='data')"
   ]
  },
  {
   "cell_type": "code",
   "execution_count": 22,
   "metadata": {},
   "outputs": [],
   "source": [
    "for i in final_user_app_actived.columns:\n",
    "    if i.endswith('_rate'):\n",
    "        _=final_user_app_actived.pop(i)"
   ]
  },
  {
   "cell_type": "code",
   "execution_count": 23,
   "metadata": {
    "ExecuteTime": {
     "end_time": "2019-08-22T09:39:52.443352Z",
     "start_time": "2019-08-22T09:39:49.807695Z"
    }
   },
   "outputs": [],
   "source": [
    "pd_user_app_usage=pd.read_hdf(temp_save_dir+'user_app_usage_statistic.h5',key='data')"
   ]
  },
  {
   "cell_type": "code",
   "execution_count": 24,
   "metadata": {},
   "outputs": [],
   "source": [
    "for i in pd_user_app_usage.columns:\n",
    "    if i.endswith('_avg'):\n",
    "        _=pd_user_app_usage.pop(i)"
   ]
  },
  {
   "cell_type": "code",
   "execution_count": 25,
   "metadata": {
    "ExecuteTime": {
     "end_time": "2019-08-22T09:42:25.869706Z",
     "start_time": "2019-08-22T09:42:25.865302Z"
    }
   },
   "outputs": [],
   "source": [
    "##############app激活list################"
   ]
  },
  {
   "cell_type": "code",
   "execution_count": 26,
   "metadata": {
    "ExecuteTime": {
     "end_time": "2019-08-22T09:45:42.870752Z",
     "start_time": "2019-08-22T09:42:30.546609Z"
    }
   },
   "outputs": [],
   "source": [
    "actived_app_size = 10010\n",
    "actived_max_length = 150\n",
    "\n",
    "user_app_actived=pd.read_csv(user_app_actived_file_path,header=None,names=['uId','appId'])\n",
    "\n",
    "encoded_apps = [one_hot(app[0], actived_app_size, split='#') for app in user_app_actived[['appId']].values]\n",
    "\n",
    "padded_apps = pad_sequences(encoded_apps, maxlen=actived_max_length, padding='post')\n",
    "padded_apps = np.array(padded_apps)\n",
    "\n",
    "actived_padded_apps_uId = pd.concat([user_app_actived,pd.DataFrame(padded_apps,dtype=int)], axis=1)\n",
    "_ = actived_padded_apps_uId.pop('appId')"
   ]
  },
  {
   "cell_type": "code",
   "execution_count": 27,
   "metadata": {
    "ExecuteTime": {
     "end_time": "2019-08-22T09:45:42.881404Z",
     "start_time": "2019-08-22T09:45:42.876656Z"
    }
   },
   "outputs": [],
   "source": [
    "##############app使用list################"
   ]
  },
  {
   "cell_type": "code",
   "execution_count": 28,
   "metadata": {
    "ExecuteTime": {
     "end_time": "2019-08-22T13:03:25.361071Z",
     "start_time": "2019-08-22T13:01:17.816729Z"
    }
   },
   "outputs": [],
   "source": [
    "usage_app_size = 10010\n",
    "usage_max_length = 200\n",
    "\n",
    "app_usage_info=pd.read_hdf(data_dir+'user_app_usage_df.h5',key='data')\n",
    "app_usage_info.loc[pd.isna(app_usage_info['appIds']),'appIds']=''\n",
    "\n",
    "encoded_apps = [one_hot(app[0], usage_app_size, split='#') for app in app_usage_info[['appIds']].values]\n",
    "\n",
    "padded_apps = pad_sequences(encoded_apps, maxlen=usage_max_length, padding='post')\n",
    "padded_apps = np.array(padded_apps)\n",
    "\n",
    "padded_apps_uId = pd.concat([app_usage_info,pd.DataFrame(padded_apps,dtype=int)], axis=1)\n",
    "_ = padded_apps_uId.pop('appIds')"
   ]
  },
  {
   "cell_type": "code",
   "execution_count": 29,
   "metadata": {
    "ExecuteTime": {
     "end_time": "2019-08-22T09:48:05.251770Z",
     "start_time": "2019-08-22T09:48:05.247587Z"
    }
   },
   "outputs": [],
   "source": [
    "#########embedding###########"
   ]
  },
  {
   "cell_type": "code",
   "execution_count": 30,
   "metadata": {
    "ExecuteTime": {
     "end_time": "2019-08-22T09:48:05.324661Z",
     "start_time": "2019-08-22T09:48:05.289562Z"
    }
   },
   "outputs": [],
   "source": [
    "embedding_dtype_map={'uId':np.int32}\n",
    "for i in range(32):\n",
    "    embedding_dtype_map[str(i)+'_sum']=np.float32\n",
    "    embedding_dtype_map[str(i)+'_avg']=np.float32"
   ]
  },
  {
   "cell_type": "code",
   "execution_count": 31,
   "metadata": {
    "ExecuteTime": {
     "end_time": "2019-08-22T11:02:12.726679Z",
     "start_time": "2019-08-22T11:02:10.117274Z"
    }
   },
   "outputs": [],
   "source": [
    "app_train_embedding_sum=pd.read_hdf(temp_save_dir+'app_actived_embedding_by_w2v_avg_windows_5_size_128_iter_20_1.h5',key='data')\n",
    "app_usage_embedding_sum=pd.read_hdf(temp_save_dir+'app_usage_embedding_by_w2v_sum_windows_5_size_128_iter_20_1.h5',key='data')\n"
   ]
  },
  {
   "cell_type": "code",
   "execution_count": 32,
   "metadata": {
    "ExecuteTime": {
     "end_time": "2019-08-22T11:02:55.132497Z",
     "start_time": "2019-08-22T11:02:14.735390Z"
    }
   },
   "outputs": [],
   "source": [
    "# for emb in [app_train_embedding_sum,\n",
    "# #             app_train_embedding_avg,\n",
    "#             app_usage_embedding_sum,\n",
    "# #             app_usage_embedding_avg\n",
    "#            ]:#,\\\n",
    "#            #cbow_app_train_embedding_sum,cbow_app_train_embedding_avg,cbow_app_usage_embedding_sum,cbow_app_usage_embedding_avg]:\n",
    "#     need_norm=list(emb.columns)\n",
    "#     need_norm.remove('uId')\n",
    "#     norm=np.linalg.norm(emb[need_norm],axis=1,keepdims=True)\n",
    "#     print('start divid ')\n",
    "#     emb[need_norm]=np.array(emb[need_norm])/norm\n",
    "#     emb['uId']=emb['uId'].astype(np.int32)\n",
    "#     #emb['norm']=pd.DataFrame(norm)\n",
    "#     print('finish')\n",
    "    "
   ]
  },
  {
   "cell_type": "code",
   "execution_count": 33,
   "metadata": {},
   "outputs": [],
   "source": [
    "###########lstm输入数据"
   ]
  },
  {
   "cell_type": "code",
   "execution_count": 34,
   "metadata": {
    "ExecuteTime": {
     "end_time": "2019-08-22T11:06:26.958552Z",
     "start_time": "2019-08-22T11:05:51.338724Z"
    }
   },
   "outputs": [],
   "source": [
    "# train_lstm_input = pd.read_hdf(data_dir+'./train_lstm_input.h5',key='data')\n",
    "# test_lstm_input = pd.read_hdf(data_dir+'./test_lstm_input.h5',key='data')"
   ]
  },
  {
   "cell_type": "code",
   "execution_count": 35,
   "metadata": {
    "ExecuteTime": {
     "end_time": "2019-08-22T09:48:05.480944Z",
     "start_time": "2019-08-22T09:43:05.145Z"
    }
   },
   "outputs": [],
   "source": [
    "#########yc的26维统计特征"
   ]
  },
  {
   "cell_type": "code",
   "execution_count": 36,
   "metadata": {
    "ExecuteTime": {
     "end_time": "2019-08-22T11:06:30.721472Z",
     "start_time": "2019-08-22T11:06:29.325976Z"
    }
   },
   "outputs": [],
   "source": [
    "train_yc_static=pd.read_hdf(data_dir+'train_app_usage_stat_df.h5',key='data')\n",
    "test_yc_static=pd.read_hdf(data_dir+'test_app_usage_stat_df.h5',key='data')"
   ]
  },
  {
   "cell_type": "code",
   "execution_count": 37,
   "metadata": {
    "ExecuteTime": {
     "end_time": "2019-08-22T09:48:05.484562Z",
     "start_time": "2019-08-22T09:43:12.437Z"
    }
   },
   "outputs": [],
   "source": [
    "#########usage数据以及转化率"
   ]
  },
  {
   "cell_type": "code",
   "execution_count": 38,
   "metadata": {
    "ExecuteTime": {
     "end_time": "2019-08-22T11:06:34.502129Z",
     "start_time": "2019-08-22T11:06:30.725293Z"
    }
   },
   "outputs": [],
   "source": [
    "train_app_trans_rate_with_usage=pd.read_hdf(data_dir+'train_app_trans_rate_with_usage.h5',key='data')\n",
    "test_app_trans_rate_with_usage=pd.read_hdf(data_dir+'test_app_trans_rate_with_usage.h5',key='data')"
   ]
  },
  {
   "cell_type": "code",
   "execution_count": 39,
   "metadata": {
    "ExecuteTime": {
     "end_time": "2019-08-22T09:48:05.488962Z",
     "start_time": "2019-08-22T09:43:22.096Z"
    }
   },
   "outputs": [],
   "source": [
    "##########构建训练集#######"
   ]
  },
  {
   "cell_type": "code",
   "execution_count": 40,
   "metadata": {
    "ExecuteTime": {
     "end_time": "2019-08-22T11:07:00.781270Z",
     "start_time": "2019-08-22T11:06:34.506223Z"
    }
   },
   "outputs": [],
   "source": [
    "numeric_input=pd.merge(age_train[['uId']],user_basic_info,on='uId',how='left')\n",
    "numeric_input=pd.merge(numeric_input,user_behavior_info,on='uId',how='left')\n",
    "numeric_input=pd.merge(numeric_input,final_user_app_actived,on='uId',how='left')\n",
    "numeric_input=pd.merge(numeric_input,pd_user_app_usage,on='uId',how='left')\n",
    "numeric_input.fillna(0,inplace=True)\n",
    "_=numeric_input.pop('uId')"
   ]
  },
  {
   "cell_type": "code",
   "execution_count": 41,
   "metadata": {
    "ExecuteTime": {
     "end_time": "2019-08-22T11:07:00.944120Z",
     "start_time": "2019-08-22T11:07:00.785609Z"
    }
   },
   "outputs": [],
   "source": [
    "train_gender_input=numeric_input.pop('gender')\n",
    "train_city_input=numeric_input.pop('city')\n",
    "train_prodName_input=numeric_input.pop('prodName')\n",
    "train_color_input=numeric_input.pop('color')\n",
    "_=numeric_input.pop('carrier')"
   ]
  },
  {
   "cell_type": "code",
   "execution_count": 42,
   "metadata": {},
   "outputs": [],
   "source": [
    "# top_feature_select=SelectKBest(chi2,k=150)\n",
    "# top_feature_select.fit(numeric_input,age_train['age_group'])\n",
    "# numeric_input=top_feature_select.transform(numeric_input)"
   ]
  },
  {
   "cell_type": "code",
   "execution_count": 43,
   "metadata": {
    "ExecuteTime": {
     "end_time": "2019-08-22T11:08:07.592777Z",
     "start_time": "2019-08-22T11:07:40.706602Z"
    }
   },
   "outputs": [],
   "source": [
    "scaler = StandardScaler().fit(numeric_input)\n",
    "numeric_input = scaler.transform(numeric_input)  "
   ]
  },
  {
   "cell_type": "code",
   "execution_count": 44,
   "metadata": {},
   "outputs": [
    {
     "data": {
      "text/plain": [
       "(4000000, 125)"
      ]
     },
     "execution_count": 44,
     "metadata": {},
     "output_type": "execute_result"
    }
   ],
   "source": [
    "numeric_input.shape"
   ]
  },
  {
   "cell_type": "code",
   "execution_count": 45,
   "metadata": {
    "ExecuteTime": {
     "end_time": "2019-08-22T11:08:13.472011Z",
     "start_time": "2019-08-22T11:08:07.597672Z"
    }
   },
   "outputs": [],
   "source": [
    "# train_app_actived_input=app_actived_train_inputs\n",
    "train_app_actived_input=pd.merge(age_train[['uId']],actived_padded_apps_uId,on='uId',how='left')\n",
    "train_app_actived_input.fillna(0,inplace=True)\n",
    "_=train_app_actived_input.pop('uId')"
   ]
  },
  {
   "cell_type": "code",
   "execution_count": 46,
   "metadata": {
    "ExecuteTime": {
     "end_time": "2019-08-22T11:08:26.892497Z",
     "start_time": "2019-08-22T11:08:13.475067Z"
    }
   },
   "outputs": [],
   "source": [
    "train_app_usage_input=pd.merge(age_train[['uId']],padded_apps_uId,on='uId',how='left')\n",
    "train_app_usage_input.fillna(0,inplace=True)\n",
    "_=train_app_usage_input.pop('uId')"
   ]
  },
  {
   "cell_type": "code",
   "execution_count": 47,
   "metadata": {
    "ExecuteTime": {
     "end_time": "2019-08-22T11:08:26.912327Z",
     "start_time": "2019-08-22T11:08:26.898595Z"
    }
   },
   "outputs": [],
   "source": [
    "# train_lstm_input=train_lstm_input.values.reshape((-1,7,200))"
   ]
  },
  {
   "cell_type": "code",
   "execution_count": 48,
   "metadata": {
    "ExecuteTime": {
     "end_time": "2019-08-22T11:08:27.002830Z",
     "start_time": "2019-08-22T11:08:26.915614Z"
    }
   },
   "outputs": [],
   "source": [
    "train_emb_list=[]\n",
    "emb_scaler=[]"
   ]
  },
  {
   "cell_type": "code",
   "execution_count": 49,
   "metadata": {
    "ExecuteTime": {
     "end_time": "2019-08-22T11:09:03.594154Z",
     "start_time": "2019-08-22T11:08:27.009031Z"
    }
   },
   "outputs": [],
   "source": [
    "for emb in [app_train_embedding_sum,\n",
    "#             app_train_embedding_avg,\n",
    "            app_usage_embedding_sum,\n",
    "#             app_usage_embedding_avg\n",
    "           ]:#,\\\n",
    "    train_emb=pd.merge(age_train[['uId']],emb,on='uId',how='left')\n",
    "    train_emb.fillna(0,inplace=True)\n",
    "    _=train_emb.pop('uId')\n",
    "    train_emb_scaler=StandardScaler().fit(train_emb)\n",
    "    train_emb=train_emb_scaler.transform(train_emb)\n",
    "    train_emb_list.append(train_emb)\n",
    "    emb_scaler.append(train_emb_scaler)"
   ]
  },
  {
   "cell_type": "code",
   "execution_count": 50,
   "metadata": {
    "ExecuteTime": {
     "end_time": "2019-08-22T11:09:09.263428Z",
     "start_time": "2019-08-22T11:09:03.598154Z"
    }
   },
   "outputs": [],
   "source": [
    "yc_scalar=StandardScaler().fit(train_yc_static)\n",
    "train_yc_static=yc_scalar.transform(train_yc_static)  "
   ]
  },
  {
   "cell_type": "code",
   "execution_count": 51,
   "metadata": {},
   "outputs": [],
   "source": [
    "#########神经网络"
   ]
  },
  {
   "cell_type": "code",
   "execution_count": 167,
   "metadata": {
    "ExecuteTime": {
     "end_time": "2019-08-22T13:05:44.976111Z",
     "start_time": "2019-08-22T13:05:44.927229Z"
    }
   },
   "outputs": [],
   "source": [
    "def build_res_net():\n",
    "    inputs = []\n",
    "    city_embedding_size = 20\n",
    "    prodName_embedding_size = 15\n",
    "    color_embedding_size = 10\n",
    "    gender_color_embedding_size = 15\n",
    "    app_actived_size = 30\n",
    "    app_usage_size = 30\n",
    "    \n",
    "    city_input = Input(shape=(1,))\n",
    "    city_embedded = Embedding(343, city_embedding_size, input_length=1)(city_input)\n",
    "    inputs.append(city_input)\n",
    "    \n",
    "    prodName_input = Input(shape=(1,))\n",
    "    prodName_embedded = Embedding(114, prodName_embedding_size, input_length=1)(prodName_input)\n",
    "    inputs.append(prodName_input)\n",
    "    \n",
    "    color_input = Input(shape=(1,))\n",
    "    color_embedded = Embedding(117, color_embedding_size, input_length=1)(color_input)\n",
    "    inputs.append(color_input)\n",
    "    \n",
    "    gender_color_input = Input(shape=(1,))\n",
    "    gender_color_embedded = Embedding(266, gender_color_embedding_size, input_length=1)(gender_color_input)\n",
    "    inputs.append(gender_color_input)\n",
    "    \n",
    "    input_numeric = Input(shape=(125,))\n",
    "    inputs.append(input_numeric)\n",
    "    \n",
    "    \n",
    "    \n",
    "    app_actived_input = Input(shape=(150,))\n",
    "    app_actived_embedded = Embedding(10010,app_actived_size,input_length=150)(app_actived_input)\n",
    "    app_actived_embedded_layer = Lambda(lambda x:K.sum(x,axis=1))(app_actived_embedded)\n",
    "    inputs.append(app_actived_input)\n",
    "\n",
    "\n",
    "  \n",
    "    \n",
    "    \n",
    "    app_usage_input = Input(shape=(200,))\n",
    "    app_usage_embedded = Embedding(10010,app_usage_size,input_length=200)(app_usage_input)\n",
    "    app_usage_embedded_layer = Lambda(lambda x:K.sum(x,axis=1))(app_usage_embedded)\n",
    "    inputs.append(app_usage_input)\n",
    "    \n",
    "    \n",
    "\n",
    "#     gru_input = Input(shape=(7,200))\n",
    "#     gru = Bidirectional(GRU(64,dropout=0.2,recurrent_dropout=0.2,return_sequences=True))(gru_input)\n",
    "#     gru = Bidirectional(GRU(32,dropout=0.2,recurrent_dropout=0.2))(gru)\n",
    "#     inputs.append(gru_input)\n",
    "\n",
    "\n",
    "\n",
    "\n",
    "    yc_static_input=Input(shape=(26,))\n",
    "    inputs.append(yc_static_input)\n",
    "    \n",
    "    usgae_trans_rate_input=Input(shape=(66,))\n",
    "    inputs.append(usgae_trans_rate_input)\n",
    "    \n",
    "    actived_emb_sum_input=Input(shape=(128,))\n",
    "    inputs.append(actived_emb_sum_input)\n",
    "    \n",
    "\n",
    "    \n",
    "    usgae_emb_sum_input=Input(shape=(128,))\n",
    "    inputs.append(usgae_emb_sum_input)\n",
    "\n",
    "        \n",
    "    \n",
    "    con = Concatenate()([city_embedded, prodName_embedded, color_embedded,gender_color_embedded])\n",
    "    flatten = Flatten()(con)\n",
    "    x = Concatenate()([flatten, \n",
    "                       input_numeric, \n",
    "                       app_actived_embedded_layer, app_usage_embedded_layer,\n",
    "                       actived_emb_sum_input,\n",
    "                       usgae_emb_sum_input,\n",
    "#                         gru,\n",
    "                       yc_static_input,\n",
    "                       usgae_trans_rate_input,\n",
    "                      ])\n",
    "    \n",
    "    x = Dense(1024)(x)\n",
    "    y = BatchNormalization()(x)\n",
    "    y = PReLU()(y)\n",
    "    y = Dropout(0.2)(y)\n",
    "    y = Dense(1024)(y)\n",
    "    y = BatchNormalization()(y)\n",
    "    y = PReLU()(y)\n",
    "    y = Dropout(0.2)(y)\n",
    "    residual = x\n",
    "    y = Add()([y, residual])\n",
    "    \n",
    "    x = Dense(1024)(y)\n",
    "    residual = y\n",
    "    y = BatchNormalization()(x)\n",
    "    y = PReLU()(y)\n",
    "    y = Dropout(0.2)(y)\n",
    "    y = Dense(1024)(y)\n",
    "    y = BatchNormalization()(y)\n",
    "    y = PReLU()(y)\n",
    "    y = Dropout(0.2)(y)\n",
    "    y = Add()([y, residual])\n",
    "    \n",
    "    x = Dense(1024)(y)\n",
    "    residual = y\n",
    "    y = BatchNormalization()(x)\n",
    "    y = PReLU()(y)\n",
    "    y = Dropout(0.2)(y)\n",
    "    y = Dense(1024)(y)\n",
    "    y = BatchNormalization()(y)\n",
    "    y = PReLU()(y)\n",
    "    y = Dropout(0.2)(y)\n",
    "    y = Add()([y, residual])\n",
    "    \n",
    "    x = Dense(1024)(y)\n",
    "    residual = y\n",
    "    y = BatchNormalization()(x)\n",
    "    y = PReLU()(y)\n",
    "    y = Dropout(0.2)(y)\n",
    "    y = Dense(1024)(y)\n",
    "    y = BatchNormalization()(y)\n",
    "    y = PReLU()(y)\n",
    "    y = Dropout(0.2)(y)\n",
    "    y = Add()([y, residual])\n",
    "    \n",
    "    x = Dense(128)(y)\n",
    "    y = BatchNormalization()(x)\n",
    "    y = PReLU()(y)\n",
    "    y = Dropout(0.2)(y)\n",
    "    y = Dense(128)(y)\n",
    "    y = BatchNormalization()(y)\n",
    "    y = PReLU()(y)\n",
    "    y = Dropout(0.2)(y)\n",
    "    residual = x\n",
    "    y = Add()([y, residual])\n",
    "    \n",
    "    output = Dense(1)(y)\n",
    "#     output = Activation('softmax',name='cate_out')(output)\n",
    "    model = Model(inputs, output)\n",
    "    model.compile(loss='mse', optimizer=optimizers.Adam(lr=0.001),metrics=['accuracy'])\n",
    "    return model"
   ]
  },
  {
   "cell_type": "code",
   "execution_count": 163,
   "metadata": {
    "ExecuteTime": {
     "end_time": "2019-08-22T11:09:09.434699Z",
     "start_time": "2019-08-22T11:09:09.349556Z"
    }
   },
   "outputs": [],
   "source": [
    "model_name='my_model_18.h5'"
   ]
  },
  {
   "cell_type": "code",
   "execution_count": 54,
   "metadata": {
    "ExecuteTime": {
     "end_time": "2019-08-22T11:13:22.644699Z",
     "start_time": "2019-08-22T11:13:22.638667Z"
    }
   },
   "outputs": [],
   "source": [
    "callbacks_list = [\n",
    "    EarlyStopping(\n",
    "        monitor='val_loss',\n",
    "        patience=20\n",
    "    ),\n",
    "    ModelCheckpoint(\n",
    "        filepath=model_name, \n",
    "        monitor='val_loss', \n",
    "        save_best_only=True\n",
    "    )\n",
    "]"
   ]
  },
  {
   "cell_type": "code",
   "execution_count": 55,
   "metadata": {},
   "outputs": [],
   "source": [
    "####训练集"
   ]
  },
  {
   "cell_type": "code",
   "execution_count": 56,
   "metadata": {
    "ExecuteTime": {
     "end_time": "2019-08-22T13:05:58.956299Z",
     "start_time": "2019-08-22T13:05:58.949937Z"
    }
   },
   "outputs": [],
   "source": [
    "X = [train_city_input,train_prodName_input,train_color_input,train_gender_input,numeric_input,train_app_actived_input.values,train_app_usage_input.values,train_yc_static,train_app_trans_rate_with_usage.values]+train_emb_list"
   ]
  },
  {
   "cell_type": "code",
   "execution_count": 57,
   "metadata": {
    "ExecuteTime": {
     "end_time": "2019-08-22T11:13:27.709686Z",
     "start_time": "2019-08-22T11:13:27.589811Z"
    }
   },
   "outputs": [],
   "source": [
    "Y = np_utils.to_categorical(age_train['age_group'].values, 6)"
   ]
  },
  {
   "cell_type": "code",
   "execution_count": 160,
   "metadata": {},
   "outputs": [
    {
     "name": "stdout",
     "output_type": "stream",
     "text": [
      "2700000\n"
     ]
    }
   ],
   "source": [
    "num_Y=np.argmax(Y,axis=1)\n",
    "pd_Y=pd.DataFrame(num_Y)\n",
    "index_set=[]\n",
    "from sklearn.utils import shuffle\n",
    "index_set.extend(list(shuffle(pd_Y[pd_Y[0]==0]).index)[:100000])\n",
    "index_set.extend(list(shuffle(pd_Y[pd_Y[0]==1]).index)[:500000])\n",
    "index_set.extend(list(shuffle(pd_Y[pd_Y[0]==2]).index)[:800000])\n",
    "index_set.extend(list(shuffle(pd_Y[pd_Y[0]==3]).index)[:700000])\n",
    "index_set.extend(list(shuffle(pd_Y[pd_Y[0]==4]).index)[:400000])\n",
    "index_set.extend(list(shuffle(pd_Y[pd_Y[0]==5]).index)[:200000])\n",
    "print(len(index_set))\n",
    "index_set=shuffle(index_set)"
   ]
  },
  {
   "cell_type": "code",
   "execution_count": 142,
   "metadata": {
    "collapsed": true,
    "jupyter": {
     "outputs_hidden": true
    }
   },
   "outputs": [
    {
     "data": {
      "text/plain": [
       "[703011,\n",
       " 851386,\n",
       " 837124,\n",
       " 723267,\n",
       " 525114,\n",
       " 597296,\n",
       " 578696,\n",
       " 599023,\n",
       " 557917,\n",
       " 759208,\n",
       " 641856,\n",
       " 805389,\n",
       " 683302,\n",
       " 932792,\n",
       " 610059,\n",
       " 751625,\n",
       " 688137,\n",
       " 574990,\n",
       " 653936,\n",
       " 923904,\n",
       " 817685,\n",
       " 826377,\n",
       " 582096,\n",
       " 636636,\n",
       " 891483,\n",
       " 833609,\n",
       " 647542,\n",
       " 830804,\n",
       " 841272,\n",
       " 695597,\n",
       " 908626,\n",
       " 580537,\n",
       " 930404,\n",
       " 987003,\n",
       " 739394,\n",
       " 983626,\n",
       " 666335,\n",
       " 838239,\n",
       " 717713,\n",
       " 561525,\n",
       " 863227,\n",
       " 631547,\n",
       " 531004,\n",
       " 682082,\n",
       " 850714,\n",
       " 649942,\n",
       " 696366,\n",
       " 736034,\n",
       " 752786,\n",
       " 887207,\n",
       " 659139,\n",
       " 812753,\n",
       " 961907,\n",
       " 517489,\n",
       " 978819,\n",
       " 602407,\n",
       " 944790,\n",
       " 539758,\n",
       " 905575,\n",
       " 792534,\n",
       " 897713,\n",
       " 768205,\n",
       " 746414,\n",
       " 536374,\n",
       " 917046,\n",
       " 615084,\n",
       " 813655,\n",
       " 669433,\n",
       " 702907,\n",
       " 580264,\n",
       " 761356,\n",
       " 869497,\n",
       " 788423,\n",
       " 763784,\n",
       " 754936,\n",
       " 742289,\n",
       " 747336,\n",
       " 635036,\n",
       " 679436,\n",
       " 800664,\n",
       " 713620,\n",
       " 808355,\n",
       " 743631,\n",
       " 823605,\n",
       " 641001,\n",
       " 979665,\n",
       " 545881,\n",
       " 645032,\n",
       " 951278,\n",
       " 701052,\n",
       " 772514,\n",
       " 648406,\n",
       " 836277,\n",
       " 575467,\n",
       " 794432,\n",
       " 679842,\n",
       " 719560,\n",
       " 986541,\n",
       " 509991,\n",
       " 653561,\n",
       " 895258,\n",
       " 749669,\n",
       " 679012,\n",
       " 967420,\n",
       " 951139,\n",
       " 814172,\n",
       " 940100,\n",
       " 501678,\n",
       " 805689,\n",
       " 613294,\n",
       " 969467,\n",
       " 704546,\n",
       " 770019,\n",
       " 946379,\n",
       " 743249,\n",
       " 831778,\n",
       " 734305,\n",
       " 613612,\n",
       " 951296,\n",
       " 845455,\n",
       " 718349,\n",
       " 761519,\n",
       " 880112,\n",
       " 616740,\n",
       " 876482,\n",
       " 614285,\n",
       " 755664,\n",
       " 728357,\n",
       " 644110,\n",
       " 526214,\n",
       " 527979,\n",
       " 768790,\n",
       " 975961,\n",
       " 823873,\n",
       " 790992,\n",
       " 732295,\n",
       " 512577,\n",
       " 630914,\n",
       " 887823,\n",
       " 790812,\n",
       " 916072,\n",
       " 570563,\n",
       " 882780,\n",
       " 709344,\n",
       " 763704,\n",
       " 927913,\n",
       " 837481,\n",
       " 835945,\n",
       " 710776,\n",
       " 930734,\n",
       " 832770,\n",
       " 611854,\n",
       " 685322,\n",
       " 679957,\n",
       " 532481,\n",
       " 791377,\n",
       " 876362,\n",
       " 912199,\n",
       " 863520,\n",
       " 664592,\n",
       " 722418,\n",
       " 771062,\n",
       " 677197,\n",
       " 741304,\n",
       " 666923,\n",
       " 779824,\n",
       " 736420,\n",
       " 859431,\n",
       " 596338,\n",
       " 552121,\n",
       " 690792,\n",
       " 593382,\n",
       " 549717,\n",
       " 836078,\n",
       " 829171,\n",
       " 824955,\n",
       " 556104,\n",
       " 785470,\n",
       " 792645,\n",
       " 897143,\n",
       " 506032,\n",
       " 892131,\n",
       " 966971,\n",
       " 568158,\n",
       " 606063,\n",
       " 709275,\n",
       " 548735,\n",
       " 545460,\n",
       " 770594,\n",
       " 588856,\n",
       " 791861,\n",
       " 936173,\n",
       " 987982,\n",
       " 711467,\n",
       " 764968,\n",
       " 869574,\n",
       " 556672,\n",
       " 542133,\n",
       " 623326,\n",
       " 625848,\n",
       " 719385,\n",
       " 797633,\n",
       " 825085,\n",
       " 524202,\n",
       " 746777,\n",
       " 837959,\n",
       " 882773,\n",
       " 763395,\n",
       " 680150,\n",
       " 813192,\n",
       " 762769,\n",
       " 932878,\n",
       " 886487,\n",
       " 764289,\n",
       " 573556,\n",
       " 844627,\n",
       " 696857,\n",
       " 921261,\n",
       " 937508,\n",
       " 850458,\n",
       " 517085,\n",
       " 870823,\n",
       " 584130,\n",
       " 557248,\n",
       " 851247,\n",
       " 701272,\n",
       " 873357,\n",
       " 926421,\n",
       " 965477,\n",
       " 822053,\n",
       " 731103,\n",
       " 805800,\n",
       " 863827,\n",
       " 758742,\n",
       " 863818,\n",
       " 595730,\n",
       " 827153,\n",
       " 854886,\n",
       " 926129,\n",
       " 706633,\n",
       " 784478,\n",
       " 748413,\n",
       " 697182,\n",
       " 586214,\n",
       " 706361,\n",
       " 556478,\n",
       " 621726,\n",
       " 638363,\n",
       " 700092,\n",
       " 521743,\n",
       " 788398,\n",
       " 684335,\n",
       " 871078,\n",
       " 710140,\n",
       " 930041,\n",
       " 613343,\n",
       " 754662,\n",
       " 697071,\n",
       " 700808,\n",
       " 916724,\n",
       " 797324,\n",
       " 517037,\n",
       " 680787,\n",
       " 928464,\n",
       " 945228,\n",
       " 903041,\n",
       " 882422,\n",
       " 836986,\n",
       " 934281,\n",
       " 840877,\n",
       " 528631,\n",
       " 869908,\n",
       " 599616,\n",
       " 814259,\n",
       " 718640,\n",
       " 980952,\n",
       " 582335,\n",
       " 729147,\n",
       " 665274,\n",
       " 756038,\n",
       " 839853,\n",
       " 922622,\n",
       " 898600,\n",
       " 572812,\n",
       " 577626,\n",
       " 542378,\n",
       " 742593,\n",
       " 867838,\n",
       " 833300,\n",
       " 685245,\n",
       " 893056,\n",
       " 680877,\n",
       " 680752,\n",
       " 787823,\n",
       " 969046,\n",
       " 875564,\n",
       " 512858,\n",
       " 599162,\n",
       " 611058,\n",
       " 574370,\n",
       " 620512,\n",
       " 553322,\n",
       " 898627,\n",
       " 680958,\n",
       " 660827,\n",
       " 739932,\n",
       " 963086,\n",
       " 737972,\n",
       " 597128,\n",
       " 882155,\n",
       " 747667,\n",
       " 512810,\n",
       " 839651,\n",
       " 761574,\n",
       " 531045,\n",
       " 716833,\n",
       " 800371,\n",
       " 608356,\n",
       " 533128,\n",
       " 647197,\n",
       " 610833,\n",
       " 730586,\n",
       " 585911,\n",
       " 822716,\n",
       " 864326,\n",
       " 662426,\n",
       " 975340,\n",
       " 874928,\n",
       " 997427,\n",
       " 657942,\n",
       " 530882,\n",
       " 925024,\n",
       " 972330,\n",
       " 806847,\n",
       " 535355,\n",
       " 630678,\n",
       " 695284,\n",
       " 568538,\n",
       " 682660,\n",
       " 772685,\n",
       " 637203,\n",
       " 508150,\n",
       " 761639,\n",
       " 585649,\n",
       " 658741,\n",
       " 908473,\n",
       " 921296,\n",
       " 772387,\n",
       " 674070,\n",
       " 629282,\n",
       " 902238,\n",
       " 550980,\n",
       " 935692,\n",
       " 702953,\n",
       " 603318,\n",
       " 731522,\n",
       " 553537,\n",
       " 576405,\n",
       " 530929,\n",
       " 520323,\n",
       " 574546,\n",
       " 844871,\n",
       " 926214,\n",
       " 753475,\n",
       " 925785,\n",
       " 704095,\n",
       " 823016,\n",
       " 873462,\n",
       " 940083,\n",
       " 809831,\n",
       " 819474,\n",
       " 978599,\n",
       " 559525,\n",
       " 756529,\n",
       " 775763,\n",
       " 691363,\n",
       " 502316,\n",
       " 582364,\n",
       " 890059,\n",
       " 547511,\n",
       " 680189,\n",
       " 544183,\n",
       " 981474,\n",
       " 500768,\n",
       " 920431,\n",
       " 528584,\n",
       " 596853,\n",
       " 923515,\n",
       " 719471,\n",
       " 605476,\n",
       " 918456,\n",
       " 608048,\n",
       " 720953,\n",
       " 702584,\n",
       " 970836,\n",
       " 562950,\n",
       " 935507,\n",
       " 511952,\n",
       " 942918,\n",
       " 616820,\n",
       " 527814,\n",
       " 540727,\n",
       " 514657,\n",
       " 849536,\n",
       " 706094,\n",
       " 507780,\n",
       " 502317,\n",
       " 806503,\n",
       " 542332,\n",
       " 759354,\n",
       " 519068,\n",
       " 933429,\n",
       " 718534,\n",
       " 709503,\n",
       " 582412,\n",
       " 598594,\n",
       " 941653,\n",
       " 744253,\n",
       " 611052,\n",
       " 545732,\n",
       " 559385,\n",
       " 719118,\n",
       " 573997,\n",
       " 705771,\n",
       " 824452,\n",
       " 920896,\n",
       " 551743,\n",
       " 624668,\n",
       " 872468,\n",
       " 565709,\n",
       " 883476,\n",
       " 966486,\n",
       " 784349,\n",
       " 579255,\n",
       " 662841,\n",
       " 986383,\n",
       " 723205,\n",
       " 579921,\n",
       " 530110,\n",
       " 756032,\n",
       " 603425,\n",
       " 999254,\n",
       " 726105,\n",
       " 744749,\n",
       " 837071,\n",
       " 650483,\n",
       " 996055,\n",
       " 648442,\n",
       " 911772,\n",
       " 684535,\n",
       " 692492,\n",
       " 951743,\n",
       " 837971,\n",
       " 703349,\n",
       " 718904,\n",
       " 929353,\n",
       " 894092,\n",
       " 783971,\n",
       " 934414,\n",
       " 977870,\n",
       " 865731,\n",
       " 791863,\n",
       " 980355,\n",
       " 596121,\n",
       " 521926,\n",
       " 613047,\n",
       " 833794,\n",
       " 736158,\n",
       " 903111,\n",
       " 635279,\n",
       " 542597,\n",
       " 697083,\n",
       " 635820,\n",
       " 794883,\n",
       " 677045,\n",
       " 696891,\n",
       " 776520,\n",
       " 861455,\n",
       " 543286,\n",
       " 909707,\n",
       " 908159,\n",
       " 818544,\n",
       " 634226,\n",
       " 572941,\n",
       " 715344,\n",
       " 688951,\n",
       " 587558,\n",
       " 566433,\n",
       " 860530,\n",
       " 554885,\n",
       " 820573,\n",
       " 860401,\n",
       " 914718,\n",
       " 710795,\n",
       " 937873,\n",
       " 850205,\n",
       " 832548,\n",
       " 738019,\n",
       " 884273,\n",
       " 607370,\n",
       " 843935,\n",
       " 844707,\n",
       " 619018,\n",
       " 511643,\n",
       " 818723,\n",
       " 711813,\n",
       " 575288,\n",
       " 506322,\n",
       " 779442,\n",
       " 745334,\n",
       " 691383,\n",
       " 722606,\n",
       " 879654,\n",
       " 757255,\n",
       " 519441,\n",
       " 749441,\n",
       " 722910,\n",
       " 979324,\n",
       " 826850,\n",
       " 883857,\n",
       " 979490,\n",
       " 552100,\n",
       " 605983,\n",
       " 608383,\n",
       " 693926,\n",
       " 920591,\n",
       " 619890,\n",
       " 917821,\n",
       " 584904,\n",
       " 570578,\n",
       " 859154,\n",
       " 612975,\n",
       " 946948,\n",
       " 748813,\n",
       " 752898,\n",
       " 957774,\n",
       " 672104,\n",
       " 536432,\n",
       " 783886,\n",
       " 897807,\n",
       " 918885,\n",
       " 588746,\n",
       " 986912,\n",
       " 824904,\n",
       " 560043,\n",
       " 612510,\n",
       " 957558,\n",
       " 502598,\n",
       " 643859,\n",
       " 682937,\n",
       " 924373,\n",
       " 503678,\n",
       " 941944,\n",
       " 772696,\n",
       " 978072,\n",
       " 922234,\n",
       " 961820,\n",
       " 908290,\n",
       " 524606,\n",
       " 692136,\n",
       " 839200,\n",
       " 815595,\n",
       " 658026,\n",
       " 627253,\n",
       " 618441,\n",
       " 992299,\n",
       " 991085,\n",
       " 784487,\n",
       " 637044,\n",
       " 806509,\n",
       " 599652,\n",
       " 986632,\n",
       " 936790,\n",
       " 831925,\n",
       " 759058,\n",
       " 849325,\n",
       " 871120,\n",
       " 685564,\n",
       " 672124,\n",
       " 817729,\n",
       " 648363,\n",
       " 642041,\n",
       " 850670,\n",
       " 526540,\n",
       " 612076,\n",
       " 780019,\n",
       " 539144,\n",
       " 817296,\n",
       " 803730,\n",
       " 653802,\n",
       " 963905,\n",
       " 889448,\n",
       " 950346,\n",
       " 524270,\n",
       " 576945,\n",
       " 877867,\n",
       " 712832,\n",
       " 873017,\n",
       " 773683,\n",
       " 936494,\n",
       " 901486,\n",
       " 914330,\n",
       " 987189,\n",
       " 725397,\n",
       " 724404,\n",
       " 843435,\n",
       " 748318,\n",
       " 757592,\n",
       " 653115,\n",
       " 647376,\n",
       " 531752,\n",
       " 865868,\n",
       " 683526,\n",
       " 714359,\n",
       " 977838,\n",
       " 749824,\n",
       " 688735,\n",
       " 958592,\n",
       " 850553,\n",
       " 957893,\n",
       " 821541,\n",
       " 512485,\n",
       " 577055,\n",
       " 596646,\n",
       " 667912,\n",
       " 672604,\n",
       " 663835,\n",
       " 602159,\n",
       " 845021,\n",
       " 593926,\n",
       " 852388,\n",
       " 699673,\n",
       " 606004,\n",
       " 611259,\n",
       " 774816,\n",
       " 842482,\n",
       " 818489,\n",
       " 569113,\n",
       " 806309,\n",
       " 640581,\n",
       " 643276,\n",
       " 788896,\n",
       " 973089,\n",
       " 914300,\n",
       " 849209,\n",
       " 683905,\n",
       " 823862,\n",
       " 703663,\n",
       " 966305,\n",
       " 994649,\n",
       " 531486,\n",
       " 863637,\n",
       " 909502,\n",
       " 733247,\n",
       " 730740,\n",
       " 859668,\n",
       " 838578,\n",
       " 538068,\n",
       " 741759,\n",
       " 719722,\n",
       " 642850,\n",
       " 684712,\n",
       " 745012,\n",
       " 772519,\n",
       " 526910,\n",
       " 734230,\n",
       " 945120,\n",
       " 870782,\n",
       " 659591,\n",
       " 774434,\n",
       " 787530,\n",
       " 919511,\n",
       " 522168,\n",
       " 602811,\n",
       " 873058,\n",
       " 624830,\n",
       " 926106,\n",
       " 538658,\n",
       " 863131,\n",
       " 542628,\n",
       " 717628,\n",
       " 685667,\n",
       " 796544,\n",
       " 859117,\n",
       " 628076,\n",
       " 810820,\n",
       " 584707,\n",
       " 845980,\n",
       " 918863,\n",
       " 635556,\n",
       " 835105,\n",
       " 651512,\n",
       " 667235,\n",
       " 717935,\n",
       " 864219,\n",
       " 825821,\n",
       " 732437,\n",
       " 569134,\n",
       " 697772,\n",
       " 960538,\n",
       " 676479,\n",
       " 618927,\n",
       " 680582,\n",
       " 503317,\n",
       " 602180,\n",
       " 622246,\n",
       " 747664,\n",
       " 850949,\n",
       " 884759,\n",
       " 519894,\n",
       " 553393,\n",
       " 756948,\n",
       " 808505,\n",
       " 890756,\n",
       " 519282,\n",
       " 942607,\n",
       " 572919,\n",
       " 789908,\n",
       " 919163,\n",
       " 989955,\n",
       " 915325,\n",
       " 969235,\n",
       " 524573,\n",
       " 686596,\n",
       " 889913,\n",
       " 529399,\n",
       " 727776,\n",
       " 509209,\n",
       " 772064,\n",
       " 975335,\n",
       " 938732,\n",
       " 762238,\n",
       " 952457,\n",
       " 826811,\n",
       " 905398,\n",
       " 860222,\n",
       " 684480,\n",
       " 531423,\n",
       " 898746,\n",
       " 579394,\n",
       " 936245,\n",
       " 854647,\n",
       " 921440,\n",
       " 775453,\n",
       " 900350,\n",
       " 981149,\n",
       " 507583,\n",
       " 744440,\n",
       " 813003,\n",
       " 939818,\n",
       " 826437,\n",
       " 636496,\n",
       " 975274,\n",
       " 911542,\n",
       " 934627,\n",
       " 787358,\n",
       " 553738,\n",
       " 938142,\n",
       " 790984,\n",
       " 833992,\n",
       " 755801,\n",
       " 945801,\n",
       " 717130,\n",
       " 612921,\n",
       " 828287,\n",
       " 827758,\n",
       " 735422,\n",
       " 921592,\n",
       " 879922,\n",
       " 815639,\n",
       " 973042,\n",
       " 948439,\n",
       " 794503,\n",
       " 866113,\n",
       " 648667,\n",
       " 986714,\n",
       " 592996,\n",
       " 822679,\n",
       " 882600,\n",
       " 793841,\n",
       " 658528,\n",
       " 607967,\n",
       " 935927,\n",
       " 948496,\n",
       " 906423,\n",
       " 542825,\n",
       " 819987,\n",
       " 576148,\n",
       " 808791,\n",
       " 659578,\n",
       " 728661,\n",
       " 570223,\n",
       " 686799,\n",
       " 772287,\n",
       " 525488,\n",
       " 853323,\n",
       " 606287,\n",
       " 734958,\n",
       " 767203,\n",
       " 806169,\n",
       " 791181,\n",
       " 973378,\n",
       " 992823,\n",
       " 900269,\n",
       " 796388,\n",
       " 557569,\n",
       " 863475,\n",
       " 553885,\n",
       " 556563,\n",
       " 608971,\n",
       " 914797,\n",
       " 515023,\n",
       " 768935,\n",
       " 789470,\n",
       " 619487,\n",
       " 622576,\n",
       " 759044,\n",
       " 715541,\n",
       " 977679,\n",
       " 610080,\n",
       " 779891,\n",
       " 550080,\n",
       " 614797,\n",
       " 841746,\n",
       " 707523,\n",
       " 914513,\n",
       " 947317,\n",
       " 659845,\n",
       " 506110,\n",
       " 859479,\n",
       " 841277,\n",
       " 683183,\n",
       " 901551,\n",
       " 556195,\n",
       " 939941,\n",
       " 547984,\n",
       " 677844,\n",
       " 680840,\n",
       " 518436,\n",
       " 527132,\n",
       " 654358,\n",
       " 692192,\n",
       " 946342,\n",
       " 639648,\n",
       " 715739,\n",
       " 813568,\n",
       " 548741,\n",
       " 831203,\n",
       " 744197,\n",
       " 837549,\n",
       " 521715,\n",
       " 699196,\n",
       " 583561,\n",
       " 887788,\n",
       " 568189,\n",
       " 632673,\n",
       " 658244,\n",
       " 831454,\n",
       " 914729,\n",
       " 917037,\n",
       " 908737,\n",
       " 896606,\n",
       " 930230,\n",
       " 965194,\n",
       " 669075,\n",
       " 856541,\n",
       " 884565,\n",
       " 720192,\n",
       " 770181,\n",
       " 730145,\n",
       " 691827,\n",
       " 503465,\n",
       " 663289,\n",
       " 923193,\n",
       " 547131,\n",
       " 993838,\n",
       " 616954,\n",
       " 528011,\n",
       " 581311,\n",
       " 614798,\n",
       " 885965,\n",
       " 889974,\n",
       " 838690,\n",
       " 712216,\n",
       " 708710,\n",
       " 525610,\n",
       " 513569,\n",
       " 919498,\n",
       " 730896,\n",
       " 873911,\n",
       " 988932,\n",
       " 826827,\n",
       " 784374,\n",
       " 588728,\n",
       " 752905,\n",
       " 942235,\n",
       " 823160,\n",
       " 882967,\n",
       " 723558,\n",
       " 899637,\n",
       " 537106,\n",
       " 999229,\n",
       " 620304,\n",
       " 595467,\n",
       " 563398,\n",
       " 766141,\n",
       " 909447,\n",
       " 931740,\n",
       " 636003,\n",
       " 936772,\n",
       " 993942,\n",
       " 724236,\n",
       " 956330,\n",
       " 658598,\n",
       " 645756,\n",
       " 901113,\n",
       " 648743,\n",
       " 768570,\n",
       " 813839,\n",
       " 772057,\n",
       " 994231,\n",
       " 636567,\n",
       " 986209,\n",
       " 548108,\n",
       " 765898,\n",
       " 503481,\n",
       " 765299,\n",
       " 855163,\n",
       " 570125,\n",
       " 737547,\n",
       " 887165,\n",
       " 857176,\n",
       " 950020,\n",
       " 522748,\n",
       " 726303,\n",
       " 660395,\n",
       " 677276,\n",
       " 587964,\n",
       " 751852,\n",
       " 945890,\n",
       " 556956,\n",
       " 925249,\n",
       " 919252,\n",
       " 600549,\n",
       " 884558,\n",
       " 972061,\n",
       " 813366,\n",
       " 632867,\n",
       " 984010,\n",
       " 750678,\n",
       " 724491,\n",
       " 997398,\n",
       " 682671,\n",
       " 919434,\n",
       " 526038,\n",
       " 746844,\n",
       " 802363,\n",
       " 978734,\n",
       " 551694,\n",
       " 752360,\n",
       " 836382,\n",
       " 782948,\n",
       " 950120,\n",
       " 845790,\n",
       " 565150,\n",
       " 674759,\n",
       " 569838,\n",
       " 704346,\n",
       " 886059,\n",
       " 819118,\n",
       " 662092,\n",
       " 533559,\n",
       " 912948,\n",
       " 625963,\n",
       " 735978,\n",
       " 544157,\n",
       " 813316,\n",
       " 794066,\n",
       " 640636,\n",
       " 714573,\n",
       " 802316,\n",
       " 754982,\n",
       " 951603,\n",
       " 566072,\n",
       " 804553,\n",
       " 956405,\n",
       " 665487,\n",
       " 566486,\n",
       " 774743,\n",
       " 931339,\n",
       " 853624,\n",
       " 622834,\n",
       " 820467,\n",
       " 694857,\n",
       " 745962,\n",
       " 847561,\n",
       " 919686,\n",
       " 725369,\n",
       " 648848,\n",
       " 566926,\n",
       " ...]"
      ]
     },
     "execution_count": 142,
     "metadata": {},
     "output_type": "execute_result"
    }
   ],
   "source": [
    "index_set"
   ]
  },
  {
   "cell_type": "code",
   "execution_count": 58,
   "metadata": {},
   "outputs": [],
   "source": [
    "###测试集"
   ]
  },
  {
   "cell_type": "code",
   "execution_count": 59,
   "metadata": {
    "ExecuteTime": {
     "end_time": "2019-08-22T11:13:48.231504Z",
     "start_time": "2019-08-22T11:13:30.409157Z"
    }
   },
   "outputs": [],
   "source": [
    "test_numeric_input=pd.merge(age_test,user_basic_info,left_on=['id'],right_on=['uId'],how='left')\n",
    "test_numeric_input=pd.merge(test_numeric_input,user_behavior_info,on='uId',how='left')\n",
    "test_numeric_input=pd.merge(test_numeric_input,final_user_app_actived,on='uId',how='left')\n",
    "test_numeric_input=pd.merge(test_numeric_input,pd_user_app_usage,on='uId',how='left')\n",
    "test_numeric_input.fillna(0,inplace=True)\n",
    "_=test_numeric_input.pop('uId')\n",
    "_=test_numeric_input.pop('id')"
   ]
  },
  {
   "cell_type": "code",
   "execution_count": 60,
   "metadata": {
    "ExecuteTime": {
     "end_time": "2019-08-22T11:13:48.265081Z",
     "start_time": "2019-08-22T11:13:48.236667Z"
    }
   },
   "outputs": [],
   "source": [
    "test_gender_input=test_numeric_input.pop('gender')\n",
    "test_city_input=test_numeric_input.pop('city')\n",
    "test_prodName_input=test_numeric_input.pop('prodName')\n",
    "test_color_input=test_numeric_input.pop('color')\n",
    "_=test_numeric_input.pop('carrier')"
   ]
  },
  {
   "cell_type": "code",
   "execution_count": 61,
   "metadata": {},
   "outputs": [],
   "source": [
    "# test_numeric_input=top_feature_select.transform(test_numeric_input)"
   ]
  },
  {
   "cell_type": "code",
   "execution_count": 62,
   "metadata": {
    "ExecuteTime": {
     "end_time": "2019-08-22T11:13:50.520079Z",
     "start_time": "2019-08-22T11:13:48.268092Z"
    }
   },
   "outputs": [],
   "source": [
    "test_numeric_input = scaler.transform(test_numeric_input)"
   ]
  },
  {
   "cell_type": "code",
   "execution_count": 63,
   "metadata": {
    "ExecuteTime": {
     "end_time": "2019-08-22T11:13:52.326851Z",
     "start_time": "2019-08-22T11:13:50.524583Z"
    }
   },
   "outputs": [],
   "source": [
    "# test_app_actived_input=app_actived_test_inputs\n",
    "test_app_actived_input=pd.merge(age_test,actived_padded_apps_uId,left_on=['id'],right_on=['uId'],how='left')\n",
    "test_app_actived_input.fillna(0,inplace=True)\n",
    "_=test_app_actived_input.pop('uId')\n",
    "_=test_app_actived_input.pop('id')"
   ]
  },
  {
   "cell_type": "code",
   "execution_count": 64,
   "metadata": {
    "ExecuteTime": {
     "end_time": "2019-08-22T11:13:55.804585Z",
     "start_time": "2019-08-22T11:13:52.330570Z"
    }
   },
   "outputs": [],
   "source": [
    "test_app_usage_input=pd.merge(age_test,padded_apps_uId,left_on=['id'],right_on=['uId'],how='left')\n",
    "test_app_usage_input.fillna(0,inplace=True)\n",
    "_=test_app_usage_input.pop('uId')\n",
    "_=test_app_usage_input.pop('id')"
   ]
  },
  {
   "cell_type": "code",
   "execution_count": 65,
   "metadata": {
    "ExecuteTime": {
     "end_time": "2019-08-22T11:17:02.006350Z",
     "start_time": "2019-08-22T11:17:02.000605Z"
    }
   },
   "outputs": [],
   "source": [
    "# test_lstm_input =test_lstm_input.values.reshape((-1,7,200))"
   ]
  },
  {
   "cell_type": "code",
   "execution_count": 66,
   "metadata": {
    "ExecuteTime": {
     "end_time": "2019-08-22T11:17:03.024158Z",
     "start_time": "2019-08-22T11:17:03.019971Z"
    }
   },
   "outputs": [],
   "source": [
    "test_emb_list=[]"
   ]
  },
  {
   "cell_type": "code",
   "execution_count": 67,
   "metadata": {
    "ExecuteTime": {
     "end_time": "2019-08-22T11:17:08.725325Z",
     "start_time": "2019-08-22T11:17:03.498685Z"
    }
   },
   "outputs": [],
   "source": [
    "for index,emb in enumerate([\n",
    "    app_train_embedding_sum,\n",
    "#     app_train_embedding_avg,\n",
    "    app_usage_embedding_sum,\n",
    "#     app_usage_embedding_avg\n",
    "]):\n",
    "    test_emb=pd.merge(age_test,emb,left_on=['id'],right_on=['uId'],how='left')\n",
    "    test_emb.fillna(0,inplace=True)\n",
    "    _=test_emb.pop('uId')\n",
    "    _=test_emb.pop('id')\n",
    "    test_emb=emb_scaler[index].transform(test_emb)\n",
    "    test_emb_list.append(test_emb)"
   ]
  },
  {
   "cell_type": "code",
   "execution_count": 68,
   "metadata": {
    "ExecuteTime": {
     "end_time": "2019-08-22T11:17:09.959373Z",
     "start_time": "2019-08-22T11:17:09.367366Z"
    }
   },
   "outputs": [],
   "source": [
    "test_yc_static=yc_scalar.transform(test_yc_static)  "
   ]
  },
  {
   "cell_type": "code",
   "execution_count": 69,
   "metadata": {
    "ExecuteTime": {
     "end_time": "2019-08-22T11:17:11.067514Z",
     "start_time": "2019-08-22T11:17:11.060341Z"
    }
   },
   "outputs": [],
   "source": [
    "test_X = [test_city_input,test_prodName_input,test_color_input,test_gender_input,test_numeric_input,test_app_actived_input.values,test_app_usage_input.values,test_yc_static,test_app_trans_rate_with_usage.values]+test_emb_list"
   ]
  },
  {
   "cell_type": "code",
   "execution_count": 70,
   "metadata": {
    "ExecuteTime": {
     "end_time": "2019-08-22T11:28:24.954808Z",
     "start_time": "2019-08-22T11:28:24.948260Z"
    }
   },
   "outputs": [
    {
     "data": {
      "text/plain": [
       "11"
      ]
     },
     "execution_count": 70,
     "metadata": {},
     "output_type": "execute_result"
    }
   ],
   "source": [
    "len(X)"
   ]
  },
  {
   "cell_type": "code",
   "execution_count": 71,
   "metadata": {},
   "outputs": [],
   "source": [
    "\n",
    "class ParallelModelCheckpoint( keras.callbacks.ModelCheckpoint):\n",
    "    def __init__(self,model,filepath, monitor='val_loss', verbose=0,\n",
    "                 save_best_only=False, save_weights_only=False,\n",
    "                 mode='auto', period=1):\n",
    "        self.single_model = model\n",
    "        super(ParallelModelCheckpoint,self).__init__(filepath, monitor, verbose,save_best_only, save_weights_only,mode, period)\n",
    "\n",
    "    def set_model(self, model):\n",
    "        super(ParallelModelCheckpoint,self).set_model(self.single_model)"
   ]
  },
  {
   "cell_type": "code",
   "execution_count": 89,
   "metadata": {
    "ExecuteTime": {
     "end_time": "2019-08-22T11:17:14.861079Z",
     "start_time": "2019-08-22T11:17:14.751154Z"
    }
   },
   "outputs": [
    {
     "name": "stdout",
     "output_type": "stream",
     "text": [
      "0 800000\n",
      "800000 1600000\n",
      "1600000 2400000\n",
      "2400000 3200000\n",
      "3200000 4000000\n"
     ]
    }
   ],
   "source": [
    "row_indices = np.random.permutation(Y.shape[0])\n",
    "split_size=5\n",
    "step=int(Y.shape[0]/float(split_size))\n",
    "split_index_list=[]\n",
    "for i in range(split_size):\n",
    "    start=i*step\n",
    "    end=(i+1)*step\n",
    "    print(start,end)\n",
    "    split_index_list.append(row_indices[start:end])"
   ]
  },
  {
   "cell_type": "code",
   "execution_count": 165,
   "metadata": {},
   "outputs": [],
   "source": [
    "# row_indices = np.random.permutation(Y.shape[0])\n",
    "train_x=[x_data[index_set] for x_data in X]\n",
    "train_y=Y[index_set]\n",
    "train_y=np.argmax(train_y,axis=1)"
   ]
  },
  {
   "cell_type": "code",
   "execution_count": 169,
   "metadata": {},
   "outputs": [
    {
     "name": "stdout",
     "output_type": "stream",
     "text": [
      "Train on 2430000 samples, validate on 270000 samples\n",
      "Epoch 1/50\n",
      "2430000/2430000 [==============================] - 125s 52us/step - loss: 27.8845 - acc: 0.2200 - val_loss: 2.5877 - val_acc: 0.3732\n",
      "Epoch 2/50\n",
      "2430000/2430000 [==============================] - 32s 13us/step - loss: 1.3737 - acc: 0.3976 - val_loss: 0.8168 - val_acc: 0.4860\n",
      "Epoch 3/50\n",
      "2430000/2430000 [==============================] - 31s 13us/step - loss: 1.3970 - acc: 0.4123 - val_loss: 1.1195 - val_acc: 0.4436\n",
      "Epoch 4/50\n",
      "2430000/2430000 [==============================] - 32s 13us/step - loss: 1.2482 - acc: 0.4274 - val_loss: 0.8126 - val_acc: 0.4845\n",
      "Epoch 5/50\n",
      "2430000/2430000 [==============================] - 31s 13us/step - loss: 1.2863 - acc: 0.4365 - val_loss: 0.7812 - val_acc: 0.4998\n",
      "Epoch 6/50\n",
      "2430000/2430000 [==============================] - 31s 13us/step - loss: 1.0030 - acc: 0.4573 - val_loss: 1.0662 - val_acc: 0.4681\n",
      "Epoch 7/50\n",
      "2430000/2430000 [==============================] - 30s 12us/step - loss: 0.9541 - acc: 0.4696 - val_loss: 0.7298 - val_acc: 0.5266\n",
      "Epoch 8/50\n",
      "2430000/2430000 [==============================] - 30s 12us/step - loss: 0.9140 - acc: 0.4782 - val_loss: 0.7425 - val_acc: 0.5182\n",
      "Epoch 9/50\n",
      "2430000/2430000 [==============================] - 29s 12us/step - loss: 0.8964 - acc: 0.4844 - val_loss: 0.7198 - val_acc: 0.5315\n",
      "Epoch 10/50\n",
      "2430000/2430000 [==============================] - 29s 12us/step - loss: 0.8538 - acc: 0.4934 - val_loss: 0.7005 - val_acc: 0.5412\n",
      "Epoch 11/50\n",
      "2430000/2430000 [==============================] - 29s 12us/step - loss: 0.8403 - acc: 0.4988 - val_loss: 0.7221 - val_acc: 0.5307\n",
      "Epoch 12/50\n",
      "2430000/2430000 [==============================] - 29s 12us/step - loss: 0.8320 - acc: 0.5033 - val_loss: 0.6989 - val_acc: 0.5421\n",
      "Epoch 13/50\n",
      "2430000/2430000 [==============================] - 29s 12us/step - loss: 0.8388 - acc: 0.5056 - val_loss: 0.7151 - val_acc: 0.5357\n",
      "Epoch 14/50\n",
      "2430000/2430000 [==============================] - 29s 12us/step - loss: 0.8700 - acc: 0.5065 - val_loss: 0.6878 - val_acc: 0.5485\n",
      "Epoch 15/50\n",
      "2430000/2430000 [==============================] - 29s 12us/step - loss: 0.8037 - acc: 0.5156 - val_loss: 0.6906 - val_acc: 0.5463\n",
      "Epoch 16/50\n",
      "2430000/2430000 [==============================] - 29s 12us/step - loss: 0.8335 - acc: 0.5161 - val_loss: 0.6869 - val_acc: 0.5505\n",
      "Epoch 17/50\n",
      "2430000/2430000 [==============================] - 28s 12us/step - loss: 0.8126 - acc: 0.5200 - val_loss: 0.7113 - val_acc: 0.5547\n",
      "Epoch 18/50\n",
      "2430000/2430000 [==============================] - 29s 12us/step - loss: 0.8146 - acc: 0.5216 - val_loss: 0.6819 - val_acc: 0.5583\n",
      "Epoch 19/50\n",
      "2430000/2430000 [==============================] - 28s 12us/step - loss: 0.7742 - acc: 0.5283 - val_loss: 0.7022 - val_acc: 0.5525\n",
      "Epoch 20/50\n",
      "2430000/2430000 [==============================] - 28s 12us/step - loss: 0.7750 - acc: 0.5308 - val_loss: 0.8898 - val_acc: 0.5321\n",
      "Epoch 21/50\n",
      "2430000/2430000 [==============================] - 28s 12us/step - loss: 0.7753 - acc: 0.5310 - val_loss: 0.6648 - val_acc: 0.5654\n",
      "Epoch 22/50\n",
      "2430000/2430000 [==============================] - 29s 12us/step - loss: 0.7435 - acc: 0.5378 - val_loss: 0.6636 - val_acc: 0.5677\n",
      "Epoch 23/50\n",
      "2430000/2430000 [==============================] - 28s 12us/step - loss: 0.7426 - acc: 0.5399 - val_loss: 0.6988 - val_acc: 0.5627\n",
      "Epoch 24/50\n",
      "2430000/2430000 [==============================] - 28s 12us/step - loss: 0.7360 - acc: 0.5407 - val_loss: 0.6734 - val_acc: 0.5615\n",
      "Epoch 25/50\n",
      "2430000/2430000 [==============================] - 28s 12us/step - loss: 0.7335 - acc: 0.5437 - val_loss: 0.6585 - val_acc: 0.5717\n",
      "Epoch 26/50\n",
      "2430000/2430000 [==============================] - 29s 12us/step - loss: 0.7328 - acc: 0.5436 - val_loss: 0.6577 - val_acc: 0.5701\n",
      "Epoch 27/50\n",
      "2430000/2430000 [==============================] - 28s 12us/step - loss: 0.7205 - acc: 0.5459 - val_loss: 0.6579 - val_acc: 0.5736\n",
      "Epoch 28/50\n",
      "2430000/2430000 [==============================] - 28s 12us/step - loss: 0.6959 - acc: 0.5504 - val_loss: 0.6511 - val_acc: 0.5745\n",
      "Epoch 29/50\n",
      "2430000/2430000 [==============================] - 28s 12us/step - loss: 0.7144 - acc: 0.5483 - val_loss: 0.6531 - val_acc: 0.5748\n",
      "Epoch 30/50\n",
      "2430000/2430000 [==============================] - 28s 12us/step - loss: 0.6942 - acc: 0.5533 - val_loss: 0.6977 - val_acc: 0.5746\n",
      "Epoch 31/50\n",
      "2430000/2430000 [==============================] - 29s 12us/step - loss: 0.6989 - acc: 0.5535 - val_loss: 0.6376 - val_acc: 0.5816\n",
      "Epoch 32/50\n",
      "2430000/2430000 [==============================] - 29s 12us/step - loss: 0.6757 - acc: 0.5587 - val_loss: 0.6397 - val_acc: 0.5821\n",
      "Epoch 33/50\n",
      "2430000/2430000 [==============================] - 29s 12us/step - loss: 0.6721 - acc: 0.5606 - val_loss: 0.6346 - val_acc: 0.5820\n",
      "Epoch 34/50\n",
      "2430000/2430000 [==============================] - 29s 12us/step - loss: 0.6648 - acc: 0.5630 - val_loss: 0.6286 - val_acc: 0.5858\n",
      "Epoch 35/50\n",
      "2430000/2430000 [==============================] - 29s 12us/step - loss: 0.6592 - acc: 0.5651 - val_loss: 0.6277 - val_acc: 0.5866\n",
      "Epoch 36/50\n",
      "2430000/2430000 [==============================] - 30s 12us/step - loss: 0.6542 - acc: 0.5664 - val_loss: 0.6345 - val_acc: 0.5847\n",
      "Epoch 37/50\n",
      "2430000/2430000 [==============================] - 30s 12us/step - loss: 0.6555 - acc: 0.5671 - val_loss: 0.6509 - val_acc: 0.5851\n",
      "Epoch 38/50\n",
      "2430000/2430000 [==============================] - 32s 13us/step - loss: 0.6547 - acc: 0.5679 - val_loss: 0.6172 - val_acc: 0.5892\n",
      "Epoch 39/50\n",
      "2430000/2430000 [==============================] - 31s 13us/step - loss: 0.6417 - acc: 0.5726 - val_loss: 0.6179 - val_acc: 0.5900\n",
      "Epoch 40/50\n",
      "2430000/2430000 [==============================] - 31s 13us/step - loss: 0.6403 - acc: 0.5734 - val_loss: 0.6300 - val_acc: 0.5906\n",
      "Epoch 41/50\n",
      "2430000/2430000 [==============================] - 31s 13us/step - loss: 0.6300 - acc: 0.5771 - val_loss: 0.6223 - val_acc: 0.5948\n",
      "Epoch 42/50\n",
      "2430000/2430000 [==============================] - 30s 13us/step - loss: 0.6328 - acc: 0.5776 - val_loss: 0.6170 - val_acc: 0.5922\n",
      "Epoch 43/50\n",
      "2430000/2430000 [==============================] - 31s 13us/step - loss: 0.6275 - acc: 0.5794 - val_loss: 0.6184 - val_acc: 0.5977\n",
      "Epoch 44/50\n",
      "2430000/2430000 [==============================] - 31s 13us/step - loss: 0.6225 - acc: 0.5814 - val_loss: 0.6065 - val_acc: 0.5998\n",
      "Epoch 45/50\n",
      "2430000/2430000 [==============================] - 30s 12us/step - loss: 0.6204 - acc: 0.5835 - val_loss: 0.6133 - val_acc: 0.6000\n",
      "Epoch 46/50\n",
      "2430000/2430000 [==============================] - 30s 12us/step - loss: 0.6202 - acc: 0.5839 - val_loss: 0.6373 - val_acc: 0.5867\n",
      "Epoch 47/50\n",
      "2430000/2430000 [==============================] - 30s 13us/step - loss: 0.6162 - acc: 0.5853 - val_loss: 0.6468 - val_acc: 0.5997\n",
      "Epoch 48/50\n",
      "2430000/2430000 [==============================] - 30s 12us/step - loss: 0.6289 - acc: 0.5827 - val_loss: 0.6277 - val_acc: 0.5914\n",
      "Epoch 49/50\n",
      "2430000/2430000 [==============================] - 31s 13us/step - loss: 0.6119 - acc: 0.5876 - val_loss: 0.6008 - val_acc: 0.6063\n",
      "Epoch 50/50\n",
      "2430000/2430000 [==============================] - 30s 12us/step - loss: 0.6047 - acc: 0.5911 - val_loss: 0.6160 - val_acc: 0.5917\n"
     ]
    }
   ],
   "source": [
    "model_name='test_single_model_sample'+'.h5'\n",
    "    \n",
    "model = build_res_net()\n",
    "#     callbacks_list = [\n",
    "#     EarlyStopping(\n",
    "#         monitor='val_loss',\n",
    "#         patience=20\n",
    "#     ),\n",
    "#     ModelCheckpoint(\n",
    "#         filepath=model_name, \n",
    "#         monitor='val_loss', \n",
    "#         save_best_only=True\n",
    "#     )\n",
    "# ]\n",
    "#     model.fit(train_x, train_y, epochs=100,batch_size=4096,validation_data=[validation_x,validation_y],callbacks=callbacks_list\n",
    "callbacks_list = [\n",
    "     EarlyStopping(\n",
    "         monitor='val_loss',\n",
    "         patience=10\n",
    "     ),\n",
    "     ParallelModelCheckpoint(model,model_name,save_best_only=True,monitor='val_loss')\n",
    "]\n",
    " \n",
    "model_parallel=multi_gpu_model(model,gpus=4)\n",
    "model_parallel.compile(loss='mse', optimizer=optimizers.Adam(lr=0.001),metrics=['accuracy'])\n",
    " \n",
    " \n",
    " \n",
    "model_parallel.fit(train_x, train_y, epochs=50,batch_size=8192*4,validation_split=0.1,callbacks=callbacks_list)\n",
    " \n",
    "\n",
    "my_model = load_model(model_name)\n",
    "y_pred = my_model.predict(test_X)\n",
    "pred_list.append(y_pred)\n",
    " \n",
    "##备份\n",
    "pd_y_pred=pd.DataFrame(y_pred)\n",
    "pd_y_pred.to_csv('pred_nn_test_model_sample'+'.csv',index=False,header=None) "
   ]
  },
  {
   "cell_type": "code",
   "execution_count": null,
   "metadata": {},
   "outputs": [],
   "source": []
  },
  {
   "cell_type": "code",
   "execution_count": 88,
   "metadata": {},
   "outputs": [],
   "source": [
    "prefix='try_4_'"
   ]
  },
  {
   "cell_type": "code",
   "execution_count": 90,
   "metadata": {
    "ExecuteTime": {
     "end_time": "2019-08-22T12:26:43.331348Z",
     "start_time": "2019-08-22T11:28:52.880241Z"
    }
   },
   "outputs": [
    {
     "name": "stdout",
     "output_type": "stream",
     "text": [
      "finish split data\n",
      "Train on 3200000 samples, validate on 800000 samples\n",
      "Epoch 1/10\n",
      "3200000/3200000 [==============================] - 94s 29us/step - loss: 1.6299 - acc: 0.4833 - val_loss: 1.1359 - val_acc: 0.5718\n",
      "Epoch 2/10\n",
      "3200000/3200000 [==============================] - 50s 15us/step - loss: 1.2204 - acc: 0.5450 - val_loss: 1.0674 - val_acc: 0.5880\n",
      "Epoch 3/10\n",
      "1507328/3200000 [=============>................] - ETA: 21s - loss: 1.1443 - acc: 0.5640"
     ]
    },
    {
     "ename": "KeyboardInterrupt",
     "evalue": "",
     "output_type": "error",
     "traceback": [
      "\u001b[0;31m---------------------------------------------------------------------------\u001b[0m",
      "\u001b[0;31mKeyboardInterrupt\u001b[0m                         Traceback (most recent call last)",
      "\u001b[0;32m<ipython-input-90-6bc79fa601a4>\u001b[0m in \u001b[0;36m<module>\u001b[0;34m\u001b[0m\n\u001b[1;32m     45\u001b[0m \u001b[0;34m\u001b[0m\u001b[0m\n\u001b[1;32m     46\u001b[0m \u001b[0;34m\u001b[0m\u001b[0m\n\u001b[0;32m---> 47\u001b[0;31m     \u001b[0mmodel_parallel\u001b[0m\u001b[0;34m.\u001b[0m\u001b[0mfit\u001b[0m\u001b[0;34m(\u001b[0m\u001b[0mtrain_x\u001b[0m\u001b[0;34m,\u001b[0m \u001b[0mtrain_y\u001b[0m\u001b[0;34m,\u001b[0m \u001b[0mepochs\u001b[0m\u001b[0;34m=\u001b[0m\u001b[0;36m10\u001b[0m\u001b[0;34m,\u001b[0m\u001b[0mbatch_size\u001b[0m\u001b[0;34m=\u001b[0m\u001b[0;36m8192\u001b[0m\u001b[0;34m*\u001b[0m\u001b[0;36m4\u001b[0m\u001b[0;34m,\u001b[0m\u001b[0mvalidation_data\u001b[0m\u001b[0;34m=\u001b[0m\u001b[0;34m[\u001b[0m\u001b[0mvalidation_x\u001b[0m\u001b[0;34m,\u001b[0m\u001b[0mvalidation_y\u001b[0m\u001b[0;34m]\u001b[0m\u001b[0;34m,\u001b[0m\u001b[0mcallbacks\u001b[0m\u001b[0;34m=\u001b[0m\u001b[0mcallbacks_list\u001b[0m\u001b[0;34m)\u001b[0m\u001b[0;34m\u001b[0m\u001b[0;34m\u001b[0m\u001b[0m\n\u001b[0m\u001b[1;32m     48\u001b[0m \u001b[0;34m\u001b[0m\u001b[0m\n\u001b[1;32m     49\u001b[0m \u001b[0;34m\u001b[0m\u001b[0m\n",
      "\u001b[0;32m/opt/conda/lib/python3.6/site-packages/keras/engine/training.py\u001b[0m in \u001b[0;36mfit\u001b[0;34m(self, x, y, batch_size, epochs, verbose, callbacks, validation_split, validation_data, shuffle, class_weight, sample_weight, initial_epoch, steps_per_epoch, validation_steps, **kwargs)\u001b[0m\n\u001b[1;32m   1037\u001b[0m                                         \u001b[0minitial_epoch\u001b[0m\u001b[0;34m=\u001b[0m\u001b[0minitial_epoch\u001b[0m\u001b[0;34m,\u001b[0m\u001b[0;34m\u001b[0m\u001b[0;34m\u001b[0m\u001b[0m\n\u001b[1;32m   1038\u001b[0m                                         \u001b[0msteps_per_epoch\u001b[0m\u001b[0;34m=\u001b[0m\u001b[0msteps_per_epoch\u001b[0m\u001b[0;34m,\u001b[0m\u001b[0;34m\u001b[0m\u001b[0;34m\u001b[0m\u001b[0m\n\u001b[0;32m-> 1039\u001b[0;31m                                         validation_steps=validation_steps)\n\u001b[0m\u001b[1;32m   1040\u001b[0m \u001b[0;34m\u001b[0m\u001b[0m\n\u001b[1;32m   1041\u001b[0m     def evaluate(self, x=None, y=None,\n",
      "\u001b[0;32m/opt/conda/lib/python3.6/site-packages/keras/engine/training_arrays.py\u001b[0m in \u001b[0;36mfit_loop\u001b[0;34m(model, f, ins, out_labels, batch_size, epochs, verbose, callbacks, val_f, val_ins, shuffle, callback_metrics, initial_epoch, steps_per_epoch, validation_steps)\u001b[0m\n\u001b[1;32m    197\u001b[0m                     \u001b[0mins_batch\u001b[0m\u001b[0;34m[\u001b[0m\u001b[0mi\u001b[0m\u001b[0;34m]\u001b[0m \u001b[0;34m=\u001b[0m \u001b[0mins_batch\u001b[0m\u001b[0;34m[\u001b[0m\u001b[0mi\u001b[0m\u001b[0;34m]\u001b[0m\u001b[0;34m.\u001b[0m\u001b[0mtoarray\u001b[0m\u001b[0;34m(\u001b[0m\u001b[0;34m)\u001b[0m\u001b[0;34m\u001b[0m\u001b[0;34m\u001b[0m\u001b[0m\n\u001b[1;32m    198\u001b[0m \u001b[0;34m\u001b[0m\u001b[0m\n\u001b[0;32m--> 199\u001b[0;31m                 \u001b[0mouts\u001b[0m \u001b[0;34m=\u001b[0m \u001b[0mf\u001b[0m\u001b[0;34m(\u001b[0m\u001b[0mins_batch\u001b[0m\u001b[0;34m)\u001b[0m\u001b[0;34m\u001b[0m\u001b[0;34m\u001b[0m\u001b[0m\n\u001b[0m\u001b[1;32m    200\u001b[0m                 \u001b[0mouts\u001b[0m \u001b[0;34m=\u001b[0m \u001b[0mto_list\u001b[0m\u001b[0;34m(\u001b[0m\u001b[0mouts\u001b[0m\u001b[0;34m)\u001b[0m\u001b[0;34m\u001b[0m\u001b[0;34m\u001b[0m\u001b[0m\n\u001b[1;32m    201\u001b[0m                 \u001b[0;32mfor\u001b[0m \u001b[0ml\u001b[0m\u001b[0;34m,\u001b[0m \u001b[0mo\u001b[0m \u001b[0;32min\u001b[0m \u001b[0mzip\u001b[0m\u001b[0;34m(\u001b[0m\u001b[0mout_labels\u001b[0m\u001b[0;34m,\u001b[0m \u001b[0mouts\u001b[0m\u001b[0;34m)\u001b[0m\u001b[0;34m:\u001b[0m\u001b[0;34m\u001b[0m\u001b[0;34m\u001b[0m\u001b[0m\n",
      "\u001b[0;32m/opt/conda/lib/python3.6/site-packages/keras/backend/tensorflow_backend.py\u001b[0m in \u001b[0;36m__call__\u001b[0;34m(self, inputs)\u001b[0m\n\u001b[1;32m   2713\u001b[0m                 \u001b[0;32mreturn\u001b[0m \u001b[0mself\u001b[0m\u001b[0;34m.\u001b[0m\u001b[0m_legacy_call\u001b[0m\u001b[0;34m(\u001b[0m\u001b[0minputs\u001b[0m\u001b[0;34m)\u001b[0m\u001b[0;34m\u001b[0m\u001b[0;34m\u001b[0m\u001b[0m\n\u001b[1;32m   2714\u001b[0m \u001b[0;34m\u001b[0m\u001b[0m\n\u001b[0;32m-> 2715\u001b[0;31m             \u001b[0;32mreturn\u001b[0m \u001b[0mself\u001b[0m\u001b[0;34m.\u001b[0m\u001b[0m_call\u001b[0m\u001b[0;34m(\u001b[0m\u001b[0minputs\u001b[0m\u001b[0;34m)\u001b[0m\u001b[0;34m\u001b[0m\u001b[0;34m\u001b[0m\u001b[0m\n\u001b[0m\u001b[1;32m   2716\u001b[0m         \u001b[0;32melse\u001b[0m\u001b[0;34m:\u001b[0m\u001b[0;34m\u001b[0m\u001b[0;34m\u001b[0m\u001b[0m\n\u001b[1;32m   2717\u001b[0m             \u001b[0;32mif\u001b[0m \u001b[0mpy_any\u001b[0m\u001b[0;34m(\u001b[0m\u001b[0mis_tensor\u001b[0m\u001b[0;34m(\u001b[0m\u001b[0mx\u001b[0m\u001b[0;34m)\u001b[0m \u001b[0;32mfor\u001b[0m \u001b[0mx\u001b[0m \u001b[0;32min\u001b[0m \u001b[0minputs\u001b[0m\u001b[0;34m)\u001b[0m\u001b[0;34m:\u001b[0m\u001b[0;34m\u001b[0m\u001b[0;34m\u001b[0m\u001b[0m\n",
      "\u001b[0;32m/opt/conda/lib/python3.6/site-packages/keras/backend/tensorflow_backend.py\u001b[0m in \u001b[0;36m_call\u001b[0;34m(self, inputs)\u001b[0m\n\u001b[1;32m   2673\u001b[0m             \u001b[0mfetched\u001b[0m \u001b[0;34m=\u001b[0m \u001b[0mself\u001b[0m\u001b[0;34m.\u001b[0m\u001b[0m_callable_fn\u001b[0m\u001b[0;34m(\u001b[0m\u001b[0;34m*\u001b[0m\u001b[0marray_vals\u001b[0m\u001b[0;34m,\u001b[0m \u001b[0mrun_metadata\u001b[0m\u001b[0;34m=\u001b[0m\u001b[0mself\u001b[0m\u001b[0;34m.\u001b[0m\u001b[0mrun_metadata\u001b[0m\u001b[0;34m)\u001b[0m\u001b[0;34m\u001b[0m\u001b[0;34m\u001b[0m\u001b[0m\n\u001b[1;32m   2674\u001b[0m         \u001b[0;32melse\u001b[0m\u001b[0;34m:\u001b[0m\u001b[0;34m\u001b[0m\u001b[0;34m\u001b[0m\u001b[0m\n\u001b[0;32m-> 2675\u001b[0;31m             \u001b[0mfetched\u001b[0m \u001b[0;34m=\u001b[0m \u001b[0mself\u001b[0m\u001b[0;34m.\u001b[0m\u001b[0m_callable_fn\u001b[0m\u001b[0;34m(\u001b[0m\u001b[0;34m*\u001b[0m\u001b[0marray_vals\u001b[0m\u001b[0;34m)\u001b[0m\u001b[0;34m\u001b[0m\u001b[0;34m\u001b[0m\u001b[0m\n\u001b[0m\u001b[1;32m   2676\u001b[0m         \u001b[0;32mreturn\u001b[0m \u001b[0mfetched\u001b[0m\u001b[0;34m[\u001b[0m\u001b[0;34m:\u001b[0m\u001b[0mlen\u001b[0m\u001b[0;34m(\u001b[0m\u001b[0mself\u001b[0m\u001b[0;34m.\u001b[0m\u001b[0moutputs\u001b[0m\u001b[0;34m)\u001b[0m\u001b[0;34m]\u001b[0m\u001b[0;34m\u001b[0m\u001b[0;34m\u001b[0m\u001b[0m\n\u001b[1;32m   2677\u001b[0m \u001b[0;34m\u001b[0m\u001b[0m\n",
      "\u001b[0;32m/opt/conda/lib/python3.6/site-packages/tensorflow/python/client/session.py\u001b[0m in \u001b[0;36m__call__\u001b[0;34m(self, *args, **kwargs)\u001b[0m\n\u001b[1;32m   1437\u001b[0m           ret = tf_session.TF_SessionRunCallable(\n\u001b[1;32m   1438\u001b[0m               \u001b[0mself\u001b[0m\u001b[0;34m.\u001b[0m\u001b[0m_session\u001b[0m\u001b[0;34m.\u001b[0m\u001b[0m_session\u001b[0m\u001b[0;34m,\u001b[0m \u001b[0mself\u001b[0m\u001b[0;34m.\u001b[0m\u001b[0m_handle\u001b[0m\u001b[0;34m,\u001b[0m \u001b[0margs\u001b[0m\u001b[0;34m,\u001b[0m \u001b[0mstatus\u001b[0m\u001b[0;34m,\u001b[0m\u001b[0;34m\u001b[0m\u001b[0;34m\u001b[0m\u001b[0m\n\u001b[0;32m-> 1439\u001b[0;31m               run_metadata_ptr)\n\u001b[0m\u001b[1;32m   1440\u001b[0m         \u001b[0;32mif\u001b[0m \u001b[0mrun_metadata\u001b[0m\u001b[0;34m:\u001b[0m\u001b[0;34m\u001b[0m\u001b[0;34m\u001b[0m\u001b[0m\n\u001b[1;32m   1441\u001b[0m           \u001b[0mproto_data\u001b[0m \u001b[0;34m=\u001b[0m \u001b[0mtf_session\u001b[0m\u001b[0;34m.\u001b[0m\u001b[0mTF_GetBuffer\u001b[0m\u001b[0;34m(\u001b[0m\u001b[0mrun_metadata_ptr\u001b[0m\u001b[0;34m)\u001b[0m\u001b[0;34m\u001b[0m\u001b[0;34m\u001b[0m\u001b[0m\n",
      "\u001b[0;31mKeyboardInterrupt\u001b[0m: "
     ]
    }
   ],
   "source": [
    "pred_list=[]\n",
    "test_x=test_X\n",
    "\n",
    "for i in range(split_size):\n",
    "    ####切分数据集\n",
    "    validation_index=list(split_index_list[i])\n",
    "    train_index=[]\n",
    "    for j in range(split_size):\n",
    "        if j==i:\n",
    "            continue\n",
    "        train_index+=list(split_index_list[j])\n",
    "    train_x=[x_data[train_index] for x_data in X]\n",
    "    train_y=Y[train_index]  \n",
    "    validation_x=[x_data[validation_index] for x_data in X]\n",
    "    validation_y=Y[validation_index]\n",
    "    print('finish split data')\n",
    "    \n",
    "    model_name='my_model_split_'+prefix+str(i)+'.h5'\n",
    "    \n",
    "    model = build_res_net()\n",
    "#     callbacks_list = [\n",
    "#     EarlyStopping(\n",
    "#         monitor='val_loss',\n",
    "#         patience=20\n",
    "#     ),\n",
    "#     ModelCheckpoint(\n",
    "#         filepath=model_name, \n",
    "#         monitor='val_loss', \n",
    "#         save_best_only=True\n",
    "#     )\n",
    "# ]\n",
    "#     model.fit(train_x, train_y, epochs=100,batch_size=4096,validation_data=[validation_x,validation_y],callbacks=callbacks_list)\n",
    "\n",
    "    callbacks_list = [\n",
    "        EarlyStopping(\n",
    "            monitor='val_loss',\n",
    "            patience=10\n",
    "        ),\n",
    "        ParallelModelCheckpoint(model,model_name,save_best_only=True,monitor='val_loss')\n",
    "\n",
    "    ]\n",
    "    \n",
    "    model_parallel=multi_gpu_model(model,gpus=4)\n",
    "    model_parallel.compile(loss='categorical_crossentropy', optimizer=optimizers.Adam(lr=0.0001),metrics=['accuracy'])\n",
    "    \n",
    "    \n",
    "    model_parallel.fit(train_x, train_y, epochs=10,batch_size=8192*4,validation_data=[validation_x,validation_y],callbacks=callbacks_list)\n",
    "    \n",
    "    \n",
    "    my_model = load_model(model_name)\n",
    "    y_pred = my_model.predict(test_x)\n",
    "    pred_list.append(y_pred)\n",
    "    \n",
    "    ##备份\n",
    "    pd_y_pred=pd.DataFrame(y_pred)\n",
    "    pd_y_pred.to_csv('pred_nn_'+prefix+str(i)+'.csv',index=False,header=None)\n",
    "\n",
    "    print('finish:',str(i))"
   ]
  },
  {
   "cell_type": "code",
   "execution_count": 80,
   "metadata": {
    "ExecuteTime": {
     "end_time": "2019-08-22T12:27:01.825138Z",
     "start_time": "2019-08-22T12:27:01.767659Z"
    }
   },
   "outputs": [],
   "source": [
    "result=pred_list[0]+pred_list[1]+pred_list[2]+pred_list[3]+pred_list[4]\n",
    "result=np.argmax(result,axis=1)+1\n",
    "result=pd.DataFrame(result)\n",
    "submission=pd.concat([age_test,result],axis=1)\n",
    "submission.rename(columns={0:'label'},inplace=True)\n",
    "submission.to_csv('submission_nn'+prefix+'all.csv',index=False)\n",
    "# print(accuracy_score(np.argmax(test_y,axis=1)+1,result))\n",
    "# print(accuracy_score(np.argmax(test_y,axis=1)+1,result))"
   ]
  },
  {
   "cell_type": "code",
   "execution_count": 81,
   "metadata": {},
   "outputs": [],
   "source": [
    "full_pred=my_model.predict(X)\n",
    "result=np.argmax(full_pred,axis=1)+1"
   ]
  },
  {
   "cell_type": "code",
   "execution_count": 84,
   "metadata": {},
   "outputs": [],
   "source": [
    "num_Y=np.argmax(Y,axis=1)+1"
   ]
  },
  {
   "cell_type": "code",
   "execution_count": 87,
   "metadata": {},
   "outputs": [
    {
     "data": {
      "text/plain": [
       "0.642301"
      ]
     },
     "execution_count": 87,
     "metadata": {},
     "output_type": "execute_result"
    }
   ],
   "source": [
    "sum(result==num_Y)/len(num_Y)"
   ]
  },
  {
   "cell_type": "code",
   "execution_count": null,
   "metadata": {},
   "outputs": [],
   "source": [
    "# print(submission.label.value_counts()/len(submission))"
   ]
  },
  {
   "cell_type": "code",
   "execution_count": 76,
   "metadata": {
    "ExecuteTime": {
     "end_time": "2019-08-22T12:28:54.624166Z",
     "start_time": "2019-08-22T12:28:50.270725Z"
    }
   },
   "outputs": [],
   "source": [
    "# save_file_list=[]\n",
    "# for i in range(split_size):\n",
    "#     save_file_list.append(np.array(pd.read_csv('pred_nn_'+prefix+str(i)+'.csv',header=None)))"
   ]
  },
  {
   "cell_type": "code",
   "execution_count": 77,
   "metadata": {
    "ExecuteTime": {
     "end_time": "2019-08-22T12:29:11.393563Z",
     "start_time": "2019-08-22T12:29:11.317519Z"
    }
   },
   "outputs": [],
   "source": [
    "# result_1=save_file_list[0]+save_file_list[1]+save_file_list[2]+save_file_list[3]+save_file_list[4]\n",
    "# result_1=np.argmax(result_1,axis=1)+1\n",
    "# result=pd.DataFrame(result)\n",
    "# submission=pd.concat([age_test,result],axis=1)\n",
    "# submission.rename(columns={0:'label'},inplace=True)\n",
    "# submission.to_csv('pred_nn'+prefix+'all.csv',index=False)\n",
    "# # print(accuracy_score(np.argmax(test_y,axis=1)+1,result))"
   ]
  },
  {
   "cell_type": "code",
   "execution_count": 92,
   "metadata": {
    "ExecuteTime": {
     "end_time": "2019-08-22T13:06:13.151992Z",
     "start_time": "2019-08-22T13:06:10.396772Z"
    }
   },
   "outputs": [],
   "source": [
    "model = build_res_net()\n",
    "# model_parallel=multi_gpu_model(model,gpus=4)\n",
    "# model_parallel.compile(loss='categorical_crossentropy', optimizer=optimizers.Adam(lr=0.0001),metrics=['accuracy'])\n",
    "# class ParallelModelCheckpoint( keras.callbacks.ModelCheckpoint):\n",
    "#     def __init__(self,model,filepath, monitor='val_loss', verbose=0,\n",
    "#                  save_best_only=False, save_weights_only=False,\n",
    "#                  mode='auto', period=1):\n",
    "#         self.single_model = model\n",
    "#         super(ParallelModelCheckpoint,self).__init__(filepath, monitor, verbose,save_best_only, save_weights_only,mode, period)\n",
    "\n",
    "#     def set_model(self, model):\n",
    "#         super(ParallelModelCheckpoint,self).set_model(self.single_model)\n",
    "# callbacks_list = [\n",
    "#     EarlyStopping(\n",
    "#         monitor='val_loss',\n",
    "#         patience=20\n",
    "#     ),\n",
    "#     ParallelModelCheckpoint(model,model_name,save_best_only=True,monitor='val_loss')\n",
    "    \n",
    "# ]"
   ]
  },
  {
   "cell_type": "code",
   "execution_count": 93,
   "metadata": {
    "ExecuteTime": {
     "end_time": "2019-08-22T13:11:46.535779Z",
     "start_time": "2019-08-22T13:06:14.324183Z"
    },
    "collapsed": true,
    "jupyter": {
     "outputs_hidden": true
    }
   },
   "outputs": [
    {
     "name": "stdout",
     "output_type": "stream",
     "text": [
      "Train on 3200000 samples, validate on 800000 samples\n",
      "Epoch 1/100\n",
      "3200000/3200000 [==============================] - 108s 34us/step - loss: 1.4321 - acc: 0.5760 - val_loss: 15.5078 - val_acc: 0.0000e+00\n",
      "Epoch 2/100\n",
      "  98304/3200000 [..............................] - ETA: 1:35 - loss: 1.0561 - acc: 0.6240"
     ]
    },
    {
     "ename": "KeyboardInterrupt",
     "evalue": "",
     "output_type": "error",
     "traceback": [
      "\u001b[0;31m---------------------------------------------------------------------------\u001b[0m",
      "\u001b[0;31mKeyboardInterrupt\u001b[0m                         Traceback (most recent call last)",
      "\u001b[0;32m<ipython-input-93-c6cca4a81de7>\u001b[0m in \u001b[0;36m<module>\u001b[0;34m\u001b[0m\n\u001b[0;32m----> 1\u001b[0;31m \u001b[0mmodel\u001b[0m\u001b[0;34m.\u001b[0m\u001b[0mfit\u001b[0m\u001b[0;34m(\u001b[0m\u001b[0mX\u001b[0m\u001b[0;34m,\u001b[0m \u001b[0mY\u001b[0m\u001b[0;34m,\u001b[0m \u001b[0mepochs\u001b[0m\u001b[0;34m=\u001b[0m\u001b[0;36m100\u001b[0m\u001b[0;34m,\u001b[0m\u001b[0mbatch_size\u001b[0m\u001b[0;34m=\u001b[0m\u001b[0;36m8192\u001b[0m\u001b[0;34m*\u001b[0m\u001b[0;36m4\u001b[0m\u001b[0;34m,\u001b[0m\u001b[0mvalidation_split\u001b[0m\u001b[0;34m=\u001b[0m\u001b[0;36m0.2\u001b[0m\u001b[0;34m,\u001b[0m\u001b[0mcallbacks\u001b[0m\u001b[0;34m=\u001b[0m\u001b[0mcallbacks_list\u001b[0m\u001b[0;34m)\u001b[0m\u001b[0;34m\u001b[0m\u001b[0;34m\u001b[0m\u001b[0m\n\u001b[0m",
      "\u001b[0;32m/opt/conda/lib/python3.6/site-packages/keras/engine/training.py\u001b[0m in \u001b[0;36mfit\u001b[0;34m(self, x, y, batch_size, epochs, verbose, callbacks, validation_split, validation_data, shuffle, class_weight, sample_weight, initial_epoch, steps_per_epoch, validation_steps, **kwargs)\u001b[0m\n\u001b[1;32m   1037\u001b[0m                                         \u001b[0minitial_epoch\u001b[0m\u001b[0;34m=\u001b[0m\u001b[0minitial_epoch\u001b[0m\u001b[0;34m,\u001b[0m\u001b[0;34m\u001b[0m\u001b[0;34m\u001b[0m\u001b[0m\n\u001b[1;32m   1038\u001b[0m                                         \u001b[0msteps_per_epoch\u001b[0m\u001b[0;34m=\u001b[0m\u001b[0msteps_per_epoch\u001b[0m\u001b[0;34m,\u001b[0m\u001b[0;34m\u001b[0m\u001b[0;34m\u001b[0m\u001b[0m\n\u001b[0;32m-> 1039\u001b[0;31m                                         validation_steps=validation_steps)\n\u001b[0m\u001b[1;32m   1040\u001b[0m \u001b[0;34m\u001b[0m\u001b[0m\n\u001b[1;32m   1041\u001b[0m     def evaluate(self, x=None, y=None,\n",
      "\u001b[0;32m/opt/conda/lib/python3.6/site-packages/keras/engine/training_arrays.py\u001b[0m in \u001b[0;36mfit_loop\u001b[0;34m(model, f, ins, out_labels, batch_size, epochs, verbose, callbacks, val_f, val_ins, shuffle, callback_metrics, initial_epoch, steps_per_epoch, validation_steps)\u001b[0m\n\u001b[1;32m    197\u001b[0m                     \u001b[0mins_batch\u001b[0m\u001b[0;34m[\u001b[0m\u001b[0mi\u001b[0m\u001b[0;34m]\u001b[0m \u001b[0;34m=\u001b[0m \u001b[0mins_batch\u001b[0m\u001b[0;34m[\u001b[0m\u001b[0mi\u001b[0m\u001b[0;34m]\u001b[0m\u001b[0;34m.\u001b[0m\u001b[0mtoarray\u001b[0m\u001b[0;34m(\u001b[0m\u001b[0;34m)\u001b[0m\u001b[0;34m\u001b[0m\u001b[0;34m\u001b[0m\u001b[0m\n\u001b[1;32m    198\u001b[0m \u001b[0;34m\u001b[0m\u001b[0m\n\u001b[0;32m--> 199\u001b[0;31m                 \u001b[0mouts\u001b[0m \u001b[0;34m=\u001b[0m \u001b[0mf\u001b[0m\u001b[0;34m(\u001b[0m\u001b[0mins_batch\u001b[0m\u001b[0;34m)\u001b[0m\u001b[0;34m\u001b[0m\u001b[0;34m\u001b[0m\u001b[0m\n\u001b[0m\u001b[1;32m    200\u001b[0m                 \u001b[0mouts\u001b[0m \u001b[0;34m=\u001b[0m \u001b[0mto_list\u001b[0m\u001b[0;34m(\u001b[0m\u001b[0mouts\u001b[0m\u001b[0;34m)\u001b[0m\u001b[0;34m\u001b[0m\u001b[0;34m\u001b[0m\u001b[0m\n\u001b[1;32m    201\u001b[0m                 \u001b[0;32mfor\u001b[0m \u001b[0ml\u001b[0m\u001b[0;34m,\u001b[0m \u001b[0mo\u001b[0m \u001b[0;32min\u001b[0m \u001b[0mzip\u001b[0m\u001b[0;34m(\u001b[0m\u001b[0mout_labels\u001b[0m\u001b[0;34m,\u001b[0m \u001b[0mouts\u001b[0m\u001b[0;34m)\u001b[0m\u001b[0;34m:\u001b[0m\u001b[0;34m\u001b[0m\u001b[0;34m\u001b[0m\u001b[0m\n",
      "\u001b[0;32m/opt/conda/lib/python3.6/site-packages/keras/backend/tensorflow_backend.py\u001b[0m in \u001b[0;36m__call__\u001b[0;34m(self, inputs)\u001b[0m\n\u001b[1;32m   2713\u001b[0m                 \u001b[0;32mreturn\u001b[0m \u001b[0mself\u001b[0m\u001b[0;34m.\u001b[0m\u001b[0m_legacy_call\u001b[0m\u001b[0;34m(\u001b[0m\u001b[0minputs\u001b[0m\u001b[0;34m)\u001b[0m\u001b[0;34m\u001b[0m\u001b[0;34m\u001b[0m\u001b[0m\n\u001b[1;32m   2714\u001b[0m \u001b[0;34m\u001b[0m\u001b[0m\n\u001b[0;32m-> 2715\u001b[0;31m             \u001b[0;32mreturn\u001b[0m \u001b[0mself\u001b[0m\u001b[0;34m.\u001b[0m\u001b[0m_call\u001b[0m\u001b[0;34m(\u001b[0m\u001b[0minputs\u001b[0m\u001b[0;34m)\u001b[0m\u001b[0;34m\u001b[0m\u001b[0;34m\u001b[0m\u001b[0m\n\u001b[0m\u001b[1;32m   2716\u001b[0m         \u001b[0;32melse\u001b[0m\u001b[0;34m:\u001b[0m\u001b[0;34m\u001b[0m\u001b[0;34m\u001b[0m\u001b[0m\n\u001b[1;32m   2717\u001b[0m             \u001b[0;32mif\u001b[0m \u001b[0mpy_any\u001b[0m\u001b[0;34m(\u001b[0m\u001b[0mis_tensor\u001b[0m\u001b[0;34m(\u001b[0m\u001b[0mx\u001b[0m\u001b[0;34m)\u001b[0m \u001b[0;32mfor\u001b[0m \u001b[0mx\u001b[0m \u001b[0;32min\u001b[0m \u001b[0minputs\u001b[0m\u001b[0;34m)\u001b[0m\u001b[0;34m:\u001b[0m\u001b[0;34m\u001b[0m\u001b[0;34m\u001b[0m\u001b[0m\n",
      "\u001b[0;32m/opt/conda/lib/python3.6/site-packages/keras/backend/tensorflow_backend.py\u001b[0m in \u001b[0;36m_call\u001b[0;34m(self, inputs)\u001b[0m\n\u001b[1;32m   2673\u001b[0m             \u001b[0mfetched\u001b[0m \u001b[0;34m=\u001b[0m \u001b[0mself\u001b[0m\u001b[0;34m.\u001b[0m\u001b[0m_callable_fn\u001b[0m\u001b[0;34m(\u001b[0m\u001b[0;34m*\u001b[0m\u001b[0marray_vals\u001b[0m\u001b[0;34m,\u001b[0m \u001b[0mrun_metadata\u001b[0m\u001b[0;34m=\u001b[0m\u001b[0mself\u001b[0m\u001b[0;34m.\u001b[0m\u001b[0mrun_metadata\u001b[0m\u001b[0;34m)\u001b[0m\u001b[0;34m\u001b[0m\u001b[0;34m\u001b[0m\u001b[0m\n\u001b[1;32m   2674\u001b[0m         \u001b[0;32melse\u001b[0m\u001b[0;34m:\u001b[0m\u001b[0;34m\u001b[0m\u001b[0;34m\u001b[0m\u001b[0m\n\u001b[0;32m-> 2675\u001b[0;31m             \u001b[0mfetched\u001b[0m \u001b[0;34m=\u001b[0m \u001b[0mself\u001b[0m\u001b[0;34m.\u001b[0m\u001b[0m_callable_fn\u001b[0m\u001b[0;34m(\u001b[0m\u001b[0;34m*\u001b[0m\u001b[0marray_vals\u001b[0m\u001b[0;34m)\u001b[0m\u001b[0;34m\u001b[0m\u001b[0;34m\u001b[0m\u001b[0m\n\u001b[0m\u001b[1;32m   2676\u001b[0m         \u001b[0;32mreturn\u001b[0m \u001b[0mfetched\u001b[0m\u001b[0;34m[\u001b[0m\u001b[0;34m:\u001b[0m\u001b[0mlen\u001b[0m\u001b[0;34m(\u001b[0m\u001b[0mself\u001b[0m\u001b[0;34m.\u001b[0m\u001b[0moutputs\u001b[0m\u001b[0;34m)\u001b[0m\u001b[0;34m]\u001b[0m\u001b[0;34m\u001b[0m\u001b[0;34m\u001b[0m\u001b[0m\n\u001b[1;32m   2677\u001b[0m \u001b[0;34m\u001b[0m\u001b[0m\n",
      "\u001b[0;32m/opt/conda/lib/python3.6/site-packages/tensorflow/python/client/session.py\u001b[0m in \u001b[0;36m__call__\u001b[0;34m(self, *args, **kwargs)\u001b[0m\n\u001b[1;32m   1437\u001b[0m           ret = tf_session.TF_SessionRunCallable(\n\u001b[1;32m   1438\u001b[0m               \u001b[0mself\u001b[0m\u001b[0;34m.\u001b[0m\u001b[0m_session\u001b[0m\u001b[0;34m.\u001b[0m\u001b[0m_session\u001b[0m\u001b[0;34m,\u001b[0m \u001b[0mself\u001b[0m\u001b[0;34m.\u001b[0m\u001b[0m_handle\u001b[0m\u001b[0;34m,\u001b[0m \u001b[0margs\u001b[0m\u001b[0;34m,\u001b[0m \u001b[0mstatus\u001b[0m\u001b[0;34m,\u001b[0m\u001b[0;34m\u001b[0m\u001b[0;34m\u001b[0m\u001b[0m\n\u001b[0;32m-> 1439\u001b[0;31m               run_metadata_ptr)\n\u001b[0m\u001b[1;32m   1440\u001b[0m         \u001b[0;32mif\u001b[0m \u001b[0mrun_metadata\u001b[0m\u001b[0;34m:\u001b[0m\u001b[0;34m\u001b[0m\u001b[0;34m\u001b[0m\u001b[0m\n\u001b[1;32m   1441\u001b[0m           \u001b[0mproto_data\u001b[0m \u001b[0;34m=\u001b[0m \u001b[0mtf_session\u001b[0m\u001b[0;34m.\u001b[0m\u001b[0mTF_GetBuffer\u001b[0m\u001b[0;34m(\u001b[0m\u001b[0mrun_metadata_ptr\u001b[0m\u001b[0;34m)\u001b[0m\u001b[0;34m\u001b[0m\u001b[0;34m\u001b[0m\u001b[0m\n",
      "\u001b[0;31mKeyboardInterrupt\u001b[0m: "
     ]
    }
   ],
   "source": [
    "model.fit(X, Y, epochs=100,batch_size=8192*4,validation_split=0.2,callbacks=callbacks_list)"
   ]
  },
  {
   "cell_type": "code",
   "execution_count": null,
   "metadata": {},
   "outputs": [],
   "source": [
    "print('da')"
   ]
  },
  {
   "cell_type": "code",
   "execution_count": null,
   "metadata": {
    "jupyter": {
     "source_hidden": true
    }
   },
   "outputs": [],
   "source": [
    "# my_model = load_model(model_name)"
   ]
  },
  {
   "cell_type": "code",
   "execution_count": null,
   "metadata": {},
   "outputs": [],
   "source": [
    "# y_pred = my_model.predict(test_X)"
   ]
  },
  {
   "cell_type": "code",
   "execution_count": null,
   "metadata": {},
   "outputs": [],
   "source": [
    "# pd.DataFrame(y_pred).to_csv('pred_nn_single_model.csv',index=False,header=None)"
   ]
  },
  {
   "cell_type": "code",
   "execution_count": null,
   "metadata": {},
   "outputs": [],
   "source": [
    "print('da')"
   ]
  },
  {
   "cell_type": "code",
   "execution_count": 150,
   "metadata": {},
   "outputs": [
    {
     "name": "stdout",
     "output_type": "stream",
     "text": [
      "4    0.343963\n",
      "3    0.330621\n",
      "5    0.146233\n",
      "2    0.108920\n",
      "1    0.050924\n",
      "6    0.019339\n",
      "Name: label, dtype: float64\n"
     ]
    }
   ],
   "source": [
    "result=pd_y_pred\n",
    "result=np.argmax(result.values,axis=1)+1\n",
    "result=pd.DataFrame(result)\n",
    "submission=pd.concat([age_test,result],axis=1)\n",
    "submission.rename(columns={0:'label'},inplace=True)\n",
    "submission.to_csv('submission_single_model_pred_0_adad.csv',index=False)\n",
    "print(submission.label.value_counts()/len(submission))"
   ]
  },
  {
   "cell_type": "code",
   "execution_count": 154,
   "metadata": {},
   "outputs": [],
   "source": [
    "submission_test=pd.read_csv('submission_nntry_3_all.csv')"
   ]
  },
  {
   "cell_type": "code",
   "execution_count": 155,
   "metadata": {},
   "outputs": [
    {
     "data": {
      "text/plain": [
       "4    0.293558\n",
       "3    0.276373\n",
       "5    0.185773\n",
       "1    0.107845\n",
       "2    0.103970\n",
       "6    0.032481\n",
       "Name: label, dtype: float64"
      ]
     },
     "execution_count": 155,
     "metadata": {},
     "output_type": "execute_result"
    }
   ],
   "source": [
    "submission_test.label.value_counts()/len(submission_test)"
   ]
  },
  {
   "cell_type": "code",
   "execution_count": null,
   "metadata": {},
   "outputs": [],
   "source": []
  },
  {
   "cell_type": "code",
   "execution_count": null,
   "metadata": {},
   "outputs": [],
   "source": []
  },
  {
   "cell_type": "code",
   "execution_count": null,
   "metadata": {},
   "outputs": [],
   "source": []
  },
  {
   "cell_type": "code",
   "execution_count": null,
   "metadata": {},
   "outputs": [],
   "source": []
  },
  {
   "cell_type": "code",
   "execution_count": null,
   "metadata": {},
   "outputs": [],
   "source": []
  },
  {
   "cell_type": "code",
   "execution_count": null,
   "metadata": {},
   "outputs": [],
   "source": []
  }
 ],
 "metadata": {
  "kernelspec": {
   "display_name": "Environment (conda_conda)",
   "language": "python",
   "name": "conda_conda"
  },
  "language_info": {
   "codemirror_mode": {
    "name": "ipython",
    "version": 3
   },
   "file_extension": ".py",
   "mimetype": "text/x-python",
   "name": "python",
   "nbconvert_exporter": "python",
   "pygments_lexer": "ipython3",
   "version": "3.6.7"
  }
 },
 "nbformat": 4,
 "nbformat_minor": 4
}
