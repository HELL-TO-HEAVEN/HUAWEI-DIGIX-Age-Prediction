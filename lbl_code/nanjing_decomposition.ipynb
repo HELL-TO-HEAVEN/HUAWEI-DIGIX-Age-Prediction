{
 "cells": [
  {
   "cell_type": "code",
   "execution_count": 1,
   "metadata": {
    "ExecuteTime": {
     "end_time": "2019-08-21T13:07:28.235415Z",
     "start_time": "2019-08-21T13:07:24.423111Z"
    }
   },
   "outputs": [
    {
     "name": "stderr",
     "output_type": "stream",
     "text": [
      "Using TensorFlow backend.\n"
     ]
    }
   ],
   "source": [
    "import numpy as np\n",
    "import pandas as pd\n",
    "import os\n",
    "from sklearn.decomposition import PCA,NMF,TruncatedSVD,SparsePCA\n",
    "from keras.utils import np_utils\n",
    "from keras.preprocessing.text import one_hot\n",
    "from keras.preprocessing.sequence import pad_sequences\n",
    "from scipy.sparse import csr_matrix\n",
    "from sklearn.utils import shuffle\n",
    "from sklearn.feature_selection import chi2,SelectKBest\n",
    "from sklearn.feature_extraction.text import TfidfTransformer\n",
    "from sklearn.preprocessing import LabelEncoder, StandardScaler,MinMaxScaler"
   ]
  },
  {
   "cell_type": "code",
   "execution_count": 2,
   "metadata": {
    "ExecuteTime": {
     "end_time": "2019-08-21T13:07:28.267168Z",
     "start_time": "2019-08-21T13:07:28.245511Z"
    }
   },
   "outputs": [],
   "source": [
    "data_dir='/home/uniml/work/hw/dataset/'\n",
    "temp_save_dir='./temp_data/'\n",
    "age_train_file_path=data_dir+'age_train.csv'\n",
    "age_test_file_path=data_dir+'age_test.csv'\n",
    "app_info_file_path=data_dir+'app_info.csv'\n",
    "user_app_actived_file_path=data_dir+'user_app_actived.csv'\n",
    "user_basic_info_file_path=data_dir+'user_basic_info.csv'\n",
    "user_behavior_info_file_path=data_dir+'user_behavior_info.csv'\n",
    "user_app_usage_file_path=data_dir+'user_app_usage.csv'"
   ]
  },
  {
   "cell_type": "code",
   "execution_count": 3,
   "metadata": {
    "ExecuteTime": {
     "end_time": "2019-08-21T13:07:32.047259Z",
     "start_time": "2019-08-21T13:07:28.275303Z"
    }
   },
   "outputs": [],
   "source": [
    "#用户label数据\n",
    "#在此将对应的label减去1以方便模型操作,后面预测的时候会加回来\n",
    "age_train=pd.read_csv(age_train_file_path,header=None,names=['uId','age_group'])\n",
    "age_train.age_group=age_train.age_group.apply(lambda x:x-1)\n",
    "age_train.age_group=age_train.age_group.astype('category')\n",
    "age_test=pd.read_csv(age_test_file_path,header=None,names=['id'])"
   ]
  },
  {
   "cell_type": "code",
   "execution_count": 4,
   "metadata": {
    "ExecuteTime": {
     "end_time": "2019-08-21T13:11:30.631391Z",
     "start_time": "2019-08-21T13:07:32.075157Z"
    }
   },
   "outputs": [],
   "source": [
    "actived_app_size = 10010\n",
    "actived_max_length = 150\n",
    "\n",
    "user_app_actived=pd.read_csv(user_app_actived_file_path,header=None,names=['uId','appId'])\n",
    "\n",
    "encoded_apps = [one_hot(app[0], actived_app_size, split='#') for app in user_app_actived[['appId']].values]\n"
   ]
  },
  {
   "cell_type": "code",
   "execution_count": 4,
   "metadata": {
    "ExecuteTime": {
     "end_time": "2019-08-21T13:11:30.689705Z",
     "start_time": "2019-08-21T13:11:30.661123Z"
    }
   },
   "outputs": [],
   "source": [
    "usage_app_size = 10010\n",
    "usage_max_length = 200\n",
    "app_usage_info=pd.read_hdf(data_dir+'user_app_usage_df.h5',key='data')\n",
    "app_usage_info.loc[pd.isna(app_usage_info['appIds']),'appIds']=''\n",
    "\n",
    "encoded_apps = [one_hot(app[0], usage_app_size, split='#') for app in app_usage_info[['appIds']].values]\n"
   ]
  },
  {
   "cell_type": "code",
   "execution_count": 6,
   "metadata": {
    "ExecuteTime": {
     "end_time": "2019-08-21T13:11:30.857262Z",
     "start_time": "2019-08-21T13:11:30.692505Z"
    }
   },
   "outputs": [],
   "source": [
    "def get_app_crs_matrix(data_index,encoded_data,app_size):\n",
    "    row_index=[]\n",
    "    column_index=[]\n",
    "    for i in range(len(data_index)):\n",
    "        target_index=data_index.loc[i,'target_index']\n",
    "        if pd.isna(target_index):\n",
    "            continue\n",
    "        target_index=int(target_index)\n",
    "        row_index.extend([i for _ in range(len(encoded_data[target_index]))])\n",
    "        column_index.extend([column for column in encoded_data[target_index]])\n",
    "    matrix=csr_matrix(([1 for _ in range(len(row_index))],(row_index,column_index)),shape=(data_index.shape[0],app_size))\n",
    "    return matrix"
   ]
  },
  {
   "cell_type": "code",
   "execution_count": 7,
   "metadata": {
    "ExecuteTime": {
     "end_time": "2019-08-21T13:11:35.762575Z",
     "start_time": "2019-08-21T13:11:30.859944Z"
    }
   },
   "outputs": [],
   "source": [
    "user_app_actived['target_index']=user_app_actived.index\n",
    "train_index=age_train.merge(user_app_actived.loc[:,['uId','target_index']],on='uId',how='left')\n",
    "test_index=age_test.merge(user_app_actived.loc[:,['uId','target_index']],left_on='id',right_on='uId',how='left')\n",
    "_=test_index.pop('id')"
   ]
  },
  {
   "cell_type": "code",
   "execution_count": 5,
   "metadata": {
    "ExecuteTime": {
     "end_time": "2019-08-21T13:11:35.799963Z",
     "start_time": "2019-08-21T13:11:35.783075Z"
    }
   },
   "outputs": [],
   "source": [
    "app_usage_info['target_index']=app_usage_info.index\n",
    "train_index=age_train.merge(app_usage_info.loc[:,['uId','target_index']],on='uId',how='left')\n",
    "test_index=age_test.merge(app_usage_info.loc[:,['uId','target_index']],left_on='id',right_on='uId',how='left')\n",
    "_=test_index.pop('id')"
   ]
  },
  {
   "cell_type": "code",
   "execution_count": 9,
   "metadata": {
    "ExecuteTime": {
     "end_time": "2019-08-21T13:15:37.441457Z",
     "start_time": "2019-08-21T13:11:35.806021Z"
    }
   },
   "outputs": [],
   "source": [
    "train_matrix=get_app_crs_matrix(train_index,encoded_apps,10010)"
   ]
  },
  {
   "cell_type": "code",
   "execution_count": 10,
   "metadata": {
    "ExecuteTime": {
     "end_time": "2019-08-21T13:16:14.385734Z",
     "start_time": "2019-08-21T13:15:37.453490Z"
    }
   },
   "outputs": [],
   "source": [
    "test_matrix=get_app_crs_matrix(test_index,encoded_apps,10010)"
   ]
  },
  {
   "cell_type": "code",
   "execution_count": 11,
   "metadata": {
    "ExecuteTime": {
     "end_time": "2019-08-21T13:19:21.076897Z",
     "start_time": "2019-08-21T13:16:14.390374Z"
    }
   },
   "outputs": [
    {
     "name": "stdout",
     "output_type": "stream",
     "text": [
      "start\n",
      "start 卡方\n",
      "start 归一化\n",
      "start\n",
      "start 卡方\n",
      "start 归一化\n"
     ]
    }
   ],
   "source": [
    "# train_data_save_name='train_app_actived_tfidf_input_csr.h5'\n",
    "# test_data_save_name='test_app_actived_tfidf_input_csr.h5'\n",
    "train_data_save_name='train_app_usage_tfidf_input_csr.h5'\n",
    "test_data_save_name='test_app_usage_tfidf_input_csr.h5'\n",
    "tfidf = TfidfTransformer()\n",
    "#训练集\n",
    "print('start')\n",
    "train_tfidf = tfidf.fit_transform(train_matrix)\n",
    "age_group=age_train['age_group']    \n",
    "#卡方选择\n",
    "print('start 卡方')\n",
    "top_feature_select=SelectKBest(chi2,k=500)\n",
    "train_app_actived_tfidf=top_feature_select.fit_transform(train_tfidf,age_group)\n",
    "#归一化\n",
    "print('start 归一化')\n",
    "train_app_actived_tfidf=train_app_actived_tfidf.toarray()\n",
    "scaler = StandardScaler()\n",
    "train_app_actived_tfidf=scaler.fit_transform(train_app_actived_tfidf)\n",
    "#保存训练集\n",
    "h5 = pd.HDFStore(temp_save_dir+train_data_save_name,'w',complevel=4,complib='blosc')\n",
    "h5['data'] = pd.DataFrame(train_app_actived_tfidf,dtype=np.float32)\n",
    "h5.close()\n",
    "\n",
    "#构建测试集\n",
    "print('start')\n",
    "test_tfidf=tfidf.transform(test_matrix)\n",
    "#卡方选择\n",
    "print('start 卡方')\n",
    "test_app_actived_tfidf=top_feature_select.transform(test_tfidf)\n",
    "#归一化\n",
    "print('start 归一化')\n",
    "test_app_actived_tfidf=test_app_actived_tfidf.toarray()\n",
    "test_app_actived_tfidf=scaler.transform(test_app_actived_tfidf) \n",
    "#保存测试集\n",
    "h5 = pd.HDFStore(temp_save_dir+test_data_save_name,'w',complevel=4,complib='blosc')\n",
    "h5['data'] = pd.DataFrame(test_app_actived_tfidf,dtype=np.float32)\n",
    "h5.close()"
   ]
  },
  {
   "cell_type": "code",
   "execution_count": null,
   "metadata": {},
   "outputs": [],
   "source": [
    "'a'"
   ]
  },
  {
   "cell_type": "code",
   "execution_count": null,
   "metadata": {},
   "outputs": [],
   "source": []
  }
 ],
 "metadata": {
  "kernelspec": {
   "display_name": "Python 3",
   "language": "python",
   "name": "python3"
  },
  "language_info": {
   "codemirror_mode": {
    "name": "ipython",
    "version": 3
   },
   "file_extension": ".py",
   "mimetype": "text/x-python",
   "name": "python",
   "nbconvert_exporter": "python",
   "pygments_lexer": "ipython3",
   "version": "3.6.7"
  }
 },
 "nbformat": 4,
 "nbformat_minor": 4
}
