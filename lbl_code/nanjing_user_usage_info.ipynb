{
 "cells": [
  {
   "cell_type": "code",
   "execution_count": 1,
   "metadata": {
    "ExecuteTime": {
     "end_time": "2019-08-20T11:01:26.062989Z",
     "start_time": "2019-08-20T11:01:25.111474Z"
    }
   },
   "outputs": [],
   "source": [
    "import numpy as np\n",
    "import pandas as pd\n",
    "import os\n",
    "import lightgbm as lgb\n",
    "from sklearn.model_selection import train_test_split\n",
    "from sklearn.metrics import accuracy_score\n",
    "from multiprocessing import Pool as ThreadPool\n",
    "from datetime import datetime\n",
    "import time\n",
    "from sklearn.preprocessing import LabelEncoder, StandardScaler\n",
    "from sklearn.feature_selection import chi2,SelectKBest\n",
    "from sklearn.utils import shuffle\n",
    "from tqdm import tqdm"
   ]
  },
  {
   "cell_type": "code",
   "execution_count": 2,
   "metadata": {
    "ExecuteTime": {
     "end_time": "2019-08-20T11:01:29.456182Z",
     "start_time": "2019-08-20T11:01:29.449421Z"
    }
   },
   "outputs": [],
   "source": [
    "data_dir='/home/uniml/work/hw/dataset/'\n",
    "temp_save_dir='./temp_data/'\n",
    "age_train_file_path=data_dir+'age_train.csv'\n",
    "age_test_file_path=data_dir+'age_test.csv'\n",
    "app_info_file_path=data_dir+'app_info.csv'\n",
    "user_app_actived_file_path=data_dir+'user_app_actived.csv'\n",
    "user_basic_info_file_path=data_dir+'user_basic_info.csv'\n",
    "user_behavior_info_file_path=data_dir+'user_behavior_info.csv'\n",
    "user_app_usage_file_path=data_dir+'user_app_usage.csv'"
   ]
  },
  {
   "cell_type": "code",
   "execution_count": 3,
   "metadata": {
    "ExecuteTime": {
     "end_time": "2019-08-20T11:57:11.257169Z",
     "start_time": "2019-08-20T11:57:09.048147Z"
    }
   },
   "outputs": [],
   "source": [
    "#用户label数据\n",
    "#在此将对应的label减去1以方便模型操作,后面预测的时候会加回来\n",
    "age_train=pd.read_csv(age_train_file_path,header=None,names=['uId','age_group'])\n",
    "age_train.age_group=age_train.age_group.apply(lambda x:x-1)\n",
    "age_train.age_group=age_train.age_group.astype('category')\n",
    "age_test=pd.read_csv(age_test_file_path,header=None,names=['id'])"
   ]
  },
  {
   "cell_type": "code",
   "execution_count": 4,
   "metadata": {
    "ExecuteTime": {
     "end_time": "2019-08-20T11:57:13.581433Z",
     "start_time": "2019-08-20T11:57:13.382890Z"
    }
   },
   "outputs": [],
   "source": [
    "#App分类数据\n",
    "app_info=pd.read_csv(app_info_file_path,header=None,names=['appId','category'])\n",
    "app_info.category=app_info.category.astype('category')\n",
    "app_category_list=list(app_info.category.unique())"
   ]
  },
  {
   "cell_type": "code",
   "execution_count": 5,
   "metadata": {
    "ExecuteTime": {
     "end_time": "2019-08-20T12:09:42.153388Z",
     "start_time": "2019-08-20T11:57:26.536082Z"
    }
   },
   "outputs": [],
   "source": [
    "#用户app使用时长文件\n",
    "user_app_usage=pd.read_csv(user_app_usage_file_path,header=None,names=['uId',\n",
    "                                                                       'appId',\n",
    "                                                                       'duration',\n",
    "                                                                       'times',\n",
    "                                                                       'use_date'\n",
    "                                                                      ],\n",
    "                           dtype={'uId':int,'duration':np.uint32,'times':np.uint32,'use_date':'category'})"
   ]
  },
  {
   "cell_type": "code",
   "execution_count": 10,
   "metadata": {},
   "outputs": [
    {
     "data": {
      "text/html": [
       "<div>\n",
       "<style scoped>\n",
       "    .dataframe tbody tr th:only-of-type {\n",
       "        vertical-align: middle;\n",
       "    }\n",
       "\n",
       "    .dataframe tbody tr th {\n",
       "        vertical-align: top;\n",
       "    }\n",
       "\n",
       "    .dataframe thead th {\n",
       "        text-align: right;\n",
       "    }\n",
       "</style>\n",
       "<table border=\"1\" class=\"dataframe\">\n",
       "  <thead>\n",
       "    <tr style=\"text-align: right;\">\n",
       "      <th></th>\n",
       "      <th>uId</th>\n",
       "      <th>duration</th>\n",
       "      <th>times</th>\n",
       "    </tr>\n",
       "  </thead>\n",
       "  <tbody>\n",
       "    <tr>\n",
       "      <th>count</th>\n",
       "      <td>8.405605e+08</td>\n",
       "      <td>8.405605e+08</td>\n",
       "      <td>8.405605e+08</td>\n",
       "    </tr>\n",
       "    <tr>\n",
       "      <th>mean</th>\n",
       "      <td>1.059222e+07</td>\n",
       "      <td>2.062945e+03</td>\n",
       "      <td>7.169924e+01</td>\n",
       "    </tr>\n",
       "    <tr>\n",
       "      <th>std</th>\n",
       "      <td>7.249383e+06</td>\n",
       "      <td>4.495257e+03</td>\n",
       "      <td>1.365172e+02</td>\n",
       "    </tr>\n",
       "    <tr>\n",
       "      <th>min</th>\n",
       "      <td>1.000009e+06</td>\n",
       "      <td>0.000000e+00</td>\n",
       "      <td>1.000000e+00</td>\n",
       "    </tr>\n",
       "    <tr>\n",
       "      <th>25%</th>\n",
       "      <td>4.669176e+06</td>\n",
       "      <td>6.000000e+01</td>\n",
       "      <td>6.000000e+00</td>\n",
       "    </tr>\n",
       "    <tr>\n",
       "      <th>50%</th>\n",
       "      <td>8.975902e+06</td>\n",
       "      <td>3.360000e+02</td>\n",
       "      <td>1.800000e+01</td>\n",
       "    </tr>\n",
       "    <tr>\n",
       "      <th>75%</th>\n",
       "      <td>1.517311e+07</td>\n",
       "      <td>2.016000e+03</td>\n",
       "      <td>6.500000e+01</td>\n",
       "    </tr>\n",
       "    <tr>\n",
       "      <th>max</th>\n",
       "      <td>4.455089e+07</td>\n",
       "      <td>8.640000e+04</td>\n",
       "      <td>8.060000e+02</td>\n",
       "    </tr>\n",
       "  </tbody>\n",
       "</table>\n",
       "</div>"
      ],
      "text/plain": [
       "                uId      duration         times\n",
       "count  8.405605e+08  8.405605e+08  8.405605e+08\n",
       "mean   1.059222e+07  2.062945e+03  7.169924e+01\n",
       "std    7.249383e+06  4.495257e+03  1.365172e+02\n",
       "min    1.000009e+06  0.000000e+00  1.000000e+00\n",
       "25%    4.669176e+06  6.000000e+01  6.000000e+00\n",
       "50%    8.975902e+06  3.360000e+02  1.800000e+01\n",
       "75%    1.517311e+07  2.016000e+03  6.500000e+01\n",
       "max    4.455089e+07  8.640000e+04  8.060000e+02"
      ]
     },
     "execution_count": 10,
     "metadata": {},
     "output_type": "execute_result"
    }
   ],
   "source": [
    "user_app_usage.describe()"
   ]
  },
  {
   "cell_type": "code",
   "execution_count": 6,
   "metadata": {
    "ExecuteTime": {
     "end_time": "2019-08-20T12:12:20.426611Z",
     "start_time": "2019-08-20T12:09:51.782422Z"
    }
   },
   "outputs": [],
   "source": [
    "#统计app出现的次数,从而判断哪些是热门使用app\n",
    "user_app_usage_appid_count=user_app_usage.appId.value_counts()\n",
    "user_app_usage_appid_name_list=[]\n",
    "user_app_usage_appid_count_list=[]\n",
    "for k,v in user_app_usage_appid_count.items():\n",
    "    user_app_usage_appid_name_list.append(k)\n",
    "    user_app_usage_appid_count_list.append(v)\n",
    "pd_user_app_usage_appid_count=pd.DataFrame({'appId':user_app_usage_appid_name_list,'count':user_app_usage_appid_count_list})\n",
    "pd_user_app_usage_appid_count.to_csv(temp_save_dir+'pd_user_app_usage_appid_count.csv',index=False)"
   ]
  },
  {
   "cell_type": "code",
   "execution_count": 9,
   "metadata": {},
   "outputs": [],
   "source": [
    "# user_app_usage.loc[user_app_usage['times']>10000,'times']=10000\n",
    "p99= user_app_usage['times'].quantile(0.99)\n",
    "user_app_usage.loc[user_app_usage['times']>p99,'times']=p99"
   ]
  },
  {
   "cell_type": "code",
   "execution_count": 11,
   "metadata": {
    "ExecuteTime": {
     "end_time": "2019-08-20T12:43:50.841903Z",
     "start_time": "2019-08-20T12:43:50.825847Z"
    }
   },
   "outputs": [],
   "source": [
    "def get_user_app_usage_info(data):\n",
    "    name,group=data\n",
    "    name=int(name)\n",
    "    user_app_usage_map={}\n",
    "    \n",
    "    user_app_usage_map['uId']=name\n",
    "    \n",
    "    for app_category_name in app_category_list:\n",
    "        user_app_usage_map[app_category_name+'_times']=0\n",
    "        user_app_usage_map[app_category_name+'_duration']=0\n",
    "    user_app_usage_map['all_times']=0\n",
    "    user_app_usage_map['all_duration']=0\n",
    "    user_app_usage_map['use_days']=0\n",
    "    user_app_usage_map['app_usage_count']=len(group['appId'].unique())\n",
    "    app_list=list(group['appId'].unique())\n",
    "    user_app_category_list=app_info.loc[app_info['appId'].isin(app_list),['appId','category']]\n",
    "    \n",
    "    for app_id,singe_app_group in group.groupby('appId'):\n",
    "        user_app_usage_map['use_days']=max(user_app_usage_map['use_days'],len(singe_app_group))\n",
    "        single_app_category_list=list(user_app_category_list.loc[user_app_category_list['appId']==app_id,'category'])\n",
    "        \n",
    "        sum_of_app_use_times=singe_app_group['times'].sum()\n",
    "        sum_of_app_use_duration=singe_app_group['duration'].sum()\n",
    "        \n",
    "        for app_category_name in single_app_category_list:\n",
    "            user_app_usage_map[app_category_name+'_times']+=sum_of_app_use_times\n",
    "            user_app_usage_map[app_category_name+'_duration']+=sum_of_app_use_duration\n",
    "        user_app_usage_map['all_times']+=sum_of_app_use_times\n",
    "        user_app_usage_map['all_duration']+=sum_of_app_use_duration\n",
    "        \n",
    "        \n",
    "    return user_app_usage_map"
   ]
  },
  {
   "cell_type": "code",
   "execution_count": 12,
   "metadata": {
    "ExecuteTime": {
     "end_time": "2019-08-20T12:44:47.112803Z",
     "start_time": "2019-08-20T12:44:47.107898Z"
    }
   },
   "outputs": [],
   "source": [
    "def multiprocess_handle_user_app_usage(data):\n",
    "    pool = ThreadPool(24) \n",
    "    result = pool.map(get_user_app_usage_info, data.groupby('uId'))\n",
    "    pool.close()\n",
    "    pool.join()\n",
    "    return result"
   ]
  },
  {
   "cell_type": "code",
   "execution_count": null,
   "metadata": {
    "ExecuteTime": {
     "end_time": "2019-08-20T19:33:59.394117Z",
     "start_time": "2019-08-20T12:46:22.884585Z"
    }
   },
   "outputs": [],
   "source": [
    "user_app_usage_statistic=multiprocess_handle_user_app_usage(user_app_usage)"
   ]
  },
  {
   "cell_type": "code",
   "execution_count": 15,
   "metadata": {
    "ExecuteTime": {
     "end_time": "2019-08-20T21:00:48.893325Z",
     "start_time": "2019-08-20T20:51:54.279905Z"
    }
   },
   "outputs": [],
   "source": [
    "#将数据转换成DataFrame格式并存储\n",
    "user_app_usage_statistic_map={}\n",
    "for app_category_name in app_category_list:\n",
    "    user_app_usage_statistic_map[app_category_name+'_times']=[]\n",
    "    user_app_usage_statistic_map[app_category_name+'_duration']=[]\n",
    "user_app_usage_statistic_map['uId']=[]\n",
    "user_app_usage_statistic_map['all_times']=[]\n",
    "user_app_usage_statistic_map['all_duration']=[]\n",
    "user_app_usage_statistic_map['use_days']=[]\n",
    "user_app_usage_statistic_map['app_usage_count']=[]\n",
    "    \n",
    "for single_user in user_app_usage_statistic:\n",
    "    for k,v in user_app_usage_statistic_map.items():\n",
    "        if single_user.get(k) is not None:\n",
    "            v.append(single_user.get(k))\n",
    "        else:\n",
    "            v.append(0)\n",
    "pd_user_app_usage=pd.DataFrame(user_app_usage_statistic_map)\n",
    "\n",
    "for category_name in app_category_list:\n",
    "    pd_user_app_usage[category_name+'_avg']=(pd_user_app_usage[category_name+'_duration']/pd_user_app_usage[category_name+'_times']).astype(np.float32)\n",
    "\n",
    "h5 = pd.HDFStore(temp_save_dir+'user_app_usage_statistic.h5','w',complevel=4,complib='blosc')\n",
    "h5['data'] = pd_user_app_usage\n",
    "h5.close()"
   ]
  },
  {
   "cell_type": "code",
   "execution_count": 14,
   "metadata": {},
   "outputs": [
    {
     "name": "stdout",
     "output_type": "stream",
     "text": [
      "0\n"
     ]
    }
   ],
   "source": [
    "print(0)"
   ]
  },
  {
   "cell_type": "code",
   "execution_count": null,
   "metadata": {},
   "outputs": [],
   "source": []
  }
 ],
 "metadata": {
  "kernelspec": {
   "display_name": "Python 3",
   "language": "python",
   "name": "python3"
  },
  "language_info": {
   "codemirror_mode": {
    "name": "ipython",
    "version": 3
   },
   "file_extension": ".py",
   "mimetype": "text/x-python",
   "name": "python",
   "nbconvert_exporter": "python",
   "pygments_lexer": "ipython3",
   "version": "3.6.7"
  }
 },
 "nbformat": 4,
 "nbformat_minor": 4
}
