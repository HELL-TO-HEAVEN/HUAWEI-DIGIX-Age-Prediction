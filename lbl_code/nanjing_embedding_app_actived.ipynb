{
 "cells": [
  {
   "cell_type": "code",
   "execution_count": 1,
   "metadata": {
    "ExecuteTime": {
     "end_time": "2019-08-22T08:35:39.957180Z",
     "start_time": "2019-08-22T08:35:38.890708Z"
    }
   },
   "outputs": [],
   "source": [
    "import numpy as np\n",
    "import pandas as pd\n",
    "import os\n",
    "import lightgbm as lgb\n",
    "import xgboost as xgb\n",
    "from sklearn.model_selection import train_test_split\n",
    "from sklearn.metrics import accuracy_score\n",
    "from multiprocessing import Pool as ThreadPool\n",
    "from datetime import datetime\n",
    "import time\n",
    "from sklearn.preprocessing import LabelEncoder, StandardScaler\n",
    "from gensim.models import word2vec\n",
    "from sklearn.utils import shuffle\n",
    "from tqdm import tqdm"
   ]
  },
  {
   "cell_type": "code",
   "execution_count": 2,
   "metadata": {},
   "outputs": [],
   "source": [
    "data_dir='/home/uniml/work/hw/dataset/'\n",
    "temp_save_dir='./temp_data/'\n",
    "age_train_file_path=data_dir+'age_train.csv'\n",
    "age_test_file_path=data_dir+'age_test.csv'\n",
    "app_info_file_path=data_dir+'app_info.csv'\n",
    "user_app_actived_file_path=data_dir+'user_app_actived.csv'\n",
    "user_basic_info_file_path=data_dir+'user_basic_info.csv'\n",
    "user_behavior_info_file_path=data_dir+'user_behavior_info.csv'\n",
    "user_app_usage_file_path=data_dir+'user_app_usage.csv'"
   ]
  },
  {
   "cell_type": "code",
   "execution_count": 3,
   "metadata": {},
   "outputs": [],
   "source": [
    "embedding_size=128"
   ]
  },
  {
   "cell_type": "code",
   "execution_count": 4,
   "metadata": {},
   "outputs": [],
   "source": [
    "app_actived_info=pd.read_csv(user_app_actived_file_path,header=None,names=['uId','app_info'])"
   ]
  },
  {
   "cell_type": "code",
   "execution_count": 5,
   "metadata": {},
   "outputs": [],
   "source": [
    "app_actived_list=np.array(app_actived_info['app_info'].apply(lambda x:shuffle(x.strip().split('#'))))"
   ]
  },
  {
   "cell_type": "code",
   "execution_count": 6,
   "metadata": {},
   "outputs": [
    {
     "name": "stdout",
     "output_type": "stream",
     "text": [
      "te\n"
     ]
    }
   ],
   "source": [
    "print('te')"
   ]
  },
  {
   "cell_type": "code",
   "execution_count": 7,
   "metadata": {},
   "outputs": [],
   "source": [
    "model = word2vec.Word2Vec(app_actived_list, size=embedding_size,window=5,iter=20,sg=1,workers=25,compute_loss=True)"
   ]
  },
  {
   "cell_type": "code",
   "execution_count": 8,
   "metadata": {},
   "outputs": [
    {
     "name": "stderr",
     "output_type": "stream",
     "text": [
      "/opt/conda/lib/python3.6/site-packages/smart_open/smart_open_lib.py:398: UserWarning: This function is deprecated, use smart_open.open instead. See the migration notes for details: https://github.com/RaRe-Technologies/smart_open/blob/master/README.rst#migrating-to-the-new-open-function\n",
      "  'See the migration notes for details: %s' % _MIGRATION_NOTES_URL\n"
     ]
    }
   ],
   "source": [
    "model.save('./app_info_word2vec_windows_5_size_128_iter_20_1.model')"
   ]
  },
  {
   "cell_type": "code",
   "execution_count": 9,
   "metadata": {},
   "outputs": [
    {
     "name": "stderr",
     "output_type": "stream",
     "text": [
      "  0%|          | 0/4999341 [00:00<?, ?it/s]/opt/conda/lib/python3.6/site-packages/ipykernel_launcher.py:8: DeprecationWarning: Call to deprecated `__getitem__` (Method will be removed in 4.0.0, use self.wv.__getitem__() instead).\n",
      "  \n",
      "/opt/conda/lib/python3.6/site-packages/ipykernel_launcher.py:15: DeprecationWarning: Call to deprecated `__getitem__` (Method will be removed in 4.0.0, use self.wv.__getitem__() instead).\n",
      "  from ipykernel import kernelapp as app\n",
      "100%|██████████| 4999341/4999341 [23:56<00:00, 3480.46it/s]\n"
     ]
    }
   ],
   "source": [
    "result={\n",
    "    'avg':[],\n",
    "    'sum':[]\n",
    "}\n",
    "for i in tqdm(app_actived_list):\n",
    "    no_exist_count=0\n",
    "    try:\n",
    "        user_actived_info=np.array(model[i]).sum(aixs=1)\n",
    "        result['sum'].append(user_actived_info)\n",
    "        result['avg'].append(user_actived_info/(len(i)-no_exist_count))\n",
    "    except:\n",
    "        user_actived_info=np.array([0 for _ in range(embedding_size)],dtype=np.float32)\n",
    "        for app_id in i:\n",
    "            if model.wv.__contains__(app_id):\n",
    "                user_actived_info+=model[app_id]\n",
    "            else:\n",
    "                no_exist_count+=1\n",
    "        result['sum'].append(user_actived_info)\n",
    "        if len(i)-no_exist_count==0:\n",
    "            result['avg'].append(user_actived_info)\n",
    "        else:\n",
    "            result['avg'].append(user_actived_info/(len(i)-no_exist_count))"
   ]
  },
  {
   "cell_type": "code",
   "execution_count": 10,
   "metadata": {},
   "outputs": [
    {
     "name": "stdout",
     "output_type": "stream",
     "text": [
      "4999341 4999341\n"
     ]
    }
   ],
   "source": [
    "print(len(result['avg']),len(result['sum']))"
   ]
  },
  {
   "cell_type": "code",
   "execution_count": 11,
   "metadata": {},
   "outputs": [],
   "source": [
    "result_avg=pd.DataFrame(result['avg'],dtype=np.float32)\n",
    "result_avg.rename(columns=lambda x:str(x)+'_avg',inplace=True)\n",
    "result_avg_with_uid=pd.concat([app_actived_info,result_avg],axis=1)\n",
    "_=result_avg_with_uid.pop('app_info')\n",
    "h5 = pd.HDFStore(temp_save_dir+'app_actived_embedding_by_w2v_avg_windows_5_size_128_iter_20_1.h5','w',complevel=4,complib='blosc')\n",
    "h5['data'] = result_avg_with_uid\n",
    "h5.close()"
   ]
  },
  {
   "cell_type": "code",
   "execution_count": 12,
   "metadata": {},
   "outputs": [],
   "source": [
    "result_sum=pd.DataFrame(result['sum'],dtype=np.float32)\n",
    "result_sum.rename(columns=lambda x:str(x)+'_sum',inplace=True)\n",
    "result_sum_with_uid=pd.concat([app_actived_info,result_sum],axis=1)\n",
    "_=result_sum_with_uid.pop('app_info')\n",
    "h5 = pd.HDFStore(temp_save_dir+'app_actived_embedding_by_w2v_sum_windows_5_size_128_iter_20_1.h5','w',complevel=4,complib='blosc')\n",
    "h5['data'] = result_sum_with_uid\n",
    "h5.close()"
   ]
  },
  {
   "cell_type": "code",
   "execution_count": null,
   "metadata": {},
   "outputs": [],
   "source": []
  },
  {
   "cell_type": "code",
   "execution_count": null,
   "metadata": {},
   "outputs": [],
   "source": [
    "app_usage_info=pd.read_hdf(data_dir+'user_app_usage_df.h5',key='data')"
   ]
  },
  {
   "cell_type": "code",
   "execution_count": null,
   "metadata": {},
   "outputs": [],
   "source": [
    "app_usage_list=np.array(app_usage_info['appIds'].apply(lambda x:shuffle(str(x).strip().split('#'))))"
   ]
  },
  {
   "cell_type": "code",
   "execution_count": null,
   "metadata": {},
   "outputs": [],
   "source": [
    "model_usage = word2vec.Word2Vec(app_usage_list, size=embedding_size,window=5,iter=20,sg=1, workers=25,compute_loss=True)"
   ]
  },
  {
   "cell_type": "code",
   "execution_count": null,
   "metadata": {},
   "outputs": [],
   "source": [
    "model_usage.save('./app_usage_word2vec_windows_5_size_128_iter_20.model')"
   ]
  },
  {
   "cell_type": "code",
   "execution_count": null,
   "metadata": {},
   "outputs": [],
   "source": [
    "result={\n",
    "    'avg':[],\n",
    "    'sum':[]\n",
    "}\n",
    "for i in app_usage_list:\n",
    "    no_exist_count=0\n",
    "    try:\n",
    "        user_actived_info=np.array(model_usage[i]).sum(aixs=1)\n",
    "        result['sum'].append(user_actived_info)\n",
    "        result['avg'].append(user_actived_info/(len(i)-no_exist_count))\n",
    "    except:\n",
    "        user_actived_info=np.array([0 for _ in range(embedding_size)],dtype=np.float64)\n",
    "        for app_id in i:\n",
    "            if model_usage.wv.__contains__(app_id):\n",
    "                user_actived_info+=model_usage[app_id]\n",
    "            else:\n",
    "                no_exist_count+=1\n",
    "        result['sum'].append(user_actived_info)\n",
    "        if len(i)-no_exist_count==0:\n",
    "            result['avg'].append(user_actived_info)\n",
    "        else:\n",
    "            result['avg'].append(user_actived_info/(len(i)-no_exist_count))"
   ]
  },
  {
   "cell_type": "code",
   "execution_count": null,
   "metadata": {},
   "outputs": [],
   "source": [
    "result_avg=pd.DataFrame(result['avg'],dtype=np.float32)\n",
    "result_avg.rename(columns=lambda x:str(x)+'_avg',inplace=True)\n",
    "result_avg_with_uid=pd.concat([app_usage_info,result_avg],axis=1)\n",
    "_=result_avg_with_uid.pop('appIds')\n",
    "h5 = pd.HDFStore(temp_save_dir+'app_usage_embedding_by_w2v_avg_windows_5_size_128_iter_20_1.h5','w',complevel=4,complib='blosc')\n",
    "h5['data'] = result_avg_with_uid\n",
    "h5.close()"
   ]
  },
  {
   "cell_type": "code",
   "execution_count": null,
   "metadata": {},
   "outputs": [],
   "source": [
    "result_sum=pd.DataFrame(result['sum'],dtype=np.float32)\n",
    "result_sum.rename(columns=lambda x:str(x)+'_sum',inplace=True)\n",
    "result_sum_with_uid=pd.concat([app_usage_info,result_sum],axis=1)\n",
    "_=result_sum_with_uid.pop('appIds')\n",
    "h5 = pd.HDFStore(temp_save_dir+'app_usage_embedding_by_w2v_sum_windows_5_size_128_iter_20_1.h5','w',complevel=4,complib='blosc')\n",
    "h5['data'] = result_sum_with_uid\n",
    "h5.close()"
   ]
  },
  {
   "cell_type": "code",
   "execution_count": null,
   "metadata": {},
   "outputs": [],
   "source": []
  }
 ],
 "metadata": {
  "kernelspec": {
   "display_name": "Python 3",
   "language": "python",
   "name": "python3"
  },
  "language_info": {
   "codemirror_mode": {
    "name": "ipython",
    "version": 3
   },
   "file_extension": ".py",
   "mimetype": "text/x-python",
   "name": "python",
   "nbconvert_exporter": "python",
   "pygments_lexer": "ipython3",
   "version": "3.6.7"
  }
 },
 "nbformat": 4,
 "nbformat_minor": 4
}
