{
 "cells": [
  {
   "cell_type": "code",
   "execution_count": 1,
   "metadata": {
    "ExecuteTime": {
     "end_time": "2019-07-11T21:49:43.383068Z",
     "start_time": "2019-07-11T21:49:42.141711Z"
    }
   },
   "outputs": [],
   "source": [
    "import numpy as np\n",
    "import pandas as pd\n",
    "from gensim.models import FastText\n",
    "from sklearn.utils import shuffle\n",
    "from sklearn.feature_extraction.text import CountVectorizer, TfidfVectorizer, TfidfTransformer"
   ]
  },
  {
   "cell_type": "code",
   "execution_count": 2,
   "metadata": {},
   "outputs": [],
   "source": [
    "base_dir = './dataset/'"
   ]
  },
  {
   "cell_type": "code",
   "execution_count": 3,
   "metadata": {
    "ExecuteTime": {
     "end_time": "2019-07-11T21:48:02.858473Z",
     "start_time": "2019-07-11T21:47:48.460902Z"
    }
   },
   "outputs": [
    {
     "data": {
      "text/plain": [
       "(4999341, 2)"
      ]
     },
     "execution_count": 3,
     "metadata": {},
     "output_type": "execute_result"
    }
   ],
   "source": [
    "user_app_actived = pd.read_csv(base_dir+'user_app_actived.csv',names=['uId','appId'],dtype={'uId':np.uint32,'appId':str})\n",
    "user_app_actived.shape"
   ]
  },
  {
   "cell_type": "code",
   "execution_count": 4,
   "metadata": {
    "ExecuteTime": {
     "end_time": "2019-07-11T21:48:05.702829Z",
     "start_time": "2019-07-11T21:48:05.676983Z"
    }
   },
   "outputs": [
    {
     "data": {
      "text/html": [
       "<div>\n",
       "<style scoped>\n",
       "    .dataframe tbody tr th:only-of-type {\n",
       "        vertical-align: middle;\n",
       "    }\n",
       "\n",
       "    .dataframe tbody tr th {\n",
       "        vertical-align: top;\n",
       "    }\n",
       "\n",
       "    .dataframe thead th {\n",
       "        text-align: right;\n",
       "    }\n",
       "</style>\n",
       "<table border=\"1\" class=\"dataframe\">\n",
       "  <thead>\n",
       "    <tr style=\"text-align: right;\">\n",
       "      <th></th>\n",
       "      <th>uId</th>\n",
       "      <th>appId</th>\n",
       "    </tr>\n",
       "  </thead>\n",
       "  <tbody>\n",
       "    <tr>\n",
       "      <th>0</th>\n",
       "      <td>1000110</td>\n",
       "      <td>a001048#a003072#a004443#a006024#a007087#a00743...</td>\n",
       "    </tr>\n",
       "    <tr>\n",
       "      <th>1</th>\n",
       "      <td>1000542</td>\n",
       "      <td>a001010#a00158#a001671#a002450#a003484#a003577...</td>\n",
       "    </tr>\n",
       "    <tr>\n",
       "      <th>2</th>\n",
       "      <td>1000866</td>\n",
       "      <td>a001048#a00108#a004622#a007104#a0075</td>\n",
       "    </tr>\n",
       "    <tr>\n",
       "      <th>3</th>\n",
       "      <td>1001028</td>\n",
       "      <td>a001012#a001055#a001062#a001275#a001403#a00158...</td>\n",
       "    </tr>\n",
       "    <tr>\n",
       "      <th>4</th>\n",
       "      <td>1001190</td>\n",
       "      <td>a001012#a00107#a001304#a001403#a001533#a001679...</td>\n",
       "    </tr>\n",
       "  </tbody>\n",
       "</table>\n",
       "</div>"
      ],
      "text/plain": [
       "       uId                                              appId\n",
       "0  1000110  a001048#a003072#a004443#a006024#a007087#a00743...\n",
       "1  1000542  a001010#a00158#a001671#a002450#a003484#a003577...\n",
       "2  1000866               a001048#a00108#a004622#a007104#a0075\n",
       "3  1001028  a001012#a001055#a001062#a001275#a001403#a00158...\n",
       "4  1001190  a001012#a00107#a001304#a001403#a001533#a001679..."
      ]
     },
     "execution_count": 4,
     "metadata": {},
     "output_type": "execute_result"
    }
   ],
   "source": [
    "user_app_actived.head()"
   ]
  },
  {
   "cell_type": "code",
   "execution_count": 2,
   "metadata": {
    "ExecuteTime": {
     "end_time": "2019-07-10T11:18:15.038305Z",
     "start_time": "2019-07-10T11:18:05.750127Z"
    }
   },
   "outputs": [
    {
     "data": {
      "text/plain": [
       "(1992667, 2)"
      ]
     },
     "execution_count": 2,
     "metadata": {},
     "output_type": "execute_result"
    }
   ],
   "source": [
    "user_app_usage = pd.read_csv(base_dir+'user_app_usage_df.csv')\n",
    "user_app_usage.shape"
   ]
  },
  {
   "cell_type": "code",
   "execution_count": 8,
   "metadata": {
    "ExecuteTime": {
     "end_time": "2019-07-09T22:14:50.709342Z",
     "start_time": "2019-07-09T22:14:50.695184Z"
    }
   },
   "outputs": [
    {
     "data": {
      "text/html": [
       "<div>\n",
       "<style scoped>\n",
       "    .dataframe tbody tr th:only-of-type {\n",
       "        vertical-align: middle;\n",
       "    }\n",
       "\n",
       "    .dataframe tbody tr th {\n",
       "        vertical-align: top;\n",
       "    }\n",
       "\n",
       "    .dataframe thead th {\n",
       "        text-align: right;\n",
       "    }\n",
       "</style>\n",
       "<table border=\"1\" class=\"dataframe\">\n",
       "  <thead>\n",
       "    <tr style=\"text-align: right;\">\n",
       "      <th></th>\n",
       "      <th>appIds</th>\n",
       "      <th>uId</th>\n",
       "    </tr>\n",
       "  </thead>\n",
       "  <tbody>\n",
       "    <tr>\n",
       "      <th>0</th>\n",
       "      <td>a00289826#a00290037#a00289511#a00184278#a00178...</td>\n",
       "      <td>1000001</td>\n",
       "    </tr>\n",
       "    <tr>\n",
       "      <th>1</th>\n",
       "      <td>a00361265#a00271777#a00135785#a0048562#a001205...</td>\n",
       "      <td>1000002</td>\n",
       "    </tr>\n",
       "    <tr>\n",
       "      <th>2</th>\n",
       "      <td>a00289826#a0048522#a00329061#a00290027#a002895...</td>\n",
       "      <td>1000003</td>\n",
       "    </tr>\n",
       "    <tr>\n",
       "      <th>3</th>\n",
       "      <td>a00289826#a0036423#a0036526#a00290015#a0028705...</td>\n",
       "      <td>1000004</td>\n",
       "    </tr>\n",
       "    <tr>\n",
       "      <th>4</th>\n",
       "      <td>a00289826#a00167245#a00481059#a00331594#a00290...</td>\n",
       "      <td>1000007</td>\n",
       "    </tr>\n",
       "  </tbody>\n",
       "</table>\n",
       "</div>"
      ],
      "text/plain": [
       "                                              appIds      uId\n",
       "0  a00289826#a00290037#a00289511#a00184278#a00178...  1000001\n",
       "1  a00361265#a00271777#a00135785#a0048562#a001205...  1000002\n",
       "2  a00289826#a0048522#a00329061#a00290027#a002895...  1000003\n",
       "3  a00289826#a0036423#a0036526#a00290015#a0028705...  1000004\n",
       "4  a00289826#a00167245#a00481059#a00331594#a00290...  1000007"
      ]
     },
     "execution_count": 8,
     "metadata": {},
     "output_type": "execute_result"
    }
   ],
   "source": [
    "user_app_usage.head()"
   ]
  },
  {
   "cell_type": "code",
   "execution_count": 5,
   "metadata": {
    "ExecuteTime": {
     "end_time": "2019-07-10T13:42:09.994461Z",
     "start_time": "2019-07-10T13:42:09.667653Z"
    }
   },
   "outputs": [
    {
     "data": {
      "text/plain": [
       "(4000000, 2)"
      ]
     },
     "execution_count": 5,
     "metadata": {},
     "output_type": "execute_result"
    }
   ],
   "source": [
    "train_set = pd.read_csv(base_dir+'age_train.csv',names=['uId','age_group'],dtype={'uId':np.uint32,'age_group':np.uint8})\n",
    "train_set.shape"
   ]
  },
  {
   "cell_type": "code",
   "execution_count": 6,
   "metadata": {
    "ExecuteTime": {
     "end_time": "2019-07-10T13:42:12.500180Z",
     "start_time": "2019-07-10T13:42:12.410737Z"
    }
   },
   "outputs": [
    {
     "data": {
      "text/plain": [
       "(1000000, 1)"
      ]
     },
     "execution_count": 6,
     "metadata": {},
     "output_type": "execute_result"
    }
   ],
   "source": [
    "test_set = pd.read_csv(base_dir+'age_test.csv',names=['uId'],dtype={'uId':np.uint32})\n",
    "test_set.shape"
   ]
  },
  {
   "cell_type": "markdown",
   "metadata": {},
   "source": [
    "### 激活app"
   ]
  },
  {
   "cell_type": "code",
   "execution_count": 7,
   "metadata": {
    "ExecuteTime": {
     "end_time": "2019-07-11T21:58:13.773819Z",
     "start_time": "2019-07-11T21:54:10.990319Z"
    }
   },
   "outputs": [
    {
     "data": {
      "text/plain": [
       "4999341"
      ]
     },
     "execution_count": 7,
     "metadata": {},
     "output_type": "execute_result"
    }
   ],
   "source": [
    "app_actived_list=np.array(user_app_actived['appId'].apply(lambda x:shuffle(x.strip().split('#'))))\n",
    "len(app_actived_list)"
   ]
  },
  {
   "cell_type": "markdown",
   "metadata": {},
   "source": [
    "#### fasttext"
   ]
  },
  {
   "cell_type": "code",
   "execution_count": 8,
   "metadata": {
    "ExecuteTime": {
     "end_time": "2019-07-10T00:33:47.791034Z",
     "start_time": "2019-07-09T22:57:30.822208Z"
    }
   },
   "outputs": [],
   "source": [
    "model = FastText(app_actived_list, size=128, window=5, min_count=5, workers=20,sg=1,iter=10)"
   ]
  },
  {
   "cell_type": "code",
   "execution_count": 9,
   "metadata": {
    "ExecuteTime": {
     "end_time": "2019-07-10T00:33:52.697514Z",
     "start_time": "2019-07-10T00:33:48.873096Z"
    }
   },
   "outputs": [
    {
     "name": "stderr",
     "output_type": "stream",
     "text": [
      "/opt/conda/lib/python3.6/site-packages/smart_open/smart_open_lib.py:398: UserWarning: This function is deprecated, use smart_open.open instead. See the migration notes for details: https://github.com/RaRe-Technologies/smart_open/blob/master/README.rst#migrating-to-the-new-open-function\n",
      "  'See the migration notes for details: %s' % _MIGRATION_NOTES_URL\n"
     ]
    }
   ],
   "source": [
    "model.save(base_dir+'app_actived_fasttext.model')"
   ]
  },
  {
   "cell_type": "code",
   "execution_count": null,
   "metadata": {},
   "outputs": [],
   "source": [
    "# model = FastText.load(fname)"
   ]
  },
  {
   "cell_type": "code",
   "execution_count": 10,
   "metadata": {
    "ExecuteTime": {
     "end_time": "2019-07-10T10:56:33.070862Z",
     "start_time": "2019-07-10T10:34:38.897166Z"
    }
   },
   "outputs": [
    {
     "name": "stderr",
     "output_type": "stream",
     "text": [
      "/opt/conda/lib/python3.6/site-packages/ipykernel_launcher.py:7: DeprecationWarning: Call to deprecated `__getitem__` (Method will be removed in 4.0.0, use self.wv.__getitem__() instead).\n",
      "  import sys\n",
      "/opt/conda/lib/python3.6/site-packages/ipykernel_launcher.py:13: DeprecationWarning: Call to deprecated `__getitem__` (Method will be removed in 4.0.0, use self.wv.__getitem__() instead).\n",
      "  del sys.path[0]\n"
     ]
    }
   ],
   "source": [
    "result={\n",
    "    'sum':[]\n",
    "}\n",
    "for i in app_actived_list:\n",
    "    no_exist_count=0\n",
    "    try:\n",
    "        user_actived_info=np.array(model[i]).sum(aixs=1)\n",
    "        result['sum'].append(user_actived_info)\n",
    "    except:\n",
    "        user_actived_info=np.array([0 for _ in range(128)],dtype=np.float32)\n",
    "        for app_id in i:\n",
    "            if app_id in model.wv.vocab:\n",
    "                user_actived_info+=model[app_id]\n",
    "            else:\n",
    "                no_exist_count+=1\n",
    "        result['sum'].append(user_actived_info)"
   ]
  },
  {
   "cell_type": "code",
   "execution_count": 11,
   "metadata": {
    "ExecuteTime": {
     "end_time": "2019-07-10T11:09:17.572805Z",
     "start_time": "2019-07-10T11:06:30.583488Z"
    }
   },
   "outputs": [],
   "source": [
    "result_sum=pd.DataFrame(result['sum'],dtype=np.float32)\n",
    "result_sum.rename(columns=lambda x:str(x)+'_sum',inplace=True)\n",
    "result_sum_with_uid=pd.concat([user_app_actived[['uId']],result_sum],axis=1)"
   ]
  },
  {
   "cell_type": "code",
   "execution_count": 13,
   "metadata": {
    "ExecuteTime": {
     "end_time": "2019-07-10T11:09:27.063980Z",
     "start_time": "2019-07-10T11:09:27.038056Z"
    }
   },
   "outputs": [
    {
     "data": {
      "text/plain": [
       "(4999341, 129)"
      ]
     },
     "execution_count": 13,
     "metadata": {},
     "output_type": "execute_result"
    }
   ],
   "source": [
    "result_sum_with_uid.shape"
   ]
  },
  {
   "cell_type": "code",
   "execution_count": 28,
   "metadata": {
    "ExecuteTime": {
     "end_time": "2019-07-10T11:09:39.420330Z",
     "start_time": "2019-07-10T11:09:31.032115Z"
    }
   },
   "outputs": [],
   "source": [
    "# h5 = pd.HDFStore('./dataset/app_actived_embedding_fasttext_sum.h5','w',complevel=4,complib='blosc')\n",
    "# h5['data'] = result_sum_with_uid\n",
    "# h5.close()"
   ]
  },
  {
   "cell_type": "code",
   "execution_count": 14,
   "metadata": {},
   "outputs": [
    {
     "data": {
      "text/plain": [
       "(4000000, 128)"
      ]
     },
     "execution_count": 14,
     "metadata": {},
     "output_type": "execute_result"
    }
   ],
   "source": [
    "train_app_activted_emb_fasttext_sum = train_set[['uId']].merge(result_sum_with_uid,on='uId',how='left')\n",
    "_ = train_app_activted_emb_fasttext_sum.pop('uId')\n",
    "train_app_activted_emb_fasttext_sum.shape"
   ]
  },
  {
   "cell_type": "code",
   "execution_count": 15,
   "metadata": {},
   "outputs": [],
   "source": [
    "h5 = pd.HDFStore(base_dir+'train_app_activted_emb_fasttext_sum.h5','w',complevel=4,complib='blosc')\n",
    "h5['data'] = train_app_activted_emb_fasttext_sum\n",
    "h5.close()"
   ]
  },
  {
   "cell_type": "code",
   "execution_count": 16,
   "metadata": {},
   "outputs": [
    {
     "data": {
      "text/plain": [
       "(1000000, 128)"
      ]
     },
     "execution_count": 16,
     "metadata": {},
     "output_type": "execute_result"
    }
   ],
   "source": [
    "test_app_activted_emb_fasttext_sum = test_set[['uId']].merge(result_sum_with_uid,on='uId',how='left')\n",
    "_ = test_app_activted_emb_fasttext_sum.pop('uId')\n",
    "test_app_activted_emb_fasttext_sum.shape"
   ]
  },
  {
   "cell_type": "code",
   "execution_count": 17,
   "metadata": {},
   "outputs": [],
   "source": [
    "h5 = pd.HDFStore(base_dir+'test_app_activted_emb_fasttext_sum.h5','w',complevel=4,complib='blosc')\n",
    "h5['data'] = test_app_activted_emb_fasttext_sum\n",
    "h5.close()"
   ]
  },
  {
   "cell_type": "markdown",
   "metadata": {},
   "source": [
    "### 使用app"
   ]
  },
  {
   "cell_type": "code",
   "execution_count": 3,
   "metadata": {
    "ExecuteTime": {
     "end_time": "2019-07-10T11:18:39.094338Z",
     "start_time": "2019-07-10T11:18:38.331712Z"
    }
   },
   "outputs": [],
   "source": [
    "user_app_usage['appIds'] = user_app_usage['appIds'].astype(str)"
   ]
  },
  {
   "cell_type": "code",
   "execution_count": 5,
   "metadata": {
    "ExecuteTime": {
     "end_time": "2019-07-10T11:24:38.376809Z",
     "start_time": "2019-07-10T11:21:45.351889Z"
    },
    "scrolled": true
   },
   "outputs": [
    {
     "data": {
      "text/plain": [
       "1992667"
      ]
     },
     "execution_count": 5,
     "metadata": {},
     "output_type": "execute_result"
    }
   ],
   "source": [
    "app_usage_list=np.array(user_app_usage['appIds'].apply(lambda x:shuffle(x.strip().split('#'))))\n",
    "len(app_usage_list)"
   ]
  },
  {
   "cell_type": "code",
   "execution_count": 6,
   "metadata": {
    "ExecuteTime": {
     "end_time": "2019-07-10T12:16:55.262560Z",
     "start_time": "2019-07-10T11:24:50.549919Z"
    }
   },
   "outputs": [],
   "source": [
    "usage_model = FastText(app_usage_list, size=128, window=5, min_count=5, workers=25,sg=1,iter=10)"
   ]
  },
  {
   "cell_type": "code",
   "execution_count": 7,
   "metadata": {
    "ExecuteTime": {
     "end_time": "2019-07-10T12:16:57.184055Z",
     "start_time": "2019-07-10T12:16:55.268097Z"
    }
   },
   "outputs": [
    {
     "name": "stderr",
     "output_type": "stream",
     "text": [
      "/home/yechen/anaconda3/lib/python3.7/site-packages/smart_open/smart_open_lib.py:398: UserWarning: This function is deprecated, use smart_open.open instead. See the migration notes for details: https://github.com/RaRe-Technologies/smart_open/blob/master/README.rst#migrating-to-the-new-open-function\n",
      "  'See the migration notes for details: %s' % _MIGRATION_NOTES_URL\n"
     ]
    }
   ],
   "source": [
    "usage_model.save(base_dir+'app_usage_fasttext.model')"
   ]
  },
  {
   "cell_type": "code",
   "execution_count": 8,
   "metadata": {
    "ExecuteTime": {
     "end_time": "2019-07-10T12:29:03.115477Z",
     "start_time": "2019-07-10T12:18:04.510680Z"
    }
   },
   "outputs": [
    {
     "name": "stderr",
     "output_type": "stream",
     "text": [
      "/home/yechen/anaconda3/lib/python3.7/site-packages/ipykernel_launcher.py:8: DeprecationWarning: Call to deprecated `__getitem__` (Method will be removed in 4.0.0, use self.wv.__getitem__() instead).\n",
      "  \n",
      "/home/yechen/anaconda3/lib/python3.7/site-packages/ipykernel_launcher.py:15: DeprecationWarning: Call to deprecated `__getitem__` (Method will be removed in 4.0.0, use self.wv.__getitem__() instead).\n",
      "  from ipykernel import kernelapp as app\n"
     ]
    }
   ],
   "source": [
    "result={\n",
    "    'sum':[]\n",
    "}\n",
    "for i in app_usage_list:\n",
    "    no_exist_count=0\n",
    "    try:\n",
    "        user_usage_info=np.array(usage_model[i]).sum(aixs=1)\n",
    "        result['sum'].append(user_usage_info)\n",
    "    except:\n",
    "        user_usage_info=np.array([0 for _ in range(128)],dtype=np.float32)\n",
    "        for app_id in i:\n",
    "            if app_id in usage_model.wv.vocab:\n",
    "                user_usage_info+=usage_model[app_id]\n",
    "            else:\n",
    "                no_exist_count+=1\n",
    "        result['sum'].append(user_usage_info)"
   ]
  },
  {
   "cell_type": "code",
   "execution_count": 15,
   "metadata": {
    "ExecuteTime": {
     "end_time": "2019-07-10T13:34:31.402228Z",
     "start_time": "2019-07-10T13:32:01.925502Z"
    }
   },
   "outputs": [],
   "source": [
    "result_sum=pd.DataFrame(result['sum'],dtype=np.float32)\n",
    "result_sum.rename(columns=lambda x:str(x)+'_sum',inplace=True)\n",
    "result_sum_with_uid=pd.concat([user_app_usage[['uId']],result_sum],axis=1)"
   ]
  },
  {
   "cell_type": "code",
   "execution_count": 16,
   "metadata": {
    "ExecuteTime": {
     "end_time": "2019-07-10T13:34:53.935258Z",
     "start_time": "2019-07-10T13:34:46.984564Z"
    }
   },
   "outputs": [],
   "source": [
    "# h5 = pd.HDFStore('./dataset/app_usage_embedding_fasttext_sum.h5','w',complevel=4,complib='blosc')\n",
    "# h5['data'] = result_sum_with_uid\n",
    "# h5.close()"
   ]
  },
  {
   "cell_type": "code",
   "execution_count": 27,
   "metadata": {
    "ExecuteTime": {
     "end_time": "2019-07-10T13:48:03.817945Z",
     "start_time": "2019-07-10T13:47:59.988633Z"
    }
   },
   "outputs": [
    {
     "data": {
      "text/plain": [
       "(2010000, 129)"
      ]
     },
     "execution_count": 27,
     "metadata": {},
     "output_type": "execute_result"
    }
   ],
   "source": [
    "train_app_usage_emb_fasttext_sum = train_set[['uId']].merge(result_sum_with_uid,on='uId',how='left')\n",
    "_ = train_app_usage_emb_fasttext_sum.pop('uId')\n",
    "train_app_usage_emb_fasttext_sum.shape"
   ]
  },
  {
   "cell_type": "code",
   "execution_count": 30,
   "metadata": {
    "ExecuteTime": {
     "end_time": "2019-07-10T13:49:40.944857Z",
     "start_time": "2019-07-10T13:49:34.436992Z"
    }
   },
   "outputs": [],
   "source": [
    "h5 = pd.HDFStore(base_dir+'train_app_usage_emb_fasttext_sum.h5','w',complevel=4,complib='blosc')\n",
    "h5['data'] = train_app_usage_emb_fasttext_sum\n",
    "h5.close()"
   ]
  },
  {
   "cell_type": "code",
   "execution_count": 31,
   "metadata": {
    "ExecuteTime": {
     "end_time": "2019-07-10T13:50:09.144593Z",
     "start_time": "2019-07-10T13:50:06.841682Z"
    }
   },
   "outputs": [
    {
     "data": {
      "text/plain": [
       "(502500, 129)"
      ]
     },
     "execution_count": 31,
     "metadata": {},
     "output_type": "execute_result"
    }
   ],
   "source": [
    "test_app_usage_emb_fasttext_sum = test_set[['uId']].merge(result_sum_with_uid,on='uId',how='left')\n",
    "_ = test_app_usage_emb_fasttext_sum.pop('uId')\n",
    "test_app_usage_emb_fasttext_sum.shape"
   ]
  },
  {
   "cell_type": "code",
   "execution_count": 33,
   "metadata": {
    "ExecuteTime": {
     "end_time": "2019-07-10T13:50:33.739133Z",
     "start_time": "2019-07-10T13:50:31.856644Z"
    }
   },
   "outputs": [],
   "source": [
    "h5 = pd.HDFStore(base_dir+'test_app_usage_emb_fasttext_sum.h5','w',complevel=4,complib='blosc')\n",
    "h5['data'] = test_app_usage_emb_fasttext_sum\n",
    "h5.close()"
   ]
  },
  {
   "cell_type": "code",
   "execution_count": null,
   "metadata": {},
   "outputs": [],
   "source": [
    "print(0)"
   ]
  },
  {
   "cell_type": "code",
   "execution_count": null,
   "metadata": {},
   "outputs": [],
   "source": []
  }
 ],
 "metadata": {
  "kernelspec": {
   "display_name": "Python 3",
   "language": "python",
   "name": "python3"
  },
  "language_info": {
   "codemirror_mode": {
    "name": "ipython",
    "version": 3
   },
   "file_extension": ".py",
   "mimetype": "text/x-python",
   "name": "python",
   "nbconvert_exporter": "python",
   "pygments_lexer": "ipython3",
   "version": "3.6.7"
  }
 },
 "nbformat": 4,
 "nbformat_minor": 4
}
