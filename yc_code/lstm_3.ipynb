{
 "cells": [
  {
   "cell_type": "code",
   "execution_count": 1,
   "metadata": {
    "ExecuteTime": {
     "end_time": "2019-08-18T02:32:09.640298Z",
     "start_time": "2019-08-18T02:32:04.382698Z"
    }
   },
   "outputs": [],
   "source": [
    "import numpy as np\n",
    "import pandas as pd\n",
    "import time\n",
    "import ast\n",
    "from tqdm import tqdm\n",
    "import datetime\n",
    "from multiprocessing import Pool, cpu_count\n",
    "from itertools import zip_longest\n",
    "from collections import defaultdict, OrderedDict, Counter\n",
    "import matplotlib.pyplot as plt\n",
    "import seaborn as sns\n",
    "import lightgbm as lgb\n",
    "from sklearn import metrics\n",
    "from sklearn import model_selection\n",
    "from sklearn.model_selection import train_test_split\n",
    "from sklearn.preprocessing import LabelEncoder, StandardScaler\n",
    "from joblib import Parallel, delayed\n",
    "%matplotlib inline"
   ]
  },
  {
   "cell_type": "code",
   "execution_count": 2,
   "metadata": {},
   "outputs": [],
   "source": [
    "base_dir = './dataset/'"
   ]
  },
  {
   "cell_type": "code",
   "execution_count": 2,
   "metadata": {
    "ExecuteTime": {
     "end_time": "2019-07-04T21:38:59.898078Z",
     "start_time": "2019-07-04T21:38:59.895487Z"
    }
   },
   "outputs": [],
   "source": [
    "# user_app_usage_hot = pd.read_csv('./dataset/user_app_usage_hot.csv',dtype={'uId':np.uint32,'duration':np.uint32,'times':np.uint32,'use_date':'category','idx':np.uint8})\n",
    "# user_app_usage_hot.shape"
   ]
  },
  {
   "cell_type": "code",
   "execution_count": 4,
   "metadata": {
    "ExecuteTime": {
     "end_time": "2019-08-18T02:32:54.769967Z",
     "start_time": "2019-08-18T02:32:12.197093Z"
    }
   },
   "outputs": [
    {
     "data": {
      "text/html": [
       "<div>\n",
       "<style scoped>\n",
       "    .dataframe tbody tr th:only-of-type {\n",
       "        vertical-align: middle;\n",
       "    }\n",
       "\n",
       "    .dataframe tbody tr th {\n",
       "        vertical-align: top;\n",
       "    }\n",
       "\n",
       "    .dataframe thead th {\n",
       "        text-align: right;\n",
       "    }\n",
       "</style>\n",
       "<table border=\"1\" class=\"dataframe\">\n",
       "  <thead>\n",
       "    <tr style=\"text-align: right;\">\n",
       "      <th></th>\n",
       "      <th>uId</th>\n",
       "      <th>duration</th>\n",
       "      <th>times</th>\n",
       "      <th>use_date</th>\n",
       "      <th>idx</th>\n",
       "      <th>dayofweek</th>\n",
       "    </tr>\n",
       "  </thead>\n",
       "  <tbody>\n",
       "    <tr>\n",
       "      <th>30</th>\n",
       "      <td>20765863</td>\n",
       "      <td>701</td>\n",
       "      <td>2</td>\n",
       "      <td>2019-07-14</td>\n",
       "      <td>30</td>\n",
       "      <td>6</td>\n",
       "    </tr>\n",
       "    <tr>\n",
       "      <th>31</th>\n",
       "      <td>20765863</td>\n",
       "      <td>51</td>\n",
       "      <td>3</td>\n",
       "      <td>2019-07-23</td>\n",
       "      <td>30</td>\n",
       "      <td>1</td>\n",
       "    </tr>\n",
       "    <tr>\n",
       "      <th>32</th>\n",
       "      <td>20765863</td>\n",
       "      <td>701</td>\n",
       "      <td>2</td>\n",
       "      <td>2019-07-13</td>\n",
       "      <td>30</td>\n",
       "      <td>5</td>\n",
       "    </tr>\n",
       "    <tr>\n",
       "      <th>33</th>\n",
       "      <td>20765863</td>\n",
       "      <td>2819</td>\n",
       "      <td>2</td>\n",
       "      <td>2019-07-05</td>\n",
       "      <td>30</td>\n",
       "      <td>4</td>\n",
       "    </tr>\n",
       "    <tr>\n",
       "      <th>34</th>\n",
       "      <td>20765863</td>\n",
       "      <td>2819</td>\n",
       "      <td>2</td>\n",
       "      <td>2019-07-06</td>\n",
       "      <td>30</td>\n",
       "      <td>5</td>\n",
       "    </tr>\n",
       "  </tbody>\n",
       "</table>\n",
       "</div>"
      ],
      "text/plain": [
       "         uId  duration  times   use_date  idx  dayofweek\n",
       "30  20765863       701      2 2019-07-14   30          6\n",
       "31  20765863        51      3 2019-07-23   30          1\n",
       "32  20765863       701      2 2019-07-13   30          5\n",
       "33  20765863      2819      2 2019-07-05   30          4\n",
       "34  20765863      2819      2 2019-07-06   30          5"
      ]
     },
     "execution_count": 4,
     "metadata": {},
     "output_type": "execute_result"
    }
   ],
   "source": [
    "user_app_usage_hot = pd.read_hdf(base_dir+'user_app_usage_hot_100.h5',key='data')\n",
    "user_app_usage_hot.head()"
   ]
  },
  {
   "cell_type": "code",
   "execution_count": 5,
   "metadata": {
    "ExecuteTime": {
     "end_time": "2019-08-18T02:32:59.916892Z",
     "start_time": "2019-08-18T02:32:54.773337Z"
    }
   },
   "outputs": [],
   "source": [
    "# user_app_usage_hot['use_date'] = user_app_usage_hot['use_date'].astype('category')\n",
    "user_app_usage_hot['duration'] = user_app_usage_hot['duration'].astype(np.uint16)\n",
    "user_app_usage_hot['times'] = user_app_usage_hot['times'].astype(np.uint16)"
   ]
  },
  {
   "cell_type": "code",
   "execution_count": 4,
   "metadata": {
    "ExecuteTime": {
     "end_time": "2019-08-18T02:32:59.928886Z",
     "start_time": "2019-08-18T02:32:59.919758Z"
    }
   },
   "outputs": [
    {
     "name": "stdout",
     "output_type": "stream",
     "text": [
      "<class 'pandas.core.frame.DataFrame'>\n",
      "Int64Index: 443257438 entries, 0 to 651007718\n",
      "Data columns (total 6 columns):\n",
      "uId          uint32\n",
      "duration     uint16\n",
      "times        uint16\n",
      "use_date     datetime64[ns]\n",
      "idx          uint8\n",
      "dayofweek    uint8\n",
      "dtypes: datetime64[ns](1), uint16(2), uint32(1), uint8(2)\n",
      "memory usage: 10.7 GB\n"
     ]
    }
   ],
   "source": [
    "user_app_usage_hot.info()"
   ]
  },
  {
   "cell_type": "code",
   "execution_count": 4,
   "metadata": {
    "ExecuteTime": {
     "end_time": "2019-07-05T01:51:54.482849Z",
     "start_time": "2019-07-05T01:51:54.469419Z"
    }
   },
   "outputs": [],
   "source": [
    "# def build_usage_app_table(group_df):\n",
    "#     (uId, use_date),group = group_df\n",
    "#     app_times = np.zeros((50,),dtype=np.int16)\n",
    "#     app_durations = np.zeros((50,),dtype=np.int16)\n",
    "#     idx = list(group['idx'])\n",
    "#     times = list(group['times'])\n",
    "#     durations = list(group['duration'])\n",
    "#     app_times[idx] = times\n",
    "#     app_durations[idx] = durations\n",
    "#     app_usage = np.concatenate([app_times, app_durations]).reshape((1,-1))\n",
    "#     app_usage_df = pd.DataFrame(app_usage)\n",
    "#     app_usage_df['uId'] = uId\n",
    "#     app_usage_df['use_date'] = use_date\n",
    "#     return app_usage_df"
   ]
  },
  {
   "cell_type": "code",
   "execution_count": 6,
   "metadata": {
    "ExecuteTime": {
     "end_time": "2019-08-18T02:33:00.022866Z",
     "start_time": "2019-08-18T02:32:59.932737Z"
    }
   },
   "outputs": [],
   "source": [
    "def build_usage_app_table_by_dayofweek(group_df):\n",
    "    (uId, dayofweek),group = group_df\n",
    "    app_times = np.zeros((100,),dtype=np.int16)\n",
    "    app_durations = np.zeros((100,),dtype=np.int16)\n",
    "    idx = list(group['idx'])\n",
    "    times = list(group['times'])\n",
    "    durations = list(group['duration'])\n",
    "    for i in range(len(idx)):\n",
    "        app_times[idx[i]] += times[i]\n",
    "        app_durations[idx[i]] += durations[i]\n",
    "    app_usage = np.concatenate([app_times, app_durations]).reshape((1,-1))\n",
    "    app_usage_df = pd.DataFrame(app_usage)\n",
    "    app_usage_df['uId'] = uId\n",
    "    app_usage_df['dayofweek'] = dayofweek\n",
    "    return app_usage_df"
   ]
  },
  {
   "cell_type": "code",
   "execution_count": 7,
   "metadata": {
    "ExecuteTime": {
     "end_time": "2019-08-18T02:33:04.153548Z",
     "start_time": "2019-08-18T02:33:00.026559Z"
    }
   },
   "outputs": [
    {
     "data": {
      "text/plain": [
       "700000"
      ]
     },
     "execution_count": 7,
     "metadata": {},
     "output_type": "execute_result"
    }
   ],
   "source": [
    "uId_array = np.load('./uId_array.npy')\n",
    "len(uId_array[3])"
   ]
  },
  {
   "cell_type": "code",
   "execution_count": 8,
   "metadata": {
    "ExecuteTime": {
     "end_time": "2019-08-18T02:33:05.667037Z",
     "start_time": "2019-08-18T02:33:04.156528Z"
    }
   },
   "outputs": [
    {
     "data": {
      "text/plain": [
       "(700000, 1)"
      ]
     },
     "execution_count": 8,
     "metadata": {},
     "output_type": "execute_result"
    }
   ],
   "source": [
    "uId_df = pd.DataFrame(uId_array[3])\n",
    "uId_df.shape"
   ]
  },
  {
   "cell_type": "code",
   "execution_count": 9,
   "metadata": {
    "ExecuteTime": {
     "end_time": "2019-08-18T02:33:05.791520Z",
     "start_time": "2019-08-18T02:33:05.671055Z"
    }
   },
   "outputs": [],
   "source": [
    "uId_df.columns = ['uId']"
   ]
  },
  {
   "cell_type": "code",
   "execution_count": 10,
   "metadata": {
    "ExecuteTime": {
     "end_time": "2019-08-18T02:33:05.874361Z",
     "start_time": "2019-08-18T02:33:05.793942Z"
    }
   },
   "outputs": [
    {
     "data": {
      "text/html": [
       "<div>\n",
       "<style scoped>\n",
       "    .dataframe tbody tr th:only-of-type {\n",
       "        vertical-align: middle;\n",
       "    }\n",
       "\n",
       "    .dataframe tbody tr th {\n",
       "        vertical-align: top;\n",
       "    }\n",
       "\n",
       "    .dataframe thead th {\n",
       "        text-align: right;\n",
       "    }\n",
       "</style>\n",
       "<table border=\"1\" class=\"dataframe\">\n",
       "  <thead>\n",
       "    <tr style=\"text-align: right;\">\n",
       "      <th></th>\n",
       "      <th>uId</th>\n",
       "    </tr>\n",
       "  </thead>\n",
       "  <tbody>\n",
       "    <tr>\n",
       "      <th>0</th>\n",
       "      <td>13757616</td>\n",
       "    </tr>\n",
       "    <tr>\n",
       "      <th>1</th>\n",
       "      <td>13758117</td>\n",
       "    </tr>\n",
       "    <tr>\n",
       "      <th>2</th>\n",
       "      <td>13763111</td>\n",
       "    </tr>\n",
       "    <tr>\n",
       "      <th>3</th>\n",
       "      <td>13774254</td>\n",
       "    </tr>\n",
       "    <tr>\n",
       "      <th>4</th>\n",
       "      <td>13775415</td>\n",
       "    </tr>\n",
       "  </tbody>\n",
       "</table>\n",
       "</div>"
      ],
      "text/plain": [
       "        uId\n",
       "0  13757616\n",
       "1  13758117\n",
       "2  13763111\n",
       "3  13774254\n",
       "4  13775415"
      ]
     },
     "execution_count": 10,
     "metadata": {},
     "output_type": "execute_result"
    }
   ],
   "source": [
    "uId_df.head()"
   ]
  },
  {
   "cell_type": "code",
   "execution_count": 11,
   "metadata": {
    "ExecuteTime": {
     "end_time": "2019-08-18T02:34:40.140211Z",
     "start_time": "2019-08-18T02:33:05.876991Z"
    }
   },
   "outputs": [
    {
     "data": {
      "text/plain": [
       "(114954624, 6)"
      ]
     },
     "execution_count": 11,
     "metadata": {},
     "output_type": "execute_result"
    }
   ],
   "source": [
    "sub_user_app_usage_hot = uId_df.merge(user_app_usage_hot,on=['uId'],how='left')\n",
    "sub_user_app_usage_hot.shape"
   ]
  },
  {
   "cell_type": "code",
   "execution_count": 11,
   "metadata": {
    "ExecuteTime": {
     "end_time": "2019-08-18T02:34:40.172747Z",
     "start_time": "2019-08-18T02:34:40.147243Z"
    }
   },
   "outputs": [
    {
     "name": "stdout",
     "output_type": "stream",
     "text": [
      "<class 'pandas.core.frame.DataFrame'>\n",
      "Int64Index: 44671705 entries, 0 to 44671704\n",
      "Data columns (total 6 columns):\n",
      "uId          int64\n",
      "duration     uint16\n",
      "times        uint16\n",
      "use_date     datetime64[ns]\n",
      "idx          uint8\n",
      "dayofweek    uint8\n",
      "dtypes: datetime64[ns](1), int64(1), uint16(2), uint8(2)\n",
      "memory usage: 1.2 GB\n"
     ]
    }
   ],
   "source": [
    "sub_user_app_usage_hot.info()"
   ]
  },
  {
   "cell_type": "code",
   "execution_count": 12,
   "metadata": {
    "ExecuteTime": {
     "end_time": "2019-08-18T02:34:41.100048Z",
     "start_time": "2019-08-18T02:34:40.185220Z"
    }
   },
   "outputs": [],
   "source": [
    "sub_user_app_usage_hot['uId'] = sub_user_app_usage_hot['uId'].astype(np.uint32)"
   ]
  },
  {
   "cell_type": "code",
   "execution_count": null,
   "metadata": {
    "ExecuteTime": {
     "end_time": "2019-08-18T03:31:35.974349Z",
     "start_time": "2019-08-18T02:34:41.108378Z"
    }
   },
   "outputs": [
    {
     "name": "stdout",
     "output_type": "stream",
     "text": [
      "1000000\n"
     ]
    }
   ],
   "source": [
    "df_list = []\n",
    "i = 0\n",
    "for (uId, dayofweek),group in sub_user_app_usage_hot.groupby(['uId','dayofweek']):\n",
    "    a = build_usage_app_table_by_dayofweek(((uId,dayofweek),group))\n",
    "    df_list.append(a)\n",
    "    i += 1\n",
    "    if i % 1000000 == 0:\n",
    "        print(i)"
   ]
  },
  {
   "cell_type": "code",
   "execution_count": null,
   "metadata": {
    "ExecuteTime": {
     "end_time": "2019-08-18T03:49:31.781889Z",
     "start_time": "2019-08-18T03:31:35.981884Z"
    }
   },
   "outputs": [],
   "source": [
    "top_100_app_usage_df = pd.concat(df_list)\n",
    "top_100_app_usage_df.shape"
   ]
  },
  {
   "cell_type": "code",
   "execution_count": null,
   "metadata": {
    "ExecuteTime": {
     "end_time": "2019-08-18T03:49:32.020846Z",
     "start_time": "2019-08-18T03:49:31.922369Z"
    }
   },
   "outputs": [],
   "source": [
    "top_100_app_usage_df.head()"
   ]
  },
  {
   "cell_type": "code",
   "execution_count": null,
   "metadata": {
    "ExecuteTime": {
     "end_time": "2019-08-18T03:49:35.597860Z",
     "start_time": "2019-08-18T03:49:32.025862Z"
    }
   },
   "outputs": [],
   "source": [
    "h5 = pd.HDFStore(base_dir+'top_100_app_usage_df_3.h5','w')\n",
    "h5['data'] = top_100_app_usage_df\n",
    "h5.close()"
   ]
  },
  {
   "cell_type": "code",
   "execution_count": null,
   "metadata": {
    "ExecuteTime": {
     "end_time": "2019-07-05T05:37:02.159703Z",
     "start_time": "2019-07-05T05:37:02.141775Z"
    }
   },
   "outputs": [],
   "source": [
    "print('0')"
   ]
  },
  {
   "cell_type": "code",
   "execution_count": null,
   "metadata": {},
   "outputs": [],
   "source": []
  },
  {
   "cell_type": "code",
   "execution_count": null,
   "metadata": {},
   "outputs": [],
   "source": []
  }
 ],
 "metadata": {
  "kernelspec": {
   "display_name": "Python 3",
   "language": "python",
   "name": "python3"
  },
  "language_info": {
   "codemirror_mode": {
    "name": "ipython",
    "version": 3
   },
   "file_extension": ".py",
   "mimetype": "text/x-python",
   "name": "python",
   "nbconvert_exporter": "python",
   "pygments_lexer": "ipython3",
   "version": "3.6.7"
  }
 },
 "nbformat": 4,
 "nbformat_minor": 4
}
