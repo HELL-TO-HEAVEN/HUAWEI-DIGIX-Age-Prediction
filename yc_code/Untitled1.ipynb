{
 "cells": [
  {
   "cell_type": "code",
   "execution_count": 10,
   "metadata": {},
   "outputs": [],
   "source": [
    "import pandas as pd\n",
    "import numpy as np"
   ]
  },
  {
   "cell_type": "code",
   "execution_count": 12,
   "metadata": {},
   "outputs": [
    {
     "name": "stderr",
     "output_type": "stream",
     "text": [
      "Using TensorFlow backend.\n"
     ]
    }
   ],
   "source": [
    "from keras import optimizers\n",
    "from keras.callbacks import EarlyStopping, ModelCheckpoint,ReduceLROnPlateau\n",
    "from keras.models import Model\n",
    "from keras.layers import Add,Input, Dense, Concatenate, Reshape, Dropout\n",
    "from keras.layers import Flatten,Activation,LeakyReLU,PReLU,Lambda,LSTM,GRU\n",
    "from keras.layers import Conv1D,GlobalAveragePooling1D,GlobalMaxPooling1D,TimeDistributed\n",
    "from keras.layers.wrappers import Bidirectional\n",
    "from keras.layers.embeddings import Embedding\n",
    "import tensorflow as tf\n",
    "import keras.backend.tensorflow_backend as KTF\n",
    "from keras.layers.normalization import BatchNormalization\n",
    "from keras.utils import np_utils\n",
    "from keras.models import load_model\n",
    "from keras.preprocessing.text import one_hot\n",
    "from keras.preprocessing.sequence import pad_sequences\n",
    "from keras import backend as K\n",
    "from keras.utils import multi_gpu_model\n",
    "import keras\n",
    "\n",
    "#进行配置，每个GPU使用60%上限现存\n",
    "config = tf.ConfigProto()\n",
    "# os.environ[\"CUDA_VISIBLE_DEVICES\"] = \"4,5,6,7\"\n",
    "# config.gpu_options.per_process_gpu_memory_fraction = 0.4 # 每个GPU现存上届控制在60%以内\n",
    "session = tf.Session(config=config)\n",
    "\n",
    "# 设置session\n",
    "KTF.set_session(session )"
   ]
  },
  {
   "cell_type": "code",
   "execution_count": 2,
   "metadata": {},
   "outputs": [],
   "source": [
    "# pred_lbl=pd.read_csv('../huawei/pred_nn_try_1_0_5800.csv',header=None)"
   ]
  },
  {
   "cell_type": "code",
   "execution_count": 3,
   "metadata": {},
   "outputs": [],
   "source": [
    "# pred_lbl_2=pd.read_csv('../huawei/pred_lgb_guess.csv',header=None)"
   ]
  },
  {
   "cell_type": "code",
   "execution_count": 23,
   "metadata": {},
   "outputs": [
    {
     "data": {
      "text/plain": [
       "3    0.200\n",
       "2    0.200\n",
       "4    0.175\n",
       "1    0.175\n",
       "5    0.125\n",
       "0    0.125\n",
       "Name: age_group, dtype: float64"
      ]
     },
     "execution_count": 23,
     "metadata": {},
     "output_type": "execute_result"
    }
   ],
   "source": [
    "age_train['age_group'].value_counts()/age_train.shape[0]"
   ]
  },
  {
   "cell_type": "code",
   "execution_count": 24,
   "metadata": {},
   "outputs": [
    {
     "data": {
      "text/plain": [
       "3    800000\n",
       "2    800000\n",
       "4    700000\n",
       "1    700000\n",
       "5    500000\n",
       "0    500000\n",
       "Name: age_group, dtype: int64"
      ]
     },
     "execution_count": 24,
     "metadata": {},
     "output_type": "execute_result"
    }
   ],
   "source": [
    "age_train['age_group'].value_counts()"
   ]
  },
  {
   "cell_type": "code",
   "execution_count": 59,
   "metadata": {},
   "outputs": [],
   "source": [
    "# pred_yc_1=pd.read_csv('./pred_df_final.csv',header=None)\n",
    "pred_yc_2=pd.read_csv('./pred_df_new.csv',header=None)\n",
    "pred_yc_3=pd.read_csv('./pred_df_new_999.csv',header=None)\n",
    "# pred_yc_4=pd.read_csv('./pred_nn_try_2_0.csv',header=None)"
   ]
  },
  {
   "cell_type": "code",
   "execution_count": 60,
   "metadata": {},
   "outputs": [],
   "source": [
    "result=pred_yc_2+pred_yc_3"
   ]
  },
  {
   "cell_type": "code",
   "execution_count": null,
   "metadata": {},
   "outputs": [],
   "source": []
  },
  {
   "cell_type": "code",
   "execution_count": 48,
   "metadata": {},
   "outputs": [],
   "source": [
    "# result=pd.read_csv('./pred_df_new_999.csv',header=None)"
   ]
  },
  {
   "cell_type": "code",
   "execution_count": 61,
   "metadata": {},
   "outputs": [],
   "source": [
    "data_dir='/home/uniml/work/hw/dataset/'\n",
    "temp_save_dir='./temp_data/'\n",
    "age_train_file_path=data_dir+'age_train.csv'\n",
    "age_test_file_path=data_dir+'age_test.csv'\n",
    "app_info_file_path=data_dir+'app_info.csv'\n",
    "user_app_actived_file_path=data_dir+'user_app_actived.csv'\n",
    "user_basic_info_file_path=data_dir+'user_basic_info.csv'\n",
    "user_behavior_info_file_path=data_dir+'user_behavior_info.csv'\n",
    "user_app_usage_file_path=data_dir+'user_app_usage.csv'"
   ]
  },
  {
   "cell_type": "code",
   "execution_count": 62,
   "metadata": {},
   "outputs": [],
   "source": [
    "age_train=pd.read_csv(age_train_file_path,header=None,names=['uId','age_group'])\n",
    "age_train.age_group=age_train.age_group.apply(lambda x:x-1)\n",
    "age_train.age_group=age_train.age_group.astype('category')\n",
    "age_test=pd.read_csv(age_test_file_path,header=None,names=['id'])"
   ]
  },
  {
   "cell_type": "code",
   "execution_count": 63,
   "metadata": {},
   "outputs": [
    {
     "name": "stdout",
     "output_type": "stream",
     "text": [
      "4    0.329146\n",
      "3    0.320890\n",
      "5    0.131278\n",
      "2    0.102071\n",
      "1    0.066500\n",
      "6    0.050115\n",
      "Name: label, dtype: float64\n"
     ]
    }
   ],
   "source": [
    "result=np.argmax(result.values,axis=1)+1\n",
    "result=pd.DataFrame(result)\n",
    "submission=pd.concat([age_test,result],axis=1)\n",
    "submission.rename(columns={0:'label'},inplace=True)\n",
    "submission.to_csv('submission.csv',index=False)\n",
    "print(submission.label.value_counts()/len(submission))"
   ]
  },
  {
   "cell_type": "code",
   "execution_count": 64,
   "metadata": {},
   "outputs": [
    {
     "data": {
      "text/html": [
       "<div>\n",
       "<style scoped>\n",
       "    .dataframe tbody tr th:only-of-type {\n",
       "        vertical-align: middle;\n",
       "    }\n",
       "\n",
       "    .dataframe tbody tr th {\n",
       "        vertical-align: top;\n",
       "    }\n",
       "\n",
       "    .dataframe thead th {\n",
       "        text-align: right;\n",
       "    }\n",
       "</style>\n",
       "<table border=\"1\" class=\"dataframe\">\n",
       "  <thead>\n",
       "    <tr style=\"text-align: right;\">\n",
       "      <th></th>\n",
       "      <th>id</th>\n",
       "      <th>label</th>\n",
       "    </tr>\n",
       "  </thead>\n",
       "  <tbody>\n",
       "    <tr>\n",
       "      <th>0</th>\n",
       "      <td>6708326</td>\n",
       "      <td>3</td>\n",
       "    </tr>\n",
       "    <tr>\n",
       "      <th>1</th>\n",
       "      <td>6708314</td>\n",
       "      <td>3</td>\n",
       "    </tr>\n",
       "    <tr>\n",
       "      <th>2</th>\n",
       "      <td>6708313</td>\n",
       "      <td>3</td>\n",
       "    </tr>\n",
       "    <tr>\n",
       "      <th>3</th>\n",
       "      <td>6708284</td>\n",
       "      <td>4</td>\n",
       "    </tr>\n",
       "    <tr>\n",
       "      <th>4</th>\n",
       "      <td>6708272</td>\n",
       "      <td>3</td>\n",
       "    </tr>\n",
       "  </tbody>\n",
       "</table>\n",
       "</div>"
      ],
      "text/plain": [
       "        id  label\n",
       "0  6708326      3\n",
       "1  6708314      3\n",
       "2  6708313      3\n",
       "3  6708284      4\n",
       "4  6708272      3"
      ]
     },
     "execution_count": 64,
     "metadata": {},
     "output_type": "execute_result"
    }
   ],
   "source": [
    "submission.head()"
   ]
  },
  {
   "cell_type": "code",
   "execution_count": null,
   "metadata": {},
   "outputs": [],
   "source": []
  },
  {
   "cell_type": "code",
   "execution_count": 9,
   "metadata": {},
   "outputs": [
    {
     "data": {
      "text/html": [
       "<div>\n",
       "<style scoped>\n",
       "    .dataframe tbody tr th:only-of-type {\n",
       "        vertical-align: middle;\n",
       "    }\n",
       "\n",
       "    .dataframe tbody tr th {\n",
       "        vertical-align: top;\n",
       "    }\n",
       "\n",
       "    .dataframe thead th {\n",
       "        text-align: right;\n",
       "    }\n",
       "</style>\n",
       "<table border=\"1\" class=\"dataframe\">\n",
       "  <thead>\n",
       "    <tr style=\"text-align: right;\">\n",
       "      <th></th>\n",
       "      <th>uId</th>\n",
       "      <th>appId</th>\n",
       "    </tr>\n",
       "  </thead>\n",
       "  <tbody>\n",
       "    <tr>\n",
       "      <th>0</th>\n",
       "      <td>1000110</td>\n",
       "      <td>a001048#a003072#a004443#a006024#a007087#a00743...</td>\n",
       "    </tr>\n",
       "    <tr>\n",
       "      <th>1</th>\n",
       "      <td>1000542</td>\n",
       "      <td>a001010#a00158#a001671#a002450#a003484#a003577...</td>\n",
       "    </tr>\n",
       "    <tr>\n",
       "      <th>2</th>\n",
       "      <td>1000866</td>\n",
       "      <td>a001048#a00108#a004622#a007104#a0075</td>\n",
       "    </tr>\n",
       "    <tr>\n",
       "      <th>3</th>\n",
       "      <td>1001028</td>\n",
       "      <td>a001012#a001055#a001062#a001275#a001403#a00158...</td>\n",
       "    </tr>\n",
       "    <tr>\n",
       "      <th>4</th>\n",
       "      <td>1001190</td>\n",
       "      <td>a001012#a00107#a001304#a001403#a001533#a001679...</td>\n",
       "    </tr>\n",
       "  </tbody>\n",
       "</table>\n",
       "</div>"
      ],
      "text/plain": [
       "       uId                                              appId\n",
       "0  1000110  a001048#a003072#a004443#a006024#a007087#a00743...\n",
       "1  1000542  a001010#a00158#a001671#a002450#a003484#a003577...\n",
       "2  1000866               a001048#a00108#a004622#a007104#a0075\n",
       "3  1001028  a001012#a001055#a001062#a001275#a001403#a00158...\n",
       "4  1001190  a001012#a00107#a001304#a001403#a001533#a001679..."
      ]
     },
     "execution_count": 9,
     "metadata": {},
     "output_type": "execute_result"
    }
   ],
   "source": [
    "base_dir = './dataset/'\n",
    "app_actived_df = pd.read_csv(base_dir+'user_app_actived.csv', header=None, names=['uId','appId'],\n",
    "                             dtype={'uId':np.uint32,'appId':str})\n",
    "app_actived_df.head()"
   ]
  },
  {
   "cell_type": "code",
   "execution_count": 10,
   "metadata": {},
   "outputs": [],
   "source": [
    "train_id_set = pd.read_csv(base_dir+'age_train.csv',header=None, names=['uId', 'age_group'])\n",
    "test_id_set = pd.read_csv(base_dir+'age_test.csv', header=None, names=['uId'])"
   ]
  },
  {
   "cell_type": "code",
   "execution_count": 13,
   "metadata": {},
   "outputs": [
    {
     "name": "stdout",
     "output_type": "stream",
     "text": [
      "(4000000, 150) (1000000, 150)\n"
     ]
    }
   ],
   "source": [
    "apps = app_actived_df[['appId']].values\n",
    "vocab_size = 10010\n",
    "encoded_docs = [one_hot(app[0], vocab_size, split='#') for app in apps]\n",
    "max_length = 150\n",
    "padded_docs = pad_sequences(encoded_docs, maxlen=max_length, padding='post')\n",
    "padded_docs = np.array(padded_docs)\n",
    "padded_docs_uId = pd.concat([app_actived_df[['uId']],pd.DataFrame(padded_docs)], axis=1)\n",
    "train_apps_input = train_id_set[['uId']].merge(padded_docs_uId, on=['uId'], how='left')\n",
    "test_apps_input = test_id_set[['uId']].merge(padded_docs_uId, on=['uId'], how='left')\n",
    "train_apps_input.fillna(0,inplace=True)\n",
    "test_apps_input.fillna(0,inplace=True)\n",
    "_ = train_apps_input.pop('uId')\n",
    "_ = test_apps_input.pop('uId')\n",
    "print(train_apps_input.shape,test_apps_input.shape)"
   ]
  },
  {
   "cell_type": "code",
   "execution_count": 14,
   "metadata": {},
   "outputs": [
    {
     "data": {
      "text/html": [
       "<div>\n",
       "<style scoped>\n",
       "    .dataframe tbody tr th:only-of-type {\n",
       "        vertical-align: middle;\n",
       "    }\n",
       "\n",
       "    .dataframe tbody tr th {\n",
       "        vertical-align: top;\n",
       "    }\n",
       "\n",
       "    .dataframe thead th {\n",
       "        text-align: right;\n",
       "    }\n",
       "</style>\n",
       "<table border=\"1\" class=\"dataframe\">\n",
       "  <thead>\n",
       "    <tr style=\"text-align: right;\">\n",
       "      <th></th>\n",
       "      <th>0</th>\n",
       "      <th>1</th>\n",
       "      <th>2</th>\n",
       "      <th>3</th>\n",
       "      <th>4</th>\n",
       "      <th>5</th>\n",
       "      <th>6</th>\n",
       "      <th>7</th>\n",
       "      <th>8</th>\n",
       "      <th>9</th>\n",
       "      <th>...</th>\n",
       "      <th>140</th>\n",
       "      <th>141</th>\n",
       "      <th>142</th>\n",
       "      <th>143</th>\n",
       "      <th>144</th>\n",
       "      <th>145</th>\n",
       "      <th>146</th>\n",
       "      <th>147</th>\n",
       "      <th>148</th>\n",
       "      <th>149</th>\n",
       "    </tr>\n",
       "  </thead>\n",
       "  <tbody>\n",
       "    <tr>\n",
       "      <th>0</th>\n",
       "      <td>2710.0</td>\n",
       "      <td>991.0</td>\n",
       "      <td>9366.0</td>\n",
       "      <td>7368.0</td>\n",
       "      <td>7448.0</td>\n",
       "      <td>788.0</td>\n",
       "      <td>0.0</td>\n",
       "      <td>0.0</td>\n",
       "      <td>0.0</td>\n",
       "      <td>0.0</td>\n",
       "      <td>...</td>\n",
       "      <td>0.0</td>\n",
       "      <td>0.0</td>\n",
       "      <td>0.0</td>\n",
       "      <td>0.0</td>\n",
       "      <td>0.0</td>\n",
       "      <td>0.0</td>\n",
       "      <td>0.0</td>\n",
       "      <td>0.0</td>\n",
       "      <td>0.0</td>\n",
       "      <td>0.0</td>\n",
       "    </tr>\n",
       "    <tr>\n",
       "      <th>1</th>\n",
       "      <td>1895.0</td>\n",
       "      <td>5038.0</td>\n",
       "      <td>7084.0</td>\n",
       "      <td>365.0</td>\n",
       "      <td>429.0</td>\n",
       "      <td>7128.0</td>\n",
       "      <td>9377.0</td>\n",
       "      <td>8203.0</td>\n",
       "      <td>4591.0</td>\n",
       "      <td>1338.0</td>\n",
       "      <td>...</td>\n",
       "      <td>0.0</td>\n",
       "      <td>0.0</td>\n",
       "      <td>0.0</td>\n",
       "      <td>0.0</td>\n",
       "      <td>0.0</td>\n",
       "      <td>0.0</td>\n",
       "      <td>0.0</td>\n",
       "      <td>0.0</td>\n",
       "      <td>0.0</td>\n",
       "      <td>0.0</td>\n",
       "    </tr>\n",
       "    <tr>\n",
       "      <th>2</th>\n",
       "      <td>5353.0</td>\n",
       "      <td>5038.0</td>\n",
       "      <td>4775.0</td>\n",
       "      <td>9378.0</td>\n",
       "      <td>655.0</td>\n",
       "      <td>2662.0</td>\n",
       "      <td>559.0</td>\n",
       "      <td>2364.0</td>\n",
       "      <td>1257.0</td>\n",
       "      <td>7177.0</td>\n",
       "      <td>...</td>\n",
       "      <td>0.0</td>\n",
       "      <td>0.0</td>\n",
       "      <td>0.0</td>\n",
       "      <td>0.0</td>\n",
       "      <td>0.0</td>\n",
       "      <td>0.0</td>\n",
       "      <td>0.0</td>\n",
       "      <td>0.0</td>\n",
       "      <td>0.0</td>\n",
       "      <td>0.0</td>\n",
       "    </tr>\n",
       "    <tr>\n",
       "      <th>3</th>\n",
       "      <td>1895.0</td>\n",
       "      <td>5055.0</td>\n",
       "      <td>5038.0</td>\n",
       "      <td>9165.0</td>\n",
       "      <td>1752.0</td>\n",
       "      <td>4389.0</td>\n",
       "      <td>8217.0</td>\n",
       "      <td>9801.0</td>\n",
       "      <td>365.0</td>\n",
       "      <td>1621.0</td>\n",
       "      <td>...</td>\n",
       "      <td>0.0</td>\n",
       "      <td>0.0</td>\n",
       "      <td>0.0</td>\n",
       "      <td>0.0</td>\n",
       "      <td>0.0</td>\n",
       "      <td>0.0</td>\n",
       "      <td>0.0</td>\n",
       "      <td>0.0</td>\n",
       "      <td>0.0</td>\n",
       "      <td>0.0</td>\n",
       "    </tr>\n",
       "    <tr>\n",
       "      <th>4</th>\n",
       "      <td>5038.0</td>\n",
       "      <td>365.0</td>\n",
       "      <td>7236.0</td>\n",
       "      <td>6819.0</td>\n",
       "      <td>4591.0</td>\n",
       "      <td>2364.0</td>\n",
       "      <td>1596.0</td>\n",
       "      <td>1257.0</td>\n",
       "      <td>2674.0</td>\n",
       "      <td>6208.0</td>\n",
       "      <td>...</td>\n",
       "      <td>0.0</td>\n",
       "      <td>0.0</td>\n",
       "      <td>0.0</td>\n",
       "      <td>0.0</td>\n",
       "      <td>0.0</td>\n",
       "      <td>0.0</td>\n",
       "      <td>0.0</td>\n",
       "      <td>0.0</td>\n",
       "      <td>0.0</td>\n",
       "      <td>0.0</td>\n",
       "    </tr>\n",
       "  </tbody>\n",
       "</table>\n",
       "<p>5 rows × 150 columns</p>\n",
       "</div>"
      ],
      "text/plain": [
       "      0       1       2       3       4       5       6       7       8    \\\n",
       "0  2710.0   991.0  9366.0  7368.0  7448.0   788.0     0.0     0.0     0.0   \n",
       "1  1895.0  5038.0  7084.0   365.0   429.0  7128.0  9377.0  8203.0  4591.0   \n",
       "2  5353.0  5038.0  4775.0  9378.0   655.0  2662.0   559.0  2364.0  1257.0   \n",
       "3  1895.0  5055.0  5038.0  9165.0  1752.0  4389.0  8217.0  9801.0   365.0   \n",
       "4  5038.0   365.0  7236.0  6819.0  4591.0  2364.0  1596.0  1257.0  2674.0   \n",
       "\n",
       "      9    ...  140  141  142  143  144  145  146  147  148  149  \n",
       "0     0.0  ...  0.0  0.0  0.0  0.0  0.0  0.0  0.0  0.0  0.0  0.0  \n",
       "1  1338.0  ...  0.0  0.0  0.0  0.0  0.0  0.0  0.0  0.0  0.0  0.0  \n",
       "2  7177.0  ...  0.0  0.0  0.0  0.0  0.0  0.0  0.0  0.0  0.0  0.0  \n",
       "3  1621.0  ...  0.0  0.0  0.0  0.0  0.0  0.0  0.0  0.0  0.0  0.0  \n",
       "4  6208.0  ...  0.0  0.0  0.0  0.0  0.0  0.0  0.0  0.0  0.0  0.0  \n",
       "\n",
       "[5 rows x 150 columns]"
      ]
     },
     "execution_count": 14,
     "metadata": {},
     "output_type": "execute_result"
    }
   ],
   "source": [
    "train_apps_input.head()"
   ]
  },
  {
   "cell_type": "code",
   "execution_count": null,
   "metadata": {},
   "outputs": [],
   "source": []
  }
 ],
 "metadata": {
  "kernelspec": {
   "display_name": "Environment (conda_conda)",
   "language": "python",
   "name": "conda_conda"
  },
  "language_info": {
   "codemirror_mode": {
    "name": "ipython",
    "version": 3
   },
   "file_extension": ".py",
   "mimetype": "text/x-python",
   "name": "python",
   "nbconvert_exporter": "python",
   "pygments_lexer": "ipython3",
   "version": "3.6.7"
  }
 },
 "nbformat": 4,
 "nbformat_minor": 4
}
