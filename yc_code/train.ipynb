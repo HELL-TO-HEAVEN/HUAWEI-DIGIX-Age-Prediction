{
 "cells": [
  {
   "cell_type": "code",
   "execution_count": 1,
   "metadata": {
    "ExecuteTime": {
     "end_time": "2019-08-22T12:26:36.636315Z",
     "start_time": "2019-08-22T12:26:35.312438Z"
    }
   },
   "outputs": [],
   "source": [
    "import numpy as np\n",
    "import pandas as pd\n",
    "import time\n",
    "import ast\n",
    "from tqdm import tqdm\n",
    "import datetime\n",
    "from multiprocessing import Pool, cpu_count\n",
    "from itertools import zip_longest\n",
    "from collections import defaultdict, OrderedDict, Counter\n",
    "import matplotlib.pyplot as plt\n",
    "import seaborn as sns\n",
    "import lightgbm as lgb\n",
    "from sklearn import metrics\n",
    "from sklearn import model_selection\n",
    "from sklearn.model_selection import train_test_split\n",
    "from sklearn.preprocessing import LabelEncoder, StandardScaler\n",
    "from sklearn.feature_selection import chi2,SelectKBest\n",
    "from gensim.models import FastText\n",
    "from sklearn.utils import shuffle\n",
    "%matplotlib inline"
   ]
  },
  {
   "cell_type": "code",
   "execution_count": 2,
   "metadata": {},
   "outputs": [],
   "source": [
    "base_dir = './dataset/'"
   ]
  },
  {
   "cell_type": "markdown",
   "metadata": {},
   "source": [
    "### 1. 读取基本特征数据集"
   ]
  },
  {
   "cell_type": "code",
   "execution_count": 3,
   "metadata": {
    "ExecuteTime": {
     "end_time": "2019-08-22T12:26:45.252102Z",
     "start_time": "2019-08-22T12:26:39.059833Z"
    }
   },
   "outputs": [
    {
     "name": "stdout",
     "output_type": "stream",
     "text": [
      "(4000000, 2) (1000000, 1) (5000000, 13)\n"
     ]
    }
   ],
   "source": [
    "train_id_set = pd.read_csv(base_dir+'age_train.csv',header=None, names=['uId', 'age_group'])\n",
    "test_id_set = pd.read_csv(base_dir+'age_test.csv', header=None, names=['uId'])\n",
    "user_basic_info = pd.read_csv(base_dir+'user_basic_info.csv', header=None)\n",
    "user_basic_info.columns = ['uId','gender','city','prodName','ramCapacity','ramLeftRation',\n",
    "                          'romCapacity','romLeftRation','color','fontSize','ct','carrier','os']\n",
    "print(train_id_set.shape,test_id_set.shape,user_basic_info.shape)"
   ]
  },
  {
   "cell_type": "markdown",
   "metadata": {},
   "source": [
    "### 2. 数据清理与基本特征提取\n",
    "#### 2.1 根据相同手机型号的众数（或其他统计值）填充user_basic_info表中的空缺值"
   ]
  },
  {
   "cell_type": "code",
   "execution_count": 4,
   "metadata": {
    "ExecuteTime": {
     "end_time": "2019-08-22T12:27:24.289987Z",
     "start_time": "2019-08-22T12:26:45.256576Z"
    }
   },
   "outputs": [],
   "source": [
    "user_basic_info['city'] = user_basic_info['city'].fillna(user_basic_info['city'].mode()[0])\n",
    "user_basic_info['ramCapacity'] = user_basic_info.groupby('prodName')['ramCapacity'].transform(\n",
    "    lambda x : x.fillna(x.mode()[0] if x.notna().sum()!=0 else user_basic_info['ramCapacity'].mode()[0]))\n",
    "user_basic_info['ramLeftRation'] = user_basic_info.groupby('prodName')['ramLeftRation'].transform(\n",
    "    lambda x : x.fillna(x.mean() if x.notna().sum()!=0 else user_basic_info['ramLeftRation'].mean()))\n",
    "user_basic_info['romCapacity'] = user_basic_info.groupby('prodName')['romCapacity'].transform(\n",
    "    lambda x : x.fillna(x.mode()[0] if x.notna().sum()!=0 else user_basic_info['romCapacity'].mode()[0]))\n",
    "user_basic_info['romLeftRation'] = user_basic_info.groupby('prodName')['romLeftRation'].transform(\n",
    "    lambda x : x.fillna(x.mean() if x.notna().sum()!=0 else user_basic_info['romLeftRation'].mean()))\n",
    "user_basic_info['fontSize'] = user_basic_info.groupby('prodName')['fontSize'].transform(\n",
    "    lambda x : x.fillna(x.mean() if x.notna().sum()!=0 else user_basic_info['fontSize'].mean()))\n",
    "user_basic_info['os'] = user_basic_info.groupby('prodName')['os'].transform(\n",
    "    lambda x : x.fillna(x.mode()[0] if x.notna().sum()!=0 else user_basic_info['os'].mode()[0]))\n",
    "user_basic_info['ct'] = user_basic_info.groupby('prodName')['ct'].transform(\n",
    "    lambda x : x.fillna(x.mode()[0] if x.notna().sum()!=0 else user_basic_info['ct'].mode()[0]))"
   ]
  },
  {
   "cell_type": "code",
   "execution_count": 5,
   "metadata": {
    "ExecuteTime": {
     "end_time": "2019-08-22T12:27:28.149606Z",
     "start_time": "2019-08-22T12:27:24.293492Z"
    }
   },
   "outputs": [
    {
     "name": "stdout",
     "output_type": "stream",
     "text": [
      "(4000000, 14) (1000000, 13)\n"
     ]
    }
   ],
   "source": [
    "train_user_info_set = train_id_set.merge(user_basic_info, on=['uId'], how='left')\n",
    "test_user_info_set = test_id_set.merge(user_basic_info, on=['uId'], how='left')\n",
    "print(train_user_info_set.shape,test_user_info_set.shape)"
   ]
  },
  {
   "cell_type": "code",
   "execution_count": 6,
   "metadata": {},
   "outputs": [
    {
     "data": {
      "text/plain": [
       "uId              0\n",
       "age_group        0\n",
       "gender           0\n",
       "city             0\n",
       "prodName         0\n",
       "ramCapacity      0\n",
       "ramLeftRation    0\n",
       "romCapacity      0\n",
       "romLeftRation    0\n",
       "color            0\n",
       "fontSize         0\n",
       "ct               0\n",
       "carrier          0\n",
       "os               0\n",
       "dtype: int64"
      ]
     },
     "execution_count": 6,
     "metadata": {},
     "output_type": "execute_result"
    }
   ],
   "source": [
    "train_user_info_set.isna().sum()"
   ]
  },
  {
   "cell_type": "code",
   "execution_count": 7,
   "metadata": {},
   "outputs": [
    {
     "data": {
      "text/plain": [
       "uId              0\n",
       "gender           0\n",
       "city             0\n",
       "prodName         0\n",
       "ramCapacity      0\n",
       "ramLeftRation    0\n",
       "romCapacity      0\n",
       "romLeftRation    0\n",
       "color            0\n",
       "fontSize         0\n",
       "ct               0\n",
       "carrier          0\n",
       "os               0\n",
       "dtype: int64"
      ]
     },
     "execution_count": 7,
     "metadata": {},
     "output_type": "execute_result"
    }
   ],
   "source": [
    "test_user_info_set.isna().sum()"
   ]
  },
  {
   "cell_type": "markdown",
   "metadata": {},
   "source": [
    "#### 2.2 统计一共使用的手机特性数"
   ]
  },
  {
   "cell_type": "code",
   "execution_count": 8,
   "metadata": {
    "ExecuteTime": {
     "end_time": "2019-08-22T12:27:32.055655Z",
     "start_time": "2019-08-22T12:27:28.154343Z"
    },
    "scrolled": true
   },
   "outputs": [],
   "source": [
    "user_behavior_info = pd.read_csv(base_dir+'user_behavior_info.csv', header=None)\n",
    "user_behavior_info.columns = ['uId','bootTimes','AFuncTimes','BFuncTimes','CFuncTimes',\n",
    "                             'DFuncTimes','EFuncTimes','FFuncTimes','GFuncSum']\n",
    "user_behavior_stat = user_behavior_info[['uId','AFuncTimes','BFuncTimes','CFuncTimes','DFuncTimes',\n",
    "                                         'EFuncTimes','FFuncTimes','GFuncSum']]\n",
    "user_behavior_stat['all_used_features'] = (user_behavior_stat!=0).sum(axis=1)-1"
   ]
  },
  {
   "cell_type": "code",
   "execution_count": 9,
   "metadata": {
    "ExecuteTime": {
     "end_time": "2019-08-22T12:27:35.139822Z",
     "start_time": "2019-08-22T12:27:32.060363Z"
    }
   },
   "outputs": [
    {
     "name": "stdout",
     "output_type": "stream",
     "text": [
      "(4000000, 22) (1000000, 21)\n"
     ]
    }
   ],
   "source": [
    "train_user_set = train_user_info_set.merge(user_behavior_info, on=['uId'], how='left')\n",
    "test_user_set = test_user_info_set.merge(user_behavior_info, on=['uId'], how='left')\n",
    "print(train_user_set.shape,test_user_set.shape)"
   ]
  },
  {
   "cell_type": "code",
   "execution_count": 17,
   "metadata": {},
   "outputs": [
    {
     "data": {
      "text/plain": [
       "uId              0\n",
       "age_group        0\n",
       "gender           0\n",
       "city             0\n",
       "prodName         0\n",
       "ramCapacity      0\n",
       "ramLeftRation    0\n",
       "romCapacity      0\n",
       "romLeftRation    0\n",
       "color            0\n",
       "fontSize         0\n",
       "ct               0\n",
       "carrier          0\n",
       "os               0\n",
       "bootTimes        0\n",
       "AFuncTimes       0\n",
       "BFuncTimes       0\n",
       "CFuncTimes       0\n",
       "DFuncTimes       0\n",
       "EFuncTimes       0\n",
       "FFuncTimes       0\n",
       "GFuncSum         0\n",
       "运动健康             0\n",
       "实用工具             0\n",
       "新闻阅读             0\n",
       "图书阅读             0\n",
       "金融理财             0\n",
       "社交通讯             0\n",
       "便捷生活             0\n",
       "休闲益智             0\n",
       "拍摄美化             0\n",
       "经营策略             0\n",
       "儿童               0\n",
       "汽车               0\n",
       "教育               0\n",
       "主题个性             0\n",
       "影音娱乐             0\n",
       "棋牌桌游             0\n",
       "购物比价             0\n",
       "旅游住宿             0\n",
       "出行导航             0\n",
       "商务               0\n",
       "角色扮演             0\n",
       "动作射击             0\n",
       "体育竞速             0\n",
       "美食               0\n",
       "休闲娱乐             0\n",
       "表盘个性             0\n",
       "学习办公             0\n",
       "网络游戏             0\n",
       "主题铃声             0\n",
       "动漫               0\n",
       "休闲游戏             0\n",
       "资讯生活             0\n",
       "appNums          0\n",
       "dtype: int64"
      ]
     },
     "execution_count": 17,
     "metadata": {},
     "output_type": "execute_result"
    }
   ],
   "source": [
    "train_user_set.isna().sum()"
   ]
  },
  {
   "cell_type": "code",
   "execution_count": 11,
   "metadata": {},
   "outputs": [
    {
     "data": {
      "text/plain": [
       "uId              0\n",
       "gender           0\n",
       "city             0\n",
       "prodName         0\n",
       "ramCapacity      0\n",
       "ramLeftRation    0\n",
       "romCapacity      0\n",
       "romLeftRation    0\n",
       "color            0\n",
       "fontSize         0\n",
       "ct               0\n",
       "carrier          0\n",
       "os               0\n",
       "bootTimes        0\n",
       "AFuncTimes       0\n",
       "BFuncTimes       0\n",
       "CFuncTimes       0\n",
       "DFuncTimes       0\n",
       "EFuncTimes       0\n",
       "FFuncTimes       0\n",
       "GFuncSum         0\n",
       "dtype: int64"
      ]
     },
     "execution_count": 11,
     "metadata": {},
     "output_type": "execute_result"
    }
   ],
   "source": [
    "test_user_set.isna().sum()"
   ]
  },
  {
   "cell_type": "markdown",
   "metadata": {},
   "source": [
    "#### 2.3 统计每个app分类下安装（激活）的app个数"
   ]
  },
  {
   "cell_type": "code",
   "execution_count": 12,
   "metadata": {
    "ExecuteTime": {
     "end_time": "2019-08-22T12:27:36.619179Z",
     "start_time": "2019-08-22T12:27:35.142354Z"
    }
   },
   "outputs": [
    {
     "data": {
      "text/plain": [
       "(4999341, 34)"
      ]
     },
     "execution_count": 12,
     "metadata": {},
     "output_type": "execute_result"
    }
   ],
   "source": [
    "app_actived_category = pd.read_hdf(base_dir+'app_actived_category.h5', key='data')\n",
    "app_actived_category.shape"
   ]
  },
  {
   "cell_type": "code",
   "execution_count": 13,
   "metadata": {},
   "outputs": [
    {
     "data": {
      "text/plain": [
       "uId        0\n",
       "运动健康       0\n",
       "实用工具       0\n",
       "新闻阅读       0\n",
       "图书阅读       0\n",
       "金融理财       0\n",
       "社交通讯       0\n",
       "便捷生活       0\n",
       "休闲益智       0\n",
       "拍摄美化       0\n",
       "经营策略       0\n",
       "儿童         0\n",
       "汽车         0\n",
       "教育         0\n",
       "主题个性       0\n",
       "影音娱乐       0\n",
       "棋牌桌游       0\n",
       "购物比价       0\n",
       "旅游住宿       0\n",
       "出行导航       0\n",
       "商务         0\n",
       "角色扮演       0\n",
       "动作射击       0\n",
       "体育竞速       0\n",
       "美食         0\n",
       "休闲娱乐       0\n",
       "表盘个性       0\n",
       "学习办公       0\n",
       "网络游戏       0\n",
       "主题铃声       0\n",
       "动漫         0\n",
       "休闲游戏       0\n",
       "资讯生活       0\n",
       "appNums    0\n",
       "dtype: int64"
      ]
     },
     "execution_count": 13,
     "metadata": {},
     "output_type": "execute_result"
    }
   ],
   "source": [
    "app_actived_category.isna().sum()"
   ]
  },
  {
   "cell_type": "code",
   "execution_count": 14,
   "metadata": {
    "ExecuteTime": {
     "end_time": "2019-08-22T12:27:45.458904Z",
     "start_time": "2019-08-22T12:27:36.622130Z"
    }
   },
   "outputs": [
    {
     "name": "stdout",
     "output_type": "stream",
     "text": [
      "(4000000, 55) (1000000, 54)\n"
     ]
    }
   ],
   "source": [
    "train_user_set = train_user_set.merge(app_actived_category,on=['uId'],how='left')\n",
    "train_user_set.fillna(0, inplace=True)\n",
    "test_user_set = test_user_set.merge(app_actived_category,on=['uId'],how='left')\n",
    "test_user_set.fillna(0, inplace=True)\n",
    "print(train_user_set.shape,test_user_set.shape)"
   ]
  },
  {
   "cell_type": "code",
   "execution_count": 16,
   "metadata": {},
   "outputs": [
    {
     "data": {
      "text/plain": [
       "Index(['uId', 'age_group', 'gender', 'city', 'prodName', 'ramCapacity',\n",
       "       'ramLeftRation', 'romCapacity', 'romLeftRation', 'color', 'fontSize',\n",
       "       'ct', 'carrier', 'os', 'bootTimes', 'AFuncTimes', 'BFuncTimes',\n",
       "       'CFuncTimes', 'DFuncTimes', 'EFuncTimes', 'FFuncTimes', 'GFuncSum',\n",
       "       '运动健康', '实用工具', '新闻阅读', '图书阅读', '金融理财', '社交通讯', '便捷生活', '休闲益智', '拍摄美化',\n",
       "       '经营策略', '儿童', '汽车', '教育', '主题个性', '影音娱乐', '棋牌桌游', '购物比价', '旅游住宿',\n",
       "       '出行导航', '商务', '角色扮演', '动作射击', '体育竞速', '美食', '休闲娱乐', '表盘个性', '学习办公',\n",
       "       '网络游戏', '主题铃声', '动漫', '休闲游戏', '资讯生活', 'appNums'],\n",
       "      dtype='object')"
      ]
     },
     "execution_count": 16,
     "metadata": {},
     "output_type": "execute_result"
    }
   ],
   "source": [
    "train_user_set.columns"
   ]
  },
  {
   "cell_type": "code",
   "execution_count": null,
   "metadata": {},
   "outputs": [],
   "source": []
  },
  {
   "cell_type": "markdown",
   "metadata": {},
   "source": [
    "#### 2.4 构造其他统计特征"
   ]
  },
  {
   "cell_type": "code",
   "execution_count": 18,
   "metadata": {
    "ExecuteTime": {
     "end_time": "2019-08-22T12:32:00.441304Z",
     "start_time": "2019-08-22T12:27:45.461521Z"
    }
   },
   "outputs": [],
   "source": [
    "train_user_set['totalGame'] = train_user_set['动作射击']+train_user_set['休闲益智']+\\\n",
    "    train_user_set['经营策略']+train_user_set['体育竞速']+train_user_set['角色扮演'] \\\n",
    "    +train_user_set['棋牌桌游']+train_user_set['网络游戏'] \\\n",
    "    +train_user_set['休闲游戏'] \\\n",
    "    +train_user_set['休闲娱乐']\n",
    "train_user_set['young_feature'] = train_user_set['实用工具']+train_user_set['影音娱乐']+\\\n",
    "    train_user_set['汽车']+train_user_set['学习办公']+train_user_set['图书阅读']\n",
    "train_user_set['business_feature'] = train_user_set['商务']+train_user_set['金融理财']+\\\n",
    "    train_user_set['汽车']+train_user_set['学习办公']+train_user_set['新闻阅读']\n",
    "train_user_set['middle_feature'] = train_user_set['教育']+train_user_set['便捷生活']+\\\n",
    "    train_user_set['购物比价']+train_user_set['儿童']+train_user_set['拍摄美化']+train_user_set['美食']\n",
    "train_user_set['used_rom'] = train_user_set.apply(lambda x:x['romCapacity']*(1-x['romLeftRation']),axis=1)\n",
    "train_user_set['used_ram'] = train_user_set.apply(lambda x:x['ramCapacity']*(1-x['ramLeftRation']),axis=1)\n",
    "train_user_set['gender_color'] = train_user_set.apply(lambda x:str(x['gender'])+'_'+x['color'], axis=1)\n",
    "_ = train_user_set.pop('ramLeftRation')\n",
    "_ = train_user_set.pop('romLeftRation')"
   ]
  },
  {
   "cell_type": "code",
   "execution_count": 19,
   "metadata": {
    "ExecuteTime": {
     "end_time": "2019-08-22T12:33:04.839812Z",
     "start_time": "2019-08-22T12:32:00.448591Z"
    }
   },
   "outputs": [],
   "source": [
    "test_user_set['totalGame'] = test_user_set['动作射击']+test_user_set['休闲益智']+\\\n",
    "    test_user_set['经营策略']+test_user_set['体育竞速']+test_user_set['角色扮演'] \\\n",
    "    +test_user_set['棋牌桌游']+test_user_set['网络游戏'] \\\n",
    "    +test_user_set['休闲游戏'] \\\n",
    "    +test_user_set['休闲娱乐']\n",
    "test_user_set['young_feature'] = test_user_set['实用工具']+test_user_set['影音娱乐']+\\\n",
    "    test_user_set['运动健康']+test_user_set['学习办公']+test_user_set['图书阅读']\n",
    "test_user_set['business_feature'] = test_user_set['商务']+test_user_set['金融理财']+\\\n",
    "    test_user_set['汽车']+test_user_set['学习办公']+test_user_set['新闻阅读']\n",
    "test_user_set['middle_feature'] = test_user_set['教育']+test_user_set['便捷生活']+\\\n",
    "    test_user_set['购物比价']+test_user_set['儿童']+test_user_set['拍摄美化']+test_user_set['美食']\n",
    "test_user_set['used_rom'] = test_user_set.apply(lambda x:x['romCapacity']*(1-x['romLeftRation']),axis=1)\n",
    "test_user_set['used_ram'] = test_user_set.apply(lambda x:x['ramCapacity']*(1-x['ramLeftRation']),axis=1)\n",
    "test_user_set['gender_color'] = test_user_set.apply(lambda x:str(x['gender'])+'_'+x['color'], axis=1)\n",
    "_ = test_user_set.pop('ramLeftRation')\n",
    "_ = test_user_set.pop('romLeftRation')"
   ]
  },
  {
   "cell_type": "code",
   "execution_count": 20,
   "metadata": {
    "ExecuteTime": {
     "end_time": "2019-08-22T12:33:10.491132Z",
     "start_time": "2019-08-22T12:33:04.844559Z"
    }
   },
   "outputs": [
    {
     "name": "stdout",
     "output_type": "stream",
     "text": [
      "(1000000, 60) (4000000, 61)\n"
     ]
    }
   ],
   "source": [
    "train_user_set = train_user_set.merge(user_behavior_stat[['uId','all_used_features']],on=['uId'],how='left')\n",
    "test_user_set = test_user_set.merge(user_behavior_stat[['uId','all_used_features']],on=['uId'],how='left')\n",
    "print(test_user_set.shape,train_user_set.shape)"
   ]
  },
  {
   "cell_type": "markdown",
   "metadata": {},
   "source": [
    "#### 2.5 训练集和验证集基本特征"
   ]
  },
  {
   "cell_type": "code",
   "execution_count": 21,
   "metadata": {
    "ExecuteTime": {
     "end_time": "2019-08-22T12:37:29.953860Z",
     "start_time": "2019-08-22T12:33:10.494388Z"
    }
   },
   "outputs": [
    {
     "name": "stdout",
     "output_type": "stream",
     "text": [
      "(4000000, 61) (1000000, 60)\n"
     ]
    }
   ],
   "source": [
    "train_user_set.to_csv(base_dir+'train_user_set.csv',index=False)\n",
    "test_user_set.to_csv(base_dir+'test_user_set.csv',index=False)\n",
    "print(train_user_set.shape,test_user_set.shape)"
   ]
  },
  {
   "cell_type": "code",
   "execution_count": null,
   "metadata": {},
   "outputs": [],
   "source": []
  }
 ],
 "metadata": {
  "kernelspec": {
   "display_name": "Python 3",
   "language": "python",
   "name": "python3"
  },
  "language_info": {
   "codemirror_mode": {
    "name": "ipython",
    "version": 3
   },
   "file_extension": ".py",
   "mimetype": "text/x-python",
   "name": "python",
   "nbconvert_exporter": "python",
   "pygments_lexer": "ipython3",
   "version": "3.6.7"
  }
 },
 "nbformat": 4,
 "nbformat_minor": 4
}
