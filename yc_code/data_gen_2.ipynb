{
 "cells": [
  {
   "cell_type": "code",
   "execution_count": 2,
   "metadata": {
    "ExecuteTime": {
     "end_time": "2019-08-22T05:22:59.053775Z",
     "start_time": "2019-08-22T05:22:57.860982Z"
    }
   },
   "outputs": [],
   "source": [
    "import numpy as np\n",
    "import pandas as pd\n",
    "import time\n",
    "import ast\n",
    "from tqdm import tqdm\n",
    "import datetime\n",
    "from multiprocessing import Pool, cpu_count\n",
    "from itertools import zip_longest\n",
    "from collections import defaultdict, OrderedDict, Counter\n",
    "import matplotlib.pyplot as plt\n",
    "import seaborn as sns\n",
    "import lightgbm as lgb\n",
    "from sklearn import metrics\n",
    "from sklearn import model_selection\n",
    "from sklearn.model_selection import train_test_split,StratifiedKFold\n",
    "from sklearn.preprocessing import LabelEncoder, StandardScaler\n",
    "from sklearn.feature_selection import chi2,SelectKBest\n",
    "from sklearn.feature_extraction.text import CountVectorizer, TfidfVectorizer, TfidfTransformer\n",
    "from scipy import stats\n",
    "from scipy.stats import skew, norm\n",
    "from itertools import product\n",
    "%matplotlib inline"
   ]
  },
  {
   "cell_type": "code",
   "execution_count": 3,
   "metadata": {},
   "outputs": [],
   "source": [
    "base_dir = './dataset/'"
   ]
  },
  {
   "cell_type": "markdown",
   "metadata": {},
   "source": [
    "### 统计安装的app数据中各种类数量"
   ]
  },
  {
   "cell_type": "code",
   "execution_count": 4,
   "metadata": {
    "ExecuteTime": {
     "end_time": "2019-08-22T05:23:06.021545Z",
     "start_time": "2019-08-22T05:23:05.630641Z"
    }
   },
   "outputs": [
    {
     "data": {
      "text/html": [
       "<div>\n",
       "<style scoped>\n",
       "    .dataframe tbody tr th:only-of-type {\n",
       "        vertical-align: middle;\n",
       "    }\n",
       "\n",
       "    .dataframe tbody tr th {\n",
       "        vertical-align: top;\n",
       "    }\n",
       "\n",
       "    .dataframe thead th {\n",
       "        text-align: right;\n",
       "    }\n",
       "</style>\n",
       "<table border=\"1\" class=\"dataframe\">\n",
       "  <thead>\n",
       "    <tr style=\"text-align: right;\">\n",
       "      <th></th>\n",
       "      <th>appId</th>\n",
       "      <th>category</th>\n",
       "    </tr>\n",
       "  </thead>\n",
       "  <tbody>\n",
       "    <tr>\n",
       "      <th>0</th>\n",
       "      <td>a005179</td>\n",
       "      <td>运动健康</td>\n",
       "    </tr>\n",
       "    <tr>\n",
       "      <th>1</th>\n",
       "      <td>a001010</td>\n",
       "      <td>实用工具</td>\n",
       "    </tr>\n",
       "    <tr>\n",
       "      <th>2</th>\n",
       "      <td>a004865</td>\n",
       "      <td>新闻阅读</td>\n",
       "    </tr>\n",
       "    <tr>\n",
       "      <th>3</th>\n",
       "      <td>a002786</td>\n",
       "      <td>图书阅读</td>\n",
       "    </tr>\n",
       "    <tr>\n",
       "      <th>4</th>\n",
       "      <td>a002905</td>\n",
       "      <td>金融理财</td>\n",
       "    </tr>\n",
       "  </tbody>\n",
       "</table>\n",
       "</div>"
      ],
      "text/plain": [
       "     appId category\n",
       "0  a005179     运动健康\n",
       "1  a001010     实用工具\n",
       "2  a004865     新闻阅读\n",
       "3  a002786     图书阅读\n",
       "4  a002905     金融理财"
      ]
     },
     "execution_count": 4,
     "metadata": {},
     "output_type": "execute_result"
    }
   ],
   "source": [
    "app_info_df = pd.read_csv(base_dir+'app_info.csv',header=None, names=['appId','category'])\n",
    "app_cate_list = app_info_df['category'].unique()\n",
    "app_info_df.head()"
   ]
  },
  {
   "cell_type": "code",
   "execution_count": 6,
   "metadata": {},
   "outputs": [
    {
     "data": {
      "text/plain": [
       "array(['运动健康', '实用工具', '新闻阅读', '图书阅读', '金融理财', '社交通讯', '便捷生活', '休闲益智',\n",
       "       '拍摄美化', '经营策略', '儿童', '汽车', '教育', '主题个性', '影音娱乐', '棋牌桌游', '购物比价',\n",
       "       '旅游住宿', '出行导航', '商务', '角色扮演', '动作射击', '体育竞速', '美食', '休闲娱乐', '表盘个性',\n",
       "       '学习办公', '网络游戏', '主题铃声', '动漫', '休闲游戏', '资讯生活'], dtype=object)"
      ]
     },
     "execution_count": 6,
     "metadata": {},
     "output_type": "execute_result"
    }
   ],
   "source": [
    "app_info_df['category'].unique()"
   ]
  },
  {
   "cell_type": "code",
   "execution_count": 4,
   "metadata": {
    "ExecuteTime": {
     "end_time": "2019-08-22T05:23:09.213031Z",
     "start_time": "2019-08-22T05:23:08.372249Z"
    }
   },
   "outputs": [
    {
     "name": "stdout",
     "output_type": "stream",
     "text": [
      "(4000000, 2) (1000000, 1)\n"
     ]
    }
   ],
   "source": [
    "train_id_set = pd.read_csv(base_dir+'age_train.csv',header=None, names=['uId', 'age_group'])\n",
    "test_id_set = pd.read_csv(base_dir+'age_test.csv', header=None, names=['uId'])\n",
    "print(train_id_set.shape, test_id_set.shape)"
   ]
  },
  {
   "cell_type": "code",
   "execution_count": 5,
   "metadata": {
    "ExecuteTime": {
     "end_time": "2019-08-21T12:29:39.256308Z",
     "start_time": "2019-08-21T12:29:15.584756Z"
    }
   },
   "outputs": [
    {
     "data": {
      "text/plain": [
       "(4999341, 2)"
      ]
     },
     "execution_count": 5,
     "metadata": {},
     "output_type": "execute_result"
    }
   ],
   "source": [
    "app_actived_df = pd.read_csv(base_dir+'user_app_actived.csv', header=None, names=['uId','appId'])\n",
    "app_actived_df.shape"
   ]
  },
  {
   "cell_type": "code",
   "execution_count": 6,
   "metadata": {
    "ExecuteTime": {
     "end_time": "2019-08-21T12:29:39.292890Z",
     "start_time": "2019-08-21T12:29:39.259812Z"
    }
   },
   "outputs": [
    {
     "data": {
      "text/html": [
       "<div>\n",
       "<style scoped>\n",
       "    .dataframe tbody tr th:only-of-type {\n",
       "        vertical-align: middle;\n",
       "    }\n",
       "\n",
       "    .dataframe tbody tr th {\n",
       "        vertical-align: top;\n",
       "    }\n",
       "\n",
       "    .dataframe thead th {\n",
       "        text-align: right;\n",
       "    }\n",
       "</style>\n",
       "<table border=\"1\" class=\"dataframe\">\n",
       "  <thead>\n",
       "    <tr style=\"text-align: right;\">\n",
       "      <th></th>\n",
       "      <th>uId</th>\n",
       "      <th>appId</th>\n",
       "    </tr>\n",
       "  </thead>\n",
       "  <tbody>\n",
       "    <tr>\n",
       "      <th>0</th>\n",
       "      <td>1000110</td>\n",
       "      <td>a001048#a003072#a004443#a006024#a007087#a00743...</td>\n",
       "    </tr>\n",
       "    <tr>\n",
       "      <th>1</th>\n",
       "      <td>1000542</td>\n",
       "      <td>a001010#a00158#a001671#a002450#a003484#a003577...</td>\n",
       "    </tr>\n",
       "    <tr>\n",
       "      <th>2</th>\n",
       "      <td>1000866</td>\n",
       "      <td>a001048#a00108#a004622#a007104#a0075</td>\n",
       "    </tr>\n",
       "    <tr>\n",
       "      <th>3</th>\n",
       "      <td>1001028</td>\n",
       "      <td>a001012#a001055#a001062#a001275#a001403#a00158...</td>\n",
       "    </tr>\n",
       "    <tr>\n",
       "      <th>4</th>\n",
       "      <td>1001190</td>\n",
       "      <td>a001012#a00107#a001304#a001403#a001533#a001679...</td>\n",
       "    </tr>\n",
       "  </tbody>\n",
       "</table>\n",
       "</div>"
      ],
      "text/plain": [
       "       uId                                              appId\n",
       "0  1000110  a001048#a003072#a004443#a006024#a007087#a00743...\n",
       "1  1000542  a001010#a00158#a001671#a002450#a003484#a003577...\n",
       "2  1000866               a001048#a00108#a004622#a007104#a0075\n",
       "3  1001028  a001012#a001055#a001062#a001275#a001403#a00158...\n",
       "4  1001190  a001012#a00107#a001304#a001403#a001533#a001679..."
      ]
     },
     "execution_count": 6,
     "metadata": {},
     "output_type": "execute_result"
    }
   ],
   "source": [
    "app_actived_df.head()"
   ]
  },
  {
   "cell_type": "code",
   "execution_count": 7,
   "metadata": {
    "ExecuteTime": {
     "end_time": "2019-08-21T12:30:24.777415Z",
     "start_time": "2019-08-21T12:30:24.770586Z"
    }
   },
   "outputs": [],
   "source": [
    "def calc_app_nums_each_cate(df_row): \n",
    "    index, row = df_row\n",
    "    uId = row['uId']\n",
    "    appIds = row['appId'].split('#')\n",
    "    cate_map = OrderedDict()\n",
    "    for cate in app_cate_list:\n",
    "        cate_map[cate] = 0\n",
    "    cate_map['appNums'] = len(appIds)\n",
    "    categories = list(app_info_df.loc[app_info_df['appId'].isin(appIds), 'category'])\n",
    "    for c in categories:\n",
    "        cate_map[c] += 1\n",
    "    return cate_map"
   ]
  },
  {
   "cell_type": "code",
   "execution_count": 8,
   "metadata": {
    "ExecuteTime": {
     "end_time": "2019-08-21T14:39:55.340169Z",
     "start_time": "2019-08-21T12:37:18.833000Z"
    }
   },
   "outputs": [],
   "source": [
    "pool = Pool(30)\n",
    "results = pool.map(calc_app_nums_each_cate, app_actived_df.iterrows())\n",
    "pool.close()\n",
    "pool.join()"
   ]
  },
  {
   "cell_type": "code",
   "execution_count": 9,
   "metadata": {
    "ExecuteTime": {
     "end_time": "2019-08-21T14:41:17.033440Z",
     "start_time": "2019-08-21T14:39:55.359181Z"
    }
   },
   "outputs": [
    {
     "data": {
      "text/plain": [
       "(4999341, 34)"
      ]
     },
     "execution_count": 9,
     "metadata": {},
     "output_type": "execute_result"
    }
   ],
   "source": [
    "app_actived_category = pd.DataFrame(results)\n",
    "app_actived_category = pd.concat([app_actived_df[['uId']], app_actived_category], axis=1)\n",
    "app_actived_category.shape"
   ]
  },
  {
   "cell_type": "code",
   "execution_count": 10,
   "metadata": {
    "ExecuteTime": {
     "end_time": "2019-08-21T14:41:17.074581Z",
     "start_time": "2019-08-21T14:41:17.041943Z"
    }
   },
   "outputs": [
    {
     "data": {
      "text/html": [
       "<div>\n",
       "<style scoped>\n",
       "    .dataframe tbody tr th:only-of-type {\n",
       "        vertical-align: middle;\n",
       "    }\n",
       "\n",
       "    .dataframe tbody tr th {\n",
       "        vertical-align: top;\n",
       "    }\n",
       "\n",
       "    .dataframe thead th {\n",
       "        text-align: right;\n",
       "    }\n",
       "</style>\n",
       "<table border=\"1\" class=\"dataframe\">\n",
       "  <thead>\n",
       "    <tr style=\"text-align: right;\">\n",
       "      <th></th>\n",
       "      <th>uId</th>\n",
       "      <th>运动健康</th>\n",
       "      <th>实用工具</th>\n",
       "      <th>新闻阅读</th>\n",
       "      <th>图书阅读</th>\n",
       "      <th>金融理财</th>\n",
       "      <th>社交通讯</th>\n",
       "      <th>便捷生活</th>\n",
       "      <th>休闲益智</th>\n",
       "      <th>拍摄美化</th>\n",
       "      <th>...</th>\n",
       "      <th>美食</th>\n",
       "      <th>休闲娱乐</th>\n",
       "      <th>表盘个性</th>\n",
       "      <th>学习办公</th>\n",
       "      <th>网络游戏</th>\n",
       "      <th>主题铃声</th>\n",
       "      <th>动漫</th>\n",
       "      <th>休闲游戏</th>\n",
       "      <th>资讯生活</th>\n",
       "      <th>appNums</th>\n",
       "    </tr>\n",
       "  </thead>\n",
       "  <tbody>\n",
       "    <tr>\n",
       "      <th>0</th>\n",
       "      <td>1000110</td>\n",
       "      <td>0</td>\n",
       "      <td>7</td>\n",
       "      <td>1</td>\n",
       "      <td>0</td>\n",
       "      <td>0</td>\n",
       "      <td>2</td>\n",
       "      <td>2</td>\n",
       "      <td>0</td>\n",
       "      <td>0</td>\n",
       "      <td>...</td>\n",
       "      <td>0</td>\n",
       "      <td>0</td>\n",
       "      <td>0</td>\n",
       "      <td>0</td>\n",
       "      <td>0</td>\n",
       "      <td>0</td>\n",
       "      <td>0</td>\n",
       "      <td>0</td>\n",
       "      <td>0</td>\n",
       "      <td>12</td>\n",
       "    </tr>\n",
       "    <tr>\n",
       "      <th>1</th>\n",
       "      <td>1000542</td>\n",
       "      <td>0</td>\n",
       "      <td>15</td>\n",
       "      <td>3</td>\n",
       "      <td>0</td>\n",
       "      <td>3</td>\n",
       "      <td>2</td>\n",
       "      <td>5</td>\n",
       "      <td>0</td>\n",
       "      <td>2</td>\n",
       "      <td>...</td>\n",
       "      <td>0</td>\n",
       "      <td>0</td>\n",
       "      <td>0</td>\n",
       "      <td>0</td>\n",
       "      <td>0</td>\n",
       "      <td>0</td>\n",
       "      <td>0</td>\n",
       "      <td>0</td>\n",
       "      <td>0</td>\n",
       "      <td>34</td>\n",
       "    </tr>\n",
       "    <tr>\n",
       "      <th>2</th>\n",
       "      <td>1000866</td>\n",
       "      <td>0</td>\n",
       "      <td>3</td>\n",
       "      <td>2</td>\n",
       "      <td>0</td>\n",
       "      <td>0</td>\n",
       "      <td>0</td>\n",
       "      <td>0</td>\n",
       "      <td>0</td>\n",
       "      <td>1</td>\n",
       "      <td>...</td>\n",
       "      <td>0</td>\n",
       "      <td>0</td>\n",
       "      <td>0</td>\n",
       "      <td>0</td>\n",
       "      <td>0</td>\n",
       "      <td>0</td>\n",
       "      <td>0</td>\n",
       "      <td>0</td>\n",
       "      <td>0</td>\n",
       "      <td>5</td>\n",
       "    </tr>\n",
       "    <tr>\n",
       "      <th>3</th>\n",
       "      <td>1001028</td>\n",
       "      <td>5</td>\n",
       "      <td>26</td>\n",
       "      <td>2</td>\n",
       "      <td>0</td>\n",
       "      <td>2</td>\n",
       "      <td>8</td>\n",
       "      <td>18</td>\n",
       "      <td>0</td>\n",
       "      <td>5</td>\n",
       "      <td>...</td>\n",
       "      <td>3</td>\n",
       "      <td>0</td>\n",
       "      <td>0</td>\n",
       "      <td>0</td>\n",
       "      <td>0</td>\n",
       "      <td>0</td>\n",
       "      <td>0</td>\n",
       "      <td>0</td>\n",
       "      <td>0</td>\n",
       "      <td>70</td>\n",
       "    </tr>\n",
       "    <tr>\n",
       "      <th>4</th>\n",
       "      <td>1001190</td>\n",
       "      <td>0</td>\n",
       "      <td>17</td>\n",
       "      <td>4</td>\n",
       "      <td>0</td>\n",
       "      <td>11</td>\n",
       "      <td>9</td>\n",
       "      <td>7</td>\n",
       "      <td>0</td>\n",
       "      <td>4</td>\n",
       "      <td>...</td>\n",
       "      <td>0</td>\n",
       "      <td>0</td>\n",
       "      <td>0</td>\n",
       "      <td>0</td>\n",
       "      <td>0</td>\n",
       "      <td>0</td>\n",
       "      <td>0</td>\n",
       "      <td>0</td>\n",
       "      <td>0</td>\n",
       "      <td>47</td>\n",
       "    </tr>\n",
       "  </tbody>\n",
       "</table>\n",
       "<p>5 rows × 34 columns</p>\n",
       "</div>"
      ],
      "text/plain": [
       "       uId  运动健康  实用工具  新闻阅读  图书阅读  金融理财  社交通讯  便捷生活  休闲益智  拍摄美化  ...  美食  \\\n",
       "0  1000110     0     7     1     0     0     2     2     0     0  ...   0   \n",
       "1  1000542     0    15     3     0     3     2     5     0     2  ...   0   \n",
       "2  1000866     0     3     2     0     0     0     0     0     1  ...   0   \n",
       "3  1001028     5    26     2     0     2     8    18     0     5  ...   3   \n",
       "4  1001190     0    17     4     0    11     9     7     0     4  ...   0   \n",
       "\n",
       "   休闲娱乐  表盘个性  学习办公  网络游戏  主题铃声  动漫  休闲游戏  资讯生活  appNums  \n",
       "0     0     0     0     0     0   0     0     0       12  \n",
       "1     0     0     0     0     0   0     0     0       34  \n",
       "2     0     0     0     0     0   0     0     0        5  \n",
       "3     0     0     0     0     0   0     0     0       70  \n",
       "4     0     0     0     0     0   0     0     0       47  \n",
       "\n",
       "[5 rows x 34 columns]"
      ]
     },
     "execution_count": 10,
     "metadata": {},
     "output_type": "execute_result"
    }
   ],
   "source": [
    "app_actived_category.head()"
   ]
  },
  {
   "cell_type": "code",
   "execution_count": 12,
   "metadata": {
    "ExecuteTime": {
     "end_time": "2019-08-21T14:41:19.544889Z",
     "start_time": "2019-08-21T14:41:17.085615Z"
    }
   },
   "outputs": [],
   "source": [
    "h5 = pd.HDFStore(base_dir+'app_actived_category.h5','w',complevel=4,complib='blosc')\n",
    "h5['data'] = app_actived_category \n",
    "h5.close()"
   ]
  },
  {
   "cell_type": "code",
   "execution_count": 1,
   "metadata": {},
   "outputs": [
    {
     "name": "stdout",
     "output_type": "stream",
     "text": [
      "0\n"
     ]
    }
   ],
   "source": [
    "print(0)"
   ]
  },
  {
   "cell_type": "code",
   "execution_count": null,
   "metadata": {},
   "outputs": [],
   "source": []
  }
 ],
 "metadata": {
  "kernelspec": {
   "display_name": "Python 3",
   "language": "python",
   "name": "python3"
  },
  "language_info": {
   "codemirror_mode": {
    "name": "ipython",
    "version": 3
   },
   "file_extension": ".py",
   "mimetype": "text/x-python",
   "name": "python",
   "nbconvert_exporter": "python",
   "pygments_lexer": "ipython3",
   "version": "3.6.7"
  }
 },
 "nbformat": 4,
 "nbformat_minor": 4
}
