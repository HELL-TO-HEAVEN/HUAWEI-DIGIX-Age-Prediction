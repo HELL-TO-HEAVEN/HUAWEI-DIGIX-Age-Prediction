{
 "cells": [
  {
   "cell_type": "code",
   "execution_count": 1,
   "metadata": {},
   "outputs": [],
   "source": [
    "import numpy as np\n",
    "import pandas as pd\n",
    "from gensim.models import FastText\n",
    "from sklearn.utils import shuffle\n",
    "from sklearn.feature_extraction.text import CountVectorizer, TfidfVectorizer, TfidfTransformer"
   ]
  },
  {
   "cell_type": "code",
   "execution_count": 2,
   "metadata": {},
   "outputs": [],
   "source": [
    "base_dir = './dataset/'"
   ]
  },
  {
   "cell_type": "code",
   "execution_count": 4,
   "metadata": {},
   "outputs": [
    {
     "data": {
      "text/plain": [
       "(4020281, 2)"
      ]
     },
     "execution_count": 4,
     "metadata": {},
     "output_type": "execute_result"
    }
   ],
   "source": [
    "user_app_usage = pd.read_hdf(base_dir+'user_app_usage_df.h5',key='data')\n",
    "user_app_usage.shape"
   ]
  },
  {
   "cell_type": "code",
   "execution_count": 5,
   "metadata": {},
   "outputs": [
    {
     "data": {
      "text/html": [
       "<div>\n",
       "<style scoped>\n",
       "    .dataframe tbody tr th:only-of-type {\n",
       "        vertical-align: middle;\n",
       "    }\n",
       "\n",
       "    .dataframe tbody tr th {\n",
       "        vertical-align: top;\n",
       "    }\n",
       "\n",
       "    .dataframe thead th {\n",
       "        text-align: right;\n",
       "    }\n",
       "</style>\n",
       "<table border=\"1\" class=\"dataframe\">\n",
       "  <thead>\n",
       "    <tr style=\"text-align: right;\">\n",
       "      <th></th>\n",
       "      <th>uId</th>\n",
       "      <th>appIds</th>\n",
       "    </tr>\n",
       "  </thead>\n",
       "  <tbody>\n",
       "    <tr>\n",
       "      <th>0</th>\n",
       "      <td>1000009</td>\n",
       "      <td>a008224#a001055#a002392#a003386#a003659#a00548...</td>\n",
       "    </tr>\n",
       "    <tr>\n",
       "      <th>1</th>\n",
       "      <td>1000010</td>\n",
       "      <td>a006085#a003327#a001578#a007488#a00451#a001050...</td>\n",
       "    </tr>\n",
       "    <tr>\n",
       "      <th>2</th>\n",
       "      <td>1000011</td>\n",
       "      <td>a007629#a006461#a00604#a006400#a007439#a00326#...</td>\n",
       "    </tr>\n",
       "    <tr>\n",
       "      <th>3</th>\n",
       "      <td>1000012</td>\n",
       "      <td>a003570#a008587#a007439#a005893#a007447#a00588...</td>\n",
       "    </tr>\n",
       "    <tr>\n",
       "      <th>4</th>\n",
       "      <td>1000014</td>\n",
       "      <td>a001671#a007445#a007088#a008879#a001062</td>\n",
       "    </tr>\n",
       "  </tbody>\n",
       "</table>\n",
       "</div>"
      ],
      "text/plain": [
       "       uId                                             appIds\n",
       "0  1000009  a008224#a001055#a002392#a003386#a003659#a00548...\n",
       "1  1000010  a006085#a003327#a001578#a007488#a00451#a001050...\n",
       "2  1000011  a007629#a006461#a00604#a006400#a007439#a00326#...\n",
       "3  1000012  a003570#a008587#a007439#a005893#a007447#a00588...\n",
       "4  1000014            a001671#a007445#a007088#a008879#a001062"
      ]
     },
     "execution_count": 5,
     "metadata": {},
     "output_type": "execute_result"
    }
   ],
   "source": [
    "user_app_usage.head()"
   ]
  },
  {
   "cell_type": "code",
   "execution_count": 6,
   "metadata": {},
   "outputs": [
    {
     "data": {
      "text/plain": [
       "(4000000, 2)"
      ]
     },
     "execution_count": 6,
     "metadata": {},
     "output_type": "execute_result"
    }
   ],
   "source": [
    "train_set = pd.read_csv(base_dir+'age_train.csv',names=['uId','age_group'],dtype={'uId':np.uint32,'age_group':np.uint8})\n",
    "train_set.shape"
   ]
  },
  {
   "cell_type": "code",
   "execution_count": 7,
   "metadata": {},
   "outputs": [
    {
     "data": {
      "text/plain": [
       "(1000000, 1)"
      ]
     },
     "execution_count": 7,
     "metadata": {},
     "output_type": "execute_result"
    }
   ],
   "source": [
    "test_set = pd.read_csv(base_dir+'age_test.csv',names=['uId'],dtype={'uId':np.uint32})\n",
    "test_set.shape"
   ]
  },
  {
   "cell_type": "code",
   "execution_count": 8,
   "metadata": {},
   "outputs": [],
   "source": [
    "user_app_usage['appIds'] = user_app_usage['appIds'].astype(str)"
   ]
  },
  {
   "cell_type": "code",
   "execution_count": 9,
   "metadata": {},
   "outputs": [
    {
     "data": {
      "text/plain": [
       "4020281"
      ]
     },
     "execution_count": 9,
     "metadata": {},
     "output_type": "execute_result"
    }
   ],
   "source": [
    "app_usage_list=np.array(user_app_usage['appIds'].apply(lambda x:shuffle(x.strip().split('#'))))\n",
    "len(app_usage_list)"
   ]
  },
  {
   "cell_type": "code",
   "execution_count": 10,
   "metadata": {},
   "outputs": [],
   "source": [
    "usage_model = FastText(app_usage_list, size=128, window=5, min_count=5, workers=12,sg=1,iter=10)"
   ]
  },
  {
   "cell_type": "code",
   "execution_count": 11,
   "metadata": {},
   "outputs": [
    {
     "name": "stderr",
     "output_type": "stream",
     "text": [
      "/opt/conda/lib/python3.6/site-packages/smart_open/smart_open_lib.py:398: UserWarning: This function is deprecated, use smart_open.open instead. See the migration notes for details: https://github.com/RaRe-Technologies/smart_open/blob/master/README.rst#migrating-to-the-new-open-function\n",
      "  'See the migration notes for details: %s' % _MIGRATION_NOTES_URL\n"
     ]
    }
   ],
   "source": [
    "usage_model.save(base_dir+'app_usage_fasttext.model')"
   ]
  },
  {
   "cell_type": "code",
   "execution_count": 12,
   "metadata": {},
   "outputs": [
    {
     "name": "stderr",
     "output_type": "stream",
     "text": [
      "/opt/conda/lib/python3.6/site-packages/ipykernel_launcher.py:7: DeprecationWarning: Call to deprecated `__getitem__` (Method will be removed in 4.0.0, use self.wv.__getitem__() instead).\n",
      "  import sys\n",
      "/opt/conda/lib/python3.6/site-packages/ipykernel_launcher.py:13: DeprecationWarning: Call to deprecated `__getitem__` (Method will be removed in 4.0.0, use self.wv.__getitem__() instead).\n",
      "  del sys.path[0]\n"
     ]
    }
   ],
   "source": [
    "result={\n",
    "    'sum':[]\n",
    "}\n",
    "for i in app_usage_list:\n",
    "    no_exist_count=0\n",
    "    try:\n",
    "        user_usage_info=np.array(usage_model[i]).sum(aixs=1)\n",
    "        result['sum'].append(user_usage_info)\n",
    "    except:\n",
    "        user_usage_info=np.array([0 for _ in range(128)],dtype=np.float32)\n",
    "        for app_id in i:\n",
    "            if app_id in usage_model.wv.vocab:\n",
    "                user_usage_info+=usage_model[app_id]\n",
    "            else:\n",
    "                no_exist_count+=1\n",
    "        result['sum'].append(user_usage_info)"
   ]
  },
  {
   "cell_type": "code",
   "execution_count": 13,
   "metadata": {},
   "outputs": [],
   "source": [
    "result_sum=pd.DataFrame(result['sum'],dtype=np.float32)\n",
    "result_sum.rename(columns=lambda x:str(x)+'_sum',inplace=True)\n",
    "result_sum_with_uid=pd.concat([user_app_usage[['uId']],result_sum],axis=1)"
   ]
  },
  {
   "cell_type": "code",
   "execution_count": 14,
   "metadata": {},
   "outputs": [
    {
     "data": {
      "text/plain": [
       "(4000000, 128)"
      ]
     },
     "execution_count": 14,
     "metadata": {},
     "output_type": "execute_result"
    }
   ],
   "source": [
    "train_app_usage_emb_fasttext_sum = train_set[['uId']].merge(result_sum_with_uid,on='uId',how='left')\n",
    "_ = train_app_usage_emb_fasttext_sum.pop('uId')\n",
    "train_app_usage_emb_fasttext_sum.shape"
   ]
  },
  {
   "cell_type": "code",
   "execution_count": 15,
   "metadata": {},
   "outputs": [],
   "source": [
    "h5 = pd.HDFStore(base_dir+'train_app_usage_emb_fasttext_sum.h5','w',complevel=4,complib='blosc')\n",
    "h5['data'] = train_app_usage_emb_fasttext_sum\n",
    "h5.close()"
   ]
  },
  {
   "cell_type": "code",
   "execution_count": 16,
   "metadata": {},
   "outputs": [
    {
     "data": {
      "text/plain": [
       "(1000000, 128)"
      ]
     },
     "execution_count": 16,
     "metadata": {},
     "output_type": "execute_result"
    }
   ],
   "source": [
    "test_app_usage_emb_fasttext_sum = test_set[['uId']].merge(result_sum_with_uid,on='uId',how='left')\n",
    "_ = test_app_usage_emb_fasttext_sum.pop('uId')\n",
    "test_app_usage_emb_fasttext_sum.shape"
   ]
  },
  {
   "cell_type": "code",
   "execution_count": 17,
   "metadata": {},
   "outputs": [],
   "source": [
    "h5 = pd.HDFStore(base_dir+'test_app_usage_emb_fasttext_sum.h5','w',complevel=4,complib='blosc')\n",
    "h5['data'] = test_app_usage_emb_fasttext_sum\n",
    "h5.close()"
   ]
  },
  {
   "cell_type": "code",
   "execution_count": null,
   "metadata": {},
   "outputs": [],
   "source": []
  }
 ],
 "metadata": {
  "kernelspec": {
   "display_name": "Python 3",
   "language": "python",
   "name": "python3"
  },
  "language_info": {
   "codemirror_mode": {
    "name": "ipython",
    "version": 3
   },
   "file_extension": ".py",
   "mimetype": "text/x-python",
   "name": "python",
   "nbconvert_exporter": "python",
   "pygments_lexer": "ipython3",
   "version": "3.6.7"
  }
 },
 "nbformat": 4,
 "nbformat_minor": 4
}
