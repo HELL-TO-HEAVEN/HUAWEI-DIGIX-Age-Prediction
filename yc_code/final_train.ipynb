{
 "cells": [
  {
   "cell_type": "code",
   "execution_count": 1,
   "metadata": {
    "ExecuteTime": {
     "end_time": "2019-08-22T12:29:51.921115Z",
     "start_time": "2019-08-22T12:29:50.758150Z"
    }
   },
   "outputs": [],
   "source": [
    "import numpy as np\n",
    "import os\n",
    "import pandas as pd\n",
    "import time\n",
    "import ast\n",
    "from tqdm import tqdm\n",
    "import datetime\n",
    "from multiprocessing import Pool, cpu_count\n",
    "from itertools import zip_longest\n",
    "from collections import defaultdict, OrderedDict, Counter\n",
    "import matplotlib.pyplot as plt\n",
    "import seaborn as sns\n",
    "import lightgbm as lgb\n",
    "from sklearn import metrics\n",
    "from sklearn import model_selection\n",
    "from sklearn.model_selection import train_test_split\n",
    "from sklearn.preprocessing import LabelEncoder, StandardScaler\n",
    "from sklearn.feature_selection import chi2,SelectKBest\n",
    "%matplotlib inline"
   ]
  },
  {
   "cell_type": "code",
   "execution_count": 2,
   "metadata": {
    "ExecuteTime": {
     "end_time": "2019-08-22T12:29:54.660307Z",
     "start_time": "2019-08-22T12:29:52.548838Z"
    }
   },
   "outputs": [
    {
     "name": "stderr",
     "output_type": "stream",
     "text": [
      "Using TensorFlow backend.\n"
     ]
    }
   ],
   "source": [
    "from keras import optimizers\n",
    "from keras.callbacks import EarlyStopping, ModelCheckpoint,ReduceLROnPlateau\n",
    "from keras.models import Model\n",
    "from keras.layers import Add,Input, Dense, Concatenate, Reshape, Dropout\n",
    "from keras.layers import Flatten,Activation,LeakyReLU,PReLU,Lambda,LSTM,GRU\n",
    "from keras.layers import Conv1D,GlobalAveragePooling1D,GlobalMaxPooling1D,TimeDistributed\n",
    "from keras.layers.wrappers import Bidirectional\n",
    "from keras.layers.embeddings import Embedding\n",
    "import tensorflow as tf\n",
    "import keras.backend.tensorflow_backend as KTF\n",
    "from keras.layers.normalization import BatchNormalization\n",
    "from keras.utils import np_utils\n",
    "from keras.models import load_model\n",
    "from keras.preprocessing.text import one_hot\n",
    "from keras.preprocessing.sequence import pad_sequences\n",
    "from keras import backend as K\n",
    "from keras.utils import multi_gpu_model\n",
    "import keras\n",
    "\n",
    "#进行配置，每个GPU使用60%上限现存\n",
    "config = tf.ConfigProto()\n",
    "os.environ[\"CUDA_VISIBLE_DEVICES\"] = \"4,5,6,7\"\n",
    "# config.gpu_options.per_process_gpu_memory_fraction = 0.4 # 每个GPU现存上届控制在60%以内\n",
    "session = tf.Session(config=config)\n",
    "\n",
    "# 设置session\n",
    "KTF.set_session(session )"
   ]
  },
  {
   "cell_type": "code",
   "execution_count": 3,
   "metadata": {},
   "outputs": [],
   "source": [
    "base_dir = './dataset/'"
   ]
  },
  {
   "cell_type": "code",
   "execution_count": null,
   "metadata": {},
   "outputs": [],
   "source": [
    "### 用户的激活APP列表"
   ]
  },
  {
   "cell_type": "code",
   "execution_count": 4,
   "metadata": {
    "ExecuteTime": {
     "end_time": "2019-08-22T12:30:25.933244Z",
     "start_time": "2019-08-22T12:30:05.054050Z"
    }
   },
   "outputs": [
    {
     "data": {
      "text/html": [
       "<div>\n",
       "<style scoped>\n",
       "    .dataframe tbody tr th:only-of-type {\n",
       "        vertical-align: middle;\n",
       "    }\n",
       "\n",
       "    .dataframe tbody tr th {\n",
       "        vertical-align: top;\n",
       "    }\n",
       "\n",
       "    .dataframe thead th {\n",
       "        text-align: right;\n",
       "    }\n",
       "</style>\n",
       "<table border=\"1\" class=\"dataframe\">\n",
       "  <thead>\n",
       "    <tr style=\"text-align: right;\">\n",
       "      <th></th>\n",
       "      <th>uId</th>\n",
       "      <th>appId</th>\n",
       "    </tr>\n",
       "  </thead>\n",
       "  <tbody>\n",
       "    <tr>\n",
       "      <th>0</th>\n",
       "      <td>1000110</td>\n",
       "      <td>a001048#a003072#a004443#a006024#a007087#a00743...</td>\n",
       "    </tr>\n",
       "    <tr>\n",
       "      <th>1</th>\n",
       "      <td>1000542</td>\n",
       "      <td>a001010#a00158#a001671#a002450#a003484#a003577...</td>\n",
       "    </tr>\n",
       "    <tr>\n",
       "      <th>2</th>\n",
       "      <td>1000866</td>\n",
       "      <td>a001048#a00108#a004622#a007104#a0075</td>\n",
       "    </tr>\n",
       "    <tr>\n",
       "      <th>3</th>\n",
       "      <td>1001028</td>\n",
       "      <td>a001012#a001055#a001062#a001275#a001403#a00158...</td>\n",
       "    </tr>\n",
       "    <tr>\n",
       "      <th>4</th>\n",
       "      <td>1001190</td>\n",
       "      <td>a001012#a00107#a001304#a001403#a001533#a001679...</td>\n",
       "    </tr>\n",
       "  </tbody>\n",
       "</table>\n",
       "</div>"
      ],
      "text/plain": [
       "       uId                                              appId\n",
       "0  1000110  a001048#a003072#a004443#a006024#a007087#a00743...\n",
       "1  1000542  a001010#a00158#a001671#a002450#a003484#a003577...\n",
       "2  1000866               a001048#a00108#a004622#a007104#a0075\n",
       "3  1001028  a001012#a001055#a001062#a001275#a001403#a00158...\n",
       "4  1001190  a001012#a00107#a001304#a001403#a001533#a001679..."
      ]
     },
     "execution_count": 4,
     "metadata": {},
     "output_type": "execute_result"
    }
   ],
   "source": [
    "app_actived_df = pd.read_csv(base_dir+'user_app_actived.csv', header=None, names=['uId','appId'],\n",
    "                             dtype={'uId':np.uint32,'appId':str})\n",
    "app_actived_df.head()"
   ]
  },
  {
   "cell_type": "code",
   "execution_count": 5,
   "metadata": {
    "ExecuteTime": {
     "end_time": "2019-08-22T12:30:25.941833Z",
     "start_time": "2019-08-22T12:30:25.937475Z"
    }
   },
   "outputs": [
    {
     "name": "stdout",
     "output_type": "stream",
     "text": [
      "(4999341, 2)\n"
     ]
    }
   ],
   "source": [
    "print(app_actived_df.shape)"
   ]
  },
  {
   "cell_type": "code",
   "execution_count": null,
   "metadata": {},
   "outputs": [],
   "source": [
    "### 原始训练集"
   ]
  },
  {
   "cell_type": "code",
   "execution_count": 6,
   "metadata": {
    "ExecuteTime": {
     "end_time": "2019-08-22T12:30:26.209297Z",
     "start_time": "2019-08-22T12:30:25.944293Z"
    }
   },
   "outputs": [],
   "source": [
    "app_info=pd.read_csv(base_dir+'app_info.csv',header=None,names=['appId','category'],dtype={'appId':str,'category':'category'})\n",
    "app_category_list=list(app_info.category.unique())"
   ]
  },
  {
   "cell_type": "code",
   "execution_count": 7,
   "metadata": {},
   "outputs": [
    {
     "data": {
      "text/plain": [
       "32"
      ]
     },
     "execution_count": 7,
     "metadata": {},
     "output_type": "execute_result"
    }
   ],
   "source": [
    "len(app_category_list)"
   ]
  },
  {
   "cell_type": "code",
   "execution_count": 8,
   "metadata": {
    "ExecuteTime": {
     "end_time": "2019-08-22T12:30:26.225818Z",
     "start_time": "2019-08-22T12:30:26.213014Z"
    }
   },
   "outputs": [],
   "source": [
    "user_set_map = {}\n",
    "user_set_map['uId'] = np.uint32\n",
    "user_set_map['age_group'] = np.uint8\n",
    "user_set_map['gender'] = np.uint8\n",
    "user_set_map['city'] = str\n",
    "user_set_map['prodName'] = str\n",
    "user_set_map['ramCapacity'] = np.float32\n",
    "user_set_map['romCapacity'] = np.float32\n",
    "user_set_map['fontSize'] = np.float32\n",
    "user_set_map['color'] = str\n",
    "user_set_map['ct'] = str\n",
    "user_set_map['carrier'] = str\n",
    "user_set_map['os'] = np.float32\n",
    "user_set_map['appNums'] = np.uint32\n",
    "user_set_map['bootTimes'] = np.int32\n",
    "user_set_map['AFuncTimes'] = np.float32\n",
    "user_set_map['BFuncTimes'] = np.float32\n",
    "user_set_map['CFuncTimes'] = np.float32\n",
    "user_set_map['DFuncTimes'] = np.float32\n",
    "user_set_map['EFuncTimes'] = np.float32\n",
    "user_set_map['FFuncTimes'] = np.float32\n",
    "user_set_map['GFuncSum'] = np.int32\n",
    "user_set_map['totalGame'] = np.uint32\n",
    "user_set_map['used_rom'] = np.float32\n",
    "user_set_map['used_ram'] = np.float32\n",
    "user_set_map['all_used_features'] = np.int8\n",
    "user_set_map['gender_color'] = str\n",
    "user_set_map['young_feature'] = np.uint32\n",
    "user_set_map['business_feature'] = np.uint32\n",
    "user_set_map['middle_feature'] = np.uint32\n",
    "for app_category_name in app_category_list:\n",
    "    user_set_map[app_category_name] = np.uint32"
   ]
  },
  {
   "cell_type": "code",
   "execution_count": 9,
   "metadata": {
    "ExecuteTime": {
     "end_time": "2019-08-22T12:37:57.943038Z",
     "start_time": "2019-08-22T12:37:35.792657Z"
    },
    "scrolled": true
   },
   "outputs": [
    {
     "name": "stdout",
     "output_type": "stream",
     "text": [
      "(4000000, 61)\n",
      "(1000000, 60)\n"
     ]
    }
   ],
   "source": [
    "train_set = pd.read_csv(base_dir+'train_user_set.csv',dtype=user_set_map)\n",
    "_ = user_set_map.pop('age_group')\n",
    "test_set = pd.read_csv(base_dir+'test_user_set.csv',dtype=user_set_map)\n",
    "print(train_set.shape)\n",
    "print(test_set.shape)"
   ]
  },
  {
   "cell_type": "code",
   "execution_count": 10,
   "metadata": {},
   "outputs": [
    {
     "data": {
      "text/plain": [
       "Index(['uId', 'age_group', 'gender', 'city', 'prodName', 'ramCapacity',\n",
       "       'romCapacity', 'color', 'fontSize', 'ct', 'carrier', 'os', 'bootTimes',\n",
       "       'AFuncTimes', 'BFuncTimes', 'CFuncTimes', 'DFuncTimes', 'EFuncTimes',\n",
       "       'FFuncTimes', 'GFuncSum', '运动健康', '实用工具', '新闻阅读', '图书阅读', '金融理财',\n",
       "       '社交通讯', '便捷生活', '休闲益智', '拍摄美化', '经营策略', '儿童', '汽车', '教育', '主题个性',\n",
       "       '影音娱乐', '棋牌桌游', '购物比价', '旅游住宿', '出行导航', '商务', '角色扮演', '动作射击', '体育竞速',\n",
       "       '美食', '休闲娱乐', '表盘个性', '学习办公', '网络游戏', '主题铃声', '动漫', '休闲游戏', '资讯生活',\n",
       "       'appNums', 'totalGame', 'young_feature', 'business_feature',\n",
       "       'middle_feature', 'used_rom', 'used_ram', 'gender_color',\n",
       "       'all_used_features'],\n",
       "      dtype='object')"
      ]
     },
     "execution_count": 10,
     "metadata": {},
     "output_type": "execute_result"
    }
   ],
   "source": [
    "train_set.columns"
   ]
  },
  {
   "cell_type": "code",
   "execution_count": null,
   "metadata": {},
   "outputs": [],
   "source": [
    "### app 分类使用数据"
   ]
  },
  {
   "cell_type": "code",
   "execution_count": 10,
   "metadata": {
    "ExecuteTime": {
     "end_time": "2019-08-22T12:37:57.954805Z",
     "start_time": "2019-08-22T12:37:57.947477Z"
    }
   },
   "outputs": [],
   "source": [
    "# user_app_usage_statistic_dtype_map={}\n",
    "# for app_category_name in app_category_list:\n",
    "#     user_app_usage_statistic_dtype_map[app_category_name+'_times']=np.float32\n",
    "#     user_app_usage_statistic_dtype_map[app_category_name+'_duration']=np.float32\n",
    "#     user_app_usage_statistic_dtype_map[app_category_name+'_avg']=np.float32\n",
    "# user_app_usage_statistic_dtype_map['uId']=np.int32\n",
    "# user_app_usage_statistic_dtype_map['all_times']=np.int32\n",
    "# user_app_usage_statistic_dtype_map['all_duration']=np.int32\n",
    "# user_app_usage_statistic_dtype_map['use_days']=np.int32"
   ]
  },
  {
   "cell_type": "code",
   "execution_count": 11,
   "metadata": {
    "ExecuteTime": {
     "end_time": "2019-08-22T12:38:19.034472Z",
     "start_time": "2019-08-22T12:37:57.958292Z"
    }
   },
   "outputs": [
    {
     "name": "stdout",
     "output_type": "stream",
     "text": [
      "(4020281, 101)\n"
     ]
    }
   ],
   "source": [
    "user_app_usage_stat = pd.read_hdf('/home/uniml/work/huawei/temp_data/user_app_usage_statistic.h5',key='data')\n",
    "print(user_app_usage_stat.shape)"
   ]
  },
  {
   "cell_type": "code",
   "execution_count": 12,
   "metadata": {},
   "outputs": [],
   "source": [
    "for col in user_app_usage_stat.columns:\n",
    "    if '_avg' in col:\n",
    "        _ = user_app_usage_stat.pop(col)"
   ]
  },
  {
   "cell_type": "code",
   "execution_count": 13,
   "metadata": {
    "ExecuteTime": {
     "end_time": "2019-08-22T12:38:19.083778Z",
     "start_time": "2019-08-22T12:38:19.039338Z"
    }
   },
   "outputs": [
    {
     "data": {
      "text/plain": [
       "Index(['运动健康_times', '运动健康_duration', '实用工具_times', '实用工具_duration',\n",
       "       '新闻阅读_times', '新闻阅读_duration', '图书阅读_times', '图书阅读_duration',\n",
       "       '金融理财_times', '金融理财_duration', '社交通讯_times', '社交通讯_duration',\n",
       "       '便捷生活_times', '便捷生活_duration', '休闲益智_times', '休闲益智_duration',\n",
       "       '拍摄美化_times', '拍摄美化_duration', '经营策略_times', '经营策略_duration',\n",
       "       '儿童_times', '儿童_duration', '汽车_times', '汽车_duration', '教育_times',\n",
       "       '教育_duration', '主题个性_times', '主题个性_duration', '影音娱乐_times',\n",
       "       '影音娱乐_duration', '棋牌桌游_times', '棋牌桌游_duration', '购物比价_times',\n",
       "       '购物比价_duration', '旅游住宿_times', '旅游住宿_duration', '出行导航_times',\n",
       "       '出行导航_duration', '商务_times', '商务_duration', '角色扮演_times',\n",
       "       '角色扮演_duration', '动作射击_times', '动作射击_duration', '体育竞速_times',\n",
       "       '体育竞速_duration', '美食_times', '美食_duration', '休闲娱乐_times',\n",
       "       '休闲娱乐_duration', '表盘个性_times', '表盘个性_duration', '学习办公_times',\n",
       "       '学习办公_duration', '网络游戏_times', '网络游戏_duration', '主题铃声_times',\n",
       "       '主题铃声_duration', '动漫_times', '动漫_duration', '休闲游戏_times',\n",
       "       '休闲游戏_duration', '资讯生活_times', '资讯生活_duration', 'uId', 'all_times',\n",
       "       'all_duration', 'use_days', 'app_usage_count'],\n",
       "      dtype='object')"
      ]
     },
     "execution_count": 13,
     "metadata": {},
     "output_type": "execute_result"
    }
   ],
   "source": [
    "user_app_usage_stat.columns"
   ]
  },
  {
   "cell_type": "code",
   "execution_count": null,
   "metadata": {},
   "outputs": [],
   "source": [
    "### 神经网络"
   ]
  },
  {
   "cell_type": "code",
   "execution_count": 14,
   "metadata": {
    "ExecuteTime": {
     "end_time": "2019-08-22T12:38:33.689460Z",
     "start_time": "2019-08-22T12:38:30.803222Z"
    }
   },
   "outputs": [],
   "source": [
    "train_set['gender'] = train_set['gender'].astype(str)\n",
    "test_set['gender'] = test_set['gender'].astype(str)"
   ]
  },
  {
   "cell_type": "code",
   "execution_count": 15,
   "metadata": {
    "ExecuteTime": {
     "end_time": "2019-08-22T12:38:34.595376Z",
     "start_time": "2019-08-22T12:38:33.693873Z"
    }
   },
   "outputs": [
    {
     "name": "stdout",
     "output_type": "stream",
     "text": [
      "343\n",
      "113\n",
      "117\n",
      "5\n",
      "4\n",
      "234\n"
     ]
    }
   ],
   "source": [
    "print(len(train_set['city'].unique()))\n",
    "print(len(train_set['prodName'].unique()))\n",
    "print(len(train_set['color'].unique()))\n",
    "print(len(train_set['ct'].unique()))\n",
    "print(len(train_set['carrier'].unique()))\n",
    "print(len(train_set['gender_color'].unique()))"
   ]
  },
  {
   "cell_type": "code",
   "execution_count": 16,
   "metadata": {
    "ExecuteTime": {
     "end_time": "2019-08-22T12:38:35.970175Z",
     "start_time": "2019-08-22T12:38:34.598426Z"
    }
   },
   "outputs": [],
   "source": [
    "train_set['age_group'] = train_set['age_group'].apply(lambda x : x-1)\n",
    "label = train_set['age_group'].values\n",
    "_ = train_set.pop('age_group')"
   ]
  },
  {
   "cell_type": "code",
   "execution_count": 17,
   "metadata": {
    "ExecuteTime": {
     "end_time": "2019-08-22T12:38:55.360120Z",
     "start_time": "2019-08-22T12:38:38.997175Z"
    }
   },
   "outputs": [
    {
     "name": "stdout",
     "output_type": "stream",
     "text": [
      "(4000000, 128) (1000000, 128)\n"
     ]
    }
   ],
   "source": [
    "train_set = train_set.merge(user_app_usage_stat,on=['uId'],how='left')\n",
    "train_set.fillna(0, inplace=True)\n",
    "test_set = test_set.merge(user_app_usage_stat,on=['uId'],how='left')\n",
    "test_set.fillna(0, inplace=True)\n",
    "print(train_set.shape,test_set.shape)"
   ]
  },
  {
   "cell_type": "code",
   "execution_count": 18,
   "metadata": {
    "ExecuteTime": {
     "end_time": "2019-08-22T12:38:56.182466Z",
     "start_time": "2019-08-22T12:38:55.364472Z"
    }
   },
   "outputs": [
    {
     "name": "stdout",
     "output_type": "stream",
     "text": [
      "(4000000, 7)\n"
     ]
    }
   ],
   "source": [
    "num_train = train_set[['gender','ct','carrier','city','prodName','color','gender_color']]\n",
    "_ = train_set.pop('gender')\n",
    "_ = train_set.pop('ct')\n",
    "_ = train_set.pop('carrier')\n",
    "_ = train_set.pop('city')\n",
    "_ = train_set.pop('prodName')\n",
    "_ = train_set.pop('color')\n",
    "_ = train_set.pop('gender_color')\n",
    "print(num_train.shape)"
   ]
  },
  {
   "cell_type": "code",
   "execution_count": 19,
   "metadata": {
    "ExecuteTime": {
     "end_time": "2019-08-22T12:38:56.331867Z",
     "start_time": "2019-08-22T12:38:56.185508Z"
    }
   },
   "outputs": [
    {
     "name": "stdout",
     "output_type": "stream",
     "text": [
      "(1000000, 7)\n"
     ]
    }
   ],
   "source": [
    "num_test = test_set[['gender','ct','carrier','city','prodName','color','gender_color']]\n",
    "_ = test_set.pop('gender')\n",
    "_ = test_set.pop('ct')\n",
    "_ = test_set.pop('carrier')\n",
    "_ = test_set.pop('city')\n",
    "_ = test_set.pop('prodName')\n",
    "_ = test_set.pop('color')\n",
    "_ = test_set.pop('gender_color')\n",
    "print(num_test.shape)"
   ]
  },
  {
   "cell_type": "code",
   "execution_count": null,
   "metadata": {},
   "outputs": [],
   "source": [
    "### app使用情况统计类特征"
   ]
  },
  {
   "cell_type": "code",
   "execution_count": 20,
   "metadata": {
    "ExecuteTime": {
     "end_time": "2019-08-22T12:39:14.799223Z",
     "start_time": "2019-08-22T12:39:12.557422Z"
    }
   },
   "outputs": [
    {
     "name": "stdout",
     "output_type": "stream",
     "text": [
      "(4000000, 26) (1000000, 26)\n"
     ]
    }
   ],
   "source": [
    "train_app_usage_stat_df = pd.read_hdf(base_dir+'train_app_usage_stat_df.h5',key='data')\n",
    "test_app_usage_stat_df = pd.read_hdf(base_dir+'test_app_usage_stat_df.h5',key='data')\n",
    "print(train_app_usage_stat_df.shape,test_app_usage_stat_df.shape)"
   ]
  },
  {
   "cell_type": "code",
   "execution_count": 21,
   "metadata": {
    "ExecuteTime": {
     "end_time": "2019-08-22T12:39:22.964460Z",
     "start_time": "2019-08-22T12:39:14.803501Z"
    }
   },
   "outputs": [
    {
     "name": "stdout",
     "output_type": "stream",
     "text": [
      "(4000000, 146) (1000000, 146)\n"
     ]
    }
   ],
   "source": [
    "train_set = train_set.merge(train_app_usage_stat_df,on='uId',how='left')\n",
    "test_set = test_set.merge(test_app_usage_stat_df,on='uId',how='left')\n",
    "print(train_set.shape,test_set.shape)"
   ]
  },
  {
   "cell_type": "code",
   "execution_count": 23,
   "metadata": {},
   "outputs": [
    {
     "name": "stdout",
     "output_type": "stream",
     "text": [
      "(4000000, 274) (1000000, 274)\n"
     ]
    }
   ],
   "source": [
    "# train_set = train_set.merge(lbl_emb,on='uId',how='left')\n",
    "# train_set.fillna(0,inplace=True)\n",
    "# test_set = test_set.merge(lbl_emb,on='uId',how='left')\n",
    "# test_set.fillna(0,inplace=True)\n",
    "# print(train_set.shape,test_set.shape)"
   ]
  },
  {
   "cell_type": "code",
   "execution_count": 64,
   "metadata": {},
   "outputs": [
    {
     "data": {
      "text/plain": [
       "(4000000, 500)"
      ]
     },
     "execution_count": 64,
     "metadata": {},
     "output_type": "execute_result"
    }
   ],
   "source": [
    "# train_app_usage_tfidf_input_csr = pd.read_hdf('../huawei/temp_data/train_app_usage_tfidf_input_csr.h5')\n",
    "# train_app_usage_tfidf_input_csr.shape"
   ]
  },
  {
   "cell_type": "code",
   "execution_count": 65,
   "metadata": {},
   "outputs": [
    {
     "data": {
      "text/plain": [
       "(1000000, 500)"
      ]
     },
     "execution_count": 65,
     "metadata": {},
     "output_type": "execute_result"
    }
   ],
   "source": [
    "# test_app_usage_tfidf_input_csr = pd.read_hdf('../huawei/temp_data/test_app_usage_tfidf_input_csr.h5')\n",
    "# test_app_usage_tfidf_input_csr.shape"
   ]
  },
  {
   "cell_type": "code",
   "execution_count": 23,
   "metadata": {},
   "outputs": [
    {
     "data": {
      "text/plain": [
       "(4000000, 500)"
      ]
     },
     "execution_count": 23,
     "metadata": {},
     "output_type": "execute_result"
    }
   ],
   "source": [
    "# train_app_actived_tfidf_input_csr = pd.read_hdf('../huawei/temp_data/train_app_actived_tfidf_input_csr.h5')\n",
    "# train_app_actived_tfidf_input_csr.shape"
   ]
  },
  {
   "cell_type": "code",
   "execution_count": 24,
   "metadata": {},
   "outputs": [
    {
     "data": {
      "text/plain": [
       "(1000000, 500)"
      ]
     },
     "execution_count": 24,
     "metadata": {},
     "output_type": "execute_result"
    }
   ],
   "source": [
    "# test_app_actived_tfidf_input_csr = pd.read_hdf('../huawei/temp_data/test_app_actived_tfidf_input_csr.h5')\n",
    "# test_app_actived_tfidf_input_csr.shape"
   ]
  },
  {
   "cell_type": "code",
   "execution_count": null,
   "metadata": {},
   "outputs": [],
   "source": [
    "### app使用的分类情况及转化率"
   ]
  },
  {
   "cell_type": "code",
   "execution_count": 22,
   "metadata": {
    "ExecuteTime": {
     "end_time": "2019-08-22T12:39:30.755931Z",
     "start_time": "2019-08-22T12:39:26.952400Z"
    }
   },
   "outputs": [
    {
     "name": "stdout",
     "output_type": "stream",
     "text": [
      "(4000000, 66) (1000000, 66)\n"
     ]
    }
   ],
   "source": [
    "train_app_trans_rate_with_usage = pd.read_hdf(base_dir+'train_app_trans_rate_with_usage.h5')\n",
    "test_app_trans_rate_with_usage = pd.read_hdf(base_dir+'test_app_trans_rate_with_usage.h5')\n",
    "print(train_app_trans_rate_with_usage.shape,test_app_trans_rate_with_usage.shape)"
   ]
  },
  {
   "cell_type": "code",
   "execution_count": null,
   "metadata": {},
   "outputs": [],
   "source": [
    "### app激活和使用的分类比例"
   ]
  },
  {
   "cell_type": "code",
   "execution_count": 23,
   "metadata": {
    "ExecuteTime": {
     "end_time": "2019-08-22T12:39:40.337244Z",
     "start_time": "2019-08-22T12:39:39.279364Z"
    }
   },
   "outputs": [
    {
     "name": "stdout",
     "output_type": "stream",
     "text": [
      "(4000000, 32) (1000000, 32)\n"
     ]
    }
   ],
   "source": [
    "train_app_actived_rate = pd.read_hdf(base_dir+'train_app_actived_rate.h5')\n",
    "test_app_actived_rate = pd.read_hdf(base_dir+'test_app_actived_rate.h5')\n",
    "print(train_app_actived_rate.shape,test_app_actived_rate.shape)"
   ]
  },
  {
   "cell_type": "code",
   "execution_count": 24,
   "metadata": {
    "ExecuteTime": {
     "end_time": "2019-08-22T12:39:52.134942Z",
     "start_time": "2019-08-22T12:39:50.574999Z"
    }
   },
   "outputs": [
    {
     "name": "stdout",
     "output_type": "stream",
     "text": [
      "(4000000, 32) (1000000, 32)\n"
     ]
    }
   ],
   "source": [
    "train_app_usage_rate = pd.read_hdf(base_dir+'train_app_usage_rate.h5')\n",
    "test_app_usage_rate = pd.read_hdf(base_dir+'test_app_usage_rate.h5')\n",
    "print(train_app_usage_rate.shape,test_app_usage_rate.shape)"
   ]
  },
  {
   "cell_type": "code",
   "execution_count": 25,
   "metadata": {
    "ExecuteTime": {
     "end_time": "2019-08-22T12:40:03.202993Z",
     "start_time": "2019-08-22T12:39:55.790662Z"
    }
   },
   "outputs": [
    {
     "name": "stdout",
     "output_type": "stream",
     "text": [
      "(4000000, 145)\n",
      "(1000000, 145)\n"
     ]
    }
   ],
   "source": [
    "trainID = train_set['uId']\n",
    "testID = test_set['uId']\n",
    "train_set.drop('uId', axis=1, inplace=True)\n",
    "test_set.drop('uId', axis=1, inplace=True)\n",
    "print(train_set.shape)\n",
    "print(test_set.shape)"
   ]
  },
  {
   "cell_type": "code",
   "execution_count": 26,
   "metadata": {
    "ExecuteTime": {
     "end_time": "2019-08-22T12:40:37.371542Z",
     "start_time": "2019-08-22T12:40:12.536930Z"
    }
   },
   "outputs": [
    {
     "name": "stdout",
     "output_type": "stream",
     "text": [
      "(4000000, 145) (1000000, 145)\n"
     ]
    }
   ],
   "source": [
    "# 对数值类型进行归一化\n",
    "scaler = StandardScaler().fit(train_set)\n",
    "train_set = scaler.transform(train_set)  \n",
    "test_set = scaler.transform(test_set)\n",
    "print(train_set.shape,test_set.shape)"
   ]
  },
  {
   "cell_type": "code",
   "execution_count": 27,
   "metadata": {
    "ExecuteTime": {
     "end_time": "2019-08-22T12:40:38.071464Z",
     "start_time": "2019-08-22T12:40:37.377115Z"
    }
   },
   "outputs": [
    {
     "name": "stdout",
     "output_type": "stream",
     "text": [
      "(5000000, 7)\n"
     ]
    }
   ],
   "source": [
    "nTrain = num_train.shape[0]\n",
    "nTest = num_test.shape[0]\n",
    "all_data = pd.concat([num_train, num_test]).reset_index(drop=True)\n",
    "print(all_data.shape)"
   ]
  },
  {
   "cell_type": "code",
   "execution_count": 28,
   "metadata": {
    "ExecuteTime": {
     "end_time": "2019-08-22T12:40:52.948606Z",
     "start_time": "2019-08-22T12:40:38.074190Z"
    }
   },
   "outputs": [
    {
     "name": "stdout",
     "output_type": "stream",
     "text": [
      "Shape all_data: (5000000, 7)\n"
     ]
    }
   ],
   "source": [
    "cols = ['city','prodName','color','gender_color']\n",
    "for c in cols:\n",
    "    lbl = LabelEncoder()   \n",
    "    lbl.fit(list(all_data[c].values)) \n",
    "    all_data[c] = lbl.transform(list(all_data[c].values))     \n",
    "print('Shape all_data: {}'.format(all_data.shape))"
   ]
  },
  {
   "cell_type": "code",
   "execution_count": 29,
   "metadata": {
    "ExecuteTime": {
     "end_time": "2019-08-22T12:40:53.113908Z",
     "start_time": "2019-08-22T12:40:52.953605Z"
    }
   },
   "outputs": [
    {
     "name": "stdout",
     "output_type": "stream",
     "text": [
      "0\n",
      "342\n",
      "0\n",
      "113\n",
      "0\n",
      "116\n",
      "0\n",
      "233\n"
     ]
    }
   ],
   "source": [
    "print(all_data['city'].min())\n",
    "print(all_data['city'].max())\n",
    "print(all_data['prodName'].min())\n",
    "print(all_data['prodName'].max())\n",
    "print(all_data['color'].min())\n",
    "print(all_data['color'].max())\n",
    "print(all_data['gender_color'].min())\n",
    "print(all_data['gender_color'].max())"
   ]
  },
  {
   "cell_type": "code",
   "execution_count": 30,
   "metadata": {},
   "outputs": [
    {
     "name": "stdout",
     "output_type": "stream",
     "text": [
      "0\n"
     ]
    }
   ],
   "source": [
    "print(0)"
   ]
  },
  {
   "cell_type": "code",
   "execution_count": 30,
   "metadata": {
    "ExecuteTime": {
     "end_time": "2019-08-22T12:40:54.183800Z",
     "start_time": "2019-08-22T12:40:53.117455Z"
    }
   },
   "outputs": [
    {
     "name": "stdout",
     "output_type": "stream",
     "text": [
      "(5000000, 15)\n"
     ]
    }
   ],
   "source": [
    "# 对gender、ct、carrier做one-hot处理\n",
    "all_data = pd.get_dummies(all_data)\n",
    "print(all_data.shape)"
   ]
  },
  {
   "cell_type": "code",
   "execution_count": 31,
   "metadata": {
    "ExecuteTime": {
     "end_time": "2019-08-22T12:40:54.372876Z",
     "start_time": "2019-08-22T12:40:54.187048Z"
    }
   },
   "outputs": [
    {
     "name": "stdout",
     "output_type": "stream",
     "text": [
      "(4000000, 15)\n",
      "(1000000, 15)\n"
     ]
    }
   ],
   "source": [
    "num_train = all_data[:nTrain]\n",
    "num_test = all_data[nTrain:]\n",
    "print(num_train.shape)\n",
    "print(num_test.shape)"
   ]
  },
  {
   "cell_type": "code",
   "execution_count": 32,
   "metadata": {
    "ExecuteTime": {
     "end_time": "2019-08-22T12:40:54.381779Z",
     "start_time": "2019-08-22T12:40:54.376441Z"
    }
   },
   "outputs": [
    {
     "name": "stdout",
     "output_type": "stream",
     "text": [
      "(4000000, 145)\n",
      "(1000000, 145)\n"
     ]
    }
   ],
   "source": [
    "print(train_set.shape)\n",
    "print(test_set.shape)"
   ]
  },
  {
   "cell_type": "code",
   "execution_count": 33,
   "metadata": {
    "ExecuteTime": {
     "end_time": "2019-08-22T12:40:54.511234Z",
     "start_time": "2019-08-22T12:40:54.385071Z"
    }
   },
   "outputs": [
    {
     "name": "stdout",
     "output_type": "stream",
     "text": [
      "(4000000, 1) (1000000, 1)\n"
     ]
    }
   ],
   "source": [
    "train_id = pd.DataFrame(trainID)\n",
    "test_id = pd.DataFrame(testID)\n",
    "print(train_id.shape,test_id.shape)"
   ]
  },
  {
   "cell_type": "code",
   "execution_count": 35,
   "metadata": {
    "ExecuteTime": {
     "end_time": "2019-08-22T12:40:54.571295Z",
     "start_time": "2019-08-22T12:40:54.514924Z"
    }
   },
   "outputs": [],
   "source": [
    "from keras.layers import *\n",
    "from keras.models import *\n",
    "from keras.optimizers import *"
   ]
  },
  {
   "cell_type": "code",
   "execution_count": 58,
   "metadata": {
    "ExecuteTime": {
     "end_time": "2019-08-20T12:05:14.196437Z",
     "start_time": "2019-08-20T12:05:14.160844Z"
    },
    "jupyter": {
     "source_hidden": true
    }
   },
   "outputs": [],
   "source": [
    "class AdamW(Optimizer):\n",
    "    def __init__(self, lr=0.001, beta_1=0.9, beta_2=0.999, weight_decay=1e-4,  # decoupled weight decay (1/4)\n",
    "                 epsilon=1e-8, decay=0., **kwargs):\n",
    "        super(AdamW, self).__init__(**kwargs)\n",
    "        with K.name_scope(self.__class__.__name__):\n",
    "            self.iterations = K.variable(0, dtype='int64', name='iterations')\n",
    "            self.lr = K.variable(lr, name='lr')\n",
    "            self.beta_1 = K.variable(beta_1, name='beta_1')\n",
    "            self.beta_2 = K.variable(beta_2, name='beta_2')\n",
    "            self.decay = K.variable(decay, name='decay')\n",
    "            # decoupled weight decay (2/4)\n",
    "            self.wd = K.variable(weight_decay, name='weight_decay')\n",
    "        self.epsilon = epsilon\n",
    "        self.initial_decay = decay\n",
    "\n",
    "    @interfaces.legacy_get_updates_support\n",
    "    def get_updates(self, loss, params):\n",
    "        grads = self.get_gradients(loss, params)\n",
    "        self.updates = [K.update_add(self.iterations, 1)]\n",
    "        wd = self.wd  # decoupled weight decay (3/4)\n",
    "\n",
    "        lr = self.lr\n",
    "        if self.initial_decay > 0:\n",
    "            lr *= (1. / (1. + self.decay * K.cast(self.iterations,\n",
    "                                                  K.dtype(self.decay))))\n",
    "\n",
    "        t = K.cast(self.iterations, K.floatx()) + 1\n",
    "        lr_t = lr * (K.sqrt(1. - K.pow(self.beta_2, t)) /\n",
    "                     (1. - K.pow(self.beta_1, t)))\n",
    "\n",
    "        ms = [K.zeros(K.int_shape(p), dtype=K.dtype(p)) for p in params]\n",
    "        vs = [K.zeros(K.int_shape(p), dtype=K.dtype(p)) for p in params]\n",
    "        self.weights = [self.iterations] + ms + vs\n",
    "\n",
    "        for p, g, m, v in zip(params, grads, ms, vs):\n",
    "            m_t = (self.beta_1 * m) + (1. - self.beta_1) * g\n",
    "            v_t = (self.beta_2 * v) + (1. - self.beta_2) * K.square(g)\n",
    "            # decoupled weight decay (4/4)\n",
    "            p_t = p - lr_t * m_t / (K.sqrt(v_t) + self.epsilon) - lr * wd * p\n",
    "\n",
    "            self.updates.append(K.update(m, m_t))\n",
    "            self.updates.append(K.update(v, v_t))\n",
    "            new_p = p_t\n",
    "\n",
    "            # Apply constraints.\n",
    "            if getattr(p, 'constraint', None) is not None:\n",
    "                new_p = p.constraint(new_p)\n",
    "\n",
    "            self.updates.append(K.update(p, new_p))\n",
    "        return self.updates\n",
    "\n",
    "    def get_config(self):\n",
    "        config = {'lr': float(K.get_value(self.lr)),\n",
    "                  'beta_1': float(K.get_value(self.beta_1)),\n",
    "                  'beta_2': float(K.get_value(self.beta_2)),\n",
    "                  'decay': float(K.get_value(self.decay)),\n",
    "                  'weight_decay': float(K.get_value(self.wd)),\n",
    "                  'epsilon': self.epsilon}\n",
    "        base_config = super(AdamW, self).get_config()\n",
    "        return dict(list(base_config.items()) + list(config.items()))"
   ]
  },
  {
   "cell_type": "code",
   "execution_count": 34,
   "metadata": {
    "ExecuteTime": {
     "end_time": "2019-08-22T12:41:04.757775Z",
     "start_time": "2019-08-22T12:41:04.751276Z"
    }
   },
   "outputs": [],
   "source": [
    "callbacks_list = [\n",
    "    EarlyStopping(\n",
    "        monitor='val_acc',\n",
    "        patience=30\n",
    "    ),\n",
    "    ModelCheckpoint(\n",
    "        filepath='model.h5', \n",
    "        monitor='val_acc', \n",
    "        save_best_only=True\n",
    "    )\n",
    "]"
   ]
  },
  {
   "cell_type": "code",
   "execution_count": null,
   "metadata": {},
   "outputs": [],
   "source": [
    "### 残差网络"
   ]
  },
  {
   "cell_type": "code",
   "execution_count": 34,
   "metadata": {
    "ExecuteTime": {
     "end_time": "2019-08-22T13:00:04.156591Z",
     "start_time": "2019-08-22T13:00:04.096170Z"
    }
   },
   "outputs": [],
   "source": [
    "def build_res_net():\n",
    "    inputs = []\n",
    "    city_embedding_size = 20\n",
    "    prodName_embedding_size = 15\n",
    "    color_embedding_size = 10\n",
    "    gender_color_embedding_size = 15\n",
    "    app_actived_size = 32\n",
    "    app_usage_size = 32\n",
    "    \n",
    "    city_input = Input(shape=(1,))\n",
    "    city_embedded = Embedding(343, city_embedding_size, input_length=1)(city_input)\n",
    "    inputs.append(city_input)\n",
    "    \n",
    "    prodName_input = Input(shape=(1,))\n",
    "    prodName_embedded = Embedding(114, prodName_embedding_size, input_length=1)(prodName_input)\n",
    "    inputs.append(prodName_input)\n",
    "    \n",
    "    color_input = Input(shape=(1,))\n",
    "    color_embedded = Embedding(117, color_embedding_size, input_length=1)(color_input)\n",
    "    inputs.append(color_input)\n",
    "    \n",
    "    gender_color_input = Input(shape=(1,))\n",
    "    gender_color_embedded = Embedding(234, gender_color_embedding_size, input_length=1)(gender_color_input)\n",
    "    inputs.append(gender_color_input)\n",
    "    \n",
    "    input_numeric = Input(shape=(286,))\n",
    "    inputs.append(input_numeric)\n",
    "    \n",
    "    app_actived_input = Input(shape=(150,))\n",
    "    app_actived_embedded = Embedding(10010,app_actived_size,input_length=150)(app_actived_input)\n",
    "    t1 = TimeDistributed(Dense(128, activation='relu'))(app_actived_embedded)\n",
    "    t1 = TimeDistributed(Dropout(0.15))(t1)\n",
    "    app_actived_embedded = Lambda(lambda x:K.sum(x,axis=1))(app_actived_embedded)\n",
    "    inputs.append(app_actived_input)\n",
    "    \n",
    "    app_usage_input = Input(shape=(200,))\n",
    "    app_usage_embedded = Embedding(10010,app_usage_size,input_length=200)(app_usage_input)\n",
    "    t2 = TimeDistributed(Dense(128, activation='relu'))(app_usage_embedded)\n",
    "    t2 = TimeDistributed(Dropout(0.15))(t2)\n",
    "    app_usage_embedded = Lambda(lambda x:K.sum(x,axis=1))(app_usage_embedded)\n",
    "    inputs.append(app_usage_input)\n",
    "    \n",
    "    fasttext_app_actived_input = Input(shape=(128,))\n",
    "    inputs.append(fasttext_app_actived_input)\n",
    "    \n",
    "    fasttext_app_usage_input = Input(shape=(128,))\n",
    "    inputs.append(fasttext_app_usage_input)\n",
    "\n",
    "    gru_input = Input(shape=(7,200))\n",
    "    gru = Bidirectional(GRU(128,dropout=0.2,recurrent_dropout=0.2,return_sequences=True))(gru_input)\n",
    "    inputs.append(gru_input)\n",
    "    \n",
    "    # 1D convolutions that can iterate over the word vectors\n",
    "    conv1 = Conv1D(filters=64, kernel_size=1,\n",
    "                   padding='same', activation='relu',)\n",
    "#     conv2 = Conv1D(filters=64, kernel_size=2,\n",
    "#                    padding='same', activation='relu', )\n",
    "#     conv3 = Conv1D(filters=64, kernel_size=3,\n",
    "#                    padding='same', activation='relu',)\n",
    "    conv5 = Conv1D(filters=32, kernel_size=5,\n",
    "                   padding='same', activation='relu',)\n",
    "    \n",
    "    conv1a = conv1(gru)\n",
    "    gap1a = GlobalAveragePooling1D()(conv1a)\n",
    "    gmp1a = GlobalMaxPooling1D()(conv1a)\n",
    "\n",
    "#     conv2a = conv2(gru)\n",
    "#     gap2a = GlobalAveragePooling1D()(conv2a)\n",
    "#     gmp2a = GlobalMaxPooling1D()(conv2a)\n",
    "\n",
    "#     conv3a = conv3(gru)\n",
    "#     gap3a = GlobalAveragePooling1D()(conv3a)\n",
    "#     gmp3a = GlobalMaxPooling1D()(conv3a)\n",
    "\n",
    "    conv5a = conv5(gru)\n",
    "    gap5a = GlobalAveragePooling1D()(conv5a)\n",
    "    gmp5a = GlobalMaxPooling1D()(conv5a)\n",
    "    \n",
    "    con = Concatenate()([city_embedded, prodName_embedded, color_embedded,gender_color_embedded])\n",
    "    flatten = Flatten()(con)\n",
    "    x = Concatenate()([flatten,input_numeric,app_actived_embedded,app_usage_embedded,fasttext_app_actived_input,\n",
    "                       fasttext_app_usage_input,gap1a,gmp1a,gap5a,gmp5a])\n",
    "    \n",
    "    x = Dense(1024)(x)\n",
    "    y = BatchNormalization()(x)\n",
    "    y = PReLU()(y)\n",
    "    y = Dropout(0.3)(y)\n",
    "    y = Dense(1024)(y)\n",
    "    y = BatchNormalization()(y)\n",
    "    y = PReLU()(y)\n",
    "    y = Dropout(0.2)(y)\n",
    "    residual = x\n",
    "    y = Add()([y, residual])\n",
    "    \n",
    "    x = Dense(1024)(y)\n",
    "    residual = y\n",
    "    y = BatchNormalization()(x)\n",
    "    y = PReLU()(y)\n",
    "    y = Dropout(0.2)(y)\n",
    "    y = Dense(1024)(y)\n",
    "    y = BatchNormalization()(y)\n",
    "    y = PReLU()(y)\n",
    "    y = Dropout(0.2)(y)\n",
    "    y = Add()([y, residual])\n",
    "    \n",
    "    x = Dense(1024)(y)\n",
    "    residual = y\n",
    "    y = BatchNormalization()(x)\n",
    "    y = PReLU()(y)\n",
    "    y = Dropout(0.2)(y)\n",
    "    y = Dense(1024)(y)\n",
    "    y = BatchNormalization()(y)\n",
    "    y = PReLU()(y)\n",
    "    y = Dropout(0.2)(y)\n",
    "    y = Add()([y, residual])\n",
    "    \n",
    "    x = Dense(1024)(y)\n",
    "    residual = y\n",
    "    y = BatchNormalization()(x)\n",
    "    y = PReLU()(y)\n",
    "    y = Dropout(0.2)(y)\n",
    "    y = Dense(1024)(y)\n",
    "    y = BatchNormalization()(y)\n",
    "    y = PReLU()(y)\n",
    "    y = Dropout(0.2)(y)\n",
    "    y = Add()([y, residual])\n",
    "    \n",
    "    x = Dense(1024)(y)\n",
    "    residual = y\n",
    "    y = BatchNormalization()(x)\n",
    "    y = PReLU()(y)\n",
    "    y = Dropout(0.2)(y)\n",
    "    y = Dense(1024)(y)\n",
    "    y = BatchNormalization()(y)\n",
    "    y = PReLU()(y)\n",
    "    y = Dropout(0.2)(y)\n",
    "    y = Add()([y, residual])\n",
    "    \n",
    "    x = Dense(256)(y)\n",
    "    y = BatchNormalization()(x)\n",
    "    y = PReLU()(y)\n",
    "    y = Dropout(0.2)(y)\n",
    "    y = Dense(256)(y)\n",
    "    y = BatchNormalization()(y)\n",
    "    y = PReLU()(y)\n",
    "    y = Dropout(0.2)(y)\n",
    "    residual = x\n",
    "    y = Add()([y, residual])\n",
    "    \n",
    "    output = Dense(6)(y)\n",
    "    output = Activation('softmax',name='cate_out')(output)\n",
    "    model = Model(inputs, output)\n",
    "    model.compile(loss='categorical_crossentropy', optimizer=optimizers.Adam(lr=0.0001),metrics=['accuracy'])\n",
    "    return model"
   ]
  },
  {
   "cell_type": "code",
   "execution_count": 35,
   "metadata": {
    "ExecuteTime": {
     "end_time": "2019-08-22T13:00:08.118177Z",
     "start_time": "2019-08-22T13:00:05.760465Z"
    },
    "scrolled": true
   },
   "outputs": [
    {
     "name": "stdout",
     "output_type": "stream",
     "text": [
      "__________________________________________________________________________________________________\n",
      "Layer (type)                    Output Shape         Param #     Connected to                     \n",
      "==================================================================================================\n",
      "input_1 (InputLayer)            (None, 1)            0                                            \n",
      "__________________________________________________________________________________________________\n",
      "input_2 (InputLayer)            (None, 1)            0                                            \n",
      "__________________________________________________________________________________________________\n",
      "input_3 (InputLayer)            (None, 1)            0                                            \n",
      "__________________________________________________________________________________________________\n",
      "input_4 (InputLayer)            (None, 1)            0                                            \n",
      "__________________________________________________________________________________________________\n",
      "input_10 (InputLayer)           (None, 7, 200)       0                                            \n",
      "__________________________________________________________________________________________________\n",
      "embedding_1 (Embedding)         (None, 1, 20)        6860        input_1[0][0]                    \n",
      "__________________________________________________________________________________________________\n",
      "embedding_2 (Embedding)         (None, 1, 15)        1710        input_2[0][0]                    \n",
      "__________________________________________________________________________________________________\n",
      "embedding_3 (Embedding)         (None, 1, 10)        1170        input_3[0][0]                    \n",
      "__________________________________________________________________________________________________\n",
      "embedding_4 (Embedding)         (None, 1, 15)        3510        input_4[0][0]                    \n",
      "__________________________________________________________________________________________________\n",
      "input_6 (InputLayer)            (None, 150)          0                                            \n",
      "__________________________________________________________________________________________________\n",
      "input_7 (InputLayer)            (None, 200)          0                                            \n",
      "__________________________________________________________________________________________________\n",
      "bidirectional_1 (Bidirectional) (None, 7, 256)       252672      input_10[0][0]                   \n",
      "__________________________________________________________________________________________________\n",
      "concatenate_1 (Concatenate)     (None, 1, 60)        0           embedding_1[0][0]                \n",
      "                                                                 embedding_2[0][0]                \n",
      "                                                                 embedding_3[0][0]                \n",
      "                                                                 embedding_4[0][0]                \n",
      "__________________________________________________________________________________________________\n",
      "embedding_5 (Embedding)         (None, 150, 32)      320320      input_6[0][0]                    \n",
      "__________________________________________________________________________________________________\n",
      "embedding_6 (Embedding)         (None, 200, 32)      320320      input_7[0][0]                    \n",
      "__________________________________________________________________________________________________\n",
      "conv1d_1 (Conv1D)               (None, 7, 64)        16448       bidirectional_1[0][0]            \n",
      "__________________________________________________________________________________________________\n",
      "conv1d_2 (Conv1D)               (None, 7, 32)        40992       bidirectional_1[0][0]            \n",
      "__________________________________________________________________________________________________\n",
      "flatten_1 (Flatten)             (None, 60)           0           concatenate_1[0][0]              \n",
      "__________________________________________________________________________________________________\n",
      "input_5 (InputLayer)            (None, 286)          0                                            \n",
      "__________________________________________________________________________________________________\n",
      "lambda_1 (Lambda)               (None, 32)           0           embedding_5[0][0]                \n",
      "__________________________________________________________________________________________________\n",
      "lambda_2 (Lambda)               (None, 32)           0           embedding_6[0][0]                \n",
      "__________________________________________________________________________________________________\n",
      "input_8 (InputLayer)            (None, 128)          0                                            \n",
      "__________________________________________________________________________________________________\n",
      "input_9 (InputLayer)            (None, 128)          0                                            \n",
      "__________________________________________________________________________________________________\n",
      "global_average_pooling1d_1 (Glo (None, 64)           0           conv1d_1[0][0]                   \n",
      "__________________________________________________________________________________________________\n",
      "global_max_pooling1d_1 (GlobalM (None, 64)           0           conv1d_1[0][0]                   \n",
      "__________________________________________________________________________________________________\n",
      "global_average_pooling1d_2 (Glo (None, 32)           0           conv1d_2[0][0]                   \n",
      "__________________________________________________________________________________________________\n",
      "global_max_pooling1d_2 (GlobalM (None, 32)           0           conv1d_2[0][0]                   \n",
      "__________________________________________________________________________________________________\n",
      "concatenate_2 (Concatenate)     (None, 858)          0           flatten_1[0][0]                  \n",
      "                                                                 input_5[0][0]                    \n",
      "                                                                 lambda_1[0][0]                   \n",
      "                                                                 lambda_2[0][0]                   \n",
      "                                                                 input_8[0][0]                    \n",
      "                                                                 input_9[0][0]                    \n",
      "                                                                 global_average_pooling1d_1[0][0] \n",
      "                                                                 global_max_pooling1d_1[0][0]     \n",
      "                                                                 global_average_pooling1d_2[0][0] \n",
      "                                                                 global_max_pooling1d_2[0][0]     \n",
      "__________________________________________________________________________________________________\n",
      "dense_3 (Dense)                 (None, 1024)         879616      concatenate_2[0][0]              \n",
      "__________________________________________________________________________________________________\n",
      "batch_normalization_1 (BatchNor (None, 1024)         4096        dense_3[0][0]                    \n",
      "__________________________________________________________________________________________________\n",
      "p_re_lu_1 (PReLU)               (None, 1024)         1024        batch_normalization_1[0][0]      \n",
      "__________________________________________________________________________________________________\n",
      "dropout_3 (Dropout)             (None, 1024)         0           p_re_lu_1[0][0]                  \n",
      "__________________________________________________________________________________________________\n",
      "dense_4 (Dense)                 (None, 1024)         1049600     dropout_3[0][0]                  \n",
      "__________________________________________________________________________________________________\n",
      "batch_normalization_2 (BatchNor (None, 1024)         4096        dense_4[0][0]                    \n",
      "__________________________________________________________________________________________________\n",
      "p_re_lu_2 (PReLU)               (None, 1024)         1024        batch_normalization_2[0][0]      \n",
      "__________________________________________________________________________________________________\n",
      "dropout_4 (Dropout)             (None, 1024)         0           p_re_lu_2[0][0]                  \n",
      "__________________________________________________________________________________________________\n",
      "add_1 (Add)                     (None, 1024)         0           dropout_4[0][0]                  \n",
      "                                                                 dense_3[0][0]                    \n",
      "__________________________________________________________________________________________________\n",
      "dense_5 (Dense)                 (None, 1024)         1049600     add_1[0][0]                      \n",
      "__________________________________________________________________________________________________\n",
      "batch_normalization_3 (BatchNor (None, 1024)         4096        dense_5[0][0]                    \n",
      "__________________________________________________________________________________________________\n",
      "p_re_lu_3 (PReLU)               (None, 1024)         1024        batch_normalization_3[0][0]      \n",
      "__________________________________________________________________________________________________\n",
      "dropout_5 (Dropout)             (None, 1024)         0           p_re_lu_3[0][0]                  \n",
      "__________________________________________________________________________________________________\n",
      "dense_6 (Dense)                 (None, 1024)         1049600     dropout_5[0][0]                  \n",
      "__________________________________________________________________________________________________\n",
      "batch_normalization_4 (BatchNor (None, 1024)         4096        dense_6[0][0]                    \n",
      "__________________________________________________________________________________________________\n",
      "p_re_lu_4 (PReLU)               (None, 1024)         1024        batch_normalization_4[0][0]      \n",
      "__________________________________________________________________________________________________\n",
      "dropout_6 (Dropout)             (None, 1024)         0           p_re_lu_4[0][0]                  \n",
      "__________________________________________________________________________________________________\n",
      "add_2 (Add)                     (None, 1024)         0           dropout_6[0][0]                  \n",
      "                                                                 add_1[0][0]                      \n",
      "__________________________________________________________________________________________________\n",
      "dense_7 (Dense)                 (None, 1024)         1049600     add_2[0][0]                      \n",
      "__________________________________________________________________________________________________\n",
      "batch_normalization_5 (BatchNor (None, 1024)         4096        dense_7[0][0]                    \n",
      "__________________________________________________________________________________________________\n",
      "p_re_lu_5 (PReLU)               (None, 1024)         1024        batch_normalization_5[0][0]      \n",
      "__________________________________________________________________________________________________\n",
      "dropout_7 (Dropout)             (None, 1024)         0           p_re_lu_5[0][0]                  \n",
      "__________________________________________________________________________________________________\n",
      "dense_8 (Dense)                 (None, 1024)         1049600     dropout_7[0][0]                  \n",
      "__________________________________________________________________________________________________\n",
      "batch_normalization_6 (BatchNor (None, 1024)         4096        dense_8[0][0]                    \n",
      "__________________________________________________________________________________________________\n",
      "p_re_lu_6 (PReLU)               (None, 1024)         1024        batch_normalization_6[0][0]      \n",
      "__________________________________________________________________________________________________\n",
      "dropout_8 (Dropout)             (None, 1024)         0           p_re_lu_6[0][0]                  \n",
      "__________________________________________________________________________________________________\n",
      "add_3 (Add)                     (None, 1024)         0           dropout_8[0][0]                  \n",
      "                                                                 add_2[0][0]                      \n",
      "__________________________________________________________________________________________________\n",
      "dense_9 (Dense)                 (None, 1024)         1049600     add_3[0][0]                      \n",
      "__________________________________________________________________________________________________\n",
      "batch_normalization_7 (BatchNor (None, 1024)         4096        dense_9[0][0]                    \n",
      "__________________________________________________________________________________________________\n",
      "p_re_lu_7 (PReLU)               (None, 1024)         1024        batch_normalization_7[0][0]      \n",
      "__________________________________________________________________________________________________\n",
      "dropout_9 (Dropout)             (None, 1024)         0           p_re_lu_7[0][0]                  \n",
      "__________________________________________________________________________________________________\n",
      "dense_10 (Dense)                (None, 1024)         1049600     dropout_9[0][0]                  \n",
      "__________________________________________________________________________________________________\n",
      "batch_normalization_8 (BatchNor (None, 1024)         4096        dense_10[0][0]                   \n",
      "__________________________________________________________________________________________________\n",
      "p_re_lu_8 (PReLU)               (None, 1024)         1024        batch_normalization_8[0][0]      \n",
      "__________________________________________________________________________________________________\n",
      "dropout_10 (Dropout)            (None, 1024)         0           p_re_lu_8[0][0]                  \n",
      "__________________________________________________________________________________________________\n",
      "add_4 (Add)                     (None, 1024)         0           dropout_10[0][0]                 \n",
      "                                                                 add_3[0][0]                      \n",
      "__________________________________________________________________________________________________\n",
      "dense_11 (Dense)                (None, 1024)         1049600     add_4[0][0]                      \n",
      "__________________________________________________________________________________________________\n",
      "batch_normalization_9 (BatchNor (None, 1024)         4096        dense_11[0][0]                   \n",
      "__________________________________________________________________________________________________\n",
      "p_re_lu_9 (PReLU)               (None, 1024)         1024        batch_normalization_9[0][0]      \n",
      "__________________________________________________________________________________________________\n",
      "dropout_11 (Dropout)            (None, 1024)         0           p_re_lu_9[0][0]                  \n",
      "__________________________________________________________________________________________________\n",
      "dense_12 (Dense)                (None, 1024)         1049600     dropout_11[0][0]                 \n",
      "__________________________________________________________________________________________________\n",
      "batch_normalization_10 (BatchNo (None, 1024)         4096        dense_12[0][0]                   \n",
      "__________________________________________________________________________________________________\n",
      "p_re_lu_10 (PReLU)              (None, 1024)         1024        batch_normalization_10[0][0]     \n",
      "__________________________________________________________________________________________________\n",
      "dropout_12 (Dropout)            (None, 1024)         0           p_re_lu_10[0][0]                 \n",
      "__________________________________________________________________________________________________\n",
      "add_5 (Add)                     (None, 1024)         0           dropout_12[0][0]                 \n",
      "                                                                 add_4[0][0]                      \n",
      "__________________________________________________________________________________________________\n",
      "dense_13 (Dense)                (None, 256)          262400      add_5[0][0]                      \n",
      "__________________________________________________________________________________________________\n",
      "batch_normalization_11 (BatchNo (None, 256)          1024        dense_13[0][0]                   \n",
      "__________________________________________________________________________________________________\n",
      "p_re_lu_11 (PReLU)              (None, 256)          256         batch_normalization_11[0][0]     \n",
      "__________________________________________________________________________________________________\n",
      "dropout_13 (Dropout)            (None, 256)          0           p_re_lu_11[0][0]                 \n",
      "__________________________________________________________________________________________________\n",
      "dense_14 (Dense)                (None, 256)          65792       dropout_13[0][0]                 \n",
      "__________________________________________________________________________________________________\n",
      "batch_normalization_12 (BatchNo (None, 256)          1024        dense_14[0][0]                   \n",
      "__________________________________________________________________________________________________\n",
      "p_re_lu_12 (PReLU)              (None, 256)          256         batch_normalization_12[0][0]     \n",
      "__________________________________________________________________________________________________\n",
      "dropout_14 (Dropout)            (None, 256)          0           p_re_lu_12[0][0]                 \n",
      "__________________________________________________________________________________________________\n",
      "add_6 (Add)                     (None, 256)          0           dropout_14[0][0]                 \n",
      "                                                                 dense_13[0][0]                   \n",
      "__________________________________________________________________________________________________\n",
      "dense_15 (Dense)                (None, 6)            1542        add_6[0][0]                      \n",
      "__________________________________________________________________________________________________\n",
      "cate_out (Activation)           (None, 6)            0           dense_15[0][0]                   \n",
      "==================================================================================================\n",
      "Total params: 11,673,512\n",
      "Trainable params: 11,652,008\n",
      "Non-trainable params: 21,504\n",
      "__________________________________________________________________________________________________\n"
     ]
    }
   ],
   "source": [
    "model = build_res_net()\n",
    "model.summary()"
   ]
  },
  {
   "cell_type": "code",
   "execution_count": null,
   "metadata": {},
   "outputs": [],
   "source": [
    "### 构造经网络输入"
   ]
  },
  {
   "cell_type": "code",
   "execution_count": 36,
   "metadata": {
    "ExecuteTime": {
     "end_time": "2019-08-22T12:42:22.490695Z",
     "start_time": "2019-08-22T12:42:22.396232Z"
    }
   },
   "outputs": [
    {
     "data": {
      "text/plain": [
       "(4000000,)"
      ]
     },
     "execution_count": 36,
     "metadata": {},
     "output_type": "execute_result"
    }
   ],
   "source": [
    "city_input = num_train.pop('city')\n",
    "prodName_input = num_train.pop('prodName')\n",
    "color_input = num_train.pop('color')\n",
    "gender_color = num_train.pop('gender_color')\n",
    "city_input.shape"
   ]
  },
  {
   "cell_type": "code",
   "execution_count": 37,
   "metadata": {
    "ExecuteTime": {
     "end_time": "2019-08-22T12:42:44.805938Z",
     "start_time": "2019-08-22T12:42:23.883849Z"
    }
   },
   "outputs": [
    {
     "name": "stdout",
     "output_type": "stream",
     "text": [
      "(4000000, 286)\n"
     ]
    }
   ],
   "source": [
    "numeric_input = np.concatenate((train_set,num_train.values),axis=1)\n",
    "numeric_input = np.concatenate((numeric_input, train_app_trans_rate_with_usage.values),axis=1)\n",
    "numeric_input = np.concatenate((numeric_input, train_app_actived_rate.values),axis=1)\n",
    "numeric_input = np.concatenate((numeric_input, train_app_usage_rate.values),axis=1)\n",
    "# numeric_input = np.concatenate((numeric_input, train_app_actived_tfidf_input_csr.values),axis=1)\n",
    "print(numeric_input.shape)"
   ]
  },
  {
   "cell_type": "code",
   "execution_count": null,
   "metadata": {},
   "outputs": [],
   "source": [
    "### fasttext"
   ]
  },
  {
   "cell_type": "code",
   "execution_count": 38,
   "metadata": {
    "ExecuteTime": {
     "end_time": "2019-08-22T12:44:19.751688Z",
     "start_time": "2019-08-22T12:43:53.535116Z"
    }
   },
   "outputs": [
    {
     "name": "stdout",
     "output_type": "stream",
     "text": [
      "(4000000, 128) (4000000, 128)\n"
     ]
    }
   ],
   "source": [
    "train_app_activted_emb_fasttext_sum = pd.read_hdf(base_dir+'train_app_activted_emb_fasttext_sum.h5')\n",
    "train_app_activted_emb_fasttext_sum.fillna(0, inplace=True)\n",
    "train_app_usage_emb_fasttext_sum = pd.read_hdf(base_dir+'train_app_usage_emb_fasttext_sum.h5')\n",
    "train_app_usage_emb_fasttext_sum.fillna(0,inplace=True)\n",
    "print(train_app_activted_emb_fasttext_sum.shape,train_app_usage_emb_fasttext_sum.shape)"
   ]
  },
  {
   "cell_type": "code",
   "execution_count": 39,
   "metadata": {
    "ExecuteTime": {
     "end_time": "2019-08-22T12:49:24.547263Z",
     "start_time": "2019-08-22T12:49:16.962100Z"
    }
   },
   "outputs": [
    {
     "name": "stdout",
     "output_type": "stream",
     "text": [
      "(1000000, 128) (1000000, 128)\n"
     ]
    }
   ],
   "source": [
    "test_app_activted_emb_fasttext_sum = pd.read_hdf(base_dir+'test_app_activted_emb_fasttext_sum.h5')\n",
    "test_app_activted_emb_fasttext_sum.fillna(0, inplace=True)\n",
    "test_app_usage_emb_fasttext_sum = pd.read_hdf(base_dir+'test_app_usage_emb_fasttext_sum.h5')\n",
    "test_app_usage_emb_fasttext_sum.fillna(0,inplace=True)\n",
    "print(test_app_activted_emb_fasttext_sum.shape,test_app_usage_emb_fasttext_sum.shape)"
   ]
  },
  {
   "cell_type": "code",
   "execution_count": 40,
   "metadata": {
    "ExecuteTime": {
     "end_time": "2019-08-22T12:49:38.633740Z",
     "start_time": "2019-08-22T12:49:24.551232Z"
    }
   },
   "outputs": [
    {
     "name": "stdout",
     "output_type": "stream",
     "text": [
      "(4000000, 128) (1000000, 128)\n"
     ]
    }
   ],
   "source": [
    "scaler = StandardScaler().fit(train_app_activted_emb_fasttext_sum)\n",
    "train_app_activted_emb_fasttext_sum_scaler = scaler.transform(train_app_activted_emb_fasttext_sum)  \n",
    "test_app_activted_emb_fasttext_sum_scaler = scaler.transform(test_app_activted_emb_fasttext_sum)\n",
    "print(train_app_activted_emb_fasttext_sum_scaler.shape,test_app_activted_emb_fasttext_sum_scaler.shape)"
   ]
  },
  {
   "cell_type": "code",
   "execution_count": 41,
   "metadata": {
    "ExecuteTime": {
     "end_time": "2019-08-22T12:49:52.173038Z",
     "start_time": "2019-08-22T12:49:38.636771Z"
    }
   },
   "outputs": [
    {
     "name": "stdout",
     "output_type": "stream",
     "text": [
      "(4000000, 128) (1000000, 128)\n"
     ]
    }
   ],
   "source": [
    "scaler = StandardScaler().fit(train_app_usage_emb_fasttext_sum)\n",
    "train_app_usage_emb_fasttext_sum_scaler = scaler.transform(train_app_usage_emb_fasttext_sum)  \n",
    "test_app_usage_emb_fasttext_sum_scaler = scaler.transform(test_app_usage_emb_fasttext_sum)\n",
    "print(train_app_usage_emb_fasttext_sum_scaler.shape,test_app_usage_emb_fasttext_sum_scaler.shape)"
   ]
  },
  {
   "cell_type": "code",
   "execution_count": 40,
   "metadata": {},
   "outputs": [
    {
     "name": "stdout",
     "output_type": "stream",
     "text": [
      "0\n"
     ]
    }
   ],
   "source": [
    "print(0)"
   ]
  },
  {
   "cell_type": "code",
   "execution_count": null,
   "metadata": {},
   "outputs": [],
   "source": [
    "### 激活的app做embedding¶"
   ]
  },
  {
   "cell_type": "code",
   "execution_count": 42,
   "metadata": {
    "ExecuteTime": {
     "end_time": "2019-08-22T12:52:36.540440Z",
     "start_time": "2019-08-22T12:49:55.529148Z"
    }
   },
   "outputs": [
    {
     "name": "stdout",
     "output_type": "stream",
     "text": [
      "(4000000, 150) (1000000, 150)\n"
     ]
    }
   ],
   "source": [
    "apps = app_actived_df[['appId']].values\n",
    "vocab_size = 10010\n",
    "encoded_docs = [one_hot(app[0], vocab_size, split='#') for app in apps]\n",
    "max_length = 150\n",
    "padded_docs = pad_sequences(encoded_docs, maxlen=max_length, padding='post')\n",
    "padded_docs = np.array(padded_docs)\n",
    "padded_docs_uId = pd.concat([app_actived_df[['uId']],pd.DataFrame(padded_docs)], axis=1)\n",
    "train_apps_input = train_id.merge(padded_docs_uId, on=['uId'], how='left')\n",
    "test_apps_input = test_id.merge(padded_docs_uId, on=['uId'], how='left')\n",
    "train_apps_input.fillna(0,inplace=True)\n",
    "test_apps_input.fillna(0,inplace=True)\n",
    "_ = train_apps_input.pop('uId')\n",
    "_ = test_apps_input.pop('uId')\n",
    "print(train_apps_input.shape,test_apps_input.shape)"
   ]
  },
  {
   "cell_type": "code",
   "execution_count": null,
   "metadata": {},
   "outputs": [],
   "source": [
    "### 使用的app做embedding"
   ]
  },
  {
   "cell_type": "code",
   "execution_count": 43,
   "metadata": {
    "ExecuteTime": {
     "end_time": "2019-08-22T12:57:02.333093Z",
     "start_time": "2019-08-22T12:54:51.617923Z"
    },
    "scrolled": true
   },
   "outputs": [
    {
     "name": "stdout",
     "output_type": "stream",
     "text": [
      "(4000000, 200) (1000000, 200)\n"
     ]
    }
   ],
   "source": [
    "user_app_usage_df = pd.read_hdf(base_dir+'user_app_usage_df.h5',key='data')\n",
    "user_app_usage_df['appIds'] = user_app_usage_df['appIds'].astype(str)\n",
    "usage_apps = user_app_usage_df[['appIds']].values\n",
    "usage_app_size = 10010\n",
    "encoded_apps = [one_hot(app[0], usage_app_size, split='#') for app in usage_apps]\n",
    "usage_max_length = 200\n",
    "padded_apps = pad_sequences(encoded_apps, maxlen=usage_max_length, padding='post')\n",
    "padded_apps = np.array(padded_apps)\n",
    "padded_apps_uId = pd.concat([user_app_usage_df[['uId']],pd.DataFrame(padded_apps)], axis=1)\n",
    "train_app_usage_input = train_id.merge(padded_apps_uId, on=['uId'], how='left')\n",
    "train_app_usage_input.fillna(0,inplace=True)\n",
    "test_app_usage_input = test_id.merge(padded_apps_uId, on=['uId'], how='left')\n",
    "test_app_usage_input.fillna(0,inplace=True)\n",
    "_ = train_app_usage_input.pop('uId')\n",
    "_ = test_app_usage_input.pop('uId')\n",
    "print(train_app_usage_input.shape,test_app_usage_input.shape)"
   ]
  },
  {
   "cell_type": "code",
   "execution_count": null,
   "metadata": {},
   "outputs": [],
   "source": [
    "### LSTM"
   ]
  },
  {
   "cell_type": "code",
   "execution_count": 44,
   "metadata": {
    "ExecuteTime": {
     "end_time": "2019-08-22T12:59:15.324944Z",
     "start_time": "2019-08-22T12:59:15.317573Z"
    }
   },
   "outputs": [
    {
     "name": "stdout",
     "output_type": "stream",
     "text": [
      "(4000000, 7, 200) (1000000, 7, 200)\n"
     ]
    }
   ],
   "source": [
    "train_lstm_input = pd.read_hdf(base_dir+'train_lstm_input.h5',key='data')\n",
    "train_lstm_input = train_lstm_input.values.reshape((train_id.shape[0],7,200))\n",
    "test_lstm_input = pd.read_hdf(base_dir+'test_lstm_input.h5',key='data')\n",
    "test_lstm_input = test_lstm_input.values.reshape((test_id.shape[0],7,200))\n",
    "print(train_lstm_input.shape,test_lstm_input.shape)"
   ]
  },
  {
   "cell_type": "code",
   "execution_count": null,
   "metadata": {},
   "outputs": [],
   "source": [
    "### 训练"
   ]
  },
  {
   "cell_type": "code",
   "execution_count": 45,
   "metadata": {
    "ExecuteTime": {
     "end_time": "2019-08-22T12:59:43.489063Z",
     "start_time": "2019-08-22T12:59:43.481868Z"
    }
   },
   "outputs": [],
   "source": [
    "X = [city_input,prodName_input,color_input,gender_color,numeric_input,train_apps_input.values,\n",
    "     train_app_usage_input.values,train_app_activted_emb_fasttext_sum_scaler,train_app_usage_emb_fasttext_sum_scaler,\n",
    "     train_lstm_input]"
   ]
  },
  {
   "cell_type": "code",
   "execution_count": 46,
   "metadata": {
    "ExecuteTime": {
     "end_time": "2019-08-22T12:59:44.287126Z",
     "start_time": "2019-08-22T12:59:44.173089Z"
    }
   },
   "outputs": [],
   "source": [
    "Y = np_utils.to_categorical(label, 6)"
   ]
  },
  {
   "cell_type": "code",
   "execution_count": 47,
   "metadata": {
    "ExecuteTime": {
     "end_time": "2019-08-22T13:22:54.264550Z",
     "start_time": "2019-08-22T13:22:54.226668Z"
    }
   },
   "outputs": [
    {
     "data": {
      "text/plain": [
       "(1000000,)"
      ]
     },
     "execution_count": 47,
     "metadata": {},
     "output_type": "execute_result"
    }
   ],
   "source": [
    "test_city_input = num_test.pop('city')\n",
    "test_prodName_input = num_test.pop('prodName')\n",
    "test_color_input = num_test.pop('color')\n",
    "test_gender_color_input = num_test.pop('gender_color')\n",
    "test_city_input.shape"
   ]
  },
  {
   "cell_type": "code",
   "execution_count": 48,
   "metadata": {
    "ExecuteTime": {
     "end_time": "2019-08-22T13:22:59.937274Z",
     "start_time": "2019-08-22T13:22:55.425611Z"
    }
   },
   "outputs": [
    {
     "name": "stdout",
     "output_type": "stream",
     "text": [
      "(1000000, 286)\n"
     ]
    }
   ],
   "source": [
    "test_numeric_input = np.concatenate((test_set,num_test.values),axis=1)\n",
    "test_numeric_input = np.concatenate((test_numeric_input, test_app_trans_rate_with_usage.values),axis=1)\n",
    "test_numeric_input = np.concatenate((test_numeric_input, test_app_actived_rate.values),axis=1)\n",
    "test_numeric_input = np.concatenate((test_numeric_input, test_app_usage_rate.values),axis=1)\n",
    "# test_numeric_input = np.concatenate((test_numeric_input, test_app_actived_tfidf_input_csr.values),axis=1)\n",
    "print(test_numeric_input.shape)"
   ]
  },
  {
   "cell_type": "code",
   "execution_count": 49,
   "metadata": {
    "ExecuteTime": {
     "end_time": "2019-08-22T13:23:01.489253Z",
     "start_time": "2019-08-22T13:23:01.482971Z"
    }
   },
   "outputs": [],
   "source": [
    "test_X = [test_city_input,test_prodName_input,test_color_input,test_gender_color_input,test_numeric_input,\n",
    "          test_apps_input.values,test_app_usage_input.values,test_app_activted_emb_fasttext_sum_scaler,\n",
    "          test_app_usage_emb_fasttext_sum_scaler,test_lstm_input]"
   ]
  },
  {
   "cell_type": "code",
   "execution_count": null,
   "metadata": {},
   "outputs": [],
   "source": [
    "###### try"
   ]
  },
  {
   "cell_type": "code",
   "execution_count": 53,
   "metadata": {},
   "outputs": [],
   "source": [
    "# row_indices = np.random.permutation(Y.shape[0])\n",
    "# train_x=[x_data[row_indices] for x_data in X]\n",
    "# train_y=Y[row_indices] "
   ]
  },
  {
   "cell_type": "code",
   "execution_count": null,
   "metadata": {},
   "outputs": [],
   "source": [
    "##### end try"
   ]
  },
  {
   "cell_type": "code",
   "execution_count": null,
   "metadata": {},
   "outputs": [],
   "source": [
    "###### 5 折"
   ]
  },
  {
   "cell_type": "code",
   "execution_count": 50,
   "metadata": {
    "ExecuteTime": {
     "end_time": "2019-08-22T13:21:46.082609Z",
     "start_time": "2019-08-22T13:21:45.992052Z"
    }
   },
   "outputs": [
    {
     "name": "stdout",
     "output_type": "stream",
     "text": [
      "0 800000\n",
      "800000 1600000\n",
      "1600000 2400000\n",
      "2400000 3200000\n",
      "3200000 4000000\n"
     ]
    }
   ],
   "source": [
    "row_indices = np.random.permutation(Y.shape[0])\n",
    "split_size=5\n",
    "step=int(Y.shape[0]/float(split_size))\n",
    "split_index_list=[]\n",
    "for i in range(split_size):\n",
    "    start=i*step\n",
    "    end=(i+1)*step\n",
    "    print(start,end)\n",
    "    split_index_list.append(row_indices[start:end])"
   ]
  },
  {
   "cell_type": "code",
   "execution_count": 50,
   "metadata": {},
   "outputs": [],
   "source": [
    "class ParallelModelCheckpoint(keras.callbacks.ModelCheckpoint):\n",
    "    def __init__(self,model,filepath, monitor='val_loss', verbose=0,\n",
    "                 save_best_only=False, save_weights_only=False,\n",
    "                 mode='auto', period=1):\n",
    "        self.single_model = model\n",
    "        super(ParallelModelCheckpoint,self).__init__(filepath, monitor, verbose,save_best_only, save_weights_only,mode, period)\n",
    "\n",
    "    def set_model(self, model):\n",
    "        super(ParallelModelCheckpoint,self).set_model(self.single_model)"
   ]
  },
  {
   "cell_type": "code",
   "execution_count": 52,
   "metadata": {
    "ExecuteTime": {
     "end_time": "2019-08-22T13:24:38.933267Z",
     "start_time": "2019-08-22T13:24:38.927718Z"
    }
   },
   "outputs": [],
   "source": [
    "prefix='try_2_'"
   ]
  },
  {
   "cell_type": "code",
   "execution_count": 53,
   "metadata": {
    "ExecuteTime": {
     "end_time": "2019-08-22T13:41:03.312047Z",
     "start_time": "2019-08-22T13:24:45.190313Z"
    },
    "collapsed": true,
    "jupyter": {
     "outputs_hidden": true
    }
   },
   "outputs": [
    {
     "name": "stdout",
     "output_type": "stream",
     "text": [
      "finish split data\n",
      "Train on 3200000 samples, validate on 800000 samples\n",
      "Epoch 1/100\n",
      " - 230s - loss: 1.9642 - acc: 0.4039 - val_loss: 1.2760 - val_acc: 0.5163\n",
      "Epoch 2/100\n",
      " - 178s - loss: 1.3885 - acc: 0.4768 - val_loss: 1.2043 - val_acc: 0.5330\n",
      "Epoch 3/100\n",
      " - 178s - loss: 1.2686 - acc: 0.5085 - val_loss: 1.1518 - val_acc: 0.5510\n",
      "Epoch 4/100\n",
      " - 177s - loss: 1.2017 - acc: 0.5304 - val_loss: 1.1197 - val_acc: 0.5613\n",
      "Epoch 5/100\n",
      " - 179s - loss: 1.1574 - acc: 0.5469 - val_loss: 1.1056 - val_acc: 0.5659\n",
      "Epoch 6/100\n",
      " - 174s - loss: 1.1269 - acc: 0.5583 - val_loss: 1.0760 - val_acc: 0.5777\n",
      "Epoch 7/100\n",
      " - 180s - loss: 1.1048 - acc: 0.5668 - val_loss: 1.0653 - val_acc: 0.5826\n",
      "Epoch 8/100\n",
      " - 166s - loss: 1.0883 - acc: 0.5735 - val_loss: 1.0570 - val_acc: 0.5852\n",
      "Epoch 9/100\n",
      " - 165s - loss: 1.0757 - acc: 0.5787 - val_loss: 1.0481 - val_acc: 0.5891\n",
      "Epoch 10/100\n",
      " - 114s - loss: 1.0651 - acc: 0.5825 - val_loss: 1.0334 - val_acc: 0.5943\n",
      "Epoch 11/100\n",
      " - 99s - loss: 1.0558 - acc: 0.5858 - val_loss: 1.0287 - val_acc: 0.5957\n",
      "Epoch 12/100\n",
      " - 115s - loss: 1.0485 - acc: 0.5893 - val_loss: 1.0316 - val_acc: 0.5961\n",
      "Epoch 13/100\n",
      " - 113s - loss: 1.0420 - acc: 0.5918 - val_loss: 1.0240 - val_acc: 0.5990\n",
      "Epoch 14/100\n",
      " - 115s - loss: 1.0358 - acc: 0.5943 - val_loss: 1.0172 - val_acc: 0.6008\n",
      "Epoch 15/100\n",
      " - 114s - loss: 1.0312 - acc: 0.5960 - val_loss: 1.0190 - val_acc: 0.6017\n",
      "Epoch 16/100\n",
      " - 147s - loss: 1.0265 - acc: 0.5976 - val_loss: 1.0103 - val_acc: 0.6034\n",
      "Epoch 17/100\n",
      " - 181s - loss: 1.0227 - acc: 0.5992 - val_loss: 1.0104 - val_acc: 0.6043\n",
      "Epoch 18/100\n",
      " - 187s - loss: 1.0191 - acc: 0.6005 - val_loss: 1.0088 - val_acc: 0.6049\n",
      "Epoch 19/100\n",
      " - 180s - loss: 1.0151 - acc: 0.6019 - val_loss: 1.0035 - val_acc: 0.6060\n",
      "Epoch 20/100\n",
      " - 181s - loss: 1.0110 - acc: 0.6035 - val_loss: 1.0028 - val_acc: 0.6070\n",
      "Epoch 21/100\n",
      " - 177s - loss: 1.0078 - acc: 0.6044 - val_loss: 1.0015 - val_acc: 0.6073\n",
      "Epoch 22/100\n",
      " - 182s - loss: 1.0047 - acc: 0.6054 - val_loss: 0.9996 - val_acc: 0.6076\n",
      "Epoch 23/100\n",
      " - 179s - loss: 1.0009 - acc: 0.6068 - val_loss: 0.9933 - val_acc: 0.6094\n",
      "Epoch 24/100\n",
      " - 181s - loss: 0.9979 - acc: 0.6077 - val_loss: 0.9938 - val_acc: 0.6091\n",
      "Epoch 25/100\n",
      " - 181s - loss: 0.9939 - acc: 0.6089 - val_loss: 0.9899 - val_acc: 0.6106\n",
      "Epoch 26/100\n",
      " - 179s - loss: 0.9920 - acc: 0.6096 - val_loss: 0.9857 - val_acc: 0.6110\n",
      "Epoch 27/100\n",
      " - 177s - loss: 0.9893 - acc: 0.6106 - val_loss: 0.9857 - val_acc: 0.6115\n",
      "Epoch 28/100\n",
      " - 180s - loss: 0.9864 - acc: 0.6115 - val_loss: 0.9829 - val_acc: 0.6119\n",
      "Epoch 29/100\n",
      " - 178s - loss: 0.9840 - acc: 0.6123 - val_loss: 0.9860 - val_acc: 0.6106\n",
      "Epoch 30/100\n",
      " - 181s - loss: 0.9815 - acc: 0.6134 - val_loss: 0.9809 - val_acc: 0.6135\n",
      "Epoch 31/100\n",
      " - 181s - loss: 0.9806 - acc: 0.6136 - val_loss: 0.9801 - val_acc: 0.6135\n",
      "Epoch 32/100\n",
      " - 179s - loss: 0.9782 - acc: 0.6146 - val_loss: 0.9781 - val_acc: 0.6142\n",
      "Epoch 33/100\n",
      " - 181s - loss: 0.9760 - acc: 0.6153 - val_loss: 0.9805 - val_acc: 0.6135\n",
      "Epoch 34/100\n",
      " - 179s - loss: 0.9743 - acc: 0.6160 - val_loss: 0.9788 - val_acc: 0.6138\n",
      "Epoch 35/100\n",
      " - 185s - loss: 0.9732 - acc: 0.6165 - val_loss: 0.9755 - val_acc: 0.6153\n",
      "Epoch 36/100\n",
      " - 185s - loss: 0.9708 - acc: 0.6175 - val_loss: 0.9784 - val_acc: 0.6138\n",
      "Epoch 37/100\n",
      " - 313s - loss: 0.9697 - acc: 0.6175 - val_loss: 0.9750 - val_acc: 0.6150\n",
      "Epoch 38/100\n",
      " - 156s - loss: 0.9679 - acc: 0.6185 - val_loss: 0.9745 - val_acc: 0.6153\n",
      "Epoch 39/100\n",
      " - 154s - loss: 0.9653 - acc: 0.6192 - val_loss: 0.9762 - val_acc: 0.6150\n",
      "Epoch 40/100\n",
      " - 156s - loss: 0.9643 - acc: 0.6198 - val_loss: 0.9737 - val_acc: 0.6157\n",
      "Epoch 41/100\n",
      " - 154s - loss: 0.9636 - acc: 0.6202 - val_loss: 0.9730 - val_acc: 0.6163\n",
      "Epoch 42/100\n",
      " - 156s - loss: 0.9622 - acc: 0.6206 - val_loss: 0.9750 - val_acc: 0.6150\n",
      "Epoch 43/100\n",
      " - 160s - loss: 0.9607 - acc: 0.6213 - val_loss: 0.9722 - val_acc: 0.6158\n",
      "Epoch 44/100\n",
      " - 162s - loss: 0.9587 - acc: 0.6218 - val_loss: 0.9706 - val_acc: 0.6167\n",
      "Epoch 45/100\n",
      " - 163s - loss: 0.9583 - acc: 0.6221 - val_loss: 0.9728 - val_acc: 0.6154\n",
      "Epoch 46/100\n",
      " - 164s - loss: 0.9566 - acc: 0.6230 - val_loss: 0.9711 - val_acc: 0.6166\n",
      "Epoch 47/100\n",
      " - 165s - loss: 0.9550 - acc: 0.6235 - val_loss: 0.9694 - val_acc: 0.6174\n",
      "Epoch 48/100\n",
      " - 163s - loss: 0.9539 - acc: 0.6240 - val_loss: 0.9707 - val_acc: 0.6160\n",
      "Epoch 49/100\n",
      " - 163s - loss: 0.9525 - acc: 0.6246 - val_loss: 0.9717 - val_acc: 0.6160\n",
      "Epoch 50/100\n",
      " - 158s - loss: 0.9546 - acc: 0.6239 - val_loss: 0.9695 - val_acc: 0.6181\n",
      "Epoch 51/100\n",
      " - 129s - loss: 0.9528 - acc: 0.6249 - val_loss: 0.9702 - val_acc: 0.6171\n",
      "Epoch 52/100\n",
      " - 92s - loss: 0.9491 - acc: 0.6257 - val_loss: 0.9662 - val_acc: 0.6190\n",
      "Epoch 53/100\n",
      " - 93s - loss: 0.9475 - acc: 0.6264 - val_loss: 0.9692 - val_acc: 0.6174\n",
      "Epoch 54/100\n",
      " - 94s - loss: 0.9460 - acc: 0.6271 - val_loss: 0.9664 - val_acc: 0.6180\n",
      "Epoch 55/100\n",
      " - 98s - loss: 0.9450 - acc: 0.6276 - val_loss: 0.9667 - val_acc: 0.6185\n",
      "Epoch 56/100\n",
      " - 94s - loss: 0.9442 - acc: 0.6280 - val_loss: 0.9674 - val_acc: 0.6188\n",
      "Epoch 57/100\n",
      " - 97s - loss: 0.9444 - acc: 0.6278 - val_loss: 0.9655 - val_acc: 0.6193\n",
      "Epoch 58/100\n",
      " - 93s - loss: 0.9419 - acc: 0.6285 - val_loss: 0.9659 - val_acc: 0.6189\n",
      "Epoch 59/100\n",
      " - 95s - loss: 0.9411 - acc: 0.6291 - val_loss: 0.9656 - val_acc: 0.6182\n",
      "Epoch 60/100\n",
      " - 93s - loss: 0.9399 - acc: 0.6297 - val_loss: 0.9684 - val_acc: 0.6179\n",
      "Epoch 61/100\n",
      " - 94s - loss: 0.9384 - acc: 0.6302 - val_loss: 0.9658 - val_acc: 0.6190\n",
      "Epoch 62/100\n",
      " - 97s - loss: 0.9372 - acc: 0.6309 - val_loss: 0.9623 - val_acc: 0.6205\n",
      "Epoch 63/100\n",
      " - 99s - loss: 0.9363 - acc: 0.6311 - val_loss: 0.9609 - val_acc: 0.6208\n",
      "Epoch 64/100\n",
      " - 99s - loss: 0.9363 - acc: 0.6312 - val_loss: 0.9623 - val_acc: 0.6204\n",
      "Epoch 65/100\n",
      " - 96s - loss: 0.9344 - acc: 0.6319 - val_loss: 0.9672 - val_acc: 0.6182\n",
      "Epoch 66/100\n",
      " - 94s - loss: 0.9327 - acc: 0.6327 - val_loss: 0.9621 - val_acc: 0.6204\n",
      "Epoch 67/100\n",
      " - 97s - loss: 0.9316 - acc: 0.6330 - val_loss: 0.9662 - val_acc: 0.6190\n",
      "Epoch 68/100\n",
      " - 95s - loss: 0.9303 - acc: 0.6335 - val_loss: 0.9595 - val_acc: 0.6212\n",
      "Epoch 69/100\n",
      " - 97s - loss: 0.9296 - acc: 0.6338 - val_loss: 0.9633 - val_acc: 0.6197\n",
      "Epoch 70/100\n",
      " - 96s - loss: 0.9283 - acc: 0.6344 - val_loss: 0.9600 - val_acc: 0.6213\n",
      "Epoch 71/100\n",
      " - 95s - loss: 0.9273 - acc: 0.6350 - val_loss: 0.9595 - val_acc: 0.6217\n",
      "Epoch 72/100\n",
      " - 95s - loss: 0.9267 - acc: 0.6350 - val_loss: 0.9614 - val_acc: 0.6214\n",
      "Epoch 73/100\n",
      " - 96s - loss: 0.9259 - acc: 0.6354 - val_loss: 0.9652 - val_acc: 0.6197\n",
      "Epoch 74/100\n",
      " - 97s - loss: 0.9239 - acc: 0.6361 - val_loss: 0.9664 - val_acc: 0.6190\n",
      "Epoch 75/100\n",
      " - 95s - loss: 0.9233 - acc: 0.6364 - val_loss: 0.9636 - val_acc: 0.6195\n",
      "Epoch 76/100\n",
      " - 99s - loss: 0.9217 - acc: 0.6370 - val_loss: 0.9617 - val_acc: 0.6213\n",
      "Epoch 77/100\n",
      " - 96s - loss: 0.9200 - acc: 0.6375 - val_loss: 0.9612 - val_acc: 0.6213\n",
      "Epoch 78/100\n",
      " - 96s - loss: 0.9196 - acc: 0.6380 - val_loss: 0.9666 - val_acc: 0.6190\n",
      "Epoch 79/100\n",
      " - 95s - loss: 0.9189 - acc: 0.6384 - val_loss: 0.9595 - val_acc: 0.6219\n",
      "Epoch 80/100\n",
      " - 95s - loss: 0.9172 - acc: 0.6389 - val_loss: 0.9624 - val_acc: 0.6213\n",
      "Epoch 81/100\n",
      " - 96s - loss: 0.9170 - acc: 0.6389 - val_loss: 0.9639 - val_acc: 0.6201\n",
      "Epoch 82/100\n",
      " - 94s - loss: 0.9148 - acc: 0.6400 - val_loss: 0.9625 - val_acc: 0.6213\n",
      "Epoch 83/100\n",
      " - 95s - loss: 0.9136 - acc: 0.6403 - val_loss: 0.9639 - val_acc: 0.6210\n",
      "Epoch 84/100\n",
      " - 95s - loss: 0.9140 - acc: 0.6402 - val_loss: 0.9647 - val_acc: 0.6203\n",
      "Epoch 85/100\n",
      " - 96s - loss: 0.9122 - acc: 0.6411 - val_loss: 0.9593 - val_acc: 0.6223\n",
      "Epoch 86/100\n",
      " - 93s - loss: 0.9169 - acc: 0.6399 - val_loss: 0.9640 - val_acc: 0.6210\n",
      "Epoch 87/100\n",
      " - 92s - loss: 0.9106 - acc: 0.6416 - val_loss: 0.9614 - val_acc: 0.6224\n",
      "Epoch 88/100\n",
      " - 96s - loss: 0.9093 - acc: 0.6422 - val_loss: 0.9611 - val_acc: 0.6218\n",
      "Epoch 89/100\n",
      " - 95s - loss: 0.9079 - acc: 0.6426 - val_loss: 0.9657 - val_acc: 0.6208\n",
      "Epoch 90/100\n",
      " - 96s - loss: 0.9065 - acc: 0.6434 - val_loss: 0.9608 - val_acc: 0.6221\n",
      "Epoch 91/100\n",
      " - 97s - loss: 0.9054 - acc: 0.6436 - val_loss: 0.9616 - val_acc: 0.6222\n",
      "Epoch 92/100\n",
      " - 98s - loss: 0.9042 - acc: 0.6442 - val_loss: 0.9616 - val_acc: 0.6218\n",
      "Epoch 93/100\n",
      " - 96s - loss: 0.9033 - acc: 0.6446 - val_loss: 0.9617 - val_acc: 0.6219\n",
      "Epoch 94/100\n",
      " - 95s - loss: 0.9032 - acc: 0.6448 - val_loss: 0.9602 - val_acc: 0.6226\n",
      "Epoch 95/100\n",
      " - 95s - loss: 0.9029 - acc: 0.6450 - val_loss: 0.9633 - val_acc: 0.6209\n",
      "Epoch 96/100\n",
      " - 94s - loss: 0.9004 - acc: 0.6458 - val_loss: 0.9627 - val_acc: 0.6213\n",
      "Epoch 97/100\n",
      " - 96s - loss: 0.8998 - acc: 0.6458 - val_loss: 0.9626 - val_acc: 0.6215\n",
      "Epoch 98/100\n",
      " - 96s - loss: 0.8987 - acc: 0.6467 - val_loss: 0.9623 - val_acc: 0.6218\n",
      "Epoch 99/100\n",
      " - 94s - loss: 0.8983 - acc: 0.6468 - val_loss: 0.9616 - val_acc: 0.6223\n",
      "Epoch 100/100\n",
      " - 94s - loss: 0.8964 - acc: 0.6472 - val_loss: 0.9698 - val_acc: 0.6189\n",
      "finish: 0\n",
      "finish split data\n",
      "Train on 3200000 samples, validate on 800000 samples\n",
      "Epoch 1/100\n",
      " - 127s - loss: 1.9585 - acc: 0.4032 - val_loss: 1.2985 - val_acc: 0.5069\n",
      "Epoch 2/100\n",
      " - 101s - loss: 1.3932 - acc: 0.4761 - val_loss: 1.2172 - val_acc: 0.5294\n",
      "Epoch 3/100\n",
      " - 101s - loss: 1.2691 - acc: 0.5080 - val_loss: 1.1615 - val_acc: 0.5478\n",
      "Epoch 4/100\n",
      " - 98s - loss: 1.2031 - acc: 0.5295 - val_loss: 1.1316 - val_acc: 0.5590\n",
      "Epoch 5/100\n",
      " - 104s - loss: 1.1591 - acc: 0.5453 - val_loss: 1.0959 - val_acc: 0.5718\n",
      "Epoch 6/100\n",
      " - 113s - loss: 1.1289 - acc: 0.5567 - val_loss: 1.0788 - val_acc: 0.5785\n",
      "Epoch 7/100\n",
      " - 109s - loss: 1.1075 - acc: 0.5654 - val_loss: 1.0623 - val_acc: 0.5846\n",
      "Epoch 8/100\n",
      " - 110s - loss: 1.0906 - acc: 0.5718 - val_loss: 1.0532 - val_acc: 0.5876\n",
      "Epoch 9/100\n",
      " - 111s - loss: 1.0777 - acc: 0.5773 - val_loss: 1.0486 - val_acc: 0.5902\n",
      "Epoch 10/100\n",
      " - 115s - loss: 1.0670 - acc: 0.5812 - val_loss: 1.0441 - val_acc: 0.5918\n",
      "Epoch 11/100\n",
      " - 114s - loss: 1.0578 - acc: 0.5854 - val_loss: 1.0357 - val_acc: 0.5948\n",
      "Epoch 12/100\n",
      " - 114s - loss: 1.0502 - acc: 0.5881 - val_loss: 1.0296 - val_acc: 0.5971\n",
      "Epoch 13/100\n",
      " - 116s - loss: 1.0432 - acc: 0.5905 - val_loss: 1.0281 - val_acc: 0.5978\n",
      "Epoch 14/100\n",
      " - 115s - loss: 1.0377 - acc: 0.5929 - val_loss: 1.0249 - val_acc: 0.5990\n",
      "Epoch 15/100\n",
      " - 116s - loss: 1.0323 - acc: 0.5951 - val_loss: 1.0186 - val_acc: 0.6007\n",
      "Epoch 16/100\n",
      " - 115s - loss: 1.0275 - acc: 0.5972 - val_loss: 1.0150 - val_acc: 0.6024\n",
      "Epoch 17/100\n",
      " - 116s - loss: 1.0235 - acc: 0.5986 - val_loss: 1.0120 - val_acc: 0.6036\n",
      "Epoch 18/100\n",
      " - 117s - loss: 1.0187 - acc: 0.6006 - val_loss: 1.0108 - val_acc: 0.6043\n",
      "Epoch 19/100\n",
      " - 115s - loss: 1.0152 - acc: 0.6017 - val_loss: 1.0078 - val_acc: 0.6046\n",
      "Epoch 20/100\n",
      " - 116s - loss: 1.0117 - acc: 0.6031 - val_loss: 1.0045 - val_acc: 0.6051\n",
      "Epoch 21/100\n",
      " - 115s - loss: 1.0086 - acc: 0.6043 - val_loss: 1.0043 - val_acc: 0.6062\n",
      "Epoch 22/100\n",
      " - 115s - loss: 1.0055 - acc: 0.6055 - val_loss: 1.0038 - val_acc: 0.6061\n",
      "Epoch 23/100\n",
      " - 111s - loss: 1.0017 - acc: 0.6064 - val_loss: 0.9981 - val_acc: 0.6079\n",
      "Epoch 24/100\n",
      " - 116s - loss: 0.9957 - acc: 0.6085 - val_loss: 0.9919 - val_acc: 0.6095\n",
      "Epoch 26/100\n",
      " - 116s - loss: 0.9924 - acc: 0.6097 - val_loss: 0.9926 - val_acc: 0.6092\n",
      "Epoch 27/100\n",
      " - 116s - loss: 0.9889 - acc: 0.6108 - val_loss: 0.9888 - val_acc: 0.6109\n",
      "Epoch 28/100\n",
      " - 112s - loss: 0.9859 - acc: 0.6117 - val_loss: 0.9881 - val_acc: 0.6114\n",
      "Epoch 29/100\n",
      " - 111s - loss: 0.9841 - acc: 0.6125 - val_loss: 0.9858 - val_acc: 0.6116\n",
      "Epoch 30/100\n",
      " - 113s - loss: 0.9814 - acc: 0.6135 - val_loss: 0.9884 - val_acc: 0.6118\n",
      "Epoch 31/100\n",
      " - 117s - loss: 0.9797 - acc: 0.6141 - val_loss: 0.9826 - val_acc: 0.6125\n",
      "Epoch 32/100\n",
      " - 117s - loss: 0.9794 - acc: 0.6144 - val_loss: 0.9835 - val_acc: 0.6123\n",
      "Epoch 33/100\n",
      " - 115s - loss: 0.9761 - acc: 0.6152 - val_loss: 0.9835 - val_acc: 0.6121\n",
      "Epoch 34/100\n",
      " - 116s - loss: 0.9739 - acc: 0.6162 - val_loss: 0.9794 - val_acc: 0.6137\n",
      "Epoch 35/100\n",
      " - 115s - loss: 0.9730 - acc: 0.6166 - val_loss: 0.9790 - val_acc: 0.6141\n",
      "Epoch 36/100\n",
      " - 116s - loss: 0.9703 - acc: 0.6175 - val_loss: 0.9797 - val_acc: 0.6133\n",
      "Epoch 37/100\n",
      " - 115s - loss: 0.9692 - acc: 0.6179 - val_loss: 0.9770 - val_acc: 0.6143\n",
      "Epoch 38/100\n",
      " - 115s - loss: 0.9677 - acc: 0.6186 - val_loss: 0.9772 - val_acc: 0.6144\n",
      "Epoch 39/100\n",
      " - 115s - loss: 0.9659 - acc: 0.6192 - val_loss: 0.9767 - val_acc: 0.6147\n",
      "Epoch 40/100\n",
      " - 115s - loss: 0.9647 - acc: 0.6196 - val_loss: 0.9737 - val_acc: 0.6158\n",
      "Epoch 41/100\n",
      " - 115s - loss: 0.9631 - acc: 0.6205 - val_loss: 0.9739 - val_acc: 0.6157\n",
      "Epoch 42/100\n",
      " - 116s - loss: 0.9619 - acc: 0.6209 - val_loss: 0.9755 - val_acc: 0.6151\n",
      "Epoch 43/100\n",
      " - 116s - loss: 0.9606 - acc: 0.6214 - val_loss: 0.9737 - val_acc: 0.6157\n",
      "Epoch 44/100\n",
      " - 115s - loss: 0.9586 - acc: 0.6218 - val_loss: 0.9718 - val_acc: 0.6161\n",
      "Epoch 45/100\n",
      " - 115s - loss: 0.9581 - acc: 0.6225 - val_loss: 0.9717 - val_acc: 0.6167\n",
      "Epoch 46/100\n",
      " - 116s - loss: 0.9561 - acc: 0.6230 - val_loss: 0.9692 - val_acc: 0.6175\n",
      "Epoch 47/100\n",
      " - 115s - loss: 0.9551 - acc: 0.6237 - val_loss: 0.9727 - val_acc: 0.6159\n",
      "Epoch 48/100\n",
      " - 116s - loss: 0.9542 - acc: 0.6238 - val_loss: 0.9729 - val_acc: 0.6160\n",
      "Epoch 49/100\n",
      " - 115s - loss: 0.9524 - acc: 0.6248 - val_loss: 0.9729 - val_acc: 0.6163\n",
      "Epoch 50/100\n",
      " - 115s - loss: 0.9518 - acc: 0.6251 - val_loss: 0.9668 - val_acc: 0.6183\n",
      "Epoch 51/100\n",
      " - 110s - loss: 0.9497 - acc: 0.6257 - val_loss: 0.9710 - val_acc: 0.6168\n",
      "Epoch 52/100\n",
      " - 111s - loss: 0.9488 - acc: 0.6259 - val_loss: 0.9690 - val_acc: 0.6177\n",
      "Epoch 53/100\n",
      " - 113s - loss: 0.9482 - acc: 0.6262 - val_loss: 0.9678 - val_acc: 0.6183\n",
      "Epoch 54/100\n",
      " - 115s - loss: 0.9462 - acc: 0.6271 - val_loss: 0.9677 - val_acc: 0.6180\n",
      "Epoch 55/100\n",
      " - 117s - loss: 0.9453 - acc: 0.6273 - val_loss: 0.9661 - val_acc: 0.6190\n",
      "Epoch 56/100\n",
      " - 116s - loss: 0.9443 - acc: 0.6277 - val_loss: 0.9664 - val_acc: 0.6189\n",
      "Epoch 57/100\n",
      " - 116s - loss: 0.9432 - acc: 0.6283 - val_loss: 0.9665 - val_acc: 0.6188\n",
      "Epoch 58/100\n",
      " - 116s - loss: 0.9427 - acc: 0.6285 - val_loss: 0.9674 - val_acc: 0.6181\n",
      "Epoch 59/100\n",
      " - 115s - loss: 0.9403 - acc: 0.6295 - val_loss: 0.9628 - val_acc: 0.6202\n",
      "Epoch 60/100\n",
      " - 115s - loss: 0.9394 - acc: 0.6297 - val_loss: 0.9627 - val_acc: 0.6196\n",
      "Epoch 61/100\n",
      " - 116s - loss: 0.9386 - acc: 0.6299 - val_loss: 0.9646 - val_acc: 0.6191\n",
      "Epoch 62/100\n",
      " - 115s - loss: 0.9377 - acc: 0.6302 - val_loss: 0.9650 - val_acc: 0.6196\n",
      "Epoch 63/100\n",
      " - 116s - loss: 0.9362 - acc: 0.6314 - val_loss: 0.9663 - val_acc: 0.6191\n",
      "Epoch 64/100\n",
      " - 115s - loss: 0.9356 - acc: 0.6314 - val_loss: 0.9641 - val_acc: 0.6199\n",
      "Epoch 65/100\n",
      " - 115s - loss: 0.9338 - acc: 0.6321 - val_loss: 0.9638 - val_acc: 0.6201\n",
      "Epoch 66/100\n",
      " - 116s - loss: 0.9326 - acc: 0.6323 - val_loss: 0.9627 - val_acc: 0.6209\n",
      "Epoch 67/100\n",
      " - 116s - loss: 0.9316 - acc: 0.6330 - val_loss: 0.9638 - val_acc: 0.6200\n",
      "Epoch 68/100\n",
      " - 115s - loss: 0.9306 - acc: 0.6333 - val_loss: 0.9644 - val_acc: 0.6204\n",
      "Epoch 69/100\n",
      " - 116s - loss: 0.9296 - acc: 0.6339 - val_loss: 0.9616 - val_acc: 0.6209\n",
      "Epoch 70/100\n",
      " - 114s - loss: 0.9281 - acc: 0.6346 - val_loss: 0.9649 - val_acc: 0.6190\n",
      "Epoch 71/100\n",
      " - 116s - loss: 0.9283 - acc: 0.6342 - val_loss: 0.9681 - val_acc: 0.6186\n",
      "Epoch 72/100\n",
      " - 116s - loss: 0.9262 - acc: 0.6352 - val_loss: 0.9625 - val_acc: 0.6212\n",
      "Epoch 73/100\n",
      " - 114s - loss: 0.9249 - acc: 0.6354 - val_loss: 0.9633 - val_acc: 0.6208\n",
      "Epoch 74/100\n",
      " - 112s - loss: 0.9245 - acc: 0.6356 - val_loss: 0.9653 - val_acc: 0.6192\n",
      "Epoch 75/100\n",
      " - 109s - loss: 0.9231 - acc: 0.6365 - val_loss: 0.9642 - val_acc: 0.6208\n",
      "Epoch 76/100\n",
      " - 110s - loss: 0.9221 - acc: 0.6370 - val_loss: 0.9609 - val_acc: 0.6219\n",
      "Epoch 77/100\n",
      " - 101s - loss: 0.9209 - acc: 0.6373 - val_loss: 0.9618 - val_acc: 0.6211\n",
      "Epoch 78/100\n",
      " - 111s - loss: 0.9197 - acc: 0.6378 - val_loss: 0.9629 - val_acc: 0.6208\n",
      "Epoch 79/100\n",
      " - 109s - loss: 0.9192 - acc: 0.6379 - val_loss: 0.9625 - val_acc: 0.6212\n",
      "Epoch 80/100\n",
      " - 109s - loss: 0.9179 - acc: 0.6386 - val_loss: 0.9627 - val_acc: 0.6215\n",
      "Epoch 81/100\n",
      " - 105s - loss: 0.9165 - acc: 0.6390 - val_loss: 0.9626 - val_acc: 0.6219\n",
      "Epoch 82/100\n",
      " - 106s - loss: 0.9161 - acc: 0.6394 - val_loss: 0.9622 - val_acc: 0.6212\n",
      "Epoch 83/100\n",
      " - 97s - loss: 0.9144 - acc: 0.6401 - val_loss: 0.9639 - val_acc: 0.6207\n",
      "Epoch 84/100\n",
      " - 104s - loss: 0.9133 - acc: 0.6404 - val_loss: 0.9622 - val_acc: 0.6217\n",
      "Epoch 85/100\n",
      " - 110s - loss: 0.9124 - acc: 0.6411 - val_loss: 0.9648 - val_acc: 0.6204\n",
      "Epoch 86/100\n",
      " - 111s - loss: 0.9122 - acc: 0.6409 - val_loss: 0.9636 - val_acc: 0.6213\n",
      "Epoch 87/100\n",
      " - 111s - loss: 0.9105 - acc: 0.6415 - val_loss: 0.9667 - val_acc: 0.6204\n",
      "Epoch 88/100\n",
      " - 109s - loss: 0.9087 - acc: 0.6426 - val_loss: 0.9608 - val_acc: 0.6224\n",
      "Epoch 89/100\n",
      " - 111s - loss: 0.9080 - acc: 0.6425 - val_loss: 0.9674 - val_acc: 0.6192\n",
      "Epoch 90/100\n",
      " - 110s - loss: 0.9076 - acc: 0.6429 - val_loss: 0.9627 - val_acc: 0.6218\n",
      "Epoch 91/100\n",
      " - 99s - loss: 0.9061 - acc: 0.6434 - val_loss: 0.9620 - val_acc: 0.6219\n",
      "Epoch 92/100\n",
      " - 109s - loss: 0.9049 - acc: 0.6439 - val_loss: 0.9612 - val_acc: 0.6218\n",
      "Epoch 93/100\n",
      " - 103s - loss: 0.9041 - acc: 0.6440 - val_loss: 0.9658 - val_acc: 0.6209\n",
      "Epoch 94/100\n",
      " - 97s - loss: 0.9025 - acc: 0.6450 - val_loss: 0.9656 - val_acc: 0.6209\n",
      "Epoch 95/100\n",
      " - 101s - loss: 0.9015 - acc: 0.6452 - val_loss: 0.9643 - val_acc: 0.6216\n",
      "Epoch 96/100\n",
      " - 107s - loss: 0.9006 - acc: 0.6457 - val_loss: 0.9644 - val_acc: 0.6216\n",
      "Epoch 97/100\n",
      " - 100s - loss: 0.8994 - acc: 0.6464 - val_loss: 0.9623 - val_acc: 0.6221\n",
      "Epoch 98/100\n",
      " - 108s - loss: 0.8978 - acc: 0.6468 - val_loss: 0.9627 - val_acc: 0.6223\n",
      "Epoch 99/100\n",
      " - 112s - loss: 0.8971 - acc: 0.6471 - val_loss: 0.9641 - val_acc: 0.6215\n",
      "Epoch 100/100\n",
      " - 111s - loss: 0.8963 - acc: 0.6473 - val_loss: 0.9686 - val_acc: 0.6202\n",
      "finish: 1\n",
      "finish split data\n",
      "Train on 3200000 samples, validate on 800000 samples\n",
      "Epoch 1/100\n",
      " - 129s - loss: 1.9231 - acc: 0.4044 - val_loss: 1.2634 - val_acc: 0.5176\n",
      "Epoch 2/100\n",
      " - 98s - loss: 1.3890 - acc: 0.4768 - val_loss: 1.1873 - val_acc: 0.5421\n",
      "Epoch 3/100\n",
      " - 100s - loss: 1.2635 - acc: 0.5100 - val_loss: 1.1407 - val_acc: 0.5553\n",
      "Epoch 4/100\n",
      " - 99s - loss: 1.1954 - acc: 0.5327 - val_loss: 1.1084 - val_acc: 0.5670\n",
      "Epoch 5/100\n",
      " - 100s - loss: 1.1543 - acc: 0.5470 - val_loss: 1.0935 - val_acc: 0.5728\n",
      "Epoch 6/100\n",
      " - 99s - loss: 1.1264 - acc: 0.5575 - val_loss: 1.0751 - val_acc: 0.5796\n",
      "Epoch 7/100\n",
      " - 100s - loss: 1.1049 - acc: 0.5661 - val_loss: 1.0637 - val_acc: 0.5831\n",
      "Epoch 8/100\n",
      " - 99s - loss: 1.0896 - acc: 0.5722 - val_loss: 1.0514 - val_acc: 0.5875\n",
      "Epoch 9/100\n",
      " - 98s - loss: 1.0769 - acc: 0.5771 - val_loss: 1.0436 - val_acc: 0.5905\n",
      "Epoch 10/100\n",
      " - 99s - loss: 1.0664 - acc: 0.5813 - val_loss: 1.0389 - val_acc: 0.5933\n",
      "Epoch 11/100\n",
      " - 99s - loss: 1.0571 - acc: 0.5849 - val_loss: 1.0322 - val_acc: 0.5953\n",
      "Epoch 12/100\n",
      " - 99s - loss: 1.0494 - acc: 0.5879 - val_loss: 1.0298 - val_acc: 0.5960\n",
      "Epoch 13/100\n",
      " - 101s - loss: 1.0426 - acc: 0.5907 - val_loss: 1.0221 - val_acc: 0.5996\n",
      "Epoch 14/100\n",
      " - 100s - loss: 1.0367 - acc: 0.5929 - val_loss: 1.0214 - val_acc: 0.5994\n",
      "Epoch 15/100\n",
      " - 99s - loss: 1.0317 - acc: 0.5950 - val_loss: 1.0160 - val_acc: 0.6011\n",
      "Epoch 16/100\n",
      " - 99s - loss: 1.0271 - acc: 0.5969 - val_loss: 1.0122 - val_acc: 0.6026\n",
      "Epoch 17/100\n",
      " - 100s - loss: 1.0230 - acc: 0.5984 - val_loss: 1.0092 - val_acc: 0.6043\n",
      "Epoch 18/100\n",
      " - 100s - loss: 1.0185 - acc: 0.6002 - val_loss: 1.0071 - val_acc: 0.6039\n",
      "Epoch 19/100\n",
      " - 98s - loss: 1.0143 - acc: 0.6017 - val_loss: 1.0051 - val_acc: 0.6045\n",
      "Epoch 20/100\n",
      " - 97s - loss: 1.0112 - acc: 0.6029 - val_loss: 1.0032 - val_acc: 0.6064\n",
      "Epoch 21/100\n",
      " - 95s - loss: 1.0083 - acc: 0.6040 - val_loss: 0.9997 - val_acc: 0.6080\n",
      "Epoch 22/100\n",
      " - 94s - loss: 1.0043 - acc: 0.6054 - val_loss: 0.9965 - val_acc: 0.6082\n",
      "Epoch 23/100\n",
      " - 93s - loss: 1.0010 - acc: 0.6063 - val_loss: 0.9961 - val_acc: 0.6090\n",
      "Epoch 24/100\n",
      " - 93s - loss: 0.9979 - acc: 0.6071 - val_loss: 0.9941 - val_acc: 0.6090\n",
      "Epoch 25/100\n",
      " - 96s - loss: 0.9946 - acc: 0.6087 - val_loss: 0.9906 - val_acc: 0.6101\n",
      "Epoch 26/100\n",
      " - 95s - loss: 0.9911 - acc: 0.6098 - val_loss: 0.9903 - val_acc: 0.6105\n",
      "Epoch 27/100\n"
     ]
    },
    {
     "ename": "KeyboardInterrupt",
     "evalue": "",
     "output_type": "error",
     "traceback": [
      "\u001b[0;31m---------------------------------------------------------------------------\u001b[0m",
      "\u001b[0;31mKeyboardInterrupt\u001b[0m                         Traceback (most recent call last)",
      "\u001b[0;32m<ipython-input-53-db85732b976f>\u001b[0m in \u001b[0;36m<module>\u001b[0;34m\u001b[0m\n\u001b[1;32m     45\u001b[0m \u001b[0;34m\u001b[0m\u001b[0m\n\u001b[1;32m     46\u001b[0m \u001b[0;34m\u001b[0m\u001b[0m\n\u001b[0;32m---> 47\u001b[0;31m     \u001b[0mmodel_parallel\u001b[0m\u001b[0;34m.\u001b[0m\u001b[0mfit\u001b[0m\u001b[0;34m(\u001b[0m\u001b[0mtrain_x\u001b[0m\u001b[0;34m,\u001b[0m \u001b[0mtrain_y\u001b[0m\u001b[0;34m,\u001b[0m \u001b[0mepochs\u001b[0m\u001b[0;34m=\u001b[0m\u001b[0;36m100\u001b[0m\u001b[0;34m,\u001b[0m\u001b[0mbatch_size\u001b[0m\u001b[0;34m=\u001b[0m\u001b[0;36m8192\u001b[0m\u001b[0;34m*\u001b[0m\u001b[0;36m4\u001b[0m\u001b[0;34m,\u001b[0m\u001b[0mvalidation_data\u001b[0m\u001b[0;34m=\u001b[0m\u001b[0;34m[\u001b[0m\u001b[0mvalidation_x\u001b[0m\u001b[0;34m,\u001b[0m\u001b[0mvalidation_y\u001b[0m\u001b[0;34m]\u001b[0m\u001b[0;34m,\u001b[0m\u001b[0mcallbacks\u001b[0m\u001b[0;34m=\u001b[0m\u001b[0mcallbacks_list\u001b[0m\u001b[0;34m,\u001b[0m\u001b[0mverbose\u001b[0m\u001b[0;34m=\u001b[0m\u001b[0;36m2\u001b[0m\u001b[0;34m)\u001b[0m\u001b[0;34m\u001b[0m\u001b[0;34m\u001b[0m\u001b[0m\n\u001b[0m\u001b[1;32m     48\u001b[0m \u001b[0;34m\u001b[0m\u001b[0m\n\u001b[1;32m     49\u001b[0m \u001b[0;34m\u001b[0m\u001b[0m\n",
      "\u001b[0;32m/opt/conda/lib/python3.6/site-packages/keras/engine/training.py\u001b[0m in \u001b[0;36mfit\u001b[0;34m(self, x, y, batch_size, epochs, verbose, callbacks, validation_split, validation_data, shuffle, class_weight, sample_weight, initial_epoch, steps_per_epoch, validation_steps, **kwargs)\u001b[0m\n\u001b[1;32m   1037\u001b[0m                                         \u001b[0minitial_epoch\u001b[0m\u001b[0;34m=\u001b[0m\u001b[0minitial_epoch\u001b[0m\u001b[0;34m,\u001b[0m\u001b[0;34m\u001b[0m\u001b[0;34m\u001b[0m\u001b[0m\n\u001b[1;32m   1038\u001b[0m                                         \u001b[0msteps_per_epoch\u001b[0m\u001b[0;34m=\u001b[0m\u001b[0msteps_per_epoch\u001b[0m\u001b[0;34m,\u001b[0m\u001b[0;34m\u001b[0m\u001b[0;34m\u001b[0m\u001b[0m\n\u001b[0;32m-> 1039\u001b[0;31m                                         validation_steps=validation_steps)\n\u001b[0m\u001b[1;32m   1040\u001b[0m \u001b[0;34m\u001b[0m\u001b[0m\n\u001b[1;32m   1041\u001b[0m     def evaluate(self, x=None, y=None,\n",
      "\u001b[0;32m/opt/conda/lib/python3.6/site-packages/keras/engine/training_arrays.py\u001b[0m in \u001b[0;36mfit_loop\u001b[0;34m(model, f, ins, out_labels, batch_size, epochs, verbose, callbacks, val_f, val_ins, shuffle, callback_metrics, initial_epoch, steps_per_epoch, validation_steps)\u001b[0m\n\u001b[1;32m    197\u001b[0m                     \u001b[0mins_batch\u001b[0m\u001b[0;34m[\u001b[0m\u001b[0mi\u001b[0m\u001b[0;34m]\u001b[0m \u001b[0;34m=\u001b[0m \u001b[0mins_batch\u001b[0m\u001b[0;34m[\u001b[0m\u001b[0mi\u001b[0m\u001b[0;34m]\u001b[0m\u001b[0;34m.\u001b[0m\u001b[0mtoarray\u001b[0m\u001b[0;34m(\u001b[0m\u001b[0;34m)\u001b[0m\u001b[0;34m\u001b[0m\u001b[0;34m\u001b[0m\u001b[0m\n\u001b[1;32m    198\u001b[0m \u001b[0;34m\u001b[0m\u001b[0m\n\u001b[0;32m--> 199\u001b[0;31m                 \u001b[0mouts\u001b[0m \u001b[0;34m=\u001b[0m \u001b[0mf\u001b[0m\u001b[0;34m(\u001b[0m\u001b[0mins_batch\u001b[0m\u001b[0;34m)\u001b[0m\u001b[0;34m\u001b[0m\u001b[0;34m\u001b[0m\u001b[0m\n\u001b[0m\u001b[1;32m    200\u001b[0m                 \u001b[0mouts\u001b[0m \u001b[0;34m=\u001b[0m \u001b[0mto_list\u001b[0m\u001b[0;34m(\u001b[0m\u001b[0mouts\u001b[0m\u001b[0;34m)\u001b[0m\u001b[0;34m\u001b[0m\u001b[0;34m\u001b[0m\u001b[0m\n\u001b[1;32m    201\u001b[0m                 \u001b[0;32mfor\u001b[0m \u001b[0ml\u001b[0m\u001b[0;34m,\u001b[0m \u001b[0mo\u001b[0m \u001b[0;32min\u001b[0m \u001b[0mzip\u001b[0m\u001b[0;34m(\u001b[0m\u001b[0mout_labels\u001b[0m\u001b[0;34m,\u001b[0m \u001b[0mouts\u001b[0m\u001b[0;34m)\u001b[0m\u001b[0;34m:\u001b[0m\u001b[0;34m\u001b[0m\u001b[0;34m\u001b[0m\u001b[0m\n",
      "\u001b[0;32m/opt/conda/lib/python3.6/site-packages/keras/backend/tensorflow_backend.py\u001b[0m in \u001b[0;36m__call__\u001b[0;34m(self, inputs)\u001b[0m\n\u001b[1;32m   2713\u001b[0m                 \u001b[0;32mreturn\u001b[0m \u001b[0mself\u001b[0m\u001b[0;34m.\u001b[0m\u001b[0m_legacy_call\u001b[0m\u001b[0;34m(\u001b[0m\u001b[0minputs\u001b[0m\u001b[0;34m)\u001b[0m\u001b[0;34m\u001b[0m\u001b[0;34m\u001b[0m\u001b[0m\n\u001b[1;32m   2714\u001b[0m \u001b[0;34m\u001b[0m\u001b[0m\n\u001b[0;32m-> 2715\u001b[0;31m             \u001b[0;32mreturn\u001b[0m \u001b[0mself\u001b[0m\u001b[0;34m.\u001b[0m\u001b[0m_call\u001b[0m\u001b[0;34m(\u001b[0m\u001b[0minputs\u001b[0m\u001b[0;34m)\u001b[0m\u001b[0;34m\u001b[0m\u001b[0;34m\u001b[0m\u001b[0m\n\u001b[0m\u001b[1;32m   2716\u001b[0m         \u001b[0;32melse\u001b[0m\u001b[0;34m:\u001b[0m\u001b[0;34m\u001b[0m\u001b[0;34m\u001b[0m\u001b[0m\n\u001b[1;32m   2717\u001b[0m             \u001b[0;32mif\u001b[0m \u001b[0mpy_any\u001b[0m\u001b[0;34m(\u001b[0m\u001b[0mis_tensor\u001b[0m\u001b[0;34m(\u001b[0m\u001b[0mx\u001b[0m\u001b[0;34m)\u001b[0m \u001b[0;32mfor\u001b[0m \u001b[0mx\u001b[0m \u001b[0;32min\u001b[0m \u001b[0minputs\u001b[0m\u001b[0;34m)\u001b[0m\u001b[0;34m:\u001b[0m\u001b[0;34m\u001b[0m\u001b[0;34m\u001b[0m\u001b[0m\n",
      "\u001b[0;32m/opt/conda/lib/python3.6/site-packages/keras/backend/tensorflow_backend.py\u001b[0m in \u001b[0;36m_call\u001b[0;34m(self, inputs)\u001b[0m\n\u001b[1;32m   2653\u001b[0m                 array_vals.append(\n\u001b[1;32m   2654\u001b[0m                     np.asarray(value,\n\u001b[0;32m-> 2655\u001b[0;31m                                dtype=tf.as_dtype(tensor.dtype).as_numpy_dtype))\n\u001b[0m\u001b[1;32m   2656\u001b[0m         \u001b[0;32mif\u001b[0m \u001b[0mself\u001b[0m\u001b[0;34m.\u001b[0m\u001b[0mfeed_dict\u001b[0m\u001b[0;34m:\u001b[0m\u001b[0;34m\u001b[0m\u001b[0;34m\u001b[0m\u001b[0m\n\u001b[1;32m   2657\u001b[0m             \u001b[0;32mfor\u001b[0m \u001b[0mkey\u001b[0m \u001b[0;32min\u001b[0m \u001b[0msorted\u001b[0m\u001b[0;34m(\u001b[0m\u001b[0mself\u001b[0m\u001b[0;34m.\u001b[0m\u001b[0mfeed_dict\u001b[0m\u001b[0;34m.\u001b[0m\u001b[0mkeys\u001b[0m\u001b[0;34m(\u001b[0m\u001b[0;34m)\u001b[0m\u001b[0;34m)\u001b[0m\u001b[0;34m:\u001b[0m\u001b[0;34m\u001b[0m\u001b[0;34m\u001b[0m\u001b[0m\n",
      "\u001b[0;32m/opt/conda/lib/python3.6/site-packages/numpy/core/numeric.py\u001b[0m in \u001b[0;36masarray\u001b[0;34m(a, dtype, order)\u001b[0m\n\u001b[1;32m    536\u001b[0m \u001b[0;34m\u001b[0m\u001b[0m\n\u001b[1;32m    537\u001b[0m     \"\"\"\n\u001b[0;32m--> 538\u001b[0;31m     \u001b[0;32mreturn\u001b[0m \u001b[0marray\u001b[0m\u001b[0;34m(\u001b[0m\u001b[0ma\u001b[0m\u001b[0;34m,\u001b[0m \u001b[0mdtype\u001b[0m\u001b[0;34m,\u001b[0m \u001b[0mcopy\u001b[0m\u001b[0;34m=\u001b[0m\u001b[0;32mFalse\u001b[0m\u001b[0;34m,\u001b[0m \u001b[0morder\u001b[0m\u001b[0;34m=\u001b[0m\u001b[0morder\u001b[0m\u001b[0;34m)\u001b[0m\u001b[0;34m\u001b[0m\u001b[0;34m\u001b[0m\u001b[0m\n\u001b[0m\u001b[1;32m    539\u001b[0m \u001b[0;34m\u001b[0m\u001b[0m\n\u001b[1;32m    540\u001b[0m \u001b[0;34m\u001b[0m\u001b[0m\n",
      "\u001b[0;31mKeyboardInterrupt\u001b[0m: "
     ]
    }
   ],
   "source": [
    "pred_list=[]\n",
    "test_x=test_X\n",
    "\n",
    "for i in range(split_size):\n",
    "    ####切分数据集\n",
    "    validation_index=list(split_index_list[i])\n",
    "    train_index=[]\n",
    "    for j in range(split_size):\n",
    "        if j==i:\n",
    "            continue\n",
    "        train_index+=list(split_index_list[j])\n",
    "    train_x=[x_data[train_index] for x_data in X]\n",
    "    train_y=Y[train_index]  \n",
    "    validation_x=[x_data[validation_index] for x_data in X]\n",
    "    validation_y=Y[validation_index]\n",
    "    print('finish split data')\n",
    "    \n",
    "    model_name='my_model_split_'+prefix+str(i)+'.h5'\n",
    "    \n",
    "    model = build_res_net()\n",
    "#     callbacks_list = [\n",
    "#     EarlyStopping(\n",
    "#         monitor='val_loss',\n",
    "#         patience=20\n",
    "#     ),\n",
    "#     ModelCheckpoint(\n",
    "#         filepath=model_name, \n",
    "#         monitor='val_loss', \n",
    "#         save_best_only=True\n",
    "#     )\n",
    "# ]\n",
    "#     model.fit(train_x, train_y, epochs=1,batch_size=4096,validation_data=[validation_x,validation_y],callbacks=callbacks_list)\n",
    "\n",
    "    callbacks_list = [\n",
    "        EarlyStopping(\n",
    "            monitor='val_loss',\n",
    "            patience=20\n",
    "        ),\n",
    "        ParallelModelCheckpoint(model,model_name,save_best_only=True,monitor='val_loss')\n",
    "\n",
    "    ]\n",
    "    \n",
    "    model_parallel=multi_gpu_model(model,gpus=4)\n",
    "    model_parallel.compile(loss='categorical_crossentropy', optimizer=optimizers.Adam(lr=0.0001),metrics=['accuracy'])\n",
    "    \n",
    "    \n",
    "    model_parallel.fit(train_x, train_y, epochs=100,batch_size=8192*4,validation_data=[validation_x,validation_y],callbacks=callbacks_list,verbose=2)\n",
    "    \n",
    "    \n",
    "    my_model = load_model(model_name)\n",
    "    y_pred = my_model.predict(test_x)\n",
    "    pred_list.append(y_pred)\n",
    "    \n",
    "    ##备份\n",
    "    pd_y_pred=pd.DataFrame(y_pred)\n",
    "    pd_y_pred.to_csv('pred_nn_'+prefix+str(i)+'.csv',index=False,header=None)\n",
    "\n",
    "    print('finish:',str(i))"
   ]
  },
  {
   "cell_type": "code",
   "execution_count": 54,
   "metadata": {},
   "outputs": [],
   "source": [
    "##### "
   ]
  },
  {
   "cell_type": "code",
   "execution_count": 51,
   "metadata": {},
   "outputs": [
    {
     "name": "stdout",
     "output_type": "stream",
     "text": [
      "2520000\n"
     ]
    }
   ],
   "source": [
    "num_Y=np.argmax(Y,axis=1)\n",
    "pd_Y=pd.DataFrame(num_Y)\n",
    "index_set=[]\n",
    "from sklearn.utils import shuffle\n",
    "index_set.extend(list(shuffle(pd_Y[pd_Y[0]==0]).index)[:190000])\n",
    "index_set.extend(list(shuffle(pd_Y[pd_Y[0]==1]).index)[:300000])\n",
    "index_set.extend(list(shuffle(pd_Y[pd_Y[0]==2]).index)[:750000])\n",
    "index_set.extend(list(shuffle(pd_Y[pd_Y[0]==3]).index)[:750000])\n",
    "index_set.extend(list(shuffle(pd_Y[pd_Y[0]==4]).index)[:380000])\n",
    "index_set.extend(list(shuffle(pd_Y[pd_Y[0]==5]).index)[:150000])\n",
    "index_set = list(shuffle(index_set))\n",
    "print(len(index_set))"
   ]
  },
  {
   "cell_type": "code",
   "execution_count": 52,
   "metadata": {},
   "outputs": [],
   "source": [
    "train_x=[x_data[index_set] for x_data in X]\n",
    "train_y=Y[index_set]"
   ]
  },
  {
   "cell_type": "code",
   "execution_count": 53,
   "metadata": {},
   "outputs": [],
   "source": [
    "model_name = 'my_model_final.h5'\n",
    "callbacks_list = [\n",
    "        EarlyStopping(\n",
    "            monitor='val_loss',\n",
    "            patience=20\n",
    "        ),\n",
    "        ParallelModelCheckpoint(model,model_name,save_best_only=True,monitor='val_loss')\n",
    "\n",
    "    ]\n",
    "    \n",
    "model_parallel=multi_gpu_model(model,gpus=4)\n",
    "model_parallel.compile(loss='categorical_crossentropy', optimizer=optimizers.Adam(lr=0.0001),metrics=['accuracy'])\n"
   ]
  },
  {
   "cell_type": "code",
   "execution_count": 54,
   "metadata": {},
   "outputs": [
    {
     "name": "stdout",
     "output_type": "stream",
     "text": [
      "Train on 2268000 samples, validate on 252000 samples\n",
      "Epoch 1/200\n",
      "2268000/2268000 [==============================] - 87s 38us/step - loss: 1.9511 - acc: 0.4107 - val_loss: 1.2585 - val_acc: 0.5135\n",
      "Epoch 2/200\n",
      "2268000/2268000 [==============================] - 58s 26us/step - loss: 1.3845 - acc: 0.4774 - val_loss: 1.1918 - val_acc: 0.5316\n",
      "Epoch 3/200\n",
      "2268000/2268000 [==============================] - 57s 25us/step - loss: 1.2626 - acc: 0.5056 - val_loss: 1.1422 - val_acc: 0.5469\n",
      "Epoch 4/200\n",
      "2268000/2268000 [==============================] - 57s 25us/step - loss: 1.1985 - acc: 0.5240 - val_loss: 1.1139 - val_acc: 0.5542\n",
      "Epoch 5/200\n",
      "2268000/2268000 [==============================] - 57s 25us/step - loss: 1.1577 - acc: 0.5372 - val_loss: 1.0862 - val_acc: 0.5646\n",
      "Epoch 6/200\n",
      "2268000/2268000 [==============================] - 59s 26us/step - loss: 1.1264 - acc: 0.5484 - val_loss: 1.0696 - val_acc: 0.5695\n",
      "Epoch 7/200\n",
      "2268000/2268000 [==============================] - 58s 26us/step - loss: 1.1032 - acc: 0.5571 - val_loss: 1.0504 - val_acc: 0.5785\n",
      "Epoch 8/200\n",
      "2268000/2268000 [==============================] - 58s 25us/step - loss: 1.0840 - acc: 0.5645 - val_loss: 1.0402 - val_acc: 0.5807\n",
      "Epoch 9/200\n",
      "2268000/2268000 [==============================] - 57s 25us/step - loss: 1.0672 - acc: 0.5711 - val_loss: 1.0350 - val_acc: 0.5835\n",
      "Epoch 10/200\n",
      "2268000/2268000 [==============================] - 57s 25us/step - loss: 1.0551 - acc: 0.5764 - val_loss: 1.0243 - val_acc: 0.5889\n",
      "Epoch 11/200\n",
      "2268000/2268000 [==============================] - 57s 25us/step - loss: 1.0447 - acc: 0.5806 - val_loss: 1.0190 - val_acc: 0.5910\n",
      "Epoch 12/200\n",
      "2268000/2268000 [==============================] - 57s 25us/step - loss: 1.0357 - acc: 0.5843 - val_loss: 1.0081 - val_acc: 0.5937\n",
      "Epoch 13/200\n",
      "2268000/2268000 [==============================] - 57s 25us/step - loss: 1.0284 - acc: 0.5869 - val_loss: 1.0090 - val_acc: 0.5944\n",
      "Epoch 14/200\n",
      "2268000/2268000 [==============================] - 58s 25us/step - loss: 1.0218 - acc: 0.5896 - val_loss: 1.0034 - val_acc: 0.5963\n",
      "Epoch 15/200\n",
      "2268000/2268000 [==============================] - 57s 25us/step - loss: 1.0157 - acc: 0.5921 - val_loss: 1.0015 - val_acc: 0.5958\n",
      "Epoch 16/200\n",
      "2268000/2268000 [==============================] - 58s 25us/step - loss: 1.0102 - acc: 0.5943 - val_loss: 0.9969 - val_acc: 0.5984\n",
      "Epoch 17/200\n",
      "2268000/2268000 [==============================] - 59s 26us/step - loss: 1.0052 - acc: 0.5965 - val_loss: 0.9890 - val_acc: 0.6027\n",
      "Epoch 18/200\n",
      "2268000/2268000 [==============================] - 57s 25us/step - loss: 1.0004 - acc: 0.5987 - val_loss: 0.9864 - val_acc: 0.6039\n",
      "Epoch 19/200\n",
      "2268000/2268000 [==============================] - 59s 26us/step - loss: 0.9967 - acc: 0.6002 - val_loss: 0.9855 - val_acc: 0.6048\n",
      "Epoch 20/200\n",
      "2268000/2268000 [==============================] - 57s 25us/step - loss: 0.9933 - acc: 0.6014 - val_loss: 0.9841 - val_acc: 0.6038\n",
      "Epoch 21/200\n",
      "2268000/2268000 [==============================] - 57s 25us/step - loss: 0.9903 - acc: 0.6025 - val_loss: 0.9828 - val_acc: 0.6057\n",
      "Epoch 22/200\n",
      "2268000/2268000 [==============================] - 57s 25us/step - loss: 0.9874 - acc: 0.6043 - val_loss: 0.9809 - val_acc: 0.6063\n",
      "Epoch 23/200\n",
      "2268000/2268000 [==============================] - 57s 25us/step - loss: 0.9847 - acc: 0.6058 - val_loss: 0.9807 - val_acc: 0.6051\n",
      "Epoch 24/200\n",
      "2268000/2268000 [==============================] - 57s 25us/step - loss: 0.9802 - acc: 0.6066 - val_loss: 0.9786 - val_acc: 0.6073\n",
      "Epoch 25/200\n",
      "2268000/2268000 [==============================] - 57s 25us/step - loss: 0.9787 - acc: 0.6072 - val_loss: 0.9788 - val_acc: 0.6067\n",
      "Epoch 26/200\n",
      "2268000/2268000 [==============================] - 57s 25us/step - loss: 0.9754 - acc: 0.6085 - val_loss: 0.9728 - val_acc: 0.6092\n",
      "Epoch 27/200\n",
      "2268000/2268000 [==============================] - 58s 25us/step - loss: 0.9728 - acc: 0.6096 - val_loss: 0.9698 - val_acc: 0.6107\n",
      "Epoch 28/200\n",
      "2268000/2268000 [==============================] - 57s 25us/step - loss: 0.9708 - acc: 0.6106 - val_loss: 0.9675 - val_acc: 0.6117\n",
      "Epoch 29/200\n",
      "2268000/2268000 [==============================] - 58s 25us/step - loss: 0.9684 - acc: 0.6117 - val_loss: 0.9702 - val_acc: 0.6107\n",
      "Epoch 30/200\n",
      "2268000/2268000 [==============================] - 59s 26us/step - loss: 0.9662 - acc: 0.6123 - val_loss: 0.9673 - val_acc: 0.6124\n",
      "Epoch 31/200\n",
      "2268000/2268000 [==============================] - 58s 25us/step - loss: 0.9639 - acc: 0.6133 - val_loss: 0.9635 - val_acc: 0.6130\n",
      "Epoch 32/200\n",
      "2268000/2268000 [==============================] - 57s 25us/step - loss: 0.9610 - acc: 0.6144 - val_loss: 0.9634 - val_acc: 0.6131\n",
      "Epoch 33/200\n",
      "2268000/2268000 [==============================] - 59s 26us/step - loss: 0.9591 - acc: 0.6152 - val_loss: 0.9683 - val_acc: 0.6115\n",
      "Epoch 34/200\n",
      "2268000/2268000 [==============================] - 58s 25us/step - loss: 0.9577 - acc: 0.6157 - val_loss: 0.9672 - val_acc: 0.6105\n",
      "Epoch 35/200\n",
      "2268000/2268000 [==============================] - 58s 26us/step - loss: 0.9571 - acc: 0.6158 - val_loss: 0.9586 - val_acc: 0.6147\n",
      "Epoch 36/200\n",
      "2268000/2268000 [==============================] - 58s 25us/step - loss: 0.9536 - acc: 0.6171 - val_loss: 0.9618 - val_acc: 0.6129\n",
      "Epoch 37/200\n",
      "2268000/2268000 [==============================] - 58s 26us/step - loss: 0.9509 - acc: 0.6181 - val_loss: 0.9565 - val_acc: 0.6155\n",
      "Epoch 38/200\n",
      "2268000/2268000 [==============================] - 58s 25us/step - loss: 0.9495 - acc: 0.6185 - val_loss: 0.9576 - val_acc: 0.6142\n",
      "Epoch 39/200\n",
      "2268000/2268000 [==============================] - 60s 26us/step - loss: 0.9482 - acc: 0.6190 - val_loss: 0.9562 - val_acc: 0.6153\n",
      "Epoch 40/200\n",
      "2268000/2268000 [==============================] - 60s 27us/step - loss: 0.9461 - acc: 0.6202 - val_loss: 0.9533 - val_acc: 0.6167\n",
      "Epoch 41/200\n",
      "2268000/2268000 [==============================] - 60s 26us/step - loss: 0.9445 - acc: 0.6207 - val_loss: 0.9516 - val_acc: 0.6171\n",
      "Epoch 42/200\n",
      "2268000/2268000 [==============================] - 59s 26us/step - loss: 0.9425 - acc: 0.6214 - val_loss: 0.9502 - val_acc: 0.6180\n",
      "Epoch 43/200\n",
      "2268000/2268000 [==============================] - 58s 26us/step - loss: 0.9420 - acc: 0.6213 - val_loss: 0.9504 - val_acc: 0.6173\n",
      "Epoch 44/200\n",
      "2268000/2268000 [==============================] - 60s 26us/step - loss: 0.9404 - acc: 0.6223 - val_loss: 0.9515 - val_acc: 0.6173\n",
      "Epoch 45/200\n",
      "2268000/2268000 [==============================] - 61s 27us/step - loss: 0.9397 - acc: 0.6225 - val_loss: 0.9503 - val_acc: 0.6169\n",
      "Epoch 46/200\n",
      "2268000/2268000 [==============================] - 60s 27us/step - loss: 0.9380 - acc: 0.6235 - val_loss: 0.9529 - val_acc: 0.6159\n",
      "Epoch 47/200\n",
      "2268000/2268000 [==============================] - 61s 27us/step - loss: 0.9370 - acc: 0.6234 - val_loss: 0.9475 - val_acc: 0.6188\n",
      "Epoch 48/200\n",
      "2268000/2268000 [==============================] - 60s 26us/step - loss: 0.9348 - acc: 0.6248 - val_loss: 0.9469 - val_acc: 0.6182\n",
      "Epoch 49/200\n",
      "2268000/2268000 [==============================] - 60s 26us/step - loss: 0.9340 - acc: 0.6246 - val_loss: 0.9474 - val_acc: 0.6190\n",
      "Epoch 50/200\n",
      "2268000/2268000 [==============================] - 58s 26us/step - loss: 0.9325 - acc: 0.6252 - val_loss: 0.9471 - val_acc: 0.6193\n",
      "Epoch 51/200\n",
      "2268000/2268000 [==============================] - 59s 26us/step - loss: 0.9327 - acc: 0.6255 - val_loss: 0.9451 - val_acc: 0.6188\n",
      "Epoch 52/200\n",
      "2268000/2268000 [==============================] - 59s 26us/step - loss: 0.9298 - acc: 0.6261 - val_loss: 0.9553 - val_acc: 0.6158\n",
      "Epoch 53/200\n",
      "2268000/2268000 [==============================] - 59s 26us/step - loss: 0.9301 - acc: 0.6262 - val_loss: 0.9439 - val_acc: 0.6203\n",
      "Epoch 54/200\n",
      "2268000/2268000 [==============================] - 59s 26us/step - loss: 0.9281 - acc: 0.6271 - val_loss: 0.9508 - val_acc: 0.6191\n",
      "Epoch 55/200\n",
      "2268000/2268000 [==============================] - 59s 26us/step - loss: 0.9275 - acc: 0.6277 - val_loss: 0.9466 - val_acc: 0.6185\n",
      "Epoch 56/200\n",
      "2268000/2268000 [==============================] - 59s 26us/step - loss: 0.9254 - acc: 0.6281 - val_loss: 0.9456 - val_acc: 0.6195\n",
      "Epoch 57/200\n",
      "2268000/2268000 [==============================] - 58s 26us/step - loss: 0.9243 - acc: 0.6286 - val_loss: 0.9440 - val_acc: 0.6205\n",
      "Epoch 58/200\n",
      "2268000/2268000 [==============================] - 57s 25us/step - loss: 0.9226 - acc: 0.6293 - val_loss: 0.9453 - val_acc: 0.6194\n",
      "Epoch 59/200\n",
      "2268000/2268000 [==============================] - 58s 25us/step - loss: 0.9222 - acc: 0.6294 - val_loss: 0.9447 - val_acc: 0.6203\n",
      "Epoch 60/200\n",
      "2268000/2268000 [==============================] - 58s 26us/step - loss: 0.9216 - acc: 0.6298 - val_loss: 0.9462 - val_acc: 0.6190\n",
      "Epoch 61/200\n",
      "1540096/2268000 [===================>..........] - ETA: 17s - loss: 0.9206 - acc: 0.6298"
     ]
    },
    {
     "ename": "KeyboardInterrupt",
     "evalue": "",
     "output_type": "error",
     "traceback": [
      "\u001b[0;31m---------------------------------------------------------------------------\u001b[0m",
      "\u001b[0;31mKeyboardInterrupt\u001b[0m                         Traceback (most recent call last)",
      "\u001b[0;32m<ipython-input-54-670ae9fd3719>\u001b[0m in \u001b[0;36m<module>\u001b[0;34m\u001b[0m\n\u001b[0;32m----> 1\u001b[0;31m \u001b[0mmodel_parallel\u001b[0m\u001b[0;34m.\u001b[0m\u001b[0mfit\u001b[0m\u001b[0;34m(\u001b[0m\u001b[0mtrain_x\u001b[0m\u001b[0;34m,\u001b[0m\u001b[0mtrain_y\u001b[0m \u001b[0;34m,\u001b[0m \u001b[0mepochs\u001b[0m\u001b[0;34m=\u001b[0m\u001b[0;36m200\u001b[0m\u001b[0;34m,\u001b[0m\u001b[0mbatch_size\u001b[0m\u001b[0;34m=\u001b[0m\u001b[0;36m8192\u001b[0m\u001b[0;34m*\u001b[0m\u001b[0;36m4\u001b[0m\u001b[0;34m,\u001b[0m\u001b[0mvalidation_split\u001b[0m\u001b[0;34m=\u001b[0m\u001b[0;36m0.1\u001b[0m\u001b[0;34m,\u001b[0m\u001b[0mcallbacks\u001b[0m\u001b[0;34m=\u001b[0m\u001b[0mcallbacks_list\u001b[0m\u001b[0;34m)\u001b[0m\u001b[0;34m\u001b[0m\u001b[0;34m\u001b[0m\u001b[0m\n\u001b[0m",
      "\u001b[0;32m/opt/conda/lib/python3.6/site-packages/keras/engine/training.py\u001b[0m in \u001b[0;36mfit\u001b[0;34m(self, x, y, batch_size, epochs, verbose, callbacks, validation_split, validation_data, shuffle, class_weight, sample_weight, initial_epoch, steps_per_epoch, validation_steps, **kwargs)\u001b[0m\n\u001b[1;32m   1037\u001b[0m                                         \u001b[0minitial_epoch\u001b[0m\u001b[0;34m=\u001b[0m\u001b[0minitial_epoch\u001b[0m\u001b[0;34m,\u001b[0m\u001b[0;34m\u001b[0m\u001b[0;34m\u001b[0m\u001b[0m\n\u001b[1;32m   1038\u001b[0m                                         \u001b[0msteps_per_epoch\u001b[0m\u001b[0;34m=\u001b[0m\u001b[0msteps_per_epoch\u001b[0m\u001b[0;34m,\u001b[0m\u001b[0;34m\u001b[0m\u001b[0;34m\u001b[0m\u001b[0m\n\u001b[0;32m-> 1039\u001b[0;31m                                         validation_steps=validation_steps)\n\u001b[0m\u001b[1;32m   1040\u001b[0m \u001b[0;34m\u001b[0m\u001b[0m\n\u001b[1;32m   1041\u001b[0m     def evaluate(self, x=None, y=None,\n",
      "\u001b[0;32m/opt/conda/lib/python3.6/site-packages/keras/engine/training_arrays.py\u001b[0m in \u001b[0;36mfit_loop\u001b[0;34m(model, f, ins, out_labels, batch_size, epochs, verbose, callbacks, val_f, val_ins, shuffle, callback_metrics, initial_epoch, steps_per_epoch, validation_steps)\u001b[0m\n\u001b[1;32m    197\u001b[0m                     \u001b[0mins_batch\u001b[0m\u001b[0;34m[\u001b[0m\u001b[0mi\u001b[0m\u001b[0;34m]\u001b[0m \u001b[0;34m=\u001b[0m \u001b[0mins_batch\u001b[0m\u001b[0;34m[\u001b[0m\u001b[0mi\u001b[0m\u001b[0;34m]\u001b[0m\u001b[0;34m.\u001b[0m\u001b[0mtoarray\u001b[0m\u001b[0;34m(\u001b[0m\u001b[0;34m)\u001b[0m\u001b[0;34m\u001b[0m\u001b[0;34m\u001b[0m\u001b[0m\n\u001b[1;32m    198\u001b[0m \u001b[0;34m\u001b[0m\u001b[0m\n\u001b[0;32m--> 199\u001b[0;31m                 \u001b[0mouts\u001b[0m \u001b[0;34m=\u001b[0m \u001b[0mf\u001b[0m\u001b[0;34m(\u001b[0m\u001b[0mins_batch\u001b[0m\u001b[0;34m)\u001b[0m\u001b[0;34m\u001b[0m\u001b[0;34m\u001b[0m\u001b[0m\n\u001b[0m\u001b[1;32m    200\u001b[0m                 \u001b[0mouts\u001b[0m \u001b[0;34m=\u001b[0m \u001b[0mto_list\u001b[0m\u001b[0;34m(\u001b[0m\u001b[0mouts\u001b[0m\u001b[0;34m)\u001b[0m\u001b[0;34m\u001b[0m\u001b[0;34m\u001b[0m\u001b[0m\n\u001b[1;32m    201\u001b[0m                 \u001b[0;32mfor\u001b[0m \u001b[0ml\u001b[0m\u001b[0;34m,\u001b[0m \u001b[0mo\u001b[0m \u001b[0;32min\u001b[0m \u001b[0mzip\u001b[0m\u001b[0;34m(\u001b[0m\u001b[0mout_labels\u001b[0m\u001b[0;34m,\u001b[0m \u001b[0mouts\u001b[0m\u001b[0;34m)\u001b[0m\u001b[0;34m:\u001b[0m\u001b[0;34m\u001b[0m\u001b[0;34m\u001b[0m\u001b[0m\n",
      "\u001b[0;32m/opt/conda/lib/python3.6/site-packages/keras/backend/tensorflow_backend.py\u001b[0m in \u001b[0;36m__call__\u001b[0;34m(self, inputs)\u001b[0m\n\u001b[1;32m   2713\u001b[0m                 \u001b[0;32mreturn\u001b[0m \u001b[0mself\u001b[0m\u001b[0;34m.\u001b[0m\u001b[0m_legacy_call\u001b[0m\u001b[0;34m(\u001b[0m\u001b[0minputs\u001b[0m\u001b[0;34m)\u001b[0m\u001b[0;34m\u001b[0m\u001b[0;34m\u001b[0m\u001b[0m\n\u001b[1;32m   2714\u001b[0m \u001b[0;34m\u001b[0m\u001b[0m\n\u001b[0;32m-> 2715\u001b[0;31m             \u001b[0;32mreturn\u001b[0m \u001b[0mself\u001b[0m\u001b[0;34m.\u001b[0m\u001b[0m_call\u001b[0m\u001b[0;34m(\u001b[0m\u001b[0minputs\u001b[0m\u001b[0;34m)\u001b[0m\u001b[0;34m\u001b[0m\u001b[0;34m\u001b[0m\u001b[0m\n\u001b[0m\u001b[1;32m   2716\u001b[0m         \u001b[0;32melse\u001b[0m\u001b[0;34m:\u001b[0m\u001b[0;34m\u001b[0m\u001b[0;34m\u001b[0m\u001b[0m\n\u001b[1;32m   2717\u001b[0m             \u001b[0;32mif\u001b[0m \u001b[0mpy_any\u001b[0m\u001b[0;34m(\u001b[0m\u001b[0mis_tensor\u001b[0m\u001b[0;34m(\u001b[0m\u001b[0mx\u001b[0m\u001b[0;34m)\u001b[0m \u001b[0;32mfor\u001b[0m \u001b[0mx\u001b[0m \u001b[0;32min\u001b[0m \u001b[0minputs\u001b[0m\u001b[0;34m)\u001b[0m\u001b[0;34m:\u001b[0m\u001b[0;34m\u001b[0m\u001b[0;34m\u001b[0m\u001b[0m\n",
      "\u001b[0;32m/opt/conda/lib/python3.6/site-packages/keras/backend/tensorflow_backend.py\u001b[0m in \u001b[0;36m_call\u001b[0;34m(self, inputs)\u001b[0m\n\u001b[1;32m   2653\u001b[0m                 array_vals.append(\n\u001b[1;32m   2654\u001b[0m                     np.asarray(value,\n\u001b[0;32m-> 2655\u001b[0;31m                                dtype=tf.as_dtype(tensor.dtype).as_numpy_dtype))\n\u001b[0m\u001b[1;32m   2656\u001b[0m         \u001b[0;32mif\u001b[0m \u001b[0mself\u001b[0m\u001b[0;34m.\u001b[0m\u001b[0mfeed_dict\u001b[0m\u001b[0;34m:\u001b[0m\u001b[0;34m\u001b[0m\u001b[0;34m\u001b[0m\u001b[0m\n\u001b[1;32m   2657\u001b[0m             \u001b[0;32mfor\u001b[0m \u001b[0mkey\u001b[0m \u001b[0;32min\u001b[0m \u001b[0msorted\u001b[0m\u001b[0;34m(\u001b[0m\u001b[0mself\u001b[0m\u001b[0;34m.\u001b[0m\u001b[0mfeed_dict\u001b[0m\u001b[0;34m.\u001b[0m\u001b[0mkeys\u001b[0m\u001b[0;34m(\u001b[0m\u001b[0;34m)\u001b[0m\u001b[0;34m)\u001b[0m\u001b[0;34m:\u001b[0m\u001b[0;34m\u001b[0m\u001b[0;34m\u001b[0m\u001b[0m\n",
      "\u001b[0;32m/opt/conda/lib/python3.6/site-packages/numpy/core/numeric.py\u001b[0m in \u001b[0;36masarray\u001b[0;34m(a, dtype, order)\u001b[0m\n\u001b[1;32m    536\u001b[0m \u001b[0;34m\u001b[0m\u001b[0m\n\u001b[1;32m    537\u001b[0m     \"\"\"\n\u001b[0;32m--> 538\u001b[0;31m     \u001b[0;32mreturn\u001b[0m \u001b[0marray\u001b[0m\u001b[0;34m(\u001b[0m\u001b[0ma\u001b[0m\u001b[0;34m,\u001b[0m \u001b[0mdtype\u001b[0m\u001b[0;34m,\u001b[0m \u001b[0mcopy\u001b[0m\u001b[0;34m=\u001b[0m\u001b[0;32mFalse\u001b[0m\u001b[0;34m,\u001b[0m \u001b[0morder\u001b[0m\u001b[0;34m=\u001b[0m\u001b[0morder\u001b[0m\u001b[0;34m)\u001b[0m\u001b[0;34m\u001b[0m\u001b[0;34m\u001b[0m\u001b[0m\n\u001b[0m\u001b[1;32m    539\u001b[0m \u001b[0;34m\u001b[0m\u001b[0m\n\u001b[1;32m    540\u001b[0m \u001b[0;34m\u001b[0m\u001b[0m\n",
      "\u001b[0;31mKeyboardInterrupt\u001b[0m: "
     ]
    }
   ],
   "source": [
    "model_parallel.fit(train_x,train_y , epochs=200,batch_size=8192*4,validation_split=0.1,callbacks=callbacks_list)"
   ]
  },
  {
   "cell_type": "code",
   "execution_count": 65,
   "metadata": {},
   "outputs": [
    {
     "name": "stdout",
     "output_type": "stream",
     "text": [
      "0\n"
     ]
    }
   ],
   "source": [
    "print(0)"
   ]
  },
  {
   "cell_type": "code",
   "execution_count": 66,
   "metadata": {},
   "outputs": [
    {
     "name": "stdout",
     "output_type": "stream",
     "text": [
      "my_model_new_999.h5\n"
     ]
    },
    {
     "data": {
      "text/html": [
       "<div>\n",
       "<style scoped>\n",
       "    .dataframe tbody tr th:only-of-type {\n",
       "        vertical-align: middle;\n",
       "    }\n",
       "\n",
       "    .dataframe tbody tr th {\n",
       "        vertical-align: top;\n",
       "    }\n",
       "\n",
       "    .dataframe thead th {\n",
       "        text-align: right;\n",
       "    }\n",
       "</style>\n",
       "<table border=\"1\" class=\"dataframe\">\n",
       "  <thead>\n",
       "    <tr style=\"text-align: right;\">\n",
       "      <th></th>\n",
       "      <th>0</th>\n",
       "      <th>1</th>\n",
       "      <th>2</th>\n",
       "      <th>3</th>\n",
       "      <th>4</th>\n",
       "      <th>5</th>\n",
       "    </tr>\n",
       "  </thead>\n",
       "  <tbody>\n",
       "    <tr>\n",
       "      <th>0</th>\n",
       "      <td>0.000329</td>\n",
       "      <td>0.004286</td>\n",
       "      <td>0.640718</td>\n",
       "      <td>0.347343</td>\n",
       "      <td>0.006559</td>\n",
       "      <td>0.000765</td>\n",
       "    </tr>\n",
       "    <tr>\n",
       "      <th>1</th>\n",
       "      <td>0.000132</td>\n",
       "      <td>0.003537</td>\n",
       "      <td>0.841296</td>\n",
       "      <td>0.152517</td>\n",
       "      <td>0.002025</td>\n",
       "      <td>0.000493</td>\n",
       "    </tr>\n",
       "    <tr>\n",
       "      <th>2</th>\n",
       "      <td>0.000322</td>\n",
       "      <td>0.042711</td>\n",
       "      <td>0.928967</td>\n",
       "      <td>0.025311</td>\n",
       "      <td>0.001773</td>\n",
       "      <td>0.000916</td>\n",
       "    </tr>\n",
       "    <tr>\n",
       "      <th>3</th>\n",
       "      <td>0.013003</td>\n",
       "      <td>0.001876</td>\n",
       "      <td>0.130510</td>\n",
       "      <td>0.696483</td>\n",
       "      <td>0.147285</td>\n",
       "      <td>0.010843</td>\n",
       "    </tr>\n",
       "    <tr>\n",
       "      <th>4</th>\n",
       "      <td>0.001211</td>\n",
       "      <td>0.227102</td>\n",
       "      <td>0.758821</td>\n",
       "      <td>0.009929</td>\n",
       "      <td>0.002386</td>\n",
       "      <td>0.000550</td>\n",
       "    </tr>\n",
       "  </tbody>\n",
       "</table>\n",
       "</div>"
      ],
      "text/plain": [
       "          0         1         2         3         4         5\n",
       "0  0.000329  0.004286  0.640718  0.347343  0.006559  0.000765\n",
       "1  0.000132  0.003537  0.841296  0.152517  0.002025  0.000493\n",
       "2  0.000322  0.042711  0.928967  0.025311  0.001773  0.000916\n",
       "3  0.013003  0.001876  0.130510  0.696483  0.147285  0.010843\n",
       "4  0.001211  0.227102  0.758821  0.009929  0.002386  0.000550"
      ]
     },
     "execution_count": 66,
     "metadata": {},
     "output_type": "execute_result"
    }
   ],
   "source": [
    "print(model_name)\n",
    "my_model = load_model(model_name)\n",
    "y_pred = my_model.predict(test_X)\n",
    "pred_df = pd.DataFrame(y_pred)\n",
    "pred_df.to_csv('pred_df_final.csv',index=False,header=None)\n",
    "pred_df.head()"
   ]
  },
  {
   "cell_type": "code",
   "execution_count": 67,
   "metadata": {},
   "outputs": [
    {
     "data": {
      "text/html": [
       "<div>\n",
       "<style scoped>\n",
       "    .dataframe tbody tr th:only-of-type {\n",
       "        vertical-align: middle;\n",
       "    }\n",
       "\n",
       "    .dataframe tbody tr th {\n",
       "        vertical-align: top;\n",
       "    }\n",
       "\n",
       "    .dataframe thead th {\n",
       "        text-align: right;\n",
       "    }\n",
       "</style>\n",
       "<table border=\"1\" class=\"dataframe\">\n",
       "  <thead>\n",
       "    <tr style=\"text-align: right;\">\n",
       "      <th></th>\n",
       "      <th>0</th>\n",
       "      <th>1</th>\n",
       "      <th>2</th>\n",
       "      <th>3</th>\n",
       "      <th>4</th>\n",
       "      <th>5</th>\n",
       "    </tr>\n",
       "  </thead>\n",
       "  <tbody>\n",
       "    <tr>\n",
       "      <th>0</th>\n",
       "      <td>0.001206</td>\n",
       "      <td>0.008510</td>\n",
       "      <td>0.602713</td>\n",
       "      <td>0.364567</td>\n",
       "      <td>0.018083</td>\n",
       "      <td>0.004920</td>\n",
       "    </tr>\n",
       "    <tr>\n",
       "      <th>1</th>\n",
       "      <td>0.000297</td>\n",
       "      <td>0.012773</td>\n",
       "      <td>0.873100</td>\n",
       "      <td>0.110121</td>\n",
       "      <td>0.002598</td>\n",
       "      <td>0.001111</td>\n",
       "    </tr>\n",
       "    <tr>\n",
       "      <th>2</th>\n",
       "      <td>0.000823</td>\n",
       "      <td>0.195743</td>\n",
       "      <td>0.786870</td>\n",
       "      <td>0.013130</td>\n",
       "      <td>0.002147</td>\n",
       "      <td>0.001287</td>\n",
       "    </tr>\n",
       "    <tr>\n",
       "      <th>3</th>\n",
       "      <td>0.015517</td>\n",
       "      <td>0.003229</td>\n",
       "      <td>0.106384</td>\n",
       "      <td>0.659162</td>\n",
       "      <td>0.195471</td>\n",
       "      <td>0.020236</td>\n",
       "    </tr>\n",
       "    <tr>\n",
       "      <th>4</th>\n",
       "      <td>0.001412</td>\n",
       "      <td>0.443846</td>\n",
       "      <td>0.541993</td>\n",
       "      <td>0.009397</td>\n",
       "      <td>0.002274</td>\n",
       "      <td>0.001078</td>\n",
       "    </tr>\n",
       "  </tbody>\n",
       "</table>\n",
       "</div>"
      ],
      "text/plain": [
       "          0         1         2         3         4         5\n",
       "0  0.001206  0.008510  0.602713  0.364567  0.018083  0.004920\n",
       "1  0.000297  0.012773  0.873100  0.110121  0.002598  0.001111\n",
       "2  0.000823  0.195743  0.786870  0.013130  0.002147  0.001287\n",
       "3  0.015517  0.003229  0.106384  0.659162  0.195471  0.020236\n",
       "4  0.001412  0.443846  0.541993  0.009397  0.002274  0.001078"
      ]
     },
     "execution_count": 67,
     "metadata": {},
     "output_type": "execute_result"
    }
   ],
   "source": [
    "y_pred_1 = pd.read_csv('pred_nn_try_1_0.csv',header=None)\n",
    "y_pred_1.head()"
   ]
  },
  {
   "cell_type": "code",
   "execution_count": 67,
   "metadata": {},
   "outputs": [
    {
     "name": "stdout",
     "output_type": "stream",
     "text": [
      "4    0.337564\n",
      "3    0.310506\n",
      "5    0.141188\n",
      "2    0.084006\n",
      "1    0.082852\n",
      "6    0.043884\n",
      "Name: label, dtype: float64\n"
     ]
    }
   ],
   "source": [
    "result=pred_df.values\n",
    "result=np.argmax(result,axis=1)+1\n",
    "result=pd.DataFrame(result)\n",
    "submission=pd.concat([test_id,result],axis=1)\n",
    "submission.rename(columns={0:'label', 'uId':'id'},inplace=True)\n",
    "submission.to_csv('submission.csv',index=False)\n",
    "print(submission.label.value_counts()/len(submission))"
   ]
  },
  {
   "cell_type": "code",
   "execution_count": 61,
   "metadata": {},
   "outputs": [
    {
     "data": {
      "text/html": [
       "<div>\n",
       "<style scoped>\n",
       "    .dataframe tbody tr th:only-of-type {\n",
       "        vertical-align: middle;\n",
       "    }\n",
       "\n",
       "    .dataframe tbody tr th {\n",
       "        vertical-align: top;\n",
       "    }\n",
       "\n",
       "    .dataframe thead th {\n",
       "        text-align: right;\n",
       "    }\n",
       "</style>\n",
       "<table border=\"1\" class=\"dataframe\">\n",
       "  <thead>\n",
       "    <tr style=\"text-align: right;\">\n",
       "      <th></th>\n",
       "      <th>id</th>\n",
       "      <th>label</th>\n",
       "    </tr>\n",
       "  </thead>\n",
       "  <tbody>\n",
       "    <tr>\n",
       "      <th>0</th>\n",
       "      <td>6708326</td>\n",
       "      <td>3</td>\n",
       "    </tr>\n",
       "    <tr>\n",
       "      <th>1</th>\n",
       "      <td>6708314</td>\n",
       "      <td>3</td>\n",
       "    </tr>\n",
       "    <tr>\n",
       "      <th>2</th>\n",
       "      <td>6708313</td>\n",
       "      <td>3</td>\n",
       "    </tr>\n",
       "    <tr>\n",
       "      <th>3</th>\n",
       "      <td>6708284</td>\n",
       "      <td>4</td>\n",
       "    </tr>\n",
       "    <tr>\n",
       "      <th>4</th>\n",
       "      <td>6708272</td>\n",
       "      <td>3</td>\n",
       "    </tr>\n",
       "  </tbody>\n",
       "</table>\n",
       "</div>"
      ],
      "text/plain": [
       "        id  label\n",
       "0  6708326      3\n",
       "1  6708314      3\n",
       "2  6708313      3\n",
       "3  6708284      4\n",
       "4  6708272      3"
      ]
     },
     "execution_count": 61,
     "metadata": {},
     "output_type": "execute_result"
    }
   ],
   "source": [
    "submission.head()"
   ]
  },
  {
   "cell_type": "code",
   "execution_count": 71,
   "metadata": {
    "ExecuteTime": {
     "end_time": "2019-08-22T13:46:32.395428Z",
     "start_time": "2019-08-22T13:46:32.373199Z"
    }
   },
   "outputs": [],
   "source": [
    "# result=pred_list[0]+pred_list[1]#+pred_list[2]+pred_list[3]+pred_list[4]\n",
    "# result=np.argmax(result,axis=1)+1"
   ]
  },
  {
   "cell_type": "code",
   "execution_count": 66,
   "metadata": {
    "ExecuteTime": {
     "end_time": "2019-08-22T13:41:05.201267Z",
     "start_time": "2019-08-22T13:41:03.346059Z"
    }
   },
   "outputs": [],
   "source": [
    "save_file_list=[]\n",
    "for i in range(split_size):\n",
    "    save_file_list.append(np.array(pd.read_csv('pred_nn_'+prefix+str(i)+'.csv',header=None)))"
   ]
  },
  {
   "cell_type": "code",
   "execution_count": 72,
   "metadata": {
    "ExecuteTime": {
     "end_time": "2019-08-22T13:46:35.209812Z",
     "start_time": "2019-08-22T13:46:35.167046Z"
    }
   },
   "outputs": [],
   "source": [
    "result_1=save_file_list[0]+save_file_list[1]#+save_file_list[2]+save_file_list[3]+save_file_list[4]\n",
    "# result_1=np.argmax(result_1,axis=1)+1"
   ]
  },
  {
   "cell_type": "code",
   "execution_count": 68,
   "metadata": {
    "ExecuteTime": {
     "end_time": "2019-08-22T13:41:07.628806Z",
     "start_time": "2019-08-22T13:41:05.261572Z"
    }
   },
   "outputs": [
    {
     "data": {
      "text/plain": [
       "502495"
      ]
     },
     "execution_count": 68,
     "metadata": {},
     "output_type": "execute_result"
    }
   ],
   "source": [
    "sum(result==result_1)"
   ]
  },
  {
   "cell_type": "code",
   "execution_count": 70,
   "metadata": {
    "ExecuteTime": {
     "end_time": "2019-08-22T13:46:16.045818Z",
     "start_time": "2019-08-22T13:46:14.756354Z"
    }
   },
   "outputs": [
    {
     "name": "stdout",
     "output_type": "stream",
     "text": [
      "7472\n",
      "37811\n",
      "331223\n",
      "358076\n",
      "482717\n"
     ]
    }
   ],
   "source": [
    "for index,data in enumerate(result==result_1):\n",
    "    if data==False:\n",
    "        print(index)"
   ]
  },
  {
   "cell_type": "code",
   "execution_count": 77,
   "metadata": {
    "ExecuteTime": {
     "end_time": "2019-08-22T13:47:33.477677Z",
     "start_time": "2019-08-22T13:47:33.469551Z"
    }
   },
   "outputs": [
    {
     "data": {
      "text/plain": [
       "array([1.4564926e-35, 1.0000000e+00, 1.0000000e+00, 2.2958007e-11,\n",
       "       3.7397034e-33, 0.0000000e+00], dtype=float32)"
      ]
     },
     "execution_count": 77,
     "metadata": {},
     "output_type": "execute_result"
    }
   ],
   "source": [
    "result[358076]"
   ]
  },
  {
   "cell_type": "code",
   "execution_count": 78,
   "metadata": {
    "ExecuteTime": {
     "end_time": "2019-08-22T13:47:34.138077Z",
     "start_time": "2019-08-22T13:47:34.131010Z"
    }
   },
   "outputs": [
    {
     "data": {
      "text/plain": [
       "array([1.45649260e-35, 1.00000000e+00, 1.00000000e+00, 2.29580074e-11,\n",
       "       3.73970356e-33, 0.00000000e+00])"
      ]
     },
     "execution_count": 78,
     "metadata": {},
     "output_type": "execute_result"
    }
   ],
   "source": [
    "result_1[358076]"
   ]
  },
  {
   "cell_type": "code",
   "execution_count": 64,
   "metadata": {},
   "outputs": [
    {
     "data": {
      "text/plain": [
       "(1000000, 6)"
      ]
     },
     "execution_count": 64,
     "metadata": {},
     "output_type": "execute_result"
    }
   ],
   "source": [
    "pred_df = pd.read_csv('pred_nn_try_1_0.csv', header=None)\n",
    "pred_df.shape"
   ]
  },
  {
   "cell_type": "code",
   "execution_count": 65,
   "metadata": {},
   "outputs": [
    {
     "data": {
      "text/html": [
       "<div>\n",
       "<style scoped>\n",
       "    .dataframe tbody tr th:only-of-type {\n",
       "        vertical-align: middle;\n",
       "    }\n",
       "\n",
       "    .dataframe tbody tr th {\n",
       "        vertical-align: top;\n",
       "    }\n",
       "\n",
       "    .dataframe thead th {\n",
       "        text-align: right;\n",
       "    }\n",
       "</style>\n",
       "<table border=\"1\" class=\"dataframe\">\n",
       "  <thead>\n",
       "    <tr style=\"text-align: right;\">\n",
       "      <th></th>\n",
       "      <th>0</th>\n",
       "      <th>1</th>\n",
       "      <th>2</th>\n",
       "      <th>3</th>\n",
       "      <th>4</th>\n",
       "      <th>5</th>\n",
       "    </tr>\n",
       "  </thead>\n",
       "  <tbody>\n",
       "    <tr>\n",
       "      <th>0</th>\n",
       "      <td>0.001206</td>\n",
       "      <td>0.008510</td>\n",
       "      <td>0.602713</td>\n",
       "      <td>0.364567</td>\n",
       "      <td>0.018083</td>\n",
       "      <td>0.004920</td>\n",
       "    </tr>\n",
       "    <tr>\n",
       "      <th>1</th>\n",
       "      <td>0.000297</td>\n",
       "      <td>0.012773</td>\n",
       "      <td>0.873100</td>\n",
       "      <td>0.110121</td>\n",
       "      <td>0.002598</td>\n",
       "      <td>0.001111</td>\n",
       "    </tr>\n",
       "    <tr>\n",
       "      <th>2</th>\n",
       "      <td>0.000823</td>\n",
       "      <td>0.195743</td>\n",
       "      <td>0.786870</td>\n",
       "      <td>0.013130</td>\n",
       "      <td>0.002147</td>\n",
       "      <td>0.001287</td>\n",
       "    </tr>\n",
       "    <tr>\n",
       "      <th>3</th>\n",
       "      <td>0.015517</td>\n",
       "      <td>0.003229</td>\n",
       "      <td>0.106384</td>\n",
       "      <td>0.659162</td>\n",
       "      <td>0.195471</td>\n",
       "      <td>0.020236</td>\n",
       "    </tr>\n",
       "    <tr>\n",
       "      <th>4</th>\n",
       "      <td>0.001412</td>\n",
       "      <td>0.443846</td>\n",
       "      <td>0.541993</td>\n",
       "      <td>0.009397</td>\n",
       "      <td>0.002274</td>\n",
       "      <td>0.001078</td>\n",
       "    </tr>\n",
       "  </tbody>\n",
       "</table>\n",
       "</div>"
      ],
      "text/plain": [
       "          0         1         2         3         4         5\n",
       "0  0.001206  0.008510  0.602713  0.364567  0.018083  0.004920\n",
       "1  0.000297  0.012773  0.873100  0.110121  0.002598  0.001111\n",
       "2  0.000823  0.195743  0.786870  0.013130  0.002147  0.001287\n",
       "3  0.015517  0.003229  0.106384  0.659162  0.195471  0.020236\n",
       "4  0.001412  0.443846  0.541993  0.009397  0.002274  0.001078"
      ]
     },
     "execution_count": 65,
     "metadata": {},
     "output_type": "execute_result"
    }
   ],
   "source": [
    "pred_df.head()"
   ]
  },
  {
   "cell_type": "code",
   "execution_count": 68,
   "metadata": {},
   "outputs": [
    {
     "name": "stdout",
     "output_type": "stream",
     "text": [
      "3    0.289325\n",
      "4    0.276918\n",
      "5    0.154590\n",
      "2    0.108130\n",
      "1    0.097343\n",
      "6    0.073694\n",
      "Name: label, dtype: float64\n"
     ]
    }
   ],
   "source": [
    "result=pred_df.values\n",
    "result=np.argmax(result,axis=1)+1\n",
    "result=pd.DataFrame(result)\n",
    "submission=pd.concat([test_id,result],axis=1)\n",
    "submission.rename(columns={0:'label'},inplace=True)\n",
    "submission.to_csv('submission.csv',index=False)\n",
    "print(submission.label.value_counts()/len(submission))"
   ]
  },
  {
   "cell_type": "code",
   "execution_count": 69,
   "metadata": {},
   "outputs": [
    {
     "data": {
      "text/html": [
       "<div>\n",
       "<style scoped>\n",
       "    .dataframe tbody tr th:only-of-type {\n",
       "        vertical-align: middle;\n",
       "    }\n",
       "\n",
       "    .dataframe tbody tr th {\n",
       "        vertical-align: top;\n",
       "    }\n",
       "\n",
       "    .dataframe thead th {\n",
       "        text-align: right;\n",
       "    }\n",
       "</style>\n",
       "<table border=\"1\" class=\"dataframe\">\n",
       "  <thead>\n",
       "    <tr style=\"text-align: right;\">\n",
       "      <th></th>\n",
       "      <th>uId</th>\n",
       "      <th>label</th>\n",
       "    </tr>\n",
       "  </thead>\n",
       "  <tbody>\n",
       "    <tr>\n",
       "      <th>0</th>\n",
       "      <td>6708326</td>\n",
       "      <td>3</td>\n",
       "    </tr>\n",
       "    <tr>\n",
       "      <th>1</th>\n",
       "      <td>6708314</td>\n",
       "      <td>3</td>\n",
       "    </tr>\n",
       "    <tr>\n",
       "      <th>2</th>\n",
       "      <td>6708313</td>\n",
       "      <td>3</td>\n",
       "    </tr>\n",
       "    <tr>\n",
       "      <th>3</th>\n",
       "      <td>6708284</td>\n",
       "      <td>4</td>\n",
       "    </tr>\n",
       "    <tr>\n",
       "      <th>4</th>\n",
       "      <td>6708272</td>\n",
       "      <td>3</td>\n",
       "    </tr>\n",
       "  </tbody>\n",
       "</table>\n",
       "</div>"
      ],
      "text/plain": [
       "       uId  label\n",
       "0  6708326      3\n",
       "1  6708314      3\n",
       "2  6708313      3\n",
       "3  6708284      4\n",
       "4  6708272      3"
      ]
     },
     "execution_count": 69,
     "metadata": {},
     "output_type": "execute_result"
    }
   ],
   "source": [
    "submission.head()"
   ]
  },
  {
   "cell_type": "code",
   "execution_count": 54,
   "metadata": {},
   "outputs": [],
   "source": [
    "submission = pd.read_csv('submission_single_model.csv')"
   ]
  },
  {
   "cell_type": "code",
   "execution_count": 70,
   "metadata": {},
   "outputs": [],
   "source": [
    "submission.rename(columns={'uId':'id'},inplace=True)"
   ]
  },
  {
   "cell_type": "code",
   "execution_count": 72,
   "metadata": {},
   "outputs": [
    {
     "data": {
      "text/html": [
       "<div>\n",
       "<style scoped>\n",
       "    .dataframe tbody tr th:only-of-type {\n",
       "        vertical-align: middle;\n",
       "    }\n",
       "\n",
       "    .dataframe tbody tr th {\n",
       "        vertical-align: top;\n",
       "    }\n",
       "\n",
       "    .dataframe thead th {\n",
       "        text-align: right;\n",
       "    }\n",
       "</style>\n",
       "<table border=\"1\" class=\"dataframe\">\n",
       "  <thead>\n",
       "    <tr style=\"text-align: right;\">\n",
       "      <th></th>\n",
       "      <th>id</th>\n",
       "      <th>label</th>\n",
       "    </tr>\n",
       "  </thead>\n",
       "  <tbody>\n",
       "    <tr>\n",
       "      <th>0</th>\n",
       "      <td>6708326</td>\n",
       "      <td>3</td>\n",
       "    </tr>\n",
       "    <tr>\n",
       "      <th>1</th>\n",
       "      <td>6708314</td>\n",
       "      <td>3</td>\n",
       "    </tr>\n",
       "    <tr>\n",
       "      <th>2</th>\n",
       "      <td>6708313</td>\n",
       "      <td>3</td>\n",
       "    </tr>\n",
       "    <tr>\n",
       "      <th>3</th>\n",
       "      <td>6708284</td>\n",
       "      <td>4</td>\n",
       "    </tr>\n",
       "    <tr>\n",
       "      <th>4</th>\n",
       "      <td>6708272</td>\n",
       "      <td>3</td>\n",
       "    </tr>\n",
       "  </tbody>\n",
       "</table>\n",
       "</div>"
      ],
      "text/plain": [
       "        id  label\n",
       "0  6708326      3\n",
       "1  6708314      3\n",
       "2  6708313      3\n",
       "3  6708284      4\n",
       "4  6708272      3"
      ]
     },
     "execution_count": 72,
     "metadata": {},
     "output_type": "execute_result"
    }
   ],
   "source": [
    "submission.head()"
   ]
  },
  {
   "cell_type": "code",
   "execution_count": 73,
   "metadata": {},
   "outputs": [],
   "source": [
    "submission.to_csv('submission.csv',index=False)"
   ]
  },
  {
   "cell_type": "code",
   "execution_count": null,
   "metadata": {},
   "outputs": [],
   "source": [
    "pred_lbl=pd.read_csv('../huawei/pred_lgb_guess.csv',header=None)"
   ]
  },
  {
   "cell_type": "code",
   "execution_count": null,
   "metadata": {},
   "outputs": [],
   "source": [
    "pred_lbl.shape"
   ]
  }
 ],
 "metadata": {
  "kernelspec": {
   "display_name": "Environment (conda_conda)",
   "language": "python",
   "name": "conda_conda"
  },
  "language_info": {
   "codemirror_mode": {
    "name": "ipython",
    "version": 3
   },
   "file_extension": ".py",
   "mimetype": "text/x-python",
   "name": "python",
   "nbconvert_exporter": "python",
   "pygments_lexer": "ipython3",
   "version": "3.6.7"
  }
 },
 "nbformat": 4,
 "nbformat_minor": 4
}
