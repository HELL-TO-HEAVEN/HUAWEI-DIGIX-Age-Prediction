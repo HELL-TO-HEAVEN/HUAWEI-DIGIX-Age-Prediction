{
 "cells": [
  {
   "cell_type": "code",
   "execution_count": 1,
   "metadata": {
    "ExecuteTime": {
     "end_time": "2019-08-18T07:47:53.267398Z",
     "start_time": "2019-08-18T07:47:51.749010Z"
    }
   },
   "outputs": [],
   "source": [
    "import numpy as np\n",
    "import pandas as pd\n",
    "import time\n",
    "import ast\n",
    "from tqdm import tqdm\n",
    "import datetime\n",
    "from multiprocessing import Pool, cpu_count\n",
    "from itertools import zip_longest\n",
    "from collections import defaultdict, OrderedDict, Counter\n",
    "import matplotlib.pyplot as plt\n",
    "import seaborn as sns\n",
    "import lightgbm as lgb\n",
    "from sklearn import metrics\n",
    "from sklearn import model_selection\n",
    "from sklearn.model_selection import train_test_split\n",
    "from sklearn.preprocessing import LabelEncoder, StandardScaler\n",
    "from joblib import Parallel, delayed\n",
    "%matplotlib inline"
   ]
  },
  {
   "cell_type": "code",
   "execution_count": 2,
   "metadata": {},
   "outputs": [],
   "source": [
    "base_dir = './dataset/'"
   ]
  },
  {
   "cell_type": "code",
   "execution_count": 3,
   "metadata": {
    "ExecuteTime": {
     "end_time": "2019-08-18T07:48:18.941223Z",
     "start_time": "2019-08-18T07:47:55.389969Z"
    }
   },
   "outputs": [
    {
     "data": {
      "text/html": [
       "<div>\n",
       "<style scoped>\n",
       "    .dataframe tbody tr th:only-of-type {\n",
       "        vertical-align: middle;\n",
       "    }\n",
       "\n",
       "    .dataframe tbody tr th {\n",
       "        vertical-align: top;\n",
       "    }\n",
       "\n",
       "    .dataframe thead th {\n",
       "        text-align: right;\n",
       "    }\n",
       "</style>\n",
       "<table border=\"1\" class=\"dataframe\">\n",
       "  <thead>\n",
       "    <tr style=\"text-align: right;\">\n",
       "      <th></th>\n",
       "      <th>uId</th>\n",
       "      <th>duration</th>\n",
       "      <th>times</th>\n",
       "      <th>use_date</th>\n",
       "      <th>idx</th>\n",
       "      <th>dayofweek</th>\n",
       "    </tr>\n",
       "  </thead>\n",
       "  <tbody>\n",
       "    <tr>\n",
       "      <th>30</th>\n",
       "      <td>20765863</td>\n",
       "      <td>701</td>\n",
       "      <td>2</td>\n",
       "      <td>2019-07-14</td>\n",
       "      <td>30</td>\n",
       "      <td>6</td>\n",
       "    </tr>\n",
       "    <tr>\n",
       "      <th>31</th>\n",
       "      <td>20765863</td>\n",
       "      <td>51</td>\n",
       "      <td>3</td>\n",
       "      <td>2019-07-23</td>\n",
       "      <td>30</td>\n",
       "      <td>1</td>\n",
       "    </tr>\n",
       "    <tr>\n",
       "      <th>32</th>\n",
       "      <td>20765863</td>\n",
       "      <td>701</td>\n",
       "      <td>2</td>\n",
       "      <td>2019-07-13</td>\n",
       "      <td>30</td>\n",
       "      <td>5</td>\n",
       "    </tr>\n",
       "    <tr>\n",
       "      <th>33</th>\n",
       "      <td>20765863</td>\n",
       "      <td>2819</td>\n",
       "      <td>2</td>\n",
       "      <td>2019-07-05</td>\n",
       "      <td>30</td>\n",
       "      <td>4</td>\n",
       "    </tr>\n",
       "    <tr>\n",
       "      <th>34</th>\n",
       "      <td>20765863</td>\n",
       "      <td>2819</td>\n",
       "      <td>2</td>\n",
       "      <td>2019-07-06</td>\n",
       "      <td>30</td>\n",
       "      <td>5</td>\n",
       "    </tr>\n",
       "  </tbody>\n",
       "</table>\n",
       "</div>"
      ],
      "text/plain": [
       "         uId  duration  times   use_date  idx  dayofweek\n",
       "30  20765863       701      2 2019-07-14   30          6\n",
       "31  20765863        51      3 2019-07-23   30          1\n",
       "32  20765863       701      2 2019-07-13   30          5\n",
       "33  20765863      2819      2 2019-07-05   30          4\n",
       "34  20765863      2819      2 2019-07-06   30          5"
      ]
     },
     "execution_count": 3,
     "metadata": {},
     "output_type": "execute_result"
    }
   ],
   "source": [
    "user_app_usage_hot = pd.read_hdf(base_dir+'user_app_usage_hot_100.h5',key='data')\n",
    "user_app_usage_hot.head()"
   ]
  },
  {
   "cell_type": "code",
   "execution_count": 4,
   "metadata": {
    "ExecuteTime": {
     "end_time": "2019-08-18T07:51:09.106661Z",
     "start_time": "2019-08-18T07:51:03.507549Z"
    }
   },
   "outputs": [],
   "source": [
    "user_app_usage_hot['duration'] = user_app_usage_hot['duration'].astype(np.uint16)\n",
    "user_app_usage_hot['times'] = user_app_usage_hot['times'].astype(np.uint16)"
   ]
  },
  {
   "cell_type": "code",
   "execution_count": 4,
   "metadata": {
    "ExecuteTime": {
     "end_time": "2019-08-18T07:48:24.010024Z",
     "start_time": "2019-08-18T07:48:23.987993Z"
    }
   },
   "outputs": [
    {
     "name": "stdout",
     "output_type": "stream",
     "text": [
      "<class 'pandas.core.frame.DataFrame'>\n",
      "Int64Index: 443257438 entries, 0 to 651007718\n",
      "Data columns (total 6 columns):\n",
      "uId          uint32\n",
      "duration     uint16\n",
      "times        uint16\n",
      "use_date     datetime64[ns]\n",
      "idx          uint8\n",
      "dayofweek    uint8\n",
      "dtypes: datetime64[ns](1), uint16(2), uint32(1), uint8(2)\n",
      "memory usage: 10.7 GB\n"
     ]
    }
   ],
   "source": [
    "user_app_usage_hot.info()"
   ]
  },
  {
   "cell_type": "code",
   "execution_count": 4,
   "metadata": {
    "ExecuteTime": {
     "end_time": "2019-07-05T01:50:07.066204Z",
     "start_time": "2019-07-05T01:50:07.054425Z"
    }
   },
   "outputs": [],
   "source": [
    "# def build_usage_app_table(group_df):\n",
    "#     (uId, use_date),group = group_df\n",
    "#     app_times = np.zeros((50,),dtype=np.int16)\n",
    "#     app_durations = np.zeros((50,),dtype=np.int16)\n",
    "#     idx = list(group['idx'])\n",
    "#     times = list(group['times'])\n",
    "#     durations = list(group['duration'])\n",
    "#     app_times[idx] = times\n",
    "#     app_durations[idx] = durations\n",
    "#     app_usage = np.concatenate([app_times, app_durations]).reshape((1,-1))\n",
    "#     app_usage_df = pd.DataFrame(app_usage)\n",
    "#     app_usage_df['uId'] = uId\n",
    "#     app_usage_df['use_date'] = use_date\n",
    "#     return app_usage_df"
   ]
  },
  {
   "cell_type": "code",
   "execution_count": 5,
   "metadata": {
    "ExecuteTime": {
     "end_time": "2019-08-18T07:51:16.026065Z",
     "start_time": "2019-08-18T07:51:16.004229Z"
    }
   },
   "outputs": [],
   "source": [
    "def build_usage_app_table_by_dayofweek(group_df):\n",
    "    (uId, dayofweek),group = group_df\n",
    "    app_times = np.zeros((100,),dtype=np.int16)\n",
    "    app_durations = np.zeros((100,),dtype=np.int16)\n",
    "    idx = list(group['idx'])\n",
    "    times = list(group['times'])\n",
    "    durations = list(group['duration'])\n",
    "    for i in range(len(idx)):\n",
    "        app_times[idx[i]] += times[i]\n",
    "        app_durations[idx[i]] += durations[i]\n",
    "    app_usage = np.concatenate([app_times, app_durations]).reshape((1,-1))\n",
    "    app_usage_df = pd.DataFrame(app_usage)\n",
    "    app_usage_df['uId'] = uId\n",
    "    app_usage_df['dayofweek'] = dayofweek\n",
    "    return app_usage_df"
   ]
  },
  {
   "cell_type": "code",
   "execution_count": 6,
   "metadata": {
    "ExecuteTime": {
     "end_time": "2019-08-18T07:51:21.633705Z",
     "start_time": "2019-08-18T07:51:17.067510Z"
    }
   },
   "outputs": [
    {
     "data": {
      "text/plain": [
       "700000"
      ]
     },
     "execution_count": 6,
     "metadata": {},
     "output_type": "execute_result"
    }
   ],
   "source": [
    "uId_array = np.load('./uId_array.npy')\n",
    "len(uId_array[1])"
   ]
  },
  {
   "cell_type": "code",
   "execution_count": 7,
   "metadata": {
    "ExecuteTime": {
     "end_time": "2019-08-18T07:51:23.457569Z",
     "start_time": "2019-08-18T07:51:21.640183Z"
    }
   },
   "outputs": [
    {
     "data": {
      "text/plain": [
       "(700000, 1)"
      ]
     },
     "execution_count": 7,
     "metadata": {},
     "output_type": "execute_result"
    }
   ],
   "source": [
    "uId_df = pd.DataFrame(uId_array[1])\n",
    "uId_df.shape"
   ]
  },
  {
   "cell_type": "code",
   "execution_count": 8,
   "metadata": {
    "ExecuteTime": {
     "end_time": "2019-08-18T07:51:23.471596Z",
     "start_time": "2019-08-18T07:51:23.464386Z"
    }
   },
   "outputs": [],
   "source": [
    "uId_df.columns = ['uId']"
   ]
  },
  {
   "cell_type": "code",
   "execution_count": 9,
   "metadata": {
    "ExecuteTime": {
     "end_time": "2019-08-18T07:51:23.675127Z",
     "start_time": "2019-08-18T07:51:23.475457Z"
    }
   },
   "outputs": [
    {
     "data": {
      "text/html": [
       "<div>\n",
       "<style scoped>\n",
       "    .dataframe tbody tr th:only-of-type {\n",
       "        vertical-align: middle;\n",
       "    }\n",
       "\n",
       "    .dataframe tbody tr th {\n",
       "        vertical-align: top;\n",
       "    }\n",
       "\n",
       "    .dataframe thead th {\n",
       "        text-align: right;\n",
       "    }\n",
       "</style>\n",
       "<table border=\"1\" class=\"dataframe\">\n",
       "  <thead>\n",
       "    <tr style=\"text-align: right;\">\n",
       "      <th></th>\n",
       "      <th>uId</th>\n",
       "    </tr>\n",
       "  </thead>\n",
       "  <tbody>\n",
       "    <tr>\n",
       "      <th>0</th>\n",
       "      <td>8669774</td>\n",
       "    </tr>\n",
       "    <tr>\n",
       "      <th>1</th>\n",
       "      <td>8673581</td>\n",
       "    </tr>\n",
       "    <tr>\n",
       "      <th>2</th>\n",
       "      <td>8680332</td>\n",
       "    </tr>\n",
       "    <tr>\n",
       "      <th>3</th>\n",
       "      <td>8682427</td>\n",
       "    </tr>\n",
       "    <tr>\n",
       "      <th>4</th>\n",
       "      <td>8688337</td>\n",
       "    </tr>\n",
       "  </tbody>\n",
       "</table>\n",
       "</div>"
      ],
      "text/plain": [
       "       uId\n",
       "0  8669774\n",
       "1  8673581\n",
       "2  8680332\n",
       "3  8682427\n",
       "4  8688337"
      ]
     },
     "execution_count": 9,
     "metadata": {},
     "output_type": "execute_result"
    }
   ],
   "source": [
    "uId_df.head()"
   ]
  },
  {
   "cell_type": "code",
   "execution_count": 10,
   "metadata": {
    "ExecuteTime": {
     "end_time": "2019-08-18T07:52:43.947202Z",
     "start_time": "2019-08-18T07:51:23.684597Z"
    }
   },
   "outputs": [
    {
     "data": {
      "text/plain": [
       "(114728990, 6)"
      ]
     },
     "execution_count": 10,
     "metadata": {},
     "output_type": "execute_result"
    }
   ],
   "source": [
    "sub_user_app_usage_hot = uId_df.merge(user_app_usage_hot,on=['uId'],how='left')\n",
    "sub_user_app_usage_hot.shape"
   ]
  },
  {
   "cell_type": "code",
   "execution_count": 12,
   "metadata": {
    "ExecuteTime": {
     "end_time": "2019-08-18T07:52:43.984764Z",
     "start_time": "2019-08-18T07:52:43.955839Z"
    }
   },
   "outputs": [
    {
     "name": "stdout",
     "output_type": "stream",
     "text": [
      "<class 'pandas.core.frame.DataFrame'>\n",
      "Int64Index: 44601108 entries, 0 to 44601107\n",
      "Data columns (total 6 columns):\n",
      "uId          int64\n",
      "duration     uint16\n",
      "times        uint16\n",
      "use_date     datetime64[ns]\n",
      "idx          uint8\n",
      "dayofweek    uint8\n",
      "dtypes: datetime64[ns](1), int64(1), uint16(2), uint8(2)\n",
      "memory usage: 1.2 GB\n"
     ]
    }
   ],
   "source": [
    "sub_user_app_usage_hot.info()"
   ]
  },
  {
   "cell_type": "code",
   "execution_count": 11,
   "metadata": {
    "ExecuteTime": {
     "end_time": "2019-08-18T07:52:44.954304Z",
     "start_time": "2019-08-18T07:52:43.987825Z"
    }
   },
   "outputs": [],
   "source": [
    "sub_user_app_usage_hot['uId'] = sub_user_app_usage_hot['uId'].astype(np.uint32)"
   ]
  },
  {
   "cell_type": "code",
   "execution_count": 12,
   "metadata": {
    "ExecuteTime": {
     "end_time": "2019-08-18T08:53:44.795081Z",
     "start_time": "2019-08-18T07:52:44.959056Z"
    }
   },
   "outputs": [
    {
     "name": "stdout",
     "output_type": "stream",
     "text": [
      "1000000\n",
      "2000000\n",
      "3000000\n",
      "4000000\n"
     ]
    }
   ],
   "source": [
    "df_list = []\n",
    "i = 0\n",
    "for (uId, dayofweek),group in sub_user_app_usage_hot.groupby(['uId','dayofweek']):\n",
    "    a = build_usage_app_table_by_dayofweek(((uId,dayofweek),group))\n",
    "    df_list.append(a)\n",
    "    i += 1\n",
    "    if i % 1000000 == 0:\n",
    "        print(i)"
   ]
  },
  {
   "cell_type": "code",
   "execution_count": 13,
   "metadata": {
    "ExecuteTime": {
     "end_time": "2019-08-18T09:05:24.694583Z",
     "start_time": "2019-08-18T08:53:44.805909Z"
    }
   },
   "outputs": [
    {
     "data": {
      "text/plain": [
       "(4768784, 202)"
      ]
     },
     "execution_count": 13,
     "metadata": {},
     "output_type": "execute_result"
    }
   ],
   "source": [
    "top_100_app_usage_df = pd.concat(df_list)\n",
    "top_100_app_usage_df.shape"
   ]
  },
  {
   "cell_type": "code",
   "execution_count": 14,
   "metadata": {
    "ExecuteTime": {
     "end_time": "2019-08-18T09:05:24.926373Z",
     "start_time": "2019-08-18T09:05:24.824426Z"
    }
   },
   "outputs": [
    {
     "data": {
      "text/html": [
       "<div>\n",
       "<style scoped>\n",
       "    .dataframe tbody tr th:only-of-type {\n",
       "        vertical-align: middle;\n",
       "    }\n",
       "\n",
       "    .dataframe tbody tr th {\n",
       "        vertical-align: top;\n",
       "    }\n",
       "\n",
       "    .dataframe thead th {\n",
       "        text-align: right;\n",
       "    }\n",
       "</style>\n",
       "<table border=\"1\" class=\"dataframe\">\n",
       "  <thead>\n",
       "    <tr style=\"text-align: right;\">\n",
       "      <th></th>\n",
       "      <th>0</th>\n",
       "      <th>1</th>\n",
       "      <th>2</th>\n",
       "      <th>3</th>\n",
       "      <th>4</th>\n",
       "      <th>5</th>\n",
       "      <th>6</th>\n",
       "      <th>7</th>\n",
       "      <th>8</th>\n",
       "      <th>9</th>\n",
       "      <th>...</th>\n",
       "      <th>192</th>\n",
       "      <th>193</th>\n",
       "      <th>194</th>\n",
       "      <th>195</th>\n",
       "      <th>196</th>\n",
       "      <th>197</th>\n",
       "      <th>198</th>\n",
       "      <th>199</th>\n",
       "      <th>uId</th>\n",
       "      <th>dayofweek</th>\n",
       "    </tr>\n",
       "  </thead>\n",
       "  <tbody>\n",
       "    <tr>\n",
       "      <th>0</th>\n",
       "      <td>1096</td>\n",
       "      <td>0</td>\n",
       "      <td>0</td>\n",
       "      <td>0</td>\n",
       "      <td>68</td>\n",
       "      <td>0</td>\n",
       "      <td>0</td>\n",
       "      <td>29</td>\n",
       "      <td>0</td>\n",
       "      <td>0</td>\n",
       "      <td>...</td>\n",
       "      <td>0</td>\n",
       "      <td>0</td>\n",
       "      <td>0</td>\n",
       "      <td>0</td>\n",
       "      <td>108</td>\n",
       "      <td>0</td>\n",
       "      <td>0</td>\n",
       "      <td>0</td>\n",
       "      <td>1000012</td>\n",
       "      <td>0</td>\n",
       "    </tr>\n",
       "    <tr>\n",
       "      <th>0</th>\n",
       "      <td>1529</td>\n",
       "      <td>0</td>\n",
       "      <td>0</td>\n",
       "      <td>0</td>\n",
       "      <td>95</td>\n",
       "      <td>0</td>\n",
       "      <td>0</td>\n",
       "      <td>15</td>\n",
       "      <td>0</td>\n",
       "      <td>0</td>\n",
       "      <td>...</td>\n",
       "      <td>0</td>\n",
       "      <td>0</td>\n",
       "      <td>0</td>\n",
       "      <td>0</td>\n",
       "      <td>371</td>\n",
       "      <td>0</td>\n",
       "      <td>0</td>\n",
       "      <td>0</td>\n",
       "      <td>1000012</td>\n",
       "      <td>1</td>\n",
       "    </tr>\n",
       "    <tr>\n",
       "      <th>0</th>\n",
       "      <td>1298</td>\n",
       "      <td>0</td>\n",
       "      <td>0</td>\n",
       "      <td>0</td>\n",
       "      <td>52</td>\n",
       "      <td>0</td>\n",
       "      <td>0</td>\n",
       "      <td>5</td>\n",
       "      <td>0</td>\n",
       "      <td>0</td>\n",
       "      <td>...</td>\n",
       "      <td>0</td>\n",
       "      <td>0</td>\n",
       "      <td>0</td>\n",
       "      <td>0</td>\n",
       "      <td>456</td>\n",
       "      <td>0</td>\n",
       "      <td>0</td>\n",
       "      <td>0</td>\n",
       "      <td>1000012</td>\n",
       "      <td>2</td>\n",
       "    </tr>\n",
       "    <tr>\n",
       "      <th>0</th>\n",
       "      <td>2265</td>\n",
       "      <td>0</td>\n",
       "      <td>0</td>\n",
       "      <td>0</td>\n",
       "      <td>94</td>\n",
       "      <td>0</td>\n",
       "      <td>0</td>\n",
       "      <td>20</td>\n",
       "      <td>0</td>\n",
       "      <td>0</td>\n",
       "      <td>...</td>\n",
       "      <td>0</td>\n",
       "      <td>0</td>\n",
       "      <td>0</td>\n",
       "      <td>0</td>\n",
       "      <td>97</td>\n",
       "      <td>0</td>\n",
       "      <td>0</td>\n",
       "      <td>0</td>\n",
       "      <td>1000012</td>\n",
       "      <td>3</td>\n",
       "    </tr>\n",
       "    <tr>\n",
       "      <th>0</th>\n",
       "      <td>1936</td>\n",
       "      <td>0</td>\n",
       "      <td>0</td>\n",
       "      <td>0</td>\n",
       "      <td>53</td>\n",
       "      <td>0</td>\n",
       "      <td>0</td>\n",
       "      <td>27</td>\n",
       "      <td>0</td>\n",
       "      <td>0</td>\n",
       "      <td>...</td>\n",
       "      <td>0</td>\n",
       "      <td>0</td>\n",
       "      <td>0</td>\n",
       "      <td>0</td>\n",
       "      <td>4</td>\n",
       "      <td>0</td>\n",
       "      <td>0</td>\n",
       "      <td>0</td>\n",
       "      <td>1000012</td>\n",
       "      <td>4</td>\n",
       "    </tr>\n",
       "  </tbody>\n",
       "</table>\n",
       "<p>5 rows × 202 columns</p>\n",
       "</div>"
      ],
      "text/plain": [
       "      0  1  2  3   4  5  6   7  8  9  ...  192  193  194  195  196  197  198  \\\n",
       "0  1096  0  0  0  68  0  0  29  0  0  ...    0    0    0    0  108    0    0   \n",
       "0  1529  0  0  0  95  0  0  15  0  0  ...    0    0    0    0  371    0    0   \n",
       "0  1298  0  0  0  52  0  0   5  0  0  ...    0    0    0    0  456    0    0   \n",
       "0  2265  0  0  0  94  0  0  20  0  0  ...    0    0    0    0   97    0    0   \n",
       "0  1936  0  0  0  53  0  0  27  0  0  ...    0    0    0    0    4    0    0   \n",
       "\n",
       "   199      uId  dayofweek  \n",
       "0    0  1000012          0  \n",
       "0    0  1000012          1  \n",
       "0    0  1000012          2  \n",
       "0    0  1000012          3  \n",
       "0    0  1000012          4  \n",
       "\n",
       "[5 rows x 202 columns]"
      ]
     },
     "execution_count": 14,
     "metadata": {},
     "output_type": "execute_result"
    }
   ],
   "source": [
    "top_100_app_usage_df.head()"
   ]
  },
  {
   "cell_type": "code",
   "execution_count": 15,
   "metadata": {
    "ExecuteTime": {
     "end_time": "2019-08-18T09:05:27.431386Z",
     "start_time": "2019-08-18T09:05:24.929084Z"
    }
   },
   "outputs": [
    {
     "name": "stderr",
     "output_type": "stream",
     "text": [
      "/opt/conda/lib/python3.6/site-packages/ipykernel_launcher.py:2: PerformanceWarning: \n",
      "your performance may suffer as PyTables will pickle object types that it cannot\n",
      "map directly to c-types [inferred_type->mixed-integer,key->axis0] [items->None]\n",
      "\n",
      "  \n"
     ]
    }
   ],
   "source": [
    "h5 = pd.HDFStore(base_dir+'top_100_app_usage_df_1.h5','w')\n",
    "h5['data'] = top_100_app_usage_df\n",
    "h5.close()"
   ]
  },
  {
   "cell_type": "code",
   "execution_count": null,
   "metadata": {
    "ExecuteTime": {
     "start_time": "2019-08-18T02:25:21.544Z"
    }
   },
   "outputs": [],
   "source": [
    "print('0')"
   ]
  },
  {
   "cell_type": "code",
   "execution_count": null,
   "metadata": {},
   "outputs": [],
   "source": []
  }
 ],
 "metadata": {
  "kernelspec": {
   "display_name": "Python 3",
   "language": "python",
   "name": "python3"
  },
  "language_info": {
   "codemirror_mode": {
    "name": "ipython",
    "version": 3
   },
   "file_extension": ".py",
   "mimetype": "text/x-python",
   "name": "python",
   "nbconvert_exporter": "python",
   "pygments_lexer": "ipython3",
   "version": "3.6.7"
  }
 },
 "nbformat": 4,
 "nbformat_minor": 4
}
