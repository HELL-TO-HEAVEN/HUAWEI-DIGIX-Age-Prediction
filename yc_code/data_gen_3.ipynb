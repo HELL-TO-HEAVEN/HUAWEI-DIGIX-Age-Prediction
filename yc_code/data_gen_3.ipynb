{
 "cells": [
  {
   "cell_type": "code",
   "execution_count": 1,
   "metadata": {
    "ExecuteTime": {
     "end_time": "2019-08-22T12:48:37.020128Z",
     "start_time": "2019-08-22T12:48:36.999664Z"
    }
   },
   "outputs": [],
   "source": [
    "import numpy as np\n",
    "import pandas as pd\n",
    "import time\n",
    "import ast\n",
    "from tqdm import tqdm\n",
    "import datetime\n",
    "from multiprocessing import Pool, cpu_count\n",
    "from itertools import zip_longest\n",
    "from collections import defaultdict, OrderedDict, Counter\n",
    "import matplotlib.pyplot as plt\n",
    "import seaborn as sns\n",
    "import lightgbm as lgb\n",
    "from sklearn import metrics\n",
    "from sklearn import model_selection\n",
    "from sklearn.model_selection import train_test_split,StratifiedKFold\n",
    "from sklearn.preprocessing import LabelEncoder, StandardScaler\n",
    "from sklearn.feature_selection import chi2,SelectKBest\n",
    "from sklearn.feature_extraction.text import CountVectorizer, TfidfVectorizer, TfidfTransformer\n",
    "from scipy import stats\n",
    "from scipy.stats import skew, norm\n",
    "from itertools import product\n",
    "%matplotlib inline"
   ]
  },
  {
   "cell_type": "code",
   "execution_count": 2,
   "metadata": {},
   "outputs": [],
   "source": [
    "base_dir = './dataset/'"
   ]
  },
  {
   "cell_type": "markdown",
   "metadata": {},
   "source": [
    "### 使用的app数据中各种类数量、每个用户app使用列表"
   ]
  },
  {
   "cell_type": "code",
   "execution_count": 3,
   "metadata": {
    "ExecuteTime": {
     "end_time": "2019-08-22T06:49:33.759042Z",
     "start_time": "2019-08-22T06:49:33.442096Z"
    }
   },
   "outputs": [
    {
     "data": {
      "text/html": [
       "<div>\n",
       "<style scoped>\n",
       "    .dataframe tbody tr th:only-of-type {\n",
       "        vertical-align: middle;\n",
       "    }\n",
       "\n",
       "    .dataframe tbody tr th {\n",
       "        vertical-align: top;\n",
       "    }\n",
       "\n",
       "    .dataframe thead th {\n",
       "        text-align: right;\n",
       "    }\n",
       "</style>\n",
       "<table border=\"1\" class=\"dataframe\">\n",
       "  <thead>\n",
       "    <tr style=\"text-align: right;\">\n",
       "      <th></th>\n",
       "      <th>appId</th>\n",
       "      <th>category</th>\n",
       "    </tr>\n",
       "  </thead>\n",
       "  <tbody>\n",
       "    <tr>\n",
       "      <th>0</th>\n",
       "      <td>a005179</td>\n",
       "      <td>运动健康</td>\n",
       "    </tr>\n",
       "    <tr>\n",
       "      <th>1</th>\n",
       "      <td>a001010</td>\n",
       "      <td>实用工具</td>\n",
       "    </tr>\n",
       "    <tr>\n",
       "      <th>2</th>\n",
       "      <td>a004865</td>\n",
       "      <td>新闻阅读</td>\n",
       "    </tr>\n",
       "    <tr>\n",
       "      <th>3</th>\n",
       "      <td>a002786</td>\n",
       "      <td>图书阅读</td>\n",
       "    </tr>\n",
       "    <tr>\n",
       "      <th>4</th>\n",
       "      <td>a002905</td>\n",
       "      <td>金融理财</td>\n",
       "    </tr>\n",
       "  </tbody>\n",
       "</table>\n",
       "</div>"
      ],
      "text/plain": [
       "     appId category\n",
       "0  a005179     运动健康\n",
       "1  a001010     实用工具\n",
       "2  a004865     新闻阅读\n",
       "3  a002786     图书阅读\n",
       "4  a002905     金融理财"
      ]
     },
     "execution_count": 3,
     "metadata": {},
     "output_type": "execute_result"
    }
   ],
   "source": [
    "app_info_df = pd.read_csv(base_dir+'app_info.csv',header=None, names=['appId','category'])\n",
    "app_cate_list = app_info_df['category'].unique()\n",
    "app_info_df.head()"
   ]
  },
  {
   "cell_type": "code",
   "execution_count": 14,
   "metadata": {
    "ExecuteTime": {
     "end_time": "2019-08-22T06:49:35.687347Z",
     "start_time": "2019-08-22T06:49:34.751053Z"
    }
   },
   "outputs": [
    {
     "name": "stdout",
     "output_type": "stream",
     "text": [
      "(4000000, 2) (1000000, 1)\n"
     ]
    }
   ],
   "source": [
    "train_id_set = pd.read_csv(base_dir+'age_train.csv',header=None, names=['uId', 'age_group'])\n",
    "test_id_set = pd.read_csv(base_dir+'age_test.csv', header=None, names=['uId'])\n",
    "print(train_id_set.shape, test_id_set.shape)"
   ]
  },
  {
   "cell_type": "code",
   "execution_count": 5,
   "metadata": {
    "ExecuteTime": {
     "end_time": "2019-08-22T13:01:08.647601Z",
     "start_time": "2019-08-22T12:48:43.224271Z"
    }
   },
   "outputs": [
    {
     "data": {
      "text/plain": [
       "(840560515, 5)"
      ]
     },
     "execution_count": 5,
     "metadata": {},
     "output_type": "execute_result"
    }
   ],
   "source": [
    "user_app_usage=pd.read_csv(base_dir+'user_app_usage.csv',header=None,names=['uId','appId','duration','times','use_date'],\n",
    "                           dtype={'uId':int,'duration':np.uint32,'times':np.uint32,'use_date':'category'})\n",
    "user_app_usage.shape"
   ]
  },
  {
   "cell_type": "code",
   "execution_count": 14,
   "metadata": {},
   "outputs": [
    {
     "data": {
      "text/plain": [
       "2019-07-12    30510730\n",
       "2019-06-28    30452543\n",
       "2019-06-29    30393199\n",
       "2019-07-05    30366799\n",
       "2019-07-11    30355598\n",
       "2019-07-01    30317849\n",
       "2019-07-06    30311028\n",
       "2019-07-02    30293211\n",
       "2019-07-10    30247427\n",
       "2019-06-27    30221032\n",
       "2019-07-03    30206266\n",
       "2019-07-09    30194885\n",
       "2019-07-13    30156177\n",
       "2019-07-04    30155633\n",
       "2019-07-08    30113619\n",
       "2019-07-15    30067021\n",
       "2019-06-30    29927895\n",
       "2019-07-07    29768238\n",
       "2019-07-17    25356987\n",
       "2019-07-16    25312336\n",
       "2019-07-18    25217468\n",
       "2019-07-19    25189873\n",
       "2019-07-14    24823793\n",
       "2019-07-23    24556803\n",
       "2019-07-22    24538047\n",
       "2019-07-25    24511305\n",
       "2019-07-24    24500719\n",
       "2019-07-26    24498104\n",
       "2019-07-20    24122996\n",
       "2019-07-21    23872934\n",
       "Name: use_date, dtype: int64"
      ]
     },
     "execution_count": 14,
     "metadata": {},
     "output_type": "execute_result"
    }
   ],
   "source": [
    "user_app_usage[valuese_date'].value_counts()"
   ]
  },
  {
   "cell_type": "code",
   "execution_count": 6,
   "metadata": {
    "ExecuteTime": {
     "end_time": "2019-08-22T13:03:35.485852Z",
     "start_time": "2019-08-22T13:01:08.651654Z"
    }
   },
   "outputs": [],
   "source": [
    "user_app_usage_appid_count=user_app_usage.appId.value_counts()\n",
    "user_app_usage_appid_name_list=[]\n",
    "user_app_usage_appid_count_list=[]\n",
    "for k,v in user_app_usage_appid_count.items():\n",
    "    user_app_usage_appid_name_list.append(k)\n",
    "    user_app_usage_appid_count_list.append(v)\n",
    "app_usage_count_df=pd.DataFrame({'appId':user_app_usage_appid_name_list,'count':user_app_usage_appid_count_list})\n",
    "app_usage_count_df.to_csv(base_dir+'pd_user_app_usage_appid_count.csv',index=False)"
   ]
  },
  {
   "cell_type": "code",
   "execution_count": 7,
   "metadata": {
    "ExecuteTime": {
     "end_time": "2019-08-22T13:06:50.943446Z",
     "start_time": "2019-08-22T13:06:50.927292Z"
    }
   },
   "outputs": [
    {
     "data": {
      "text/html": [
       "<div>\n",
       "<style scoped>\n",
       "    .dataframe tbody tr th:only-of-type {\n",
       "        vertical-align: middle;\n",
       "    }\n",
       "\n",
       "    .dataframe tbody tr th {\n",
       "        vertical-align: top;\n",
       "    }\n",
       "\n",
       "    .dataframe thead th {\n",
       "        text-align: right;\n",
       "    }\n",
       "</style>\n",
       "<table border=\"1\" class=\"dataframe\">\n",
       "  <thead>\n",
       "    <tr style=\"text-align: right;\">\n",
       "      <th></th>\n",
       "      <th>appId</th>\n",
       "      <th>count</th>\n",
       "    </tr>\n",
       "  </thead>\n",
       "  <tbody>\n",
       "    <tr>\n",
       "      <th>0</th>\n",
       "      <td>a007439</td>\n",
       "      <td>101196408</td>\n",
       "    </tr>\n",
       "    <tr>\n",
       "      <th>1</th>\n",
       "      <td>a007440</td>\n",
       "      <td>52133265</td>\n",
       "    </tr>\n",
       "    <tr>\n",
       "      <th>2</th>\n",
       "      <td>a007331</td>\n",
       "      <td>37471688</td>\n",
       "    </tr>\n",
       "    <tr>\n",
       "      <th>3</th>\n",
       "      <td>a007104</td>\n",
       "      <td>34890613</td>\n",
       "    </tr>\n",
       "    <tr>\n",
       "      <th>4</th>\n",
       "      <td>a001062</td>\n",
       "      <td>31468206</td>\n",
       "    </tr>\n",
       "  </tbody>\n",
       "</table>\n",
       "</div>"
      ],
      "text/plain": [
       "     appId      count\n",
       "0  a007439  101196408\n",
       "1  a007440   52133265\n",
       "2  a007331   37471688\n",
       "3  a007104   34890613\n",
       "4  a001062   31468206"
      ]
     },
     "execution_count": 7,
     "metadata": {},
     "output_type": "execute_result"
    }
   ],
   "source": [
    "app_usage_count_df.head()"
   ]
  },
  {
   "cell_type": "code",
   "execution_count": 10,
   "metadata": {},
   "outputs": [
    {
     "data": {
      "text/plain": [
       "0.9483854520575475"
      ]
     },
     "execution_count": 10,
     "metadata": {},
     "output_type": "execute_result"
    }
   ],
   "source": [
    "sum(app_usage_count_df.loc[:1000,'count'])/sum(app_usage_count_df['count'])"
   ]
  },
  {
   "cell_type": "code",
   "execution_count": 25,
   "metadata": {},
   "outputs": [
    {
     "ename": "NameError",
     "evalue": "name 'app_usage_count_df' is not defined",
     "output_type": "error",
     "traceback": [
      "\u001b[0;31m---------------------------------------------------------------------------\u001b[0m",
      "\u001b[0;31mNameError\u001b[0m                                 Traceback (most recent call last)",
      "\u001b[0;32m<ipython-input-25-b4fc1a2c0f27>\u001b[0m in \u001b[0;36m<module>\u001b[0;34m\u001b[0m\n\u001b[0;32m----> 1\u001b[0;31m \u001b[0mapp_usage_count_df\u001b[0m\u001b[0;34m.\u001b[0m\u001b[0mshape\u001b[0m\u001b[0;34m\u001b[0m\u001b[0;34m\u001b[0m\u001b[0m\n\u001b[0m",
      "\u001b[0;31mNameError\u001b[0m: name 'app_usage_count_df' is not defined"
     ]
    }
   ],
   "source": [
    "app_usage_count_df.shape"
   ]
  },
  {
   "cell_type": "code",
   "execution_count": null,
   "metadata": {},
   "outputs": [],
   "source": [
    "### 10000 需视决赛数据集而定\n",
    "# app_usage_top_10000_set = set(list(app_usage_count_df.loc[:10000, 'appId']))"
   ]
  },
  {
   "cell_type": "code",
   "execution_count": 11,
   "metadata": {},
   "outputs": [],
   "source": [
    "user_app_usage_list = []\n",
    "for uId,group in user_app_usage.groupby('uId'):\n",
    "    all_app_set = list(group['appId'].unique())\n",
    "#     top_app_list = list(app_usage_top_10000_set.intersection(all_app_set))\n",
    "    appIds = '#'.join(all_app_set)\n",
    "    user_app_usage_map = {}\n",
    "    user_app_usage_map['uId'] = uId\n",
    "    user_app_usage_map['appIds'] = appIds\n",
    "    user_app_usage_list.append(user_app_usage_map)\n",
    "    "
   ]
  },
  {
   "cell_type": "code",
   "execution_count": 12,
   "metadata": {},
   "outputs": [
    {
     "data": {
      "text/html": [
       "<div>\n",
       "<style scoped>\n",
       "    .dataframe tbody tr th:only-of-type {\n",
       "        vertical-align: middle;\n",
       "    }\n",
       "\n",
       "    .dataframe tbody tr th {\n",
       "        vertical-align: top;\n",
       "    }\n",
       "\n",
       "    .dataframe thead th {\n",
       "        text-align: right;\n",
       "    }\n",
       "</style>\n",
       "<table border=\"1\" class=\"dataframe\">\n",
       "  <thead>\n",
       "    <tr style=\"text-align: right;\">\n",
       "      <th></th>\n",
       "      <th>uId</th>\n",
       "      <th>appIds</th>\n",
       "    </tr>\n",
       "  </thead>\n",
       "  <tbody>\n",
       "    <tr>\n",
       "      <th>0</th>\n",
       "      <td>1000009</td>\n",
       "      <td>a008224#a001055#a002392#a003386#a003659#a00548...</td>\n",
       "    </tr>\n",
       "    <tr>\n",
       "      <th>1</th>\n",
       "      <td>1000010</td>\n",
       "      <td>a006085#a003327#a001578#a007488#a00451#a001050...</td>\n",
       "    </tr>\n",
       "    <tr>\n",
       "      <th>2</th>\n",
       "      <td>1000011</td>\n",
       "      <td>a007629#a006461#a00604#a006400#a007439#a00326#...</td>\n",
       "    </tr>\n",
       "    <tr>\n",
       "      <th>3</th>\n",
       "      <td>1000012</td>\n",
       "      <td>a003570#a008587#a007439#a005893#a007447#a00588...</td>\n",
       "    </tr>\n",
       "    <tr>\n",
       "      <th>4</th>\n",
       "      <td>1000014</td>\n",
       "      <td>a001671#a007445#a007088#a008879#a001062</td>\n",
       "    </tr>\n",
       "  </tbody>\n",
       "</table>\n",
       "</div>"
      ],
      "text/plain": [
       "       uId                                             appIds\n",
       "0  1000009  a008224#a001055#a002392#a003386#a003659#a00548...\n",
       "1  1000010  a006085#a003327#a001578#a007488#a00451#a001050...\n",
       "2  1000011  a007629#a006461#a00604#a006400#a007439#a00326#...\n",
       "3  1000012  a003570#a008587#a007439#a005893#a007447#a00588...\n",
       "4  1000014            a001671#a007445#a007088#a008879#a001062"
      ]
     },
     "execution_count": 12,
     "metadata": {},
     "output_type": "execute_result"
    }
   ],
   "source": [
    "user_app_usage_df = pd.DataFrame(user_app_usage_list)\n",
    "user_app_usage_df.head()"
   ]
  },
  {
   "cell_type": "code",
   "execution_count": 13,
   "metadata": {},
   "outputs": [],
   "source": [
    "h5 = pd.HDFStore(base_dir+'user_app_usage_df.h5','w',complevel=4,complib='blosc')\n",
    "h5['data'] = user_app_usage_df \n",
    "h5.close()"
   ]
  },
  {
   "cell_type": "code",
   "execution_count": 5,
   "metadata": {
    "ExecuteTime": {
     "end_time": "2019-08-22T06:50:08.383803Z",
     "start_time": "2019-08-22T06:49:59.425313Z"
    }
   },
   "outputs": [
    {
     "data": {
      "text/plain": [
       "(4020281, 2)"
      ]
     },
     "execution_count": 5,
     "metadata": {},
     "output_type": "execute_result"
    }
   ],
   "source": [
    "user_app_usage_df = pd.read_hdf(base_dir+'user_app_usage_df.h5', key='data')\n",
    "user_app_usage_df.shape"
   ]
  },
  {
   "cell_type": "code",
   "execution_count": 6,
   "metadata": {
    "ExecuteTime": {
     "end_time": "2019-08-22T06:50:08.397035Z",
     "start_time": "2019-08-22T06:50:08.387940Z"
    }
   },
   "outputs": [],
   "source": [
    "def calc_app_nums_each_cate(df_row): \n",
    "    index, row = df_row\n",
    "    uId = row['uId']\n",
    "    appIds = row['appIds'].split('#')\n",
    "    cate_map = OrderedDict()\n",
    "    for cate in app_cate_list:\n",
    "        cate_map[cate] = 0\n",
    "    cate_map['appNums'] = len(appIds)\n",
    "    categories = list(app_info_df.loc[app_info_df['appId'].isin(appIds), 'category'])\n",
    "    for c in categories:\n",
    "        cate_map[c] += 1\n",
    "    return cate_map"
   ]
  },
  {
   "cell_type": "code",
   "execution_count": 7,
   "metadata": {
    "ExecuteTime": {
     "end_time": "2019-08-22T07:36:56.983923Z",
     "start_time": "2019-08-22T06:50:10.446166Z"
    }
   },
   "outputs": [],
   "source": [
    "pool = Pool(8)\n",
    "results = pool.map(calc_app_nums_each_cate, user_app_usage_df[['uId','appIds']].iterrows())\n",
    "pool.close()\n",
    "pool.join()"
   ]
  },
  {
   "cell_type": "code",
   "execution_count": 8,
   "metadata": {
    "ExecuteTime": {
     "end_time": "2019-08-22T07:38:06.136388Z",
     "start_time": "2019-08-22T07:36:56.992741Z"
    }
   },
   "outputs": [
    {
     "data": {
      "text/plain": [
       "(4020281, 34)"
      ]
     },
     "execution_count": 8,
     "metadata": {},
     "output_type": "execute_result"
    }
   ],
   "source": [
    "app_usage_category = pd.DataFrame(results)\n",
    "app_usage_category = pd.concat([user_app_usage_df[['uId']], app_usage_category], axis=1)\n",
    "app_usage_category.rename(columns=lambda x:str(x)+'_usage',inplace=True)\n",
    "app_usage_category.rename(columns={'uId_usage':'uId'},inplace=True)\n",
    "app_usage_category.shape"
   ]
  },
  {
   "cell_type": "code",
   "execution_count": 9,
   "metadata": {
    "ExecuteTime": {
     "end_time": "2019-08-22T07:38:07.684697Z",
     "start_time": "2019-08-22T07:38:06.140246Z"
    }
   },
   "outputs": [],
   "source": [
    "h5 = pd.HDFStore(base_dir+'app_usage_category.h5','w',complevel=4,complib='blosc')\n",
    "h5['data'] = app_usage_category \n",
    "h5.close()"
   ]
  },
  {
   "cell_type": "code",
   "execution_count": 7,
   "metadata": {},
   "outputs": [
    {
     "data": {
      "text/plain": [
       "(4020281, 34)"
      ]
     },
     "execution_count": 7,
     "metadata": {},
     "output_type": "execute_result"
    }
   ],
   "source": [
    "app_usage_category = pd.read_hdf(base_dir+'app_usage_category.h5',key='data')\n",
    "app_usage_category.shape"
   ]
  },
  {
   "cell_type": "code",
   "execution_count": 8,
   "metadata": {
    "ExecuteTime": {
     "end_time": "2019-08-22T07:45:07.055758Z",
     "start_time": "2019-08-22T07:45:05.976991Z"
    }
   },
   "outputs": [
    {
     "data": {
      "text/plain": [
       "(4999341, 34)"
      ]
     },
     "execution_count": 8,
     "metadata": {},
     "output_type": "execute_result"
    }
   ],
   "source": [
    "app_actived_category = pd.read_hdf(base_dir+'app_actived_category.h5', key='data')\n",
    "app_actived_category.shape"
   ]
  },
  {
   "cell_type": "markdown",
   "metadata": {},
   "source": [
    "### 转化率"
   ]
  },
  {
   "cell_type": "code",
   "execution_count": 9,
   "metadata": {
    "ExecuteTime": {
     "end_time": "2019-08-22T07:45:35.363355Z",
     "start_time": "2019-08-22T07:45:30.916487Z"
    }
   },
   "outputs": [
    {
     "data": {
      "text/plain": [
       "(4999341, 67)"
      ]
     },
     "execution_count": 9,
     "metadata": {},
     "output_type": "execute_result"
    }
   ],
   "source": [
    "app_stat = app_actived_category.merge(app_usage_category,on='uId',how='left')\n",
    "app_stat.fillna(0,inplace=True)\n",
    "app_stat.shape"
   ]
  },
  {
   "cell_type": "code",
   "execution_count": 11,
   "metadata": {
    "ExecuteTime": {
     "end_time": "2019-08-22T09:01:47.788342Z",
     "start_time": "2019-08-22T07:45:35.366846Z"
    }
   },
   "outputs": [
    {
     "name": "stdout",
     "output_type": "stream",
     "text": [
      "运动健康\n",
      "实用工具\n",
      "新闻阅读\n",
      "图书阅读\n",
      "金融理财\n",
      "社交通讯\n",
      "便捷生活\n",
      "休闲益智\n",
      "拍摄美化\n",
      "经营策略\n",
      "儿童\n",
      "汽车\n",
      "教育\n",
      "主题个性\n",
      "影音娱乐\n",
      "棋牌桌游\n",
      "购物比价\n",
      "旅游住宿\n",
      "出行导航\n",
      "商务\n",
      "角色扮演\n",
      "动作射击\n",
      "体育竞速\n",
      "美食\n",
      "休闲娱乐\n",
      "表盘个性\n",
      "学习办公\n",
      "网络游戏\n",
      "主题铃声\n",
      "动漫\n",
      "休闲游戏\n",
      "资讯生活\n",
      "appNums\n"
     ]
    }
   ],
   "source": [
    "for col in app_actived_category.columns[1:]:\n",
    "    col_usage = col+'_usage'\n",
    "    app_stat[col+'_rate'] = app_stat.apply(lambda x:x[col_usage]/x[col] if x[col]!=0 else x[col_usage],axis=1)\n",
    "    print(col)"
   ]
  },
  {
   "cell_type": "code",
   "execution_count": 12,
   "metadata": {
    "ExecuteTime": {
     "end_time": "2019-08-22T09:01:51.638463Z",
     "start_time": "2019-08-22T09:01:47.791971Z"
    }
   },
   "outputs": [],
   "source": [
    "for col in app_actived_category.columns[1:]:\n",
    "    _ = app_stat.pop(col)"
   ]
  },
  {
   "cell_type": "code",
   "execution_count": 15,
   "metadata": {
    "ExecuteTime": {
     "end_time": "2019-08-22T09:02:00.224955Z",
     "start_time": "2019-08-22T09:01:51.643449Z"
    }
   },
   "outputs": [
    {
     "name": "stdout",
     "output_type": "stream",
     "text": [
      "(1000000, 66) (4000000, 66)\n"
     ]
    }
   ],
   "source": [
    "train_app_trans_rate = train_id_set[['uId']].merge(app_stat,on='uId',how='left')\n",
    "test_app_trans_rate = test_id_set.merge(app_stat,on='uId',how='left')\n",
    "train_app_trans_rate.fillna(0,inplace=True)\n",
    "test_app_trans_rate.fillna(0,inplace=True)\n",
    "_ = train_app_trans_rate.pop('uId')\n",
    "_ = test_app_trans_rate.pop('uId')\n",
    "print(test_app_trans_rate.shape,train_app_trans_rate.shape)"
   ]
  },
  {
   "cell_type": "code",
   "execution_count": 16,
   "metadata": {
    "ExecuteTime": {
     "end_time": "2019-08-22T09:02:17.608399Z",
     "start_time": "2019-08-22T09:02:00.229406Z"
    }
   },
   "outputs": [
    {
     "name": "stderr",
     "output_type": "stream",
     "text": [
      "/opt/conda/lib/python3.6/site-packages/ipykernel_launcher.py:2: SettingWithCopyWarning: \n",
      "A value is trying to be set on a copy of a slice from a DataFrame.\n",
      "Try using .loc[row_indexer,col_indexer] = value instead\n",
      "\n",
      "See the caveats in the documentation: http://pandas.pydata.org/pandas-docs/stable/user_guide/indexing.html#returning-a-view-versus-a-copy\n",
      "  \n",
      "/opt/conda/lib/python3.6/site-packages/pandas/core/frame.py:3510: SettingWithCopyWarning: \n",
      "A value is trying to be set on a copy of a slice from a DataFrame\n",
      "\n",
      "See the caveats in the documentation: http://pandas.pydata.org/pandas-docs/stable/user_guide/indexing.html#returning-a-view-versus-a-copy\n",
      "  self._where(-key, value, inplace=True)\n"
     ]
    },
    {
     "data": {
      "text/html": [
       "<div>\n",
       "<style scoped>\n",
       "    .dataframe tbody tr th:only-of-type {\n",
       "        vertical-align: middle;\n",
       "    }\n",
       "\n",
       "    .dataframe tbody tr th {\n",
       "        vertical-align: top;\n",
       "    }\n",
       "\n",
       "    .dataframe thead th {\n",
       "        text-align: right;\n",
       "    }\n",
       "</style>\n",
       "<table border=\"1\" class=\"dataframe\">\n",
       "  <thead>\n",
       "    <tr style=\"text-align: right;\">\n",
       "      <th></th>\n",
       "      <th>运动健康_usage</th>\n",
       "      <th>实用工具_usage</th>\n",
       "      <th>新闻阅读_usage</th>\n",
       "      <th>图书阅读_usage</th>\n",
       "      <th>金融理财_usage</th>\n",
       "      <th>社交通讯_usage</th>\n",
       "      <th>便捷生活_usage</th>\n",
       "      <th>休闲益智_usage</th>\n",
       "      <th>拍摄美化_usage</th>\n",
       "      <th>经营策略_usage</th>\n",
       "      <th>...</th>\n",
       "      <th>美食_rate</th>\n",
       "      <th>休闲娱乐_rate</th>\n",
       "      <th>表盘个性_rate</th>\n",
       "      <th>学习办公_rate</th>\n",
       "      <th>网络游戏_rate</th>\n",
       "      <th>主题铃声_rate</th>\n",
       "      <th>动漫_rate</th>\n",
       "      <th>休闲游戏_rate</th>\n",
       "      <th>资讯生活_rate</th>\n",
       "      <th>appNums_rate</th>\n",
       "    </tr>\n",
       "  </thead>\n",
       "  <tbody>\n",
       "    <tr>\n",
       "      <th>0</th>\n",
       "      <td>0.0</td>\n",
       "      <td>2.0</td>\n",
       "      <td>1.0</td>\n",
       "      <td>0.0</td>\n",
       "      <td>1.0</td>\n",
       "      <td>1.0</td>\n",
       "      <td>1.0</td>\n",
       "      <td>0.0</td>\n",
       "      <td>0.0</td>\n",
       "      <td>0.0</td>\n",
       "      <td>...</td>\n",
       "      <td>0.0</td>\n",
       "      <td>0.0</td>\n",
       "      <td>0.0</td>\n",
       "      <td>0.0</td>\n",
       "      <td>0.0</td>\n",
       "      <td>0.0</td>\n",
       "      <td>0.0</td>\n",
       "      <td>0.0</td>\n",
       "      <td>0.0</td>\n",
       "      <td>0.666667</td>\n",
       "    </tr>\n",
       "    <tr>\n",
       "      <th>1</th>\n",
       "      <td>0.0</td>\n",
       "      <td>8.0</td>\n",
       "      <td>1.0</td>\n",
       "      <td>0.0</td>\n",
       "      <td>0.0</td>\n",
       "      <td>2.0</td>\n",
       "      <td>3.0</td>\n",
       "      <td>0.0</td>\n",
       "      <td>1.0</td>\n",
       "      <td>0.0</td>\n",
       "      <td>...</td>\n",
       "      <td>0.0</td>\n",
       "      <td>0.0</td>\n",
       "      <td>0.0</td>\n",
       "      <td>0.0</td>\n",
       "      <td>0.0</td>\n",
       "      <td>0.0</td>\n",
       "      <td>0.0</td>\n",
       "      <td>0.0</td>\n",
       "      <td>0.0</td>\n",
       "      <td>0.571429</td>\n",
       "    </tr>\n",
       "    <tr>\n",
       "      <th>2</th>\n",
       "      <td>0.0</td>\n",
       "      <td>9.0</td>\n",
       "      <td>0.0</td>\n",
       "      <td>0.0</td>\n",
       "      <td>0.0</td>\n",
       "      <td>3.0</td>\n",
       "      <td>1.0</td>\n",
       "      <td>0.0</td>\n",
       "      <td>2.0</td>\n",
       "      <td>0.0</td>\n",
       "      <td>...</td>\n",
       "      <td>0.0</td>\n",
       "      <td>0.0</td>\n",
       "      <td>0.0</td>\n",
       "      <td>0.0</td>\n",
       "      <td>0.0</td>\n",
       "      <td>0.0</td>\n",
       "      <td>0.0</td>\n",
       "      <td>0.0</td>\n",
       "      <td>0.0</td>\n",
       "      <td>0.875000</td>\n",
       "    </tr>\n",
       "    <tr>\n",
       "      <th>3</th>\n",
       "      <td>0.0</td>\n",
       "      <td>20.0</td>\n",
       "      <td>9.0</td>\n",
       "      <td>0.0</td>\n",
       "      <td>2.0</td>\n",
       "      <td>3.0</td>\n",
       "      <td>6.0</td>\n",
       "      <td>0.0</td>\n",
       "      <td>5.0</td>\n",
       "      <td>0.0</td>\n",
       "      <td>...</td>\n",
       "      <td>0.0</td>\n",
       "      <td>0.0</td>\n",
       "      <td>0.0</td>\n",
       "      <td>0.0</td>\n",
       "      <td>0.0</td>\n",
       "      <td>0.0</td>\n",
       "      <td>0.0</td>\n",
       "      <td>0.0</td>\n",
       "      <td>0.0</td>\n",
       "      <td>0.777778</td>\n",
       "    </tr>\n",
       "    <tr>\n",
       "      <th>4</th>\n",
       "      <td>0.0</td>\n",
       "      <td>0.0</td>\n",
       "      <td>0.0</td>\n",
       "      <td>0.0</td>\n",
       "      <td>0.0</td>\n",
       "      <td>0.0</td>\n",
       "      <td>0.0</td>\n",
       "      <td>0.0</td>\n",
       "      <td>0.0</td>\n",
       "      <td>0.0</td>\n",
       "      <td>...</td>\n",
       "      <td>0.0</td>\n",
       "      <td>0.0</td>\n",
       "      <td>0.0</td>\n",
       "      <td>0.0</td>\n",
       "      <td>0.0</td>\n",
       "      <td>0.0</td>\n",
       "      <td>0.0</td>\n",
       "      <td>0.0</td>\n",
       "      <td>0.0</td>\n",
       "      <td>0.000000</td>\n",
       "    </tr>\n",
       "  </tbody>\n",
       "</table>\n",
       "<p>5 rows × 66 columns</p>\n",
       "</div>"
      ],
      "text/plain": [
       "   运动健康_usage  实用工具_usage  新闻阅读_usage  图书阅读_usage  金融理财_usage  社交通讯_usage  \\\n",
       "0         0.0         2.0         1.0         0.0         1.0         1.0   \n",
       "1         0.0         8.0         1.0         0.0         0.0         2.0   \n",
       "2         0.0         9.0         0.0         0.0         0.0         3.0   \n",
       "3         0.0        20.0         9.0         0.0         2.0         3.0   \n",
       "4         0.0         0.0         0.0         0.0         0.0         0.0   \n",
       "\n",
       "   便捷生活_usage  休闲益智_usage  拍摄美化_usage  经营策略_usage  ...  美食_rate  休闲娱乐_rate  \\\n",
       "0         1.0         0.0         0.0         0.0  ...      0.0        0.0   \n",
       "1         3.0         0.0         1.0         0.0  ...      0.0        0.0   \n",
       "2         1.0         0.0         2.0         0.0  ...      0.0        0.0   \n",
       "3         6.0         0.0         5.0         0.0  ...      0.0        0.0   \n",
       "4         0.0         0.0         0.0         0.0  ...      0.0        0.0   \n",
       "\n",
       "   表盘个性_rate  学习办公_rate  网络游戏_rate  主题铃声_rate  动漫_rate  休闲游戏_rate  资讯生活_rate  \\\n",
       "0        0.0        0.0        0.0        0.0      0.0        0.0        0.0   \n",
       "1        0.0        0.0        0.0        0.0      0.0        0.0        0.0   \n",
       "2        0.0        0.0        0.0        0.0      0.0        0.0        0.0   \n",
       "3        0.0        0.0        0.0        0.0      0.0        0.0        0.0   \n",
       "4        0.0        0.0        0.0        0.0      0.0        0.0        0.0   \n",
       "\n",
       "   appNums_rate  \n",
       "0      0.666667  \n",
       "1      0.571429  \n",
       "2      0.875000  \n",
       "3      0.777778  \n",
       "4      0.000000  \n",
       "\n",
       "[5 rows x 66 columns]"
      ]
     },
     "execution_count": 16,
     "metadata": {},
     "output_type": "execute_result"
    }
   ],
   "source": [
    "train_app_rate = train_app_trans_rate[train_app_trans_rate.columns[33:]]\n",
    "train_app_rate[train_app_rate>1] = 1\n",
    "train_app_trans_rate_with_usage = train_app_trans_rate[train_app_trans_rate.columns[:33]]\n",
    "train_app_trans_rate_with_usage = pd.concat([train_app_trans_rate_with_usage,train_app_rate],axis=1)\n",
    "train_app_trans_rate_with_usage.head()"
   ]
  },
  {
   "cell_type": "code",
   "execution_count": 17,
   "metadata": {
    "ExecuteTime": {
     "end_time": "2019-08-22T09:02:28.572066Z",
     "start_time": "2019-08-22T09:02:17.610903Z"
    }
   },
   "outputs": [
    {
     "name": "stderr",
     "output_type": "stream",
     "text": [
      "/opt/conda/lib/python3.6/site-packages/ipykernel_launcher.py:2: SettingWithCopyWarning: \n",
      "A value is trying to be set on a copy of a slice from a DataFrame.\n",
      "Try using .loc[row_indexer,col_indexer] = value instead\n",
      "\n",
      "See the caveats in the documentation: http://pandas.pydata.org/pandas-docs/stable/user_guide/indexing.html#returning-a-view-versus-a-copy\n",
      "  \n"
     ]
    },
    {
     "data": {
      "text/html": [
       "<div>\n",
       "<style scoped>\n",
       "    .dataframe tbody tr th:only-of-type {\n",
       "        vertical-align: middle;\n",
       "    }\n",
       "\n",
       "    .dataframe tbody tr th {\n",
       "        vertical-align: top;\n",
       "    }\n",
       "\n",
       "    .dataframe thead th {\n",
       "        text-align: right;\n",
       "    }\n",
       "</style>\n",
       "<table border=\"1\" class=\"dataframe\">\n",
       "  <thead>\n",
       "    <tr style=\"text-align: right;\">\n",
       "      <th></th>\n",
       "      <th>运动健康_usage</th>\n",
       "      <th>实用工具_usage</th>\n",
       "      <th>新闻阅读_usage</th>\n",
       "      <th>图书阅读_usage</th>\n",
       "      <th>金融理财_usage</th>\n",
       "      <th>社交通讯_usage</th>\n",
       "      <th>便捷生活_usage</th>\n",
       "      <th>休闲益智_usage</th>\n",
       "      <th>拍摄美化_usage</th>\n",
       "      <th>经营策略_usage</th>\n",
       "      <th>...</th>\n",
       "      <th>美食_rate</th>\n",
       "      <th>休闲娱乐_rate</th>\n",
       "      <th>表盘个性_rate</th>\n",
       "      <th>学习办公_rate</th>\n",
       "      <th>网络游戏_rate</th>\n",
       "      <th>主题铃声_rate</th>\n",
       "      <th>动漫_rate</th>\n",
       "      <th>休闲游戏_rate</th>\n",
       "      <th>资讯生活_rate</th>\n",
       "      <th>appNums_rate</th>\n",
       "    </tr>\n",
       "  </thead>\n",
       "  <tbody>\n",
       "    <tr>\n",
       "      <th>0</th>\n",
       "      <td>1.0</td>\n",
       "      <td>10.0</td>\n",
       "      <td>1.0</td>\n",
       "      <td>0.0</td>\n",
       "      <td>2.0</td>\n",
       "      <td>4.0</td>\n",
       "      <td>8.0</td>\n",
       "      <td>0.0</td>\n",
       "      <td>1.0</td>\n",
       "      <td>0.0</td>\n",
       "      <td>...</td>\n",
       "      <td>0.0</td>\n",
       "      <td>0.0</td>\n",
       "      <td>0.0</td>\n",
       "      <td>0.0</td>\n",
       "      <td>0.0</td>\n",
       "      <td>0.0</td>\n",
       "      <td>0.0</td>\n",
       "      <td>0.0</td>\n",
       "      <td>0.0</td>\n",
       "      <td>0.583333</td>\n",
       "    </tr>\n",
       "    <tr>\n",
       "      <th>1</th>\n",
       "      <td>0.0</td>\n",
       "      <td>18.0</td>\n",
       "      <td>5.0</td>\n",
       "      <td>0.0</td>\n",
       "      <td>4.0</td>\n",
       "      <td>5.0</td>\n",
       "      <td>17.0</td>\n",
       "      <td>0.0</td>\n",
       "      <td>1.0</td>\n",
       "      <td>0.0</td>\n",
       "      <td>...</td>\n",
       "      <td>1.0</td>\n",
       "      <td>0.0</td>\n",
       "      <td>0.0</td>\n",
       "      <td>0.0</td>\n",
       "      <td>0.0</td>\n",
       "      <td>0.0</td>\n",
       "      <td>0.0</td>\n",
       "      <td>0.0</td>\n",
       "      <td>0.0</td>\n",
       "      <td>0.653333</td>\n",
       "    </tr>\n",
       "    <tr>\n",
       "      <th>2</th>\n",
       "      <td>0.0</td>\n",
       "      <td>4.0</td>\n",
       "      <td>0.0</td>\n",
       "      <td>0.0</td>\n",
       "      <td>0.0</td>\n",
       "      <td>2.0</td>\n",
       "      <td>0.0</td>\n",
       "      <td>0.0</td>\n",
       "      <td>1.0</td>\n",
       "      <td>0.0</td>\n",
       "      <td>...</td>\n",
       "      <td>0.0</td>\n",
       "      <td>0.0</td>\n",
       "      <td>0.0</td>\n",
       "      <td>0.0</td>\n",
       "      <td>0.0</td>\n",
       "      <td>0.0</td>\n",
       "      <td>0.0</td>\n",
       "      <td>0.0</td>\n",
       "      <td>0.0</td>\n",
       "      <td>0.170732</td>\n",
       "    </tr>\n",
       "    <tr>\n",
       "      <th>3</th>\n",
       "      <td>0.0</td>\n",
       "      <td>0.0</td>\n",
       "      <td>0.0</td>\n",
       "      <td>0.0</td>\n",
       "      <td>0.0</td>\n",
       "      <td>0.0</td>\n",
       "      <td>0.0</td>\n",
       "      <td>0.0</td>\n",
       "      <td>0.0</td>\n",
       "      <td>0.0</td>\n",
       "      <td>...</td>\n",
       "      <td>0.0</td>\n",
       "      <td>0.0</td>\n",
       "      <td>0.0</td>\n",
       "      <td>0.0</td>\n",
       "      <td>0.0</td>\n",
       "      <td>0.0</td>\n",
       "      <td>0.0</td>\n",
       "      <td>0.0</td>\n",
       "      <td>0.0</td>\n",
       "      <td>0.000000</td>\n",
       "    </tr>\n",
       "    <tr>\n",
       "      <th>4</th>\n",
       "      <td>0.0</td>\n",
       "      <td>7.0</td>\n",
       "      <td>1.0</td>\n",
       "      <td>0.0</td>\n",
       "      <td>4.0</td>\n",
       "      <td>4.0</td>\n",
       "      <td>8.0</td>\n",
       "      <td>0.0</td>\n",
       "      <td>0.0</td>\n",
       "      <td>0.0</td>\n",
       "      <td>...</td>\n",
       "      <td>1.0</td>\n",
       "      <td>0.0</td>\n",
       "      <td>0.0</td>\n",
       "      <td>0.0</td>\n",
       "      <td>0.0</td>\n",
       "      <td>0.0</td>\n",
       "      <td>0.0</td>\n",
       "      <td>0.0</td>\n",
       "      <td>0.0</td>\n",
       "      <td>0.676471</td>\n",
       "    </tr>\n",
       "  </tbody>\n",
       "</table>\n",
       "<p>5 rows × 66 columns</p>\n",
       "</div>"
      ],
      "text/plain": [
       "   运动健康_usage  实用工具_usage  新闻阅读_usage  图书阅读_usage  金融理财_usage  社交通讯_usage  \\\n",
       "0         1.0        10.0         1.0         0.0         2.0         4.0   \n",
       "1         0.0        18.0         5.0         0.0         4.0         5.0   \n",
       "2         0.0         4.0         0.0         0.0         0.0         2.0   \n",
       "3         0.0         0.0         0.0         0.0         0.0         0.0   \n",
       "4         0.0         7.0         1.0         0.0         4.0         4.0   \n",
       "\n",
       "   便捷生活_usage  休闲益智_usage  拍摄美化_usage  经营策略_usage  ...  美食_rate  休闲娱乐_rate  \\\n",
       "0         8.0         0.0         1.0         0.0  ...      0.0        0.0   \n",
       "1        17.0         0.0         1.0         0.0  ...      1.0        0.0   \n",
       "2         0.0         0.0         1.0         0.0  ...      0.0        0.0   \n",
       "3         0.0         0.0         0.0         0.0  ...      0.0        0.0   \n",
       "4         8.0         0.0         0.0         0.0  ...      1.0        0.0   \n",
       "\n",
       "   表盘个性_rate  学习办公_rate  网络游戏_rate  主题铃声_rate  动漫_rate  休闲游戏_rate  资讯生活_rate  \\\n",
       "0        0.0        0.0        0.0        0.0      0.0        0.0        0.0   \n",
       "1        0.0        0.0        0.0        0.0      0.0        0.0        0.0   \n",
       "2        0.0        0.0        0.0        0.0      0.0        0.0        0.0   \n",
       "3        0.0        0.0        0.0        0.0      0.0        0.0        0.0   \n",
       "4        0.0        0.0        0.0        0.0      0.0        0.0        0.0   \n",
       "\n",
       "   appNums_rate  \n",
       "0      0.583333  \n",
       "1      0.653333  \n",
       "2      0.170732  \n",
       "3      0.000000  \n",
       "4      0.676471  \n",
       "\n",
       "[5 rows x 66 columns]"
      ]
     },
     "execution_count": 17,
     "metadata": {},
     "output_type": "execute_result"
    }
   ],
   "source": [
    "test_app_rate = test_app_trans_rate[test_app_trans_rate.columns[33:]]\n",
    "test_app_rate[test_app_rate>1]=1\n",
    "test_app_trans_rate_with_usage = test_app_trans_rate[test_app_trans_rate.columns[:33]]\n",
    "test_app_trans_rate_with_usage = pd.concat([test_app_trans_rate_with_usage,test_app_rate],axis=1)\n",
    "test_app_trans_rate_with_usage.head()"
   ]
  },
  {
   "cell_type": "code",
   "execution_count": 18,
   "metadata": {
    "ExecuteTime": {
     "end_time": "2019-08-22T09:02:32.507577Z",
     "start_time": "2019-08-22T09:02:28.574584Z"
    }
   },
   "outputs": [
    {
     "name": "stdout",
     "output_type": "stream",
     "text": [
      "(1000000, 33) (4000000, 33)\n"
     ]
    }
   ],
   "source": [
    "scaler = StandardScaler().fit(train_app_rate)\n",
    "train_app_trans_rate_scaler = scaler.transform(train_app_rate)  \n",
    "test_app_trans_rate_scaler = scaler.transform(test_app_rate)\n",
    "print(test_app_trans_rate_scaler.shape,train_app_trans_rate_scaler.shape)"
   ]
  },
  {
   "cell_type": "code",
   "execution_count": 20,
   "metadata": {
    "ExecuteTime": {
     "end_time": "2019-08-22T09:02:35.836574Z",
     "start_time": "2019-08-22T09:02:32.510142Z"
    }
   },
   "outputs": [],
   "source": [
    "h5 = pd.HDFStore(base_dir+'train_app_trans_rate.h5','w',complevel=4,complib='blosc')\n",
    "h5['data'] = pd.DataFrame(train_app_trans_rate_scaler,dtype=np.float32)\n",
    "h5.close()"
   ]
  },
  {
   "cell_type": "code",
   "execution_count": 21,
   "metadata": {
    "ExecuteTime": {
     "end_time": "2019-08-22T09:02:36.640258Z",
     "start_time": "2019-08-22T09:02:35.839238Z"
    }
   },
   "outputs": [],
   "source": [
    "h5 = pd.HDFStore(base_dir+'test_app_trans_rate.h5','w',complevel=4,complib='blosc')\n",
    "h5['data'] = pd.DataFrame(test_app_trans_rate_scaler,dtype=np.float32)\n",
    "h5.close()"
   ]
  },
  {
   "cell_type": "code",
   "execution_count": 22,
   "metadata": {
    "ExecuteTime": {
     "end_time": "2019-08-22T09:02:47.903556Z",
     "start_time": "2019-08-22T09:02:36.642912Z"
    }
   },
   "outputs": [
    {
     "name": "stdout",
     "output_type": "stream",
     "text": [
      "(1000000, 66) (4000000, 66)\n"
     ]
    }
   ],
   "source": [
    "scaler = StandardScaler().fit(train_app_trans_rate_with_usage)\n",
    "train_app_trans_rate_with_usage_scaler = scaler.transform(train_app_trans_rate_with_usage)  \n",
    "test_app_trans_rate_with_usage_scaler = scaler.transform(test_app_trans_rate_with_usage)\n",
    "print(test_app_trans_rate_with_usage_scaler.shape,train_app_trans_rate_with_usage_scaler.shape)"
   ]
  },
  {
   "cell_type": "code",
   "execution_count": 23,
   "metadata": {
    "ExecuteTime": {
     "end_time": "2019-08-22T09:02:54.537499Z",
     "start_time": "2019-08-22T09:02:47.906704Z"
    }
   },
   "outputs": [],
   "source": [
    "h5 = pd.HDFStore(base_dir+'train_app_trans_rate_with_usage.h5','w',complevel=4,complib='blosc')\n",
    "h5['data'] = pd.DataFrame(train_app_trans_rate_with_usage_scaler,dtype=np.float32)\n",
    "h5.close()"
   ]
  },
  {
   "cell_type": "code",
   "execution_count": 24,
   "metadata": {
    "ExecuteTime": {
     "end_time": "2019-08-22T09:02:56.214129Z",
     "start_time": "2019-08-22T09:02:54.540155Z"
    }
   },
   "outputs": [],
   "source": [
    "h5 = pd.HDFStore(base_dir+'test_app_trans_rate_with_usage.h5','w',complevel=4,complib='blosc')\n",
    "h5['data'] = pd.DataFrame(test_app_trans_rate_with_usage_scaler,dtype=np.float32)\n",
    "h5.close()"
   ]
  },
  {
   "cell_type": "markdown",
   "metadata": {},
   "source": [
    "### 比例"
   ]
  },
  {
   "cell_type": "code",
   "execution_count": 27,
   "metadata": {
    "ExecuteTime": {
     "end_time": "2019-08-22T10:36:38.161679Z",
     "start_time": "2019-08-22T09:07:37.064006Z"
    },
    "scrolled": true
   },
   "outputs": [
    {
     "name": "stdout",
     "output_type": "stream",
     "text": [
      "运动健康\n",
      "实用工具\n",
      "新闻阅读\n",
      "图书阅读\n",
      "金融理财\n",
      "社交通讯\n",
      "便捷生活\n",
      "休闲益智\n",
      "拍摄美化\n",
      "经营策略\n",
      "儿童\n",
      "汽车\n",
      "教育\n",
      "主题个性\n",
      "影音娱乐\n",
      "棋牌桌游\n",
      "购物比价\n",
      "旅游住宿\n",
      "出行导航\n",
      "商务\n",
      "角色扮演\n",
      "动作射击\n",
      "体育竞速\n",
      "美食\n",
      "休闲娱乐\n",
      "表盘个性\n",
      "学习办公\n",
      "网络游戏\n",
      "主题铃声\n",
      "动漫\n",
      "休闲游戏\n",
      "资讯生活\n"
     ]
    }
   ],
   "source": [
    "for col in app_actived_category.columns[1:-1]:\n",
    "    app_actived_category[col+'_actived_rate'] = app_actived_category.apply(lambda x:x[col]/x['appNums'] \n",
    "                                                                            if x['appNums']!=0 else 0,axis=1)\n",
    "    print(col)"
   ]
  },
  {
   "cell_type": "code",
   "execution_count": 64,
   "metadata": {},
   "outputs": [
    {
     "data": {
      "text/plain": [
       "Index(['uId', '运动健康', '实用工具', '新闻阅读', '图书阅读', '金融理财', '社交通讯', '便捷生活', '休闲益智',\n",
       "       '拍摄美化', '经营策略', '儿童', '汽车', '教育', '主题个性', '影音娱乐', '棋牌桌游', '购物比价',\n",
       "       '旅游住宿', '出行导航', '商务', '角色扮演', '动作射击', '体育竞速', '美食', '休闲娱乐', '表盘个性',\n",
       "       '学习办公', '网络游戏', '主题铃声', '动漫', '休闲游戏', '资讯生活', 'appNums',\n",
       "       '运动健康_actived_rate', '实用工具_actived_rate', '新闻阅读_actived_rate',\n",
       "       '图书阅读_actived_rate', '金融理财_actived_rate', '社交通讯_actived_rate',\n",
       "       '便捷生活_actived_rate', '休闲益智_actived_rate', '拍摄美化_actived_rate',\n",
       "       '经营策略_actived_rate', '儿童_actived_rate', '汽车_actived_rate',\n",
       "       '教育_actived_rate', '主题个性_actived_rate', '影音娱乐_actived_rate',\n",
       "       '棋牌桌游_actived_rate', '购物比价_actived_rate', '旅游住宿_actived_rate',\n",
       "       '出行导航_actived_rate', '商务_actived_rate', '角色扮演_actived_rate',\n",
       "       '动作射击_actived_rate', '体育竞速_actived_rate', '美食_actived_rate',\n",
       "       '休闲娱乐_actived_rate', '表盘个性_actived_rate', '学习办公_actived_rate',\n",
       "       '网络游戏_actived_rate', '主题铃声_actived_rate', '动漫_actived_rate',\n",
       "       '休闲游戏_actived_rate', '资讯生活_actived_rate'],\n",
       "      dtype='object')"
      ]
     },
     "execution_count": 64,
     "metadata": {},
     "output_type": "execute_result"
    }
   ],
   "source": [
    "app_actived_category.columns"
   ]
  },
  {
   "cell_type": "code",
   "execution_count": 28,
   "metadata": {
    "ExecuteTime": {
     "end_time": "2019-08-22T10:36:41.526771Z",
     "start_time": "2019-08-22T10:36:38.165472Z"
    }
   },
   "outputs": [
    {
     "data": {
      "text/plain": [
       "(4999341, 33)"
      ]
     },
     "execution_count": 28,
     "metadata": {},
     "output_type": "execute_result"
    }
   ],
   "source": [
    "app_actived_rate = app_actived_category[app_actived_category.columns[34:]]\n",
    "app_actived_rate = pd.concat([app_actived_category[['uId']],app_actived_rate],axis=1)\n",
    "app_actived_rate.shape"
   ]
  },
  {
   "cell_type": "code",
   "execution_count": 29,
   "metadata": {},
   "outputs": [
    {
     "data": {
      "text/html": [
       "<div>\n",
       "<style scoped>\n",
       "    .dataframe tbody tr th:only-of-type {\n",
       "        vertical-align: middle;\n",
       "    }\n",
       "\n",
       "    .dataframe tbody tr th {\n",
       "        vertical-align: top;\n",
       "    }\n",
       "\n",
       "    .dataframe thead th {\n",
       "        text-align: right;\n",
       "    }\n",
       "</style>\n",
       "<table border=\"1\" class=\"dataframe\">\n",
       "  <thead>\n",
       "    <tr style=\"text-align: right;\">\n",
       "      <th></th>\n",
       "      <th>uId</th>\n",
       "      <th>运动健康_actived_rate</th>\n",
       "      <th>实用工具_actived_rate</th>\n",
       "      <th>新闻阅读_actived_rate</th>\n",
       "      <th>图书阅读_actived_rate</th>\n",
       "      <th>金融理财_actived_rate</th>\n",
       "      <th>社交通讯_actived_rate</th>\n",
       "      <th>便捷生活_actived_rate</th>\n",
       "      <th>休闲益智_actived_rate</th>\n",
       "      <th>拍摄美化_actived_rate</th>\n",
       "      <th>...</th>\n",
       "      <th>体育竞速_actived_rate</th>\n",
       "      <th>美食_actived_rate</th>\n",
       "      <th>休闲娱乐_actived_rate</th>\n",
       "      <th>表盘个性_actived_rate</th>\n",
       "      <th>学习办公_actived_rate</th>\n",
       "      <th>网络游戏_actived_rate</th>\n",
       "      <th>主题铃声_actived_rate</th>\n",
       "      <th>动漫_actived_rate</th>\n",
       "      <th>休闲游戏_actived_rate</th>\n",
       "      <th>资讯生活_actived_rate</th>\n",
       "    </tr>\n",
       "  </thead>\n",
       "  <tbody>\n",
       "    <tr>\n",
       "      <th>0</th>\n",
       "      <td>1000110</td>\n",
       "      <td>0.000000</td>\n",
       "      <td>0.583333</td>\n",
       "      <td>0.083333</td>\n",
       "      <td>0.0</td>\n",
       "      <td>0.000000</td>\n",
       "      <td>0.166667</td>\n",
       "      <td>0.166667</td>\n",
       "      <td>0.0</td>\n",
       "      <td>0.000000</td>\n",
       "      <td>...</td>\n",
       "      <td>0.0</td>\n",
       "      <td>0.000000</td>\n",
       "      <td>0.0</td>\n",
       "      <td>0.0</td>\n",
       "      <td>0.0</td>\n",
       "      <td>0.0</td>\n",
       "      <td>0.0</td>\n",
       "      <td>0.0</td>\n",
       "      <td>0.0</td>\n",
       "      <td>0.0</td>\n",
       "    </tr>\n",
       "    <tr>\n",
       "      <th>1</th>\n",
       "      <td>1000542</td>\n",
       "      <td>0.000000</td>\n",
       "      <td>0.441176</td>\n",
       "      <td>0.088235</td>\n",
       "      <td>0.0</td>\n",
       "      <td>0.088235</td>\n",
       "      <td>0.058824</td>\n",
       "      <td>0.147059</td>\n",
       "      <td>0.0</td>\n",
       "      <td>0.058824</td>\n",
       "      <td>...</td>\n",
       "      <td>0.0</td>\n",
       "      <td>0.000000</td>\n",
       "      <td>0.0</td>\n",
       "      <td>0.0</td>\n",
       "      <td>0.0</td>\n",
       "      <td>0.0</td>\n",
       "      <td>0.0</td>\n",
       "      <td>0.0</td>\n",
       "      <td>0.0</td>\n",
       "      <td>0.0</td>\n",
       "    </tr>\n",
       "    <tr>\n",
       "      <th>2</th>\n",
       "      <td>1000866</td>\n",
       "      <td>0.000000</td>\n",
       "      <td>0.600000</td>\n",
       "      <td>0.400000</td>\n",
       "      <td>0.0</td>\n",
       "      <td>0.000000</td>\n",
       "      <td>0.000000</td>\n",
       "      <td>0.000000</td>\n",
       "      <td>0.0</td>\n",
       "      <td>0.200000</td>\n",
       "      <td>...</td>\n",
       "      <td>0.0</td>\n",
       "      <td>0.000000</td>\n",
       "      <td>0.0</td>\n",
       "      <td>0.0</td>\n",
       "      <td>0.0</td>\n",
       "      <td>0.0</td>\n",
       "      <td>0.0</td>\n",
       "      <td>0.0</td>\n",
       "      <td>0.0</td>\n",
       "      <td>0.0</td>\n",
       "    </tr>\n",
       "    <tr>\n",
       "      <th>3</th>\n",
       "      <td>1001028</td>\n",
       "      <td>0.071429</td>\n",
       "      <td>0.371429</td>\n",
       "      <td>0.028571</td>\n",
       "      <td>0.0</td>\n",
       "      <td>0.028571</td>\n",
       "      <td>0.114286</td>\n",
       "      <td>0.257143</td>\n",
       "      <td>0.0</td>\n",
       "      <td>0.071429</td>\n",
       "      <td>...</td>\n",
       "      <td>0.0</td>\n",
       "      <td>0.042857</td>\n",
       "      <td>0.0</td>\n",
       "      <td>0.0</td>\n",
       "      <td>0.0</td>\n",
       "      <td>0.0</td>\n",
       "      <td>0.0</td>\n",
       "      <td>0.0</td>\n",
       "      <td>0.0</td>\n",
       "      <td>0.0</td>\n",
       "    </tr>\n",
       "    <tr>\n",
       "      <th>4</th>\n",
       "      <td>1001190</td>\n",
       "      <td>0.000000</td>\n",
       "      <td>0.361702</td>\n",
       "      <td>0.085106</td>\n",
       "      <td>0.0</td>\n",
       "      <td>0.234043</td>\n",
       "      <td>0.191489</td>\n",
       "      <td>0.148936</td>\n",
       "      <td>0.0</td>\n",
       "      <td>0.085106</td>\n",
       "      <td>...</td>\n",
       "      <td>0.0</td>\n",
       "      <td>0.000000</td>\n",
       "      <td>0.0</td>\n",
       "      <td>0.0</td>\n",
       "      <td>0.0</td>\n",
       "      <td>0.0</td>\n",
       "      <td>0.0</td>\n",
       "      <td>0.0</td>\n",
       "      <td>0.0</td>\n",
       "      <td>0.0</td>\n",
       "    </tr>\n",
       "  </tbody>\n",
       "</table>\n",
       "<p>5 rows × 33 columns</p>\n",
       "</div>"
      ],
      "text/plain": [
       "       uId  运动健康_actived_rate  实用工具_actived_rate  新闻阅读_actived_rate  \\\n",
       "0  1000110           0.000000           0.583333           0.083333   \n",
       "1  1000542           0.000000           0.441176           0.088235   \n",
       "2  1000866           0.000000           0.600000           0.400000   \n",
       "3  1001028           0.071429           0.371429           0.028571   \n",
       "4  1001190           0.000000           0.361702           0.085106   \n",
       "\n",
       "   图书阅读_actived_rate  金融理财_actived_rate  社交通讯_actived_rate  便捷生活_actived_rate  \\\n",
       "0                0.0           0.000000           0.166667           0.166667   \n",
       "1                0.0           0.088235           0.058824           0.147059   \n",
       "2                0.0           0.000000           0.000000           0.000000   \n",
       "3                0.0           0.028571           0.114286           0.257143   \n",
       "4                0.0           0.234043           0.191489           0.148936   \n",
       "\n",
       "   休闲益智_actived_rate  拍摄美化_actived_rate  ...  体育竞速_actived_rate  \\\n",
       "0                0.0           0.000000  ...                0.0   \n",
       "1                0.0           0.058824  ...                0.0   \n",
       "2                0.0           0.200000  ...                0.0   \n",
       "3                0.0           0.071429  ...                0.0   \n",
       "4                0.0           0.085106  ...                0.0   \n",
       "\n",
       "   美食_actived_rate  休闲娱乐_actived_rate  表盘个性_actived_rate  学习办公_actived_rate  \\\n",
       "0         0.000000                0.0                0.0                0.0   \n",
       "1         0.000000                0.0                0.0                0.0   \n",
       "2         0.000000                0.0                0.0                0.0   \n",
       "3         0.042857                0.0                0.0                0.0   \n",
       "4         0.000000                0.0                0.0                0.0   \n",
       "\n",
       "   网络游戏_actived_rate  主题铃声_actived_rate  动漫_actived_rate  休闲游戏_actived_rate  \\\n",
       "0                0.0                0.0              0.0                0.0   \n",
       "1                0.0                0.0              0.0                0.0   \n",
       "2                0.0                0.0              0.0                0.0   \n",
       "3                0.0                0.0              0.0                0.0   \n",
       "4                0.0                0.0              0.0                0.0   \n",
       "\n",
       "   资讯生活_actived_rate  \n",
       "0                0.0  \n",
       "1                0.0  \n",
       "2                0.0  \n",
       "3                0.0  \n",
       "4                0.0  \n",
       "\n",
       "[5 rows x 33 columns]"
      ]
     },
     "execution_count": 29,
     "metadata": {},
     "output_type": "execute_result"
    }
   ],
   "source": [
    "app_actived_rate.head()"
   ]
  },
  {
   "cell_type": "code",
   "execution_count": 30,
   "metadata": {
    "ExecuteTime": {
     "end_time": "2019-08-22T10:36:46.943482Z",
     "start_time": "2019-08-22T10:36:41.529686Z"
    }
   },
   "outputs": [
    {
     "name": "stdout",
     "output_type": "stream",
     "text": [
      "(1000000, 32) (4000000, 32)\n"
     ]
    }
   ],
   "source": [
    "train_app_actived_rate = train_id_set[['uId']].merge(app_actived_rate,on='uId',how='left')\n",
    "test_app_actived_rate = test_id_set[['uId']].merge(app_actived_rate,on='uId',how='left')\n",
    "train_app_actived_rate.fillna(0,inplace=True)\n",
    "test_app_actived_rate.fillna(0,inplace=True)\n",
    "_ = train_app_actived_rate.pop('uId')\n",
    "_ = test_app_actived_rate.pop('uId')\n",
    "print(test_app_actived_rate.shape,train_app_actived_rate.shape)"
   ]
  },
  {
   "cell_type": "code",
   "execution_count": 31,
   "metadata": {
    "ExecuteTime": {
     "end_time": "2019-08-22T10:36:50.727149Z",
     "start_time": "2019-08-22T10:36:46.947592Z"
    }
   },
   "outputs": [
    {
     "name": "stdout",
     "output_type": "stream",
     "text": [
      "(1000000, 32) (4000000, 32)\n"
     ]
    }
   ],
   "source": [
    "scaler = StandardScaler().fit(train_app_actived_rate)\n",
    "train_app_actived_rate_scaler = scaler.transform(train_app_actived_rate)  \n",
    "test_app_actived_rate_scaler = scaler.transform(test_app_actived_rate)\n",
    "print(test_app_actived_rate_scaler.shape,train_app_actived_rate_scaler.shape)"
   ]
  },
  {
   "cell_type": "code",
   "execution_count": 32,
   "metadata": {
    "ExecuteTime": {
     "end_time": "2019-08-22T10:36:54.159602Z",
     "start_time": "2019-08-22T10:36:50.731433Z"
    }
   },
   "outputs": [],
   "source": [
    "h5 = pd.HDFStore(base_dir+'train_app_actived_rate.h5','w',complevel=4,complib='blosc')\n",
    "h5['data'] = pd.DataFrame(train_app_actived_rate_scaler,dtype=np.float32)\n",
    "h5.close()"
   ]
  },
  {
   "cell_type": "code",
   "execution_count": 33,
   "metadata": {
    "ExecuteTime": {
     "end_time": "2019-08-22T10:36:55.009750Z",
     "start_time": "2019-08-22T10:36:54.162337Z"
    }
   },
   "outputs": [],
   "source": [
    "h5 = pd.HDFStore(base_dir+'test_app_actived_rate.h5','w',complevel=4,complib='blosc')\n",
    "h5['data'] = pd.DataFrame(test_app_actived_rate_scaler,dtype=np.float32)\n",
    "h5.close()"
   ]
  },
  {
   "cell_type": "code",
   "execution_count": 34,
   "metadata": {
    "ExecuteTime": {
     "end_time": "2019-08-22T11:46:40.859342Z",
     "start_time": "2019-08-22T10:36:55.012396Z"
    },
    "scrolled": true
   },
   "outputs": [
    {
     "name": "stdout",
     "output_type": "stream",
     "text": [
      "运动健康_usage\n",
      "实用工具_usage\n",
      "新闻阅读_usage\n",
      "图书阅读_usage\n",
      "金融理财_usage\n",
      "社交通讯_usage\n",
      "便捷生活_usage\n",
      "休闲益智_usage\n",
      "拍摄美化_usage\n",
      "经营策略_usage\n",
      "儿童_usage\n",
      "汽车_usage\n",
      "教育_usage\n",
      "主题个性_usage\n",
      "影音娱乐_usage\n",
      "棋牌桌游_usage\n",
      "购物比价_usage\n",
      "旅游住宿_usage\n",
      "出行导航_usage\n",
      "商务_usage\n",
      "角色扮演_usage\n",
      "动作射击_usage\n",
      "体育竞速_usage\n",
      "美食_usage\n",
      "休闲娱乐_usage\n",
      "表盘个性_usage\n",
      "学习办公_usage\n",
      "网络游戏_usage\n",
      "主题铃声_usage\n",
      "动漫_usage\n",
      "休闲游戏_usage\n",
      "资讯生活_usage\n"
     ]
    }
   ],
   "source": [
    "for col in app_usage_category.columns[1:-1]:\n",
    "    app_usage_category[col+'_rate'] = app_usage_category.apply(lambda x:x[col]/x['appNums_usage'] \n",
    "                                                                            if x['appNums_usage']!=0 else 0,axis=1)\n",
    "    print(col)"
   ]
  },
  {
   "cell_type": "code",
   "execution_count": 35,
   "metadata": {},
   "outputs": [
    {
     "data": {
      "text/plain": [
       "(4020281, 66)"
      ]
     },
     "execution_count": 35,
     "metadata": {},
     "output_type": "execute_result"
    }
   ],
   "source": [
    "app_usage_category.shape"
   ]
  },
  {
   "cell_type": "code",
   "execution_count": 54,
   "metadata": {},
   "outputs": [
    {
     "data": {
      "text/plain": [
       "Index(['uId', '运动健康_usage', '实用工具_usage', '新闻阅读_usage', '图书阅读_usage',\n",
       "       '金融理财_usage', '社交通讯_usage', '便捷生活_usage', '休闲益智_usage', '拍摄美化_usage',\n",
       "       '经营策略_usage', '儿童_usage', '汽车_usage', '教育_usage', '主题个性_usage',\n",
       "       '影音娱乐_usage', '棋牌桌游_usage', '购物比价_usage', '旅游住宿_usage', '出行导航_usage',\n",
       "       '商务_usage', '角色扮演_usage', '动作射击_usage', '体育竞速_usage', '美食_usage',\n",
       "       '休闲娱乐_usage', '表盘个性_usage', '学习办公_usage', '网络游戏_usage', '主题铃声_usage',\n",
       "       '动漫_usage', '休闲游戏_usage', '资讯生活_usage', 'appNums_usage',\n",
       "       '运动健康_usage_rate', '实用工具_usage_rate', '新闻阅读_usage_rate',\n",
       "       '图书阅读_usage_rate', '金融理财_usage_rate', '社交通讯_usage_rate',\n",
       "       '便捷生活_usage_rate', '休闲益智_usage_rate', '拍摄美化_usage_rate',\n",
       "       '经营策略_usage_rate', '儿童_usage_rate', '汽车_usage_rate', '教育_usage_rate',\n",
       "       '主题个性_usage_rate', '影音娱乐_usage_rate', '棋牌桌游_usage_rate',\n",
       "       '购物比价_usage_rate', '旅游住宿_usage_rate', '出行导航_usage_rate',\n",
       "       '商务_usage_rate', '角色扮演_usage_rate', '动作射击_usage_rate',\n",
       "       '体育竞速_usage_rate', '美食_usage_rate', '休闲娱乐_usage_rate',\n",
       "       '表盘个性_usage_rate', '学习办公_usage_rate', '网络游戏_usage_rate',\n",
       "       '主题铃声_usage_rate', '动漫_usage_rate', '休闲游戏_usage_rate',\n",
       "       '资讯生活_usage_rate'],\n",
       "      dtype='object')"
      ]
     },
     "execution_count": 54,
     "metadata": {},
     "output_type": "execute_result"
    }
   ],
   "source": [
    "app_usage_category.columns"
   ]
  },
  {
   "cell_type": "code",
   "execution_count": 36,
   "metadata": {
    "ExecuteTime": {
     "end_time": "2019-08-22T11:46:43.291782Z",
     "start_time": "2019-08-22T11:46:40.862657Z"
    }
   },
   "outputs": [
    {
     "data": {
      "text/plain": [
       "(4020281, 33)"
      ]
     },
     "execution_count": 36,
     "metadata": {},
     "output_type": "execute_result"
    }
   ],
   "source": [
    "app_usage_rate = app_usage_category[app_usage_category.columns[34:]]\n",
    "app_usage_rate = pd.concat([app_usage_category[['uId']],app_usage_rate],axis=1)\n",
    "app_usage_rate.shape"
   ]
  },
  {
   "cell_type": "code",
   "execution_count": 37,
   "metadata": {},
   "outputs": [
    {
     "data": {
      "text/html": [
       "<div>\n",
       "<style scoped>\n",
       "    .dataframe tbody tr th:only-of-type {\n",
       "        vertical-align: middle;\n",
       "    }\n",
       "\n",
       "    .dataframe tbody tr th {\n",
       "        vertical-align: top;\n",
       "    }\n",
       "\n",
       "    .dataframe thead th {\n",
       "        text-align: right;\n",
       "    }\n",
       "</style>\n",
       "<table border=\"1\" class=\"dataframe\">\n",
       "  <thead>\n",
       "    <tr style=\"text-align: right;\">\n",
       "      <th></th>\n",
       "      <th>uId</th>\n",
       "      <th>运动健康_usage_rate</th>\n",
       "      <th>实用工具_usage_rate</th>\n",
       "      <th>新闻阅读_usage_rate</th>\n",
       "      <th>图书阅读_usage_rate</th>\n",
       "      <th>金融理财_usage_rate</th>\n",
       "      <th>社交通讯_usage_rate</th>\n",
       "      <th>便捷生活_usage_rate</th>\n",
       "      <th>休闲益智_usage_rate</th>\n",
       "      <th>拍摄美化_usage_rate</th>\n",
       "      <th>...</th>\n",
       "      <th>体育竞速_usage_rate</th>\n",
       "      <th>美食_usage_rate</th>\n",
       "      <th>休闲娱乐_usage_rate</th>\n",
       "      <th>表盘个性_usage_rate</th>\n",
       "      <th>学习办公_usage_rate</th>\n",
       "      <th>网络游戏_usage_rate</th>\n",
       "      <th>主题铃声_usage_rate</th>\n",
       "      <th>动漫_usage_rate</th>\n",
       "      <th>休闲游戏_usage_rate</th>\n",
       "      <th>资讯生活_usage_rate</th>\n",
       "    </tr>\n",
       "  </thead>\n",
       "  <tbody>\n",
       "    <tr>\n",
       "      <th>0</th>\n",
       "      <td>1000009</td>\n",
       "      <td>0.000000</td>\n",
       "      <td>0.285714</td>\n",
       "      <td>0.047619</td>\n",
       "      <td>0.0</td>\n",
       "      <td>0.095238</td>\n",
       "      <td>0.142857</td>\n",
       "      <td>0.404762</td>\n",
       "      <td>0.0</td>\n",
       "      <td>0.023810</td>\n",
       "      <td>...</td>\n",
       "      <td>0.0</td>\n",
       "      <td>0.071429</td>\n",
       "      <td>0.0</td>\n",
       "      <td>0.0</td>\n",
       "      <td>0.0</td>\n",
       "      <td>0.0</td>\n",
       "      <td>0.0</td>\n",
       "      <td>0.0</td>\n",
       "      <td>0.0</td>\n",
       "      <td>0.0</td>\n",
       "    </tr>\n",
       "    <tr>\n",
       "      <th>1</th>\n",
       "      <td>1000010</td>\n",
       "      <td>0.032787</td>\n",
       "      <td>0.344262</td>\n",
       "      <td>0.147541</td>\n",
       "      <td>0.0</td>\n",
       "      <td>0.049180</td>\n",
       "      <td>0.114754</td>\n",
       "      <td>0.229508</td>\n",
       "      <td>0.0</td>\n",
       "      <td>0.065574</td>\n",
       "      <td>...</td>\n",
       "      <td>0.0</td>\n",
       "      <td>0.032787</td>\n",
       "      <td>0.0</td>\n",
       "      <td>0.0</td>\n",
       "      <td>0.0</td>\n",
       "      <td>0.0</td>\n",
       "      <td>0.0</td>\n",
       "      <td>0.0</td>\n",
       "      <td>0.0</td>\n",
       "      <td>0.0</td>\n",
       "    </tr>\n",
       "    <tr>\n",
       "      <th>2</th>\n",
       "      <td>1000011</td>\n",
       "      <td>0.000000</td>\n",
       "      <td>0.181818</td>\n",
       "      <td>0.090909</td>\n",
       "      <td>0.0</td>\n",
       "      <td>0.090909</td>\n",
       "      <td>0.090909</td>\n",
       "      <td>0.272727</td>\n",
       "      <td>0.0</td>\n",
       "      <td>0.000000</td>\n",
       "      <td>...</td>\n",
       "      <td>0.0</td>\n",
       "      <td>0.090909</td>\n",
       "      <td>0.0</td>\n",
       "      <td>0.0</td>\n",
       "      <td>0.0</td>\n",
       "      <td>0.0</td>\n",
       "      <td>0.0</td>\n",
       "      <td>0.0</td>\n",
       "      <td>0.0</td>\n",
       "      <td>0.0</td>\n",
       "    </tr>\n",
       "    <tr>\n",
       "      <th>3</th>\n",
       "      <td>1000012</td>\n",
       "      <td>0.000000</td>\n",
       "      <td>0.450000</td>\n",
       "      <td>0.100000</td>\n",
       "      <td>0.0</td>\n",
       "      <td>0.300000</td>\n",
       "      <td>0.050000</td>\n",
       "      <td>0.200000</td>\n",
       "      <td>0.0</td>\n",
       "      <td>0.000000</td>\n",
       "      <td>...</td>\n",
       "      <td>0.0</td>\n",
       "      <td>0.000000</td>\n",
       "      <td>0.0</td>\n",
       "      <td>0.0</td>\n",
       "      <td>0.0</td>\n",
       "      <td>0.0</td>\n",
       "      <td>0.0</td>\n",
       "      <td>0.0</td>\n",
       "      <td>0.0</td>\n",
       "      <td>0.0</td>\n",
       "    </tr>\n",
       "    <tr>\n",
       "      <th>4</th>\n",
       "      <td>1000014</td>\n",
       "      <td>0.000000</td>\n",
       "      <td>0.600000</td>\n",
       "      <td>0.200000</td>\n",
       "      <td>0.0</td>\n",
       "      <td>0.000000</td>\n",
       "      <td>0.000000</td>\n",
       "      <td>0.200000</td>\n",
       "      <td>0.0</td>\n",
       "      <td>0.000000</td>\n",
       "      <td>...</td>\n",
       "      <td>0.0</td>\n",
       "      <td>0.000000</td>\n",
       "      <td>0.0</td>\n",
       "      <td>0.0</td>\n",
       "      <td>0.0</td>\n",
       "      <td>0.0</td>\n",
       "      <td>0.0</td>\n",
       "      <td>0.0</td>\n",
       "      <td>0.0</td>\n",
       "      <td>0.0</td>\n",
       "    </tr>\n",
       "  </tbody>\n",
       "</table>\n",
       "<p>5 rows × 33 columns</p>\n",
       "</div>"
      ],
      "text/plain": [
       "       uId  运动健康_usage_rate  实用工具_usage_rate  新闻阅读_usage_rate  \\\n",
       "0  1000009         0.000000         0.285714         0.047619   \n",
       "1  1000010         0.032787         0.344262         0.147541   \n",
       "2  1000011         0.000000         0.181818         0.090909   \n",
       "3  1000012         0.000000         0.450000         0.100000   \n",
       "4  1000014         0.000000         0.600000         0.200000   \n",
       "\n",
       "   图书阅读_usage_rate  金融理财_usage_rate  社交通讯_usage_rate  便捷生活_usage_rate  \\\n",
       "0              0.0         0.095238         0.142857         0.404762   \n",
       "1              0.0         0.049180         0.114754         0.229508   \n",
       "2              0.0         0.090909         0.090909         0.272727   \n",
       "3              0.0         0.300000         0.050000         0.200000   \n",
       "4              0.0         0.000000         0.000000         0.200000   \n",
       "\n",
       "   休闲益智_usage_rate  拍摄美化_usage_rate  ...  体育竞速_usage_rate  美食_usage_rate  \\\n",
       "0              0.0         0.023810  ...              0.0       0.071429   \n",
       "1              0.0         0.065574  ...              0.0       0.032787   \n",
       "2              0.0         0.000000  ...              0.0       0.090909   \n",
       "3              0.0         0.000000  ...              0.0       0.000000   \n",
       "4              0.0         0.000000  ...              0.0       0.000000   \n",
       "\n",
       "   休闲娱乐_usage_rate  表盘个性_usage_rate  学习办公_usage_rate  网络游戏_usage_rate  \\\n",
       "0              0.0              0.0              0.0              0.0   \n",
       "1              0.0              0.0              0.0              0.0   \n",
       "2              0.0              0.0              0.0              0.0   \n",
       "3              0.0              0.0              0.0              0.0   \n",
       "4              0.0              0.0              0.0              0.0   \n",
       "\n",
       "   主题铃声_usage_rate  动漫_usage_rate  休闲游戏_usage_rate  资讯生活_usage_rate  \n",
       "0              0.0            0.0              0.0              0.0  \n",
       "1              0.0            0.0              0.0              0.0  \n",
       "2              0.0            0.0              0.0              0.0  \n",
       "3              0.0            0.0              0.0              0.0  \n",
       "4              0.0            0.0              0.0              0.0  \n",
       "\n",
       "[5 rows x 33 columns]"
      ]
     },
     "execution_count": 37,
     "metadata": {},
     "output_type": "execute_result"
    }
   ],
   "source": [
    "app_usage_rate.head()"
   ]
  },
  {
   "cell_type": "code",
   "execution_count": 38,
   "metadata": {
    "ExecuteTime": {
     "end_time": "2019-08-22T11:46:49.352596Z",
     "start_time": "2019-08-22T11:46:43.294434Z"
    }
   },
   "outputs": [
    {
     "name": "stdout",
     "output_type": "stream",
     "text": [
      "(1000000, 32) (4000000, 32)\n"
     ]
    }
   ],
   "source": [
    "train_app_usage_rate = train_id_set[['uId']].merge(app_usage_rate,on='uId',how='left')\n",
    "train_app_usage_rate.fillna(0,inplace=True)\n",
    "test_app_usage_rate = test_id_set[['uId']].merge(app_usage_rate,on='uId',how='left')\n",
    "test_app_usage_rate.fillna(0,inplace=True)\n",
    "_ = train_app_usage_rate.pop('uId')\n",
    "_ = test_app_usage_rate.pop('uId')\n",
    "print(test_app_usage_rate.shape,train_app_usage_rate.shape)"
   ]
  },
  {
   "cell_type": "code",
   "execution_count": 39,
   "metadata": {},
   "outputs": [
    {
     "data": {
      "text/html": [
       "<div>\n",
       "<style scoped>\n",
       "    .dataframe tbody tr th:only-of-type {\n",
       "        vertical-align: middle;\n",
       "    }\n",
       "\n",
       "    .dataframe tbody tr th {\n",
       "        vertical-align: top;\n",
       "    }\n",
       "\n",
       "    .dataframe thead th {\n",
       "        text-align: right;\n",
       "    }\n",
       "</style>\n",
       "<table border=\"1\" class=\"dataframe\">\n",
       "  <thead>\n",
       "    <tr style=\"text-align: right;\">\n",
       "      <th></th>\n",
       "      <th>运动健康_usage_rate</th>\n",
       "      <th>实用工具_usage_rate</th>\n",
       "      <th>新闻阅读_usage_rate</th>\n",
       "      <th>图书阅读_usage_rate</th>\n",
       "      <th>金融理财_usage_rate</th>\n",
       "      <th>社交通讯_usage_rate</th>\n",
       "      <th>便捷生活_usage_rate</th>\n",
       "      <th>休闲益智_usage_rate</th>\n",
       "      <th>拍摄美化_usage_rate</th>\n",
       "      <th>经营策略_usage_rate</th>\n",
       "      <th>...</th>\n",
       "      <th>体育竞速_usage_rate</th>\n",
       "      <th>美食_usage_rate</th>\n",
       "      <th>休闲娱乐_usage_rate</th>\n",
       "      <th>表盘个性_usage_rate</th>\n",
       "      <th>学习办公_usage_rate</th>\n",
       "      <th>网络游戏_usage_rate</th>\n",
       "      <th>主题铃声_usage_rate</th>\n",
       "      <th>动漫_usage_rate</th>\n",
       "      <th>休闲游戏_usage_rate</th>\n",
       "      <th>资讯生活_usage_rate</th>\n",
       "    </tr>\n",
       "  </thead>\n",
       "  <tbody>\n",
       "    <tr>\n",
       "      <th>0</th>\n",
       "      <td>0.0</td>\n",
       "      <td>0.500000</td>\n",
       "      <td>0.250000</td>\n",
       "      <td>0.0</td>\n",
       "      <td>0.250000</td>\n",
       "      <td>0.250000</td>\n",
       "      <td>0.250000</td>\n",
       "      <td>0.0</td>\n",
       "      <td>0.000000</td>\n",
       "      <td>0.0</td>\n",
       "      <td>...</td>\n",
       "      <td>0.0</td>\n",
       "      <td>0.0</td>\n",
       "      <td>0.0</td>\n",
       "      <td>0.0</td>\n",
       "      <td>0.0</td>\n",
       "      <td>0.0</td>\n",
       "      <td>0.0</td>\n",
       "      <td>0.0</td>\n",
       "      <td>0.0</td>\n",
       "      <td>0.0</td>\n",
       "    </tr>\n",
       "    <tr>\n",
       "      <th>1</th>\n",
       "      <td>0.0</td>\n",
       "      <td>0.666667</td>\n",
       "      <td>0.083333</td>\n",
       "      <td>0.0</td>\n",
       "      <td>0.000000</td>\n",
       "      <td>0.166667</td>\n",
       "      <td>0.250000</td>\n",
       "      <td>0.0</td>\n",
       "      <td>0.083333</td>\n",
       "      <td>0.0</td>\n",
       "      <td>...</td>\n",
       "      <td>0.0</td>\n",
       "      <td>0.0</td>\n",
       "      <td>0.0</td>\n",
       "      <td>0.0</td>\n",
       "      <td>0.0</td>\n",
       "      <td>0.0</td>\n",
       "      <td>0.0</td>\n",
       "      <td>0.0</td>\n",
       "      <td>0.0</td>\n",
       "      <td>0.0</td>\n",
       "    </tr>\n",
       "    <tr>\n",
       "      <th>2</th>\n",
       "      <td>0.0</td>\n",
       "      <td>0.642857</td>\n",
       "      <td>0.000000</td>\n",
       "      <td>0.0</td>\n",
       "      <td>0.000000</td>\n",
       "      <td>0.214286</td>\n",
       "      <td>0.071429</td>\n",
       "      <td>0.0</td>\n",
       "      <td>0.142857</td>\n",
       "      <td>0.0</td>\n",
       "      <td>...</td>\n",
       "      <td>0.0</td>\n",
       "      <td>0.0</td>\n",
       "      <td>0.0</td>\n",
       "      <td>0.0</td>\n",
       "      <td>0.0</td>\n",
       "      <td>0.0</td>\n",
       "      <td>0.0</td>\n",
       "      <td>0.0</td>\n",
       "      <td>0.0</td>\n",
       "      <td>0.0</td>\n",
       "    </tr>\n",
       "    <tr>\n",
       "      <th>3</th>\n",
       "      <td>0.0</td>\n",
       "      <td>0.571429</td>\n",
       "      <td>0.257143</td>\n",
       "      <td>0.0</td>\n",
       "      <td>0.057143</td>\n",
       "      <td>0.085714</td>\n",
       "      <td>0.171429</td>\n",
       "      <td>0.0</td>\n",
       "      <td>0.142857</td>\n",
       "      <td>0.0</td>\n",
       "      <td>...</td>\n",
       "      <td>0.0</td>\n",
       "      <td>0.0</td>\n",
       "      <td>0.0</td>\n",
       "      <td>0.0</td>\n",
       "      <td>0.0</td>\n",
       "      <td>0.0</td>\n",
       "      <td>0.0</td>\n",
       "      <td>0.0</td>\n",
       "      <td>0.0</td>\n",
       "      <td>0.0</td>\n",
       "    </tr>\n",
       "    <tr>\n",
       "      <th>4</th>\n",
       "      <td>0.0</td>\n",
       "      <td>0.000000</td>\n",
       "      <td>0.000000</td>\n",
       "      <td>0.0</td>\n",
       "      <td>0.000000</td>\n",
       "      <td>0.000000</td>\n",
       "      <td>0.000000</td>\n",
       "      <td>0.0</td>\n",
       "      <td>0.000000</td>\n",
       "      <td>0.0</td>\n",
       "      <td>...</td>\n",
       "      <td>0.0</td>\n",
       "      <td>0.0</td>\n",
       "      <td>0.0</td>\n",
       "      <td>0.0</td>\n",
       "      <td>0.0</td>\n",
       "      <td>0.0</td>\n",
       "      <td>0.0</td>\n",
       "      <td>0.0</td>\n",
       "      <td>0.0</td>\n",
       "      <td>0.0</td>\n",
       "    </tr>\n",
       "  </tbody>\n",
       "</table>\n",
       "<p>5 rows × 32 columns</p>\n",
       "</div>"
      ],
      "text/plain": [
       "   运动健康_usage_rate  实用工具_usage_rate  新闻阅读_usage_rate  图书阅读_usage_rate  \\\n",
       "0              0.0         0.500000         0.250000              0.0   \n",
       "1              0.0         0.666667         0.083333              0.0   \n",
       "2              0.0         0.642857         0.000000              0.0   \n",
       "3              0.0         0.571429         0.257143              0.0   \n",
       "4              0.0         0.000000         0.000000              0.0   \n",
       "\n",
       "   金融理财_usage_rate  社交通讯_usage_rate  便捷生活_usage_rate  休闲益智_usage_rate  \\\n",
       "0         0.250000         0.250000         0.250000              0.0   \n",
       "1         0.000000         0.166667         0.250000              0.0   \n",
       "2         0.000000         0.214286         0.071429              0.0   \n",
       "3         0.057143         0.085714         0.171429              0.0   \n",
       "4         0.000000         0.000000         0.000000              0.0   \n",
       "\n",
       "   拍摄美化_usage_rate  经营策略_usage_rate  ...  体育竞速_usage_rate  美食_usage_rate  \\\n",
       "0         0.000000              0.0  ...              0.0            0.0   \n",
       "1         0.083333              0.0  ...              0.0            0.0   \n",
       "2         0.142857              0.0  ...              0.0            0.0   \n",
       "3         0.142857              0.0  ...              0.0            0.0   \n",
       "4         0.000000              0.0  ...              0.0            0.0   \n",
       "\n",
       "   休闲娱乐_usage_rate  表盘个性_usage_rate  学习办公_usage_rate  网络游戏_usage_rate  \\\n",
       "0              0.0              0.0              0.0              0.0   \n",
       "1              0.0              0.0              0.0              0.0   \n",
       "2              0.0              0.0              0.0              0.0   \n",
       "3              0.0              0.0              0.0              0.0   \n",
       "4              0.0              0.0              0.0              0.0   \n",
       "\n",
       "   主题铃声_usage_rate  动漫_usage_rate  休闲游戏_usage_rate  资讯生活_usage_rate  \n",
       "0              0.0            0.0              0.0              0.0  \n",
       "1              0.0            0.0              0.0              0.0  \n",
       "2              0.0            0.0              0.0              0.0  \n",
       "3              0.0            0.0              0.0              0.0  \n",
       "4              0.0            0.0              0.0              0.0  \n",
       "\n",
       "[5 rows x 32 columns]"
      ]
     },
     "execution_count": 39,
     "metadata": {},
     "output_type": "execute_result"
    }
   ],
   "source": [
    "train_app_usage_rate.head()"
   ]
  },
  {
   "cell_type": "code",
   "execution_count": 40,
   "metadata": {
    "ExecuteTime": {
     "end_time": "2019-08-22T11:46:53.440285Z",
     "start_time": "2019-08-22T11:46:49.355253Z"
    }
   },
   "outputs": [
    {
     "name": "stdout",
     "output_type": "stream",
     "text": [
      "(1000000, 32) (4000000, 32)\n"
     ]
    }
   ],
   "source": [
    "scaler = StandardScaler().fit(train_app_usage_rate)\n",
    "train_app_usage_rate_scaler = scaler.transform(train_app_usage_rate)  \n",
    "test_app_usage_rate_scaler = scaler.transform(test_app_usage_rate)\n",
    "print(test_app_usage_rate_scaler.shape,train_app_usage_rate_scaler.shape)"
   ]
  },
  {
   "cell_type": "code",
   "execution_count": 41,
   "metadata": {
    "ExecuteTime": {
     "end_time": "2019-08-22T11:46:56.475602Z",
     "start_time": "2019-08-22T11:46:53.443027Z"
    }
   },
   "outputs": [],
   "source": [
    "h5 = pd.HDFStore(base_dir+'train_app_usage_rate.h5','w',complevel=4,complib='blosc')\n",
    "h5['data'] = pd.DataFrame(train_app_usage_rate_scaler,dtype=np.float32)\n",
    "h5.close()"
   ]
  },
  {
   "cell_type": "code",
   "execution_count": 42,
   "metadata": {
    "ExecuteTime": {
     "end_time": "2019-08-22T11:46:57.256646Z",
     "start_time": "2019-08-22T11:46:56.478710Z"
    }
   },
   "outputs": [],
   "source": [
    "h5 = pd.HDFStore(base_dir+'test_app_usage_rate.h5','w',complevel=4,complib='blosc')\n",
    "h5['data'] = pd.DataFrame(test_app_usage_rate_scaler,dtype=np.float32)\n",
    "h5.close()"
   ]
  },
  {
   "cell_type": "code",
   "execution_count": 38,
   "metadata": {
    "ExecuteTime": {
     "end_time": "2019-08-22T11:46:57.263364Z",
     "start_time": "2019-08-22T11:46:57.259171Z"
    }
   },
   "outputs": [
    {
     "name": "stdout",
     "output_type": "stream",
     "text": [
      "0\n"
     ]
    }
   ],
   "source": [
    "print(0)"
   ]
  },
  {
   "cell_type": "code",
   "execution_count": 43,
   "metadata": {},
   "outputs": [
    {
     "data": {
      "text/html": [
       "<div>\n",
       "<style scoped>\n",
       "    .dataframe tbody tr th:only-of-type {\n",
       "        vertical-align: middle;\n",
       "    }\n",
       "\n",
       "    .dataframe tbody tr th {\n",
       "        vertical-align: top;\n",
       "    }\n",
       "\n",
       "    .dataframe thead th {\n",
       "        text-align: right;\n",
       "    }\n",
       "</style>\n",
       "<table border=\"1\" class=\"dataframe\">\n",
       "  <thead>\n",
       "    <tr style=\"text-align: right;\">\n",
       "      <th></th>\n",
       "      <th>0</th>\n",
       "      <th>1</th>\n",
       "      <th>2</th>\n",
       "      <th>3</th>\n",
       "      <th>4</th>\n",
       "      <th>5</th>\n",
       "      <th>6</th>\n",
       "      <th>7</th>\n",
       "      <th>8</th>\n",
       "      <th>9</th>\n",
       "      <th>...</th>\n",
       "      <th>56</th>\n",
       "      <th>57</th>\n",
       "      <th>58</th>\n",
       "      <th>59</th>\n",
       "      <th>60</th>\n",
       "      <th>61</th>\n",
       "      <th>62</th>\n",
       "      <th>63</th>\n",
       "      <th>64</th>\n",
       "      <th>65</th>\n",
       "    </tr>\n",
       "  </thead>\n",
       "  <tbody>\n",
       "    <tr>\n",
       "      <th>0</th>\n",
       "      <td>-0.372728</td>\n",
       "      <td>-0.900221</td>\n",
       "      <td>-0.207556</td>\n",
       "      <td>-0.061412</td>\n",
       "      <td>-0.080507</td>\n",
       "      <td>-0.710023</td>\n",
       "      <td>-0.780397</td>\n",
       "      <td>-0.180043</td>\n",
       "      <td>-0.753423</td>\n",
       "      <td>-0.126972</td>\n",
       "      <td>...</td>\n",
       "      <td>-0.429068</td>\n",
       "      <td>-0.010631</td>\n",
       "      <td>-0.001225</td>\n",
       "      <td>-0.036363</td>\n",
       "      <td>-0.070608</td>\n",
       "      <td>0.0</td>\n",
       "      <td>0.0</td>\n",
       "      <td>-0.010112</td>\n",
       "      <td>-0.02255</td>\n",
       "      <td>0.651762</td>\n",
       "    </tr>\n",
       "    <tr>\n",
       "      <th>1</th>\n",
       "      <td>-0.372728</td>\n",
       "      <td>0.215917</td>\n",
       "      <td>-0.207556</td>\n",
       "      <td>-0.061412</td>\n",
       "      <td>-0.541586</td>\n",
       "      <td>-0.269268</td>\n",
       "      <td>-0.271433</td>\n",
       "      <td>-0.180043</td>\n",
       "      <td>-0.058341</td>\n",
       "      <td>-0.126972</td>\n",
       "      <td>...</td>\n",
       "      <td>-0.429068</td>\n",
       "      <td>-0.010631</td>\n",
       "      <td>-0.001225</td>\n",
       "      <td>-0.036363</td>\n",
       "      <td>-0.070608</td>\n",
       "      <td>0.0</td>\n",
       "      <td>0.0</td>\n",
       "      <td>-0.010112</td>\n",
       "      <td>-0.02255</td>\n",
       "      <td>0.317707</td>\n",
       "    </tr>\n",
       "    <tr>\n",
       "      <th>2</th>\n",
       "      <td>-0.372728</td>\n",
       "      <td>0.401940</td>\n",
       "      <td>-0.820125</td>\n",
       "      <td>-0.061412</td>\n",
       "      <td>-0.541586</td>\n",
       "      <td>0.171486</td>\n",
       "      <td>-0.780397</td>\n",
       "      <td>-0.180043</td>\n",
       "      <td>0.636740</td>\n",
       "      <td>-0.126972</td>\n",
       "      <td>...</td>\n",
       "      <td>-0.429068</td>\n",
       "      <td>-0.010631</td>\n",
       "      <td>-0.001225</td>\n",
       "      <td>-0.036363</td>\n",
       "      <td>-0.070608</td>\n",
       "      <td>0.0</td>\n",
       "      <td>0.0</td>\n",
       "      <td>-0.010112</td>\n",
       "      <td>-0.02255</td>\n",
       "      <td>1.382507</td>\n",
       "    </tr>\n",
       "    <tr>\n",
       "      <th>3</th>\n",
       "      <td>-0.372728</td>\n",
       "      <td>2.448193</td>\n",
       "      <td>4.693001</td>\n",
       "      <td>-0.061412</td>\n",
       "      <td>0.380573</td>\n",
       "      <td>0.171486</td>\n",
       "      <td>0.492014</td>\n",
       "      <td>-0.180043</td>\n",
       "      <td>2.721986</td>\n",
       "      <td>-0.126972</td>\n",
       "      <td>...</td>\n",
       "      <td>-0.429068</td>\n",
       "      <td>-0.010631</td>\n",
       "      <td>-0.001225</td>\n",
       "      <td>-0.036363</td>\n",
       "      <td>-0.070608</td>\n",
       "      <td>0.0</td>\n",
       "      <td>0.0</td>\n",
       "      <td>-0.010112</td>\n",
       "      <td>-0.02255</td>\n",
       "      <td>1.041493</td>\n",
       "    </tr>\n",
       "    <tr>\n",
       "      <th>4</th>\n",
       "      <td>-0.372728</td>\n",
       "      <td>-1.272267</td>\n",
       "      <td>-0.820125</td>\n",
       "      <td>-0.061412</td>\n",
       "      <td>-0.541586</td>\n",
       "      <td>-1.150777</td>\n",
       "      <td>-1.034879</td>\n",
       "      <td>-0.180043</td>\n",
       "      <td>-0.753423</td>\n",
       "      <td>-0.126972</td>\n",
       "      <td>...</td>\n",
       "      <td>-0.429068</td>\n",
       "      <td>-0.010631</td>\n",
       "      <td>-0.001225</td>\n",
       "      <td>-0.036363</td>\n",
       "      <td>-0.070608</td>\n",
       "      <td>0.0</td>\n",
       "      <td>0.0</td>\n",
       "      <td>-0.010112</td>\n",
       "      <td>-0.02255</td>\n",
       "      <td>-1.686622</td>\n",
       "    </tr>\n",
       "  </tbody>\n",
       "</table>\n",
       "<p>5 rows × 66 columns</p>\n",
       "</div>"
      ],
      "text/plain": [
       "         0         1         2         3         4         5         6   \\\n",
       "0 -0.372728 -0.900221 -0.207556 -0.061412 -0.080507 -0.710023 -0.780397   \n",
       "1 -0.372728  0.215917 -0.207556 -0.061412 -0.541586 -0.269268 -0.271433   \n",
       "2 -0.372728  0.401940 -0.820125 -0.061412 -0.541586  0.171486 -0.780397   \n",
       "3 -0.372728  2.448193  4.693001 -0.061412  0.380573  0.171486  0.492014   \n",
       "4 -0.372728 -1.272267 -0.820125 -0.061412 -0.541586 -1.150777 -1.034879   \n",
       "\n",
       "         7         8         9   ...        56        57        58        59  \\\n",
       "0 -0.180043 -0.753423 -0.126972  ... -0.429068 -0.010631 -0.001225 -0.036363   \n",
       "1 -0.180043 -0.058341 -0.126972  ... -0.429068 -0.010631 -0.001225 -0.036363   \n",
       "2 -0.180043  0.636740 -0.126972  ... -0.429068 -0.010631 -0.001225 -0.036363   \n",
       "3 -0.180043  2.721986 -0.126972  ... -0.429068 -0.010631 -0.001225 -0.036363   \n",
       "4 -0.180043 -0.753423 -0.126972  ... -0.429068 -0.010631 -0.001225 -0.036363   \n",
       "\n",
       "         60   61   62        63       64        65  \n",
       "0 -0.070608  0.0  0.0 -0.010112 -0.02255  0.651762  \n",
       "1 -0.070608  0.0  0.0 -0.010112 -0.02255  0.317707  \n",
       "2 -0.070608  0.0  0.0 -0.010112 -0.02255  1.382507  \n",
       "3 -0.070608  0.0  0.0 -0.010112 -0.02255  1.041493  \n",
       "4 -0.070608  0.0  0.0 -0.010112 -0.02255 -1.686622  \n",
       "\n",
       "[5 rows x 66 columns]"
      ]
     },
     "execution_count": 43,
     "metadata": {},
     "output_type": "execute_result"
    }
   ],
   "source": [
    "a = pd.read_hdf(base_dir+'train_app_trans_rate_with_usage.h5',key='data')\n",
    "a.head()"
   ]
  },
  {
   "cell_type": "code",
   "execution_count": 45,
   "metadata": {},
   "outputs": [
    {
     "name": "stdout",
     "output_type": "stream",
     "text": [
      "0\n",
      "0\n",
      "0\n",
      "0\n",
      "0\n",
      "0\n",
      "0\n",
      "0\n",
      "0\n",
      "0\n",
      "0\n",
      "0\n",
      "0\n",
      "0\n",
      "0\n",
      "0\n",
      "0\n",
      "0\n",
      "0\n",
      "0\n",
      "0\n",
      "0\n",
      "0\n",
      "0\n",
      "0\n",
      "0\n",
      "0\n",
      "0\n",
      "0\n",
      "0\n",
      "0\n",
      "0\n",
      "0\n",
      "0\n",
      "0\n",
      "0\n",
      "0\n",
      "0\n",
      "0\n",
      "0\n",
      "0\n",
      "0\n",
      "0\n",
      "0\n",
      "0\n",
      "0\n",
      "0\n",
      "0\n",
      "0\n",
      "0\n",
      "0\n",
      "0\n",
      "0\n",
      "0\n",
      "0\n",
      "0\n",
      "0\n",
      "0\n",
      "0\n",
      "0\n",
      "0\n",
      "0\n",
      "0\n",
      "0\n",
      "0\n",
      "0\n"
     ]
    }
   ],
   "source": [
    "for i in a.isna().sum():\n",
    "    print(i)"
   ]
  },
  {
   "cell_type": "code",
   "execution_count": null,
   "metadata": {},
   "outputs": [],
   "source": []
  }
 ],
 "metadata": {
  "kernelspec": {
   "display_name": "Python 3",
   "language": "python",
   "name": "python3"
  },
  "language_info": {
   "codemirror_mode": {
    "name": "ipython",
    "version": 3
   },
   "file_extension": ".py",
   "mimetype": "text/x-python",
   "name": "python",
   "nbconvert_exporter": "python",
   "pygments_lexer": "ipython3",
   "version": "3.6.7"
  }
 },
 "nbformat": 4,
 "nbformat_minor": 4
}
