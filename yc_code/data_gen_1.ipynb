{
 "cells": [
  {
   "cell_type": "code",
   "execution_count": 1,
   "metadata": {
    "ExecuteTime": {
     "end_time": "2019-08-21T12:16:52.133390Z",
     "start_time": "2019-08-21T12:16:50.352208Z"
    }
   },
   "outputs": [],
   "source": [
    "import numpy as np\n",
    "import pandas as pd\n",
    "import time\n",
    "import ast\n",
    "from tqdm import tqdm\n",
    "import datetime\n",
    "from multiprocessing import Pool, cpu_count\n",
    "from itertools import zip_longest\n",
    "from collections import defaultdict, OrderedDict, Counter\n",
    "import matplotlib.pyplot as plt\n",
    "import seaborn as sns\n",
    "import lightgbm as lgb\n",
    "from sklearn import metrics\n",
    "from sklearn import model_selection\n",
    "from sklearn.model_selection import train_test_split,StratifiedKFold\n",
    "from sklearn.preprocessing import LabelEncoder, StandardScaler\n",
    "from sklearn.feature_selection import chi2,SelectKBest\n",
    "from sklearn.feature_extraction.text import CountVectorizer, TfidfVectorizer, TfidfTransformer\n",
    "from scipy import stats\n",
    "from scipy.stats import skew, norm\n",
    "from itertools import product\n",
    "%matplotlib inline"
   ]
  },
  {
   "cell_type": "code",
   "execution_count": 4,
   "metadata": {},
   "outputs": [],
   "source": [
    "base_dir = './dataset/'"
   ]
  },
  {
   "cell_type": "markdown",
   "metadata": {},
   "source": [
    "### 1. user_app_usage.csv 生成统计量数据"
   ]
  },
  {
   "cell_type": "code",
   "execution_count": 5,
   "metadata": {
    "ExecuteTime": {
     "end_time": "2019-08-21T12:45:37.150359Z",
     "start_time": "2019-08-21T12:32:56.784170Z"
    }
   },
   "outputs": [
    {
     "name": "stdout",
     "output_type": "stream",
     "text": [
      "(840560515, 5)\n"
     ]
    }
   ],
   "source": [
    "user_app_usage_hot=pd.read_csv(base_dir+'user_app_usage.csv',header=None,names=['uId','appId','duration','times','use_date'],\n",
    "                           dtype={'uId':int,'duration':np.uint32,'times':np.uint32,'use_date':'category'})\n",
    "print(user_app_usage_hot.shape)"
   ]
  },
  {
   "cell_type": "code",
   "execution_count": 6,
   "metadata": {
    "ExecuteTime": {
     "end_time": "2019-08-21T12:45:37.182775Z",
     "start_time": "2019-08-21T12:45:37.154348Z"
    }
   },
   "outputs": [
    {
     "name": "stdout",
     "output_type": "stream",
     "text": [
      "        uId    appId  duration  times    use_date\n",
      "0  20765863  a003838      3012     67  2019-07-16\n",
      "1  20765863  a003838      1670     11  2019-06-28\n",
      "2  20765863  a003838       390     29  2019-07-08\n",
      "3  20765863  a003838      1793     12  2019-07-24\n",
      "4  20765863  a003838      6905     33  2019-07-06\n"
     ]
    }
   ],
   "source": [
    "print(user_app_usage_hot.head())"
   ]
  },
  {
   "cell_type": "code",
   "execution_count": 7,
   "metadata": {
    "ExecuteTime": {
     "end_time": "2019-08-21T12:52:50.171231Z",
     "start_time": "2019-08-21T12:45:37.190690Z"
    }
   },
   "outputs": [],
   "source": [
    "user_app_usage_hot['use_date'] = pd.to_datetime(user_app_usage_hot['use_date'])\n",
    "user_app_usage_hot['dayofweek'] = user_app_usage_hot['use_date'].dt.dayofweek\n",
    "user_app_usage_hot['dayofweek'] = user_app_usage_hot['dayofweek'].astype(np.uint8)"
   ]
  },
  {
   "cell_type": "code",
   "execution_count": 8,
   "metadata": {
    "ExecuteTime": {
     "end_time": "2019-08-21T12:57:38.159175Z",
     "start_time": "2019-08-21T12:52:50.181328Z"
    }
   },
   "outputs": [
    {
     "data": {
      "text/html": [
       "<div>\n",
       "<style scoped>\n",
       "    .dataframe tbody tr th:only-of-type {\n",
       "        vertical-align: middle;\n",
       "    }\n",
       "\n",
       "    .dataframe tbody tr th {\n",
       "        vertical-align: top;\n",
       "    }\n",
       "\n",
       "    .dataframe thead th {\n",
       "        text-align: right;\n",
       "    }\n",
       "</style>\n",
       "<table border=\"1\" class=\"dataframe\">\n",
       "  <thead>\n",
       "    <tr style=\"text-align: right;\">\n",
       "      <th></th>\n",
       "      <th>uId</th>\n",
       "      <th>use_date</th>\n",
       "      <th>duration</th>\n",
       "      <th>times</th>\n",
       "    </tr>\n",
       "  </thead>\n",
       "  <tbody>\n",
       "    <tr>\n",
       "      <th>0</th>\n",
       "      <td>1000009</td>\n",
       "      <td>2019-06-27</td>\n",
       "      <td>20387.0</td>\n",
       "      <td>644.0</td>\n",
       "    </tr>\n",
       "    <tr>\n",
       "      <th>1</th>\n",
       "      <td>1000009</td>\n",
       "      <td>2019-06-28</td>\n",
       "      <td>6938.0</td>\n",
       "      <td>435.0</td>\n",
       "    </tr>\n",
       "    <tr>\n",
       "      <th>2</th>\n",
       "      <td>1000009</td>\n",
       "      <td>2019-06-29</td>\n",
       "      <td>20519.0</td>\n",
       "      <td>1205.0</td>\n",
       "    </tr>\n",
       "    <tr>\n",
       "      <th>3</th>\n",
       "      <td>1000009</td>\n",
       "      <td>2019-06-30</td>\n",
       "      <td>20362.0</td>\n",
       "      <td>1194.0</td>\n",
       "    </tr>\n",
       "    <tr>\n",
       "      <th>4</th>\n",
       "      <td>1000009</td>\n",
       "      <td>2019-07-01</td>\n",
       "      <td>14531.0</td>\n",
       "      <td>709.0</td>\n",
       "    </tr>\n",
       "  </tbody>\n",
       "</table>\n",
       "</div>"
      ],
      "text/plain": [
       "       uId   use_date  duration   times\n",
       "0  1000009 2019-06-27   20387.0   644.0\n",
       "1  1000009 2019-06-28    6938.0   435.0\n",
       "2  1000009 2019-06-29   20519.0  1205.0\n",
       "3  1000009 2019-06-30   20362.0  1194.0\n",
       "4  1000009 2019-07-01   14531.0   709.0"
      ]
     },
     "execution_count": 8,
     "metadata": {},
     "output_type": "execute_result"
    }
   ],
   "source": [
    "# 每天所有app使用时长总和、总次数\n",
    "dtime = user_app_usage_hot.groupby(['uId', 'use_date'])['duration','times'].agg('sum')\n",
    "dtime = dtime.reset_index()\n",
    "dtime.head()"
   ]
  },
  {
   "cell_type": "code",
   "execution_count": 9,
   "metadata": {
    "ExecuteTime": {
     "end_time": "2019-08-21T12:57:58.321390Z",
     "start_time": "2019-08-21T12:57:38.171916Z"
    }
   },
   "outputs": [
    {
     "name": "stderr",
     "output_type": "stream",
     "text": [
      "/opt/conda/lib/python3.6/site-packages/pandas/core/groupby/generic.py:1455: FutureWarning: using a dict with renaming is deprecated and will be removed\n",
      "in a future version.\n",
      "\n",
      "For column-specific groupby renaming, use named aggregation\n",
      "\n",
      "    >>> df.groupby(...).agg(name=('column', aggfunc))\n",
      "\n",
      "  return super().aggregate(arg, *args, **kwargs)\n"
     ]
    },
    {
     "data": {
      "text/plain": [
       "(4020281, 9)"
      ]
     },
     "execution_count": 9,
     "metadata": {},
     "output_type": "execute_result"
    }
   ],
   "source": [
    "# 一个月内app使用情况统计量\n",
    "dtime_stat = dtime.groupby(['uId'])['duration','times'].agg(\n",
    "    {'sum': 'sum', 'mean': 'mean', 'std': 'std', 'max': 'max'}).reset_index()\n",
    "dtime_stat.columns = ['uId','max_duration','max_times','mean_duration','mean_times','sum_durations','sum_times',\n",
    "                     'std_durations','std_times']\n",
    "dtime_stat.shape"
   ]
  },
  {
   "cell_type": "code",
   "execution_count": 10,
   "metadata": {
    "ExecuteTime": {
     "end_time": "2019-08-21T12:57:58.359093Z",
     "start_time": "2019-08-21T12:57:58.326622Z"
    }
   },
   "outputs": [
    {
     "data": {
      "text/html": [
       "<div>\n",
       "<style scoped>\n",
       "    .dataframe tbody tr th:only-of-type {\n",
       "        vertical-align: middle;\n",
       "    }\n",
       "\n",
       "    .dataframe tbody tr th {\n",
       "        vertical-align: top;\n",
       "    }\n",
       "\n",
       "    .dataframe thead th {\n",
       "        text-align: right;\n",
       "    }\n",
       "</style>\n",
       "<table border=\"1\" class=\"dataframe\">\n",
       "  <thead>\n",
       "    <tr style=\"text-align: right;\">\n",
       "      <th></th>\n",
       "      <th>uId</th>\n",
       "      <th>max_duration</th>\n",
       "      <th>max_times</th>\n",
       "      <th>mean_duration</th>\n",
       "      <th>mean_times</th>\n",
       "      <th>sum_durations</th>\n",
       "      <th>sum_times</th>\n",
       "      <th>std_durations</th>\n",
       "      <th>std_times</th>\n",
       "    </tr>\n",
       "  </thead>\n",
       "  <tbody>\n",
       "    <tr>\n",
       "      <th>0</th>\n",
       "      <td>1000009</td>\n",
       "      <td>576119.0</td>\n",
       "      <td>20342.0</td>\n",
       "      <td>19203.966667</td>\n",
       "      <td>678.066667</td>\n",
       "      <td>6927.221215</td>\n",
       "      <td>267.930760</td>\n",
       "      <td>35001.0</td>\n",
       "      <td>1634.0</td>\n",
       "    </tr>\n",
       "    <tr>\n",
       "      <th>1</th>\n",
       "      <td>1000010</td>\n",
       "      <td>557640.0</td>\n",
       "      <td>22889.0</td>\n",
       "      <td>18588.000000</td>\n",
       "      <td>762.966667</td>\n",
       "      <td>4542.816125</td>\n",
       "      <td>177.772905</td>\n",
       "      <td>28655.0</td>\n",
       "      <td>1185.0</td>\n",
       "    </tr>\n",
       "    <tr>\n",
       "      <th>2</th>\n",
       "      <td>1000011</td>\n",
       "      <td>130512.0</td>\n",
       "      <td>6904.0</td>\n",
       "      <td>4350.400000</td>\n",
       "      <td>230.133333</td>\n",
       "      <td>2356.967303</td>\n",
       "      <td>111.743158</td>\n",
       "      <td>11502.0</td>\n",
       "      <td>479.0</td>\n",
       "    </tr>\n",
       "    <tr>\n",
       "      <th>3</th>\n",
       "      <td>1000012</td>\n",
       "      <td>344999.0</td>\n",
       "      <td>13484.0</td>\n",
       "      <td>11499.966667</td>\n",
       "      <td>449.466667</td>\n",
       "      <td>3897.897492</td>\n",
       "      <td>199.559469</td>\n",
       "      <td>19451.0</td>\n",
       "      <td>1198.0</td>\n",
       "    </tr>\n",
       "    <tr>\n",
       "      <th>4</th>\n",
       "      <td>1000014</td>\n",
       "      <td>358821.0</td>\n",
       "      <td>304.0</td>\n",
       "      <td>18885.315789</td>\n",
       "      <td>16.000000</td>\n",
       "      <td>34719.077708</td>\n",
       "      <td>15.627611</td>\n",
       "      <td>86400.0</td>\n",
       "      <td>67.0</td>\n",
       "    </tr>\n",
       "  </tbody>\n",
       "</table>\n",
       "</div>"
      ],
      "text/plain": [
       "       uId  max_duration  max_times  mean_duration  mean_times  sum_durations  \\\n",
       "0  1000009      576119.0    20342.0   19203.966667  678.066667    6927.221215   \n",
       "1  1000010      557640.0    22889.0   18588.000000  762.966667    4542.816125   \n",
       "2  1000011      130512.0     6904.0    4350.400000  230.133333    2356.967303   \n",
       "3  1000012      344999.0    13484.0   11499.966667  449.466667    3897.897492   \n",
       "4  1000014      358821.0      304.0   18885.315789   16.000000   34719.077708   \n",
       "\n",
       "    sum_times  std_durations  std_times  \n",
       "0  267.930760        35001.0     1634.0  \n",
       "1  177.772905        28655.0     1185.0  \n",
       "2  111.743158        11502.0      479.0  \n",
       "3  199.559469        19451.0     1198.0  \n",
       "4   15.627611        86400.0       67.0  "
      ]
     },
     "execution_count": 10,
     "metadata": {},
     "output_type": "execute_result"
    }
   ],
   "source": [
    "dtime_stat.head()"
   ]
  },
  {
   "cell_type": "code",
   "execution_count": 11,
   "metadata": {
    "ExecuteTime": {
     "end_time": "2019-08-21T13:01:21.919107Z",
     "start_time": "2019-08-21T12:57:58.370825Z"
    }
   },
   "outputs": [
    {
     "data": {
      "text/html": [
       "<div>\n",
       "<style scoped>\n",
       "    .dataframe tbody tr th:only-of-type {\n",
       "        vertical-align: middle;\n",
       "    }\n",
       "\n",
       "    .dataframe tbody tr th {\n",
       "        vertical-align: top;\n",
       "    }\n",
       "\n",
       "    .dataframe thead th {\n",
       "        text-align: right;\n",
       "    }\n",
       "</style>\n",
       "<table border=\"1\" class=\"dataframe\">\n",
       "  <thead>\n",
       "    <tr style=\"text-align: right;\">\n",
       "      <th></th>\n",
       "      <th>uId</th>\n",
       "      <th>dayofweek</th>\n",
       "      <th>duration</th>\n",
       "      <th>times</th>\n",
       "    </tr>\n",
       "  </thead>\n",
       "  <tbody>\n",
       "    <tr>\n",
       "      <th>0</th>\n",
       "      <td>1000009</td>\n",
       "      <td>0</td>\n",
       "      <td>73331</td>\n",
       "      <td>2384</td>\n",
       "    </tr>\n",
       "    <tr>\n",
       "      <th>1</th>\n",
       "      <td>1000009</td>\n",
       "      <td>1</td>\n",
       "      <td>64721</td>\n",
       "      <td>2094</td>\n",
       "    </tr>\n",
       "    <tr>\n",
       "      <th>2</th>\n",
       "      <td>1000009</td>\n",
       "      <td>2</td>\n",
       "      <td>65775</td>\n",
       "      <td>2420</td>\n",
       "    </tr>\n",
       "    <tr>\n",
       "      <th>3</th>\n",
       "      <td>1000009</td>\n",
       "      <td>3</td>\n",
       "      <td>99700</td>\n",
       "      <td>3206</td>\n",
       "    </tr>\n",
       "    <tr>\n",
       "      <th>4</th>\n",
       "      <td>1000009</td>\n",
       "      <td>4</td>\n",
       "      <td>90344</td>\n",
       "      <td>3364</td>\n",
       "    </tr>\n",
       "  </tbody>\n",
       "</table>\n",
       "</div>"
      ],
      "text/plain": [
       "       uId  dayofweek  duration  times\n",
       "0  1000009          0     73331   2384\n",
       "1  1000009          1     64721   2094\n",
       "2  1000009          2     65775   2420\n",
       "3  1000009          3     99700   3206\n",
       "4  1000009          4     90344   3364"
      ]
     },
     "execution_count": 11,
     "metadata": {},
     "output_type": "execute_result"
    }
   ],
   "source": [
    "# 每周7天每天app使用时长与次数总和\n",
    "wtime = user_app_usage_hot.groupby(['uId', 'dayofweek'])['duration','times'].agg('sum')\n",
    "wtime = wtime.reset_index()\n",
    "wtime.head()"
   ]
  },
  {
   "cell_type": "code",
   "execution_count": 12,
   "metadata": {
    "ExecuteTime": {
     "end_time": "2019-08-21T13:01:35.177390Z",
     "start_time": "2019-08-21T13:01:21.927138Z"
    }
   },
   "outputs": [
    {
     "data": {
      "text/plain": [
       "(4020281, 15)"
      ]
     },
     "execution_count": 12,
     "metadata": {},
     "output_type": "execute_result"
    }
   ],
   "source": [
    "weektime = wtime.pivot(\n",
    "    index='uId', columns='dayofweek', values=['duration','times']).fillna(0)\n",
    "weektime.reset_index(inplace=True)\n",
    "weektime.columns = ['uId','w0_duration','w1_duration','w2_duration','w3_duration','w4_duration','w5_duration','w6_duration',\n",
    "                   'w0_times','w1_times','w2_times','w3_times','w4_times','w5_times','w6_times']\n",
    "weektime.shape"
   ]
  },
  {
   "cell_type": "code",
   "execution_count": 13,
   "metadata": {
    "ExecuteTime": {
     "end_time": "2019-08-21T13:01:35.261582Z",
     "start_time": "2019-08-21T13:01:35.181656Z"
    }
   },
   "outputs": [
    {
     "data": {
      "text/html": [
       "<div>\n",
       "<style scoped>\n",
       "    .dataframe tbody tr th:only-of-type {\n",
       "        vertical-align: middle;\n",
       "    }\n",
       "\n",
       "    .dataframe tbody tr th {\n",
       "        vertical-align: top;\n",
       "    }\n",
       "\n",
       "    .dataframe thead th {\n",
       "        text-align: right;\n",
       "    }\n",
       "</style>\n",
       "<table border=\"1\" class=\"dataframe\">\n",
       "  <thead>\n",
       "    <tr style=\"text-align: right;\">\n",
       "      <th></th>\n",
       "      <th>uId</th>\n",
       "      <th>w0_duration</th>\n",
       "      <th>w1_duration</th>\n",
       "      <th>w2_duration</th>\n",
       "      <th>w3_duration</th>\n",
       "      <th>w4_duration</th>\n",
       "      <th>w5_duration</th>\n",
       "      <th>w6_duration</th>\n",
       "      <th>w0_times</th>\n",
       "      <th>w1_times</th>\n",
       "      <th>w2_times</th>\n",
       "      <th>w3_times</th>\n",
       "      <th>w4_times</th>\n",
       "      <th>w5_times</th>\n",
       "      <th>w6_times</th>\n",
       "    </tr>\n",
       "  </thead>\n",
       "  <tbody>\n",
       "    <tr>\n",
       "      <th>0</th>\n",
       "      <td>1000009</td>\n",
       "      <td>73331.0</td>\n",
       "      <td>64721.0</td>\n",
       "      <td>65775.0</td>\n",
       "      <td>99700.0</td>\n",
       "      <td>90344.0</td>\n",
       "      <td>98089.0</td>\n",
       "      <td>84159.0</td>\n",
       "      <td>2384.0</td>\n",
       "      <td>2094.0</td>\n",
       "      <td>2420.0</td>\n",
       "      <td>3206.0</td>\n",
       "      <td>3364.0</td>\n",
       "      <td>3922.0</td>\n",
       "      <td>2952.0</td>\n",
       "    </tr>\n",
       "    <tr>\n",
       "      <th>1</th>\n",
       "      <td>1000010</td>\n",
       "      <td>74085.0</td>\n",
       "      <td>73888.0</td>\n",
       "      <td>70744.0</td>\n",
       "      <td>93065.0</td>\n",
       "      <td>94658.0</td>\n",
       "      <td>76681.0</td>\n",
       "      <td>74519.0</td>\n",
       "      <td>3332.0</td>\n",
       "      <td>3078.0</td>\n",
       "      <td>2806.0</td>\n",
       "      <td>3297.0</td>\n",
       "      <td>3814.0</td>\n",
       "      <td>3319.0</td>\n",
       "      <td>3243.0</td>\n",
       "    </tr>\n",
       "    <tr>\n",
       "      <th>2</th>\n",
       "      <td>1000011</td>\n",
       "      <td>11039.0</td>\n",
       "      <td>16031.0</td>\n",
       "      <td>17954.0</td>\n",
       "      <td>21421.0</td>\n",
       "      <td>23447.0</td>\n",
       "      <td>16705.0</td>\n",
       "      <td>23915.0</td>\n",
       "      <td>591.0</td>\n",
       "      <td>788.0</td>\n",
       "      <td>988.0</td>\n",
       "      <td>1089.0</td>\n",
       "      <td>1303.0</td>\n",
       "      <td>819.0</td>\n",
       "      <td>1326.0</td>\n",
       "    </tr>\n",
       "    <tr>\n",
       "      <th>3</th>\n",
       "      <td>1000012</td>\n",
       "      <td>36020.0</td>\n",
       "      <td>49517.0</td>\n",
       "      <td>45441.0</td>\n",
       "      <td>69273.0</td>\n",
       "      <td>59790.0</td>\n",
       "      <td>45581.0</td>\n",
       "      <td>39377.0</td>\n",
       "      <td>1689.0</td>\n",
       "      <td>2082.0</td>\n",
       "      <td>1852.0</td>\n",
       "      <td>2946.0</td>\n",
       "      <td>2657.0</td>\n",
       "      <td>1180.0</td>\n",
       "      <td>1078.0</td>\n",
       "    </tr>\n",
       "    <tr>\n",
       "      <th>4</th>\n",
       "      <td>1000014</td>\n",
       "      <td>88813.0</td>\n",
       "      <td>2472.0</td>\n",
       "      <td>86475.0</td>\n",
       "      <td>166077.0</td>\n",
       "      <td>7154.0</td>\n",
       "      <td>5834.0</td>\n",
       "      <td>1996.0</td>\n",
       "      <td>21.0</td>\n",
       "      <td>29.0</td>\n",
       "      <td>13.0</td>\n",
       "      <td>118.0</td>\n",
       "      <td>71.0</td>\n",
       "      <td>32.0</td>\n",
       "      <td>20.0</td>\n",
       "    </tr>\n",
       "  </tbody>\n",
       "</table>\n",
       "</div>"
      ],
      "text/plain": [
       "       uId  w0_duration  w1_duration  w2_duration  w3_duration  w4_duration  \\\n",
       "0  1000009      73331.0      64721.0      65775.0      99700.0      90344.0   \n",
       "1  1000010      74085.0      73888.0      70744.0      93065.0      94658.0   \n",
       "2  1000011      11039.0      16031.0      17954.0      21421.0      23447.0   \n",
       "3  1000012      36020.0      49517.0      45441.0      69273.0      59790.0   \n",
       "4  1000014      88813.0       2472.0      86475.0     166077.0       7154.0   \n",
       "\n",
       "   w5_duration  w6_duration  w0_times  w1_times  w2_times  w3_times  w4_times  \\\n",
       "0      98089.0      84159.0    2384.0    2094.0    2420.0    3206.0    3364.0   \n",
       "1      76681.0      74519.0    3332.0    3078.0    2806.0    3297.0    3814.0   \n",
       "2      16705.0      23915.0     591.0     788.0     988.0    1089.0    1303.0   \n",
       "3      45581.0      39377.0    1689.0    2082.0    1852.0    2946.0    2657.0   \n",
       "4       5834.0       1996.0      21.0      29.0      13.0     118.0      71.0   \n",
       "\n",
       "   w5_times  w6_times  \n",
       "0    3922.0    2952.0  \n",
       "1    3319.0    3243.0  \n",
       "2     819.0    1326.0  \n",
       "3    1180.0    1078.0  \n",
       "4      32.0      20.0  "
      ]
     },
     "execution_count": 13,
     "metadata": {},
     "output_type": "execute_result"
    }
   ],
   "source": [
    "weektime.head()"
   ]
  },
  {
   "cell_type": "code",
   "execution_count": 19,
   "metadata": {
    "ExecuteTime": {
     "end_time": "2019-08-21T13:54:34.195200Z",
     "start_time": "2019-08-21T13:01:35.264327Z"
    }
   },
   "outputs": [
    {
     "data": {
      "text/html": [
       "<div>\n",
       "<style scoped>\n",
       "    .dataframe tbody tr th:only-of-type {\n",
       "        vertical-align: middle;\n",
       "    }\n",
       "\n",
       "    .dataframe tbody tr th {\n",
       "        vertical-align: top;\n",
       "    }\n",
       "\n",
       "    .dataframe thead th {\n",
       "        text-align: right;\n",
       "    }\n",
       "</style>\n",
       "<table border=\"1\" class=\"dataframe\">\n",
       "  <thead>\n",
       "    <tr style=\"text-align: right;\">\n",
       "      <th></th>\n",
       "      <th>uId</th>\n",
       "      <th>use_date</th>\n",
       "      <th>appId</th>\n",
       "    </tr>\n",
       "  </thead>\n",
       "  <tbody>\n",
       "    <tr>\n",
       "      <th>0</th>\n",
       "      <td>1000009</td>\n",
       "      <td>2019-06-27</td>\n",
       "      <td>a002392 a003386 a007319 a007439 a001015 a00836...</td>\n",
       "    </tr>\n",
       "    <tr>\n",
       "      <th>1</th>\n",
       "      <td>1000009</td>\n",
       "      <td>2019-06-28</td>\n",
       "      <td>a002392 a003386 a003659 a004078 a007439 a00934...</td>\n",
       "    </tr>\n",
       "    <tr>\n",
       "      <th>2</th>\n",
       "      <td>1000009</td>\n",
       "      <td>2019-06-29</td>\n",
       "      <td>a002392 a003386 a003659 a004078 a007439 a00731...</td>\n",
       "    </tr>\n",
       "    <tr>\n",
       "      <th>3</th>\n",
       "      <td>1000009</td>\n",
       "      <td>2019-06-30</td>\n",
       "      <td>a002392 a003386 a007319 a007439 a006515 a00845...</td>\n",
       "    </tr>\n",
       "    <tr>\n",
       "      <th>4</th>\n",
       "      <td>1000009</td>\n",
       "      <td>2019-07-01</td>\n",
       "      <td>a002392 a003386 a005480 a007439 a006515 a00845...</td>\n",
       "    </tr>\n",
       "  </tbody>\n",
       "</table>\n",
       "</div>"
      ],
      "text/plain": [
       "       uId   use_date                                              appId\n",
       "0  1000009 2019-06-27  a002392 a003386 a007319 a007439 a001015 a00836...\n",
       "1  1000009 2019-06-28  a002392 a003386 a003659 a004078 a007439 a00934...\n",
       "2  1000009 2019-06-29  a002392 a003386 a003659 a004078 a007439 a00731...\n",
       "3  1000009 2019-06-30  a002392 a003386 a007319 a007439 a006515 a00845...\n",
       "4  1000009 2019-07-01  a002392 a003386 a005480 a007439 a006515 a00845..."
      ]
     },
     "execution_count": 19,
     "metadata": {},
     "output_type": "execute_result"
    }
   ],
   "source": [
    "# 每人每天使用的app列表--------较耗时\n",
    "dapp = user_app_usage_hot[['uId', 'use_date', 'appId']].drop_duplicates().groupby(\n",
    "    ['uId', 'use_date'])['appId'].agg(' '.join)\n",
    "dapp = dapp.reset_index()\n",
    "dapp.head()"
   ]
  },
  {
   "cell_type": "code",
   "execution_count": 47,
   "metadata": {},
   "outputs": [
    {
     "data": {
      "text/plain": [
       "['a002392 a003386 a007319 a007439 a001015 a008365 a009346 a005128 a007087 a00838 a004076 a007331 a008879 a001062 a007104']"
      ]
     },
     "execution_count": 47,
     "metadata": {},
     "output_type": "execute_result"
    }
   ],
   "source": [
    "list(dapp.loc[(dapp['uId']==1000009)&(dapp['use_date']=='2019-06-27'),'appId'])"
   ]
  },
  {
   "cell_type": "code",
   "execution_count": 48,
   "metadata": {},
   "outputs": [
    {
     "data": {
      "text/plain": [
       "['a002392',\n",
       " 'a003386',\n",
       " 'a007319',\n",
       " 'a007439',\n",
       " 'a001015',\n",
       " 'a008365',\n",
       " 'a009346',\n",
       " 'a005128',\n",
       " 'a007087',\n",
       " 'a00838',\n",
       " 'a004076',\n",
       " 'a007331',\n",
       " 'a008879',\n",
       " 'a001062',\n",
       " 'a007104']"
      ]
     },
     "execution_count": 48,
     "metadata": {},
     "output_type": "execute_result"
    }
   ],
   "source": [
    "list(user_app_usage_hot.loc[(user_app_usage_hot['uId']==1000009)&(user_app_usage_hot['use_date']=='2019-06-27'),'appId'])"
   ]
  },
  {
   "cell_type": "code",
   "execution_count": 26,
   "metadata": {},
   "outputs": [
    {
     "data": {
      "text/plain": [
       "(120608430, 3)"
      ]
     },
     "execution_count": 26,
     "metadata": {},
     "output_type": "execute_result"
    }
   ],
   "source": [
    "dapp.shape"
   ]
  },
  {
   "cell_type": "code",
   "execution_count": 35,
   "metadata": {},
   "outputs": [
    {
     "data": {
      "text/plain": [
       "(13858552, 3)"
      ]
     },
     "execution_count": 35,
     "metadata": {},
     "output_type": "execute_result"
    }
   ],
   "source": [
    "dapp[dapp['appId'].isna()].shape"
   ]
  },
  {
   "cell_type": "code",
   "execution_count": 36,
   "metadata": {},
   "outputs": [],
   "source": [
    "dapp.dropna(inplace=True)"
   ]
  },
  {
   "cell_type": "code",
   "execution_count": 37,
   "metadata": {},
   "outputs": [
    {
     "data": {
      "text/plain": [
       "(106749878, 3)"
      ]
     },
     "execution_count": 37,
     "metadata": {},
     "output_type": "execute_result"
    }
   ],
   "source": [
    "dapp.shape"
   ]
  },
  {
   "cell_type": "code",
   "execution_count": 38,
   "metadata": {
    "ExecuteTime": {
     "end_time": "2019-08-21T14:06:38.043086Z",
     "start_time": "2019-08-21T13:54:34.199746Z"
    }
   },
   "outputs": [
    {
     "name": "stderr",
     "output_type": "stream",
     "text": [
      "/opt/conda/lib/python3.6/site-packages/ipykernel_launcher.py:4: FutureWarning: using a dict on a Series for aggregation\n",
      "is deprecated and will be removed in a future version. Use                 named aggregation instead.\n",
      "\n",
      "    >>> grouper.agg(name_1=func_1, name_2=func_2)\n",
      "\n",
      "  after removing the cwd from sys.path.\n"
     ]
    },
    {
     "data": {
      "text/plain": [
       "(4020281, 4)"
      ]
     },
     "execution_count": 38,
     "metadata": {},
     "output_type": "execute_result"
    }
   ],
   "source": [
    "# 每人一个月内使用的app数量统计\n",
    "dapp['app_len'] = dapp['appId'].apply(lambda x: x.split(' ')).apply(len)\n",
    "dapp_stat = dapp.groupby('uId')['app_len'].agg(\n",
    "    {'std': 'std', 'mean': 'mean', 'max': 'max'})\n",
    "dapp_stat = dapp_stat.reset_index()\n",
    "dapp_stat.columns = ['uId', 'app_len_max', 'app_len_mean', 'app_len_std']\n",
    "dapp_stat.shape"
   ]
  },
  {
   "cell_type": "code",
   "execution_count": 39,
   "metadata": {
    "ExecuteTime": {
     "end_time": "2019-08-21T14:06:38.099560Z",
     "start_time": "2019-08-21T14:06:38.053379Z"
    }
   },
   "outputs": [
    {
     "data": {
      "text/html": [
       "<div>\n",
       "<style scoped>\n",
       "    .dataframe tbody tr th:only-of-type {\n",
       "        vertical-align: middle;\n",
       "    }\n",
       "\n",
       "    .dataframe tbody tr th {\n",
       "        vertical-align: top;\n",
       "    }\n",
       "\n",
       "    .dataframe thead th {\n",
       "        text-align: right;\n",
       "    }\n",
       "</style>\n",
       "<table border=\"1\" class=\"dataframe\">\n",
       "  <thead>\n",
       "    <tr style=\"text-align: right;\">\n",
       "      <th></th>\n",
       "      <th>uId</th>\n",
       "      <th>app_len_max</th>\n",
       "      <th>app_len_mean</th>\n",
       "      <th>app_len_std</th>\n",
       "    </tr>\n",
       "  </thead>\n",
       "  <tbody>\n",
       "    <tr>\n",
       "      <th>0</th>\n",
       "      <td>1000009</td>\n",
       "      <td>2.918234</td>\n",
       "      <td>13.966667</td>\n",
       "      <td>20</td>\n",
       "    </tr>\n",
       "    <tr>\n",
       "      <th>1</th>\n",
       "      <td>1000010</td>\n",
       "      <td>4.568885</td>\n",
       "      <td>19.433333</td>\n",
       "      <td>29</td>\n",
       "    </tr>\n",
       "    <tr>\n",
       "      <th>2</th>\n",
       "      <td>1000011</td>\n",
       "      <td>1.003442</td>\n",
       "      <td>2.400000</td>\n",
       "      <td>4</td>\n",
       "    </tr>\n",
       "    <tr>\n",
       "      <th>3</th>\n",
       "      <td>1000012</td>\n",
       "      <td>1.774986</td>\n",
       "      <td>6.766667</td>\n",
       "      <td>10</td>\n",
       "    </tr>\n",
       "    <tr>\n",
       "      <th>4</th>\n",
       "      <td>1000014</td>\n",
       "      <td>0.904828</td>\n",
       "      <td>2.473684</td>\n",
       "      <td>4</td>\n",
       "    </tr>\n",
       "  </tbody>\n",
       "</table>\n",
       "</div>"
      ],
      "text/plain": [
       "       uId  app_len_max  app_len_mean  app_len_std\n",
       "0  1000009     2.918234     13.966667           20\n",
       "1  1000010     4.568885     19.433333           29\n",
       "2  1000011     1.003442      2.400000            4\n",
       "3  1000012     1.774986      6.766667           10\n",
       "4  1000014     0.904828      2.473684            4"
      ]
     },
     "execution_count": 39,
     "metadata": {},
     "output_type": "execute_result"
    }
   ],
   "source": [
    "dapp_stat.head()"
   ]
  },
  {
   "cell_type": "code",
   "execution_count": 40,
   "metadata": {
    "ExecuteTime": {
     "end_time": "2019-08-21T14:06:43.146769Z",
     "start_time": "2019-08-21T14:06:38.106523Z"
    }
   },
   "outputs": [
    {
     "data": {
      "text/plain": [
       "(4020281, 26)"
      ]
     },
     "execution_count": 40,
     "metadata": {},
     "output_type": "execute_result"
    }
   ],
   "source": [
    "app_usage_stat_df = pd.merge(dapp_stat, dtime_stat, on='uId', how='left')\n",
    "app_usage_stat_df = app_usage_stat_df.merge(weektime, on='uId',how='left')\n",
    "app_usage_stat_df.shape"
   ]
  },
  {
   "cell_type": "code",
   "execution_count": 41,
   "metadata": {
    "ExecuteTime": {
     "end_time": "2019-08-21T14:06:44.893786Z",
     "start_time": "2019-08-21T14:06:43.155232Z"
    }
   },
   "outputs": [
    {
     "name": "stdout",
     "output_type": "stream",
     "text": [
      "(1000000, 1) (4000000, 2)\n"
     ]
    }
   ],
   "source": [
    "train_id_set = pd.read_csv(base_dir+'age_train.csv',header=None, names=['uId', 'age_group'])\n",
    "test_id_set = pd.read_csv(base_dir+'age_test.csv', header=None, names=['uId'])\n",
    "print(test_id_set.shape,train_id_set.shape)"
   ]
  },
  {
   "cell_type": "code",
   "execution_count": 42,
   "metadata": {
    "ExecuteTime": {
     "end_time": "2019-08-21T14:06:52.925333Z",
     "start_time": "2019-08-21T14:06:44.896997Z"
    }
   },
   "outputs": [
    {
     "name": "stdout",
     "output_type": "stream",
     "text": [
      "(1000000, 26) (4000000, 26)\n"
     ]
    }
   ],
   "source": [
    "train_app_usage_stat_df = train_id_set[['uId']].merge(app_usage_stat_df,on='uId',how='left')\n",
    "train_app_usage_stat_df.fillna(0, inplace=True)\n",
    "test_app_usage_stat_df = test_id_set[['uId']].merge(app_usage_stat_df,on='uId',how='left')\n",
    "test_app_usage_stat_df.fillna(0, inplace=True)\n",
    "print(test_app_usage_stat_df.shape,train_app_usage_stat_df.shape)"
   ]
  },
  {
   "cell_type": "code",
   "execution_count": 43,
   "metadata": {
    "ExecuteTime": {
     "end_time": "2019-08-21T14:06:58.610961Z",
     "start_time": "2019-08-21T14:06:52.936034Z"
    }
   },
   "outputs": [],
   "source": [
    "h5 = pd.HDFStore(base_dir+'train_app_usage_stat_df.h5','w',complevel=4,complib='blosc')\n",
    "h5['data'] = train_app_usage_stat_df\n",
    "h5.close()"
   ]
  },
  {
   "cell_type": "code",
   "execution_count": 44,
   "metadata": {
    "ExecuteTime": {
     "end_time": "2019-08-21T14:06:59.749736Z",
     "start_time": "2019-08-21T14:06:58.619067Z"
    }
   },
   "outputs": [],
   "source": [
    "h5 = pd.HDFStore(base_dir+'test_app_usage_stat_df.h5','w',complevel=4,complib='blosc')\n",
    "h5['data'] = test_app_usage_stat_df\n",
    "h5.close()"
   ]
  },
  {
   "cell_type": "code",
   "execution_count": 16,
   "metadata": {},
   "outputs": [
    {
     "name": "stdout",
     "output_type": "stream",
     "text": [
      "0\n"
     ]
    }
   ],
   "source": [
    "print(0)"
   ]
  },
  {
   "cell_type": "code",
   "execution_count": null,
   "metadata": {},
   "outputs": [],
   "source": []
  }
 ],
 "metadata": {
  "kernelspec": {
   "display_name": "Python 3",
   "language": "python",
   "name": "python3"
  },
  "language_info": {
   "codemirror_mode": {
    "name": "ipython",
    "version": 3
   },
   "file_extension": ".py",
   "mimetype": "text/x-python",
   "name": "python",
   "nbconvert_exporter": "python",
   "pygments_lexer": "ipython3",
   "version": "3.6.7"
  }
 },
 "nbformat": 4,
 "nbformat_minor": 4
}
